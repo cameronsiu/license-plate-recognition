{
 "cells": [
  {
   "cell_type": "markdown",
   "id": "5b3ed731-b471-434d-a2b4-e4c98900c9bd",
   "metadata": {},
   "source": [
    "# YOLOv8 License Plate Detection\n",
    "\n",
    "Data Preprocessing Documentation\n",
    "\n",
    "Ref: https://www.kaggle.com/code/aslanahmedov/automatic-number-plate-recognition/notebook\n",
    "\n",
    "YOLOv8 Training Documentation\n",
    "\n",
    "Ref: https://docs.ultralytics.com/modes/train/#usage-examples\n",
    "\n",
    "Dataset\n",
    "\n",
    "Ref: https://universe.roboflow.com/augmented-startups/vehicle-registration-plates-trudk/dataset/1"
   ]
  },
  {
   "cell_type": "markdown",
   "id": "aa95bc63-f9e9-4125-ac1c-6291727b5e6c",
   "metadata": {},
   "source": [
    "## Import Packages"
   ]
  },
  {
   "cell_type": "code",
   "execution_count": 1,
   "id": "cca94791-0da9-4b11-91b0-65ae0fc7fc6b",
   "metadata": {},
   "outputs": [],
   "source": [
    "import os\n",
    "import cv2\n",
    "import numpy as np\n",
    "import pandas as pd\n",
    "import plotly.express as px\n",
    "import matplotlib.pyplot as plt\n",
    "import xml.etree.ElementTree as xet\n",
    "\n",
    "from glob import glob\n",
    "from skimage import io\n",
    "from shutil import copy\n",
    "from sklearn.model_selection import train_test_split"
   ]
  },
  {
   "cell_type": "markdown",
   "id": "fdf4c3bd-a4d5-4eea-8e9c-144c43a1dace",
   "metadata": {},
   "source": [
    "## Data Preprocessing\n",
    "\n",
    "The data is already preprocessed when you download it! So just pass in the `data.yaml` file"
   ]
  },
  {
   "cell_type": "markdown",
   "id": "26b2a651-fdd3-457c-ab6a-7fe4a8b7263f",
   "metadata": {},
   "source": [
    "## Training"
   ]
  },
  {
   "cell_type": "code",
   "execution_count": 5,
   "id": "8bced902-f080-42dc-a75f-4f14e567cfed",
   "metadata": {},
   "outputs": [
    {
     "name": "stdout",
     "output_type": "stream",
     "text": [
      "Initial GPU Usage\n",
      "| ID | GPU | MEM |\n",
      "------------------\n",
      "|  0 | 10% | 15% |\n",
      "GPU Usage after emptying the cache\n",
      "| ID | GPU | MEM |\n",
      "------------------\n",
      "|  0 | 10% | 17% |\n"
     ]
    }
   ],
   "source": [
    "import torch\n",
    "from GPUtil import showUtilization as gpu_usage\n",
    "from numba import cuda\n",
    "\n",
    "def free_gpu_cache():\n",
    "    print(\"Initial GPU Usage\")\n",
    "    gpu_usage()                             \n",
    "\n",
    "    torch.cuda.empty_cache()\n",
    "\n",
    "    cuda.select_device(0)\n",
    "    cuda.close()\n",
    "    cuda.select_device(0)\n",
    "\n",
    "    print(\"GPU Usage after emptying the cache\")\n",
    "    gpu_usage()\n",
    "\n",
    "free_gpu_cache() "
   ]
  },
  {
   "cell_type": "code",
   "execution_count": 7,
   "id": "9a7f7973-673c-4c56-86a9-f4cd4af92ab6",
   "metadata": {},
   "outputs": [],
   "source": [
    "from ultralytics import YOLO"
   ]
  },
  {
   "cell_type": "code",
   "execution_count": 7,
   "id": "95db72d1-65c2-4d6e-bef8-0275e6d87134",
   "metadata": {},
   "outputs": [
    {
     "name": "stdout",
     "output_type": "stream",
     "text": [
      "Downloading https://github.com/ultralytics/assets/releases/download/v8.2.0/yolov8n.pt to 'yolov8n.pt'...\n"
     ]
    },
    {
     "name": "stderr",
     "output_type": "stream",
     "text": [
      "100%|████████████████████████████████████████████████████| 6.23M/6.23M [00:01<00:00, 4.81MB/s]\n"
     ]
    },
    {
     "name": "stdout",
     "output_type": "stream",
     "text": [
      "Ultralytics YOLOv8.2.3 🚀 Python-3.10.12 torch-2.3.0+cu121 CUDA:0 (NVIDIA GeForce RTX 3080, 10007MiB)\n",
      "\u001b[34m\u001b[1mengine/trainer: \u001b[0mtask=detect, mode=train, model=yolov8n.pt, data=./data.yaml, epochs=100, time=None, patience=100, batch=16, imgsz=640, save=True, save_period=-1, cache=False, device=None, workers=8, project=None, name=train, exist_ok=False, pretrained=True, optimizer=auto, verbose=True, seed=0, deterministic=True, single_cls=False, rect=False, cos_lr=False, close_mosaic=10, resume=False, amp=True, fraction=1.0, profile=False, freeze=None, multi_scale=False, overlap_mask=True, mask_ratio=4, dropout=0.0, val=True, split=val, save_json=False, save_hybrid=False, conf=None, iou=0.7, max_det=300, half=False, dnn=False, plots=True, source=None, vid_stride=1, stream_buffer=False, visualize=False, augment=False, agnostic_nms=False, classes=None, retina_masks=False, embed=None, show=False, save_frames=False, save_txt=False, save_conf=False, save_crop=False, show_labels=True, show_conf=True, show_boxes=True, line_width=None, format=torchscript, keras=False, optimize=False, int8=False, dynamic=False, simplify=False, opset=None, workspace=4, nms=False, lr0=0.01, lrf=0.01, momentum=0.937, weight_decay=0.0005, warmup_epochs=3.0, warmup_momentum=0.8, warmup_bias_lr=0.1, box=7.5, cls=0.5, dfl=1.5, pose=12.0, kobj=1.0, label_smoothing=0.0, nbs=64, hsv_h=0.015, hsv_s=0.7, hsv_v=0.4, degrees=0.0, translate=0.1, scale=0.5, shear=0.0, perspective=0.0, flipud=0.0, fliplr=0.5, bgr=0.0, mosaic=1.0, mixup=0.0, copy_paste=0.0, auto_augment=randaugment, erasing=0.4, crop_fraction=1.0, cfg=None, tracker=botsort.yaml, save_dir=runs/detect/train\n",
      "Overriding model.yaml nc=80 with nc=1\n",
      "\n",
      "                   from  n    params  module                                       arguments                     \n",
      "  0                  -1  1       464  ultralytics.nn.modules.conv.Conv             [3, 16, 3, 2]                 \n",
      "  1                  -1  1      4672  ultralytics.nn.modules.conv.Conv             [16, 32, 3, 2]                \n",
      "  2                  -1  1      7360  ultralytics.nn.modules.block.C2f             [32, 32, 1, True]             \n",
      "  3                  -1  1     18560  ultralytics.nn.modules.conv.Conv             [32, 64, 3, 2]                \n",
      "  4                  -1  2     49664  ultralytics.nn.modules.block.C2f             [64, 64, 2, True]             \n",
      "  5                  -1  1     73984  ultralytics.nn.modules.conv.Conv             [64, 128, 3, 2]               \n",
      "  6                  -1  2    197632  ultralytics.nn.modules.block.C2f             [128, 128, 2, True]           \n",
      "  7                  -1  1    295424  ultralytics.nn.modules.conv.Conv             [128, 256, 3, 2]              \n",
      "  8                  -1  1    460288  ultralytics.nn.modules.block.C2f             [256, 256, 1, True]           \n",
      "  9                  -1  1    164608  ultralytics.nn.modules.block.SPPF            [256, 256, 5]                 \n",
      " 10                  -1  1         0  torch.nn.modules.upsampling.Upsample         [None, 2, 'nearest']          \n",
      " 11             [-1, 6]  1         0  ultralytics.nn.modules.conv.Concat           [1]                           \n",
      " 12                  -1  1    148224  ultralytics.nn.modules.block.C2f             [384, 128, 1]                 \n",
      " 13                  -1  1         0  torch.nn.modules.upsampling.Upsample         [None, 2, 'nearest']          \n",
      " 14             [-1, 4]  1         0  ultralytics.nn.modules.conv.Concat           [1]                           \n",
      " 15                  -1  1     37248  ultralytics.nn.modules.block.C2f             [192, 64, 1]                  \n",
      " 16                  -1  1     36992  ultralytics.nn.modules.conv.Conv             [64, 64, 3, 2]                \n",
      " 17            [-1, 12]  1         0  ultralytics.nn.modules.conv.Concat           [1]                           \n",
      " 18                  -1  1    123648  ultralytics.nn.modules.block.C2f             [192, 128, 1]                 \n",
      " 19                  -1  1    147712  ultralytics.nn.modules.conv.Conv             [128, 128, 3, 2]              \n",
      " 20             [-1, 9]  1         0  ultralytics.nn.modules.conv.Concat           [1]                           \n",
      " 21                  -1  1    493056  ultralytics.nn.modules.block.C2f             [384, 256, 1]                 \n",
      " 22        [15, 18, 21]  1    751507  ultralytics.nn.modules.head.Detect           [1, [64, 128, 256]]           \n",
      "Model summary: 225 layers, 3011043 parameters, 3011027 gradients, 8.2 GFLOPs\n",
      "\n",
      "Transferred 319/355 items from pretrained weights\n",
      "Freezing layer 'model.22.dfl.conv.weight'\n",
      "\u001b[34m\u001b[1mAMP: \u001b[0mrunning Automatic Mixed Precision (AMP) checks with YOLOv8n...\n",
      "\u001b[34m\u001b[1mAMP: \u001b[0mchecks passed ✅\n"
     ]
    },
    {
     "name": "stderr",
     "output_type": "stream",
     "text": [
      "/home/cameron/Documents/UBC Course Materials/2023W2/CPSC 440/license-plate-recognition/yolo/venv/lib/python3.10/site-packages/torch/nn/modules/conv.py:456: UserWarning: Plan failed with a cudnnException: CUDNN_BACKEND_EXECUTION_PLAN_DESCRIPTOR: cudnnFinalize Descriptor Failed cudnn_status: CUDNN_STATUS_NOT_SUPPORTED (Triggered internally at ../aten/src/ATen/native/cudnn/Conv_v8.cpp:919.)\n",
      "  return F.conv2d(input, weight, bias, self.stride,\n",
      "\u001b[34m\u001b[1mtrain: \u001b[0mScanning /home/cameron/Documents/UBC Course Materials/2023W2/CPSC 440/Project/yolo/yolo\u001b[0m\n"
     ]
    },
    {
     "name": "stdout",
     "output_type": "stream",
     "text": [
      "\u001b[34m\u001b[1mtrain: \u001b[0mNew cache created: /home/cameron/Documents/UBC Course Materials/2023W2/CPSC 440/Project/yolo/yolov8-new_dataset/data_images/train/labels.cache\n"
     ]
    },
    {
     "name": "stderr",
     "output_type": "stream",
     "text": [
      "\u001b[34m\u001b[1mval: \u001b[0mScanning /home/cameron/Documents/UBC Course Materials/2023W2/CPSC 440/Project/yolo/yolov8\u001b[0m\n"
     ]
    },
    {
     "name": "stdout",
     "output_type": "stream",
     "text": [
      "Plotting labels to runs/detect/train/labels.jpg... \n",
      "\u001b[34m\u001b[1moptimizer:\u001b[0m 'optimizer=auto' found, ignoring 'lr0=0.01' and 'momentum=0.937' and determining best 'optimizer', 'lr0' and 'momentum' automatically... \n",
      "\u001b[34m\u001b[1moptimizer:\u001b[0m SGD(lr=0.01, momentum=0.9) with parameter groups 57 weight(decay=0.0), 64 weight(decay=0.0005), 63 bias(decay=0.0)\n",
      "Image sizes 640 train, 640 val\n",
      "Using 8 dataloader workers\n",
      "Logging results to \u001b[1mruns/detect/train\u001b[0m\n",
      "Starting training for 100 epochs...\n",
      "\n",
      "      Epoch    GPU_mem   box_loss   cls_loss   dfl_loss  Instances       Size\n"
     ]
    },
    {
     "name": "stderr",
     "output_type": "stream",
     "text": [
      "  0%|          | 0/1158 [00:00<?, ?it/s]/home/cameron/Documents/UBC Course Materials/2023W2/CPSC 440/license-plate-recognition/yolo/venv/lib/python3.10/site-packages/torch/nn/modules/conv.py:456: UserWarning: Plan failed with a cudnnException: CUDNN_BACKEND_EXECUTION_PLAN_DESCRIPTOR: cudnnFinalize Descriptor Failed cudnn_status: CUDNN_STATUS_NOT_SUPPORTED (Triggered internally at ../aten/src/ATen/native/cudnn/Conv_v8.cpp:919.)\n",
      "  return F.conv2d(input, weight, bias, self.stride,\n",
      "      1/100      2.18G      1.207      1.457      1.163         22        640: 100%|██████████\n",
      "                 Class     Images  Instances      Box(P          R      mAP50  mAP50-95): 100%\n"
     ]
    },
    {
     "name": "stdout",
     "output_type": "stream",
     "text": [
      "                   all       1765       1840      0.978       0.94      0.965      0.641\n",
      "\n",
      "      Epoch    GPU_mem   box_loss   cls_loss   dfl_loss  Instances       Size\n"
     ]
    },
    {
     "name": "stderr",
     "output_type": "stream",
     "text": [
      "      2/100       2.1G      1.188     0.7465      1.143         26        640: 100%|██████████\n",
      "                 Class     Images  Instances      Box(P          R      mAP50  mAP50-95): 100%"
     ]
    },
    {
     "name": "stdout",
     "output_type": "stream",
     "text": [
      "                   all       1765       1840      0.978       0.94      0.968      0.642\n"
     ]
    },
    {
     "name": "stderr",
     "output_type": "stream",
     "text": [
      "\n"
     ]
    },
    {
     "name": "stdout",
     "output_type": "stream",
     "text": [
      "\n",
      "      Epoch    GPU_mem   box_loss   cls_loss   dfl_loss  Instances       Size\n"
     ]
    },
    {
     "name": "stderr",
     "output_type": "stream",
     "text": [
      "      3/100      2.19G      1.217     0.7037      1.173         27        640: 100%|██████████\n",
      "                 Class     Images  Instances      Box(P          R      mAP50  mAP50-95): 100%"
     ]
    },
    {
     "name": "stdout",
     "output_type": "stream",
     "text": [
      "                   all       1765       1840       0.98      0.928      0.963      0.646\n"
     ]
    },
    {
     "name": "stderr",
     "output_type": "stream",
     "text": [
      "\n"
     ]
    },
    {
     "name": "stdout",
     "output_type": "stream",
     "text": [
      "\n",
      "      Epoch    GPU_mem   box_loss   cls_loss   dfl_loss  Instances       Size\n"
     ]
    },
    {
     "name": "stderr",
     "output_type": "stream",
     "text": [
      "      4/100      2.19G       1.22     0.6862      1.185         30        640: 100%|██████████\n",
      "                 Class     Images  Instances      Box(P          R      mAP50  mAP50-95): 100%"
     ]
    },
    {
     "name": "stdout",
     "output_type": "stream",
     "text": [
      "                   all       1765       1840      0.973       0.94      0.965      0.659\n"
     ]
    },
    {
     "name": "stderr",
     "output_type": "stream",
     "text": [
      "\n"
     ]
    },
    {
     "name": "stdout",
     "output_type": "stream",
     "text": [
      "\n",
      "      Epoch    GPU_mem   box_loss   cls_loss   dfl_loss  Instances       Size\n"
     ]
    },
    {
     "name": "stderr",
     "output_type": "stream",
     "text": [
      "      5/100      2.19G       1.19     0.6385      1.171         23        640: 100%|██████████\n",
      "                 Class     Images  Instances      Box(P          R      mAP50  mAP50-95): 100%"
     ]
    },
    {
     "name": "stdout",
     "output_type": "stream",
     "text": [
      "                   all       1765       1840      0.974      0.944       0.97      0.676\n"
     ]
    },
    {
     "name": "stderr",
     "output_type": "stream",
     "text": [
      "\n"
     ]
    },
    {
     "name": "stdout",
     "output_type": "stream",
     "text": [
      "\n",
      "      Epoch    GPU_mem   box_loss   cls_loss   dfl_loss  Instances       Size\n"
     ]
    },
    {
     "name": "stderr",
     "output_type": "stream",
     "text": [
      "      6/100      2.19G      1.166     0.6064       1.16         32        640: 100%|██████████\n",
      "                 Class     Images  Instances      Box(P          R      mAP50  mAP50-95): 100%"
     ]
    },
    {
     "name": "stdout",
     "output_type": "stream",
     "text": [
      "                   all       1765       1840      0.973      0.945      0.972      0.678\n"
     ]
    },
    {
     "name": "stderr",
     "output_type": "stream",
     "text": [
      "\n"
     ]
    },
    {
     "name": "stdout",
     "output_type": "stream",
     "text": [
      "\n",
      "      Epoch    GPU_mem   box_loss   cls_loss   dfl_loss  Instances       Size\n"
     ]
    },
    {
     "name": "stderr",
     "output_type": "stream",
     "text": [
      "      7/100      2.19G      1.157     0.5903      1.153         27        640: 100%|██████████\n",
      "                 Class     Images  Instances      Box(P          R      mAP50  mAP50-95): 100%"
     ]
    },
    {
     "name": "stdout",
     "output_type": "stream",
     "text": [
      "                   all       1765       1840      0.982      0.943      0.972      0.683\n"
     ]
    },
    {
     "name": "stderr",
     "output_type": "stream",
     "text": [
      "\n"
     ]
    },
    {
     "name": "stdout",
     "output_type": "stream",
     "text": [
      "\n",
      "      Epoch    GPU_mem   box_loss   cls_loss   dfl_loss  Instances       Size\n"
     ]
    },
    {
     "name": "stderr",
     "output_type": "stream",
     "text": [
      "      8/100      2.19G      1.139     0.5672      1.142         30        640: 100%|██████████\n",
      "                 Class     Images  Instances      Box(P          R      mAP50  mAP50-95): 100%"
     ]
    },
    {
     "name": "stdout",
     "output_type": "stream",
     "text": [
      "                   all       1765       1840      0.981      0.945      0.975      0.685\n"
     ]
    },
    {
     "name": "stderr",
     "output_type": "stream",
     "text": [
      "\n"
     ]
    },
    {
     "name": "stdout",
     "output_type": "stream",
     "text": [
      "\n",
      "      Epoch    GPU_mem   box_loss   cls_loss   dfl_loss  Instances       Size\n"
     ]
    },
    {
     "name": "stderr",
     "output_type": "stream",
     "text": [
      "      9/100      2.19G      1.136     0.5622      1.141         29        640: 100%|██████████\n",
      "                 Class     Images  Instances      Box(P          R      mAP50  mAP50-95): 100%"
     ]
    },
    {
     "name": "stdout",
     "output_type": "stream",
     "text": [
      "                   all       1765       1840      0.982      0.944      0.972      0.688\n"
     ]
    },
    {
     "name": "stderr",
     "output_type": "stream",
     "text": [
      "\n"
     ]
    },
    {
     "name": "stdout",
     "output_type": "stream",
     "text": [
      "\n",
      "      Epoch    GPU_mem   box_loss   cls_loss   dfl_loss  Instances       Size\n"
     ]
    },
    {
     "name": "stderr",
     "output_type": "stream",
     "text": [
      "     10/100      2.19G      1.127     0.5481      1.134         23        640: 100%|██████████\n",
      "                 Class     Images  Instances      Box(P          R      mAP50  mAP50-95): 100%"
     ]
    },
    {
     "name": "stdout",
     "output_type": "stream",
     "text": [
      "                   all       1765       1840      0.982      0.941      0.973      0.688\n"
     ]
    },
    {
     "name": "stderr",
     "output_type": "stream",
     "text": [
      "\n"
     ]
    },
    {
     "name": "stdout",
     "output_type": "stream",
     "text": [
      "\n",
      "      Epoch    GPU_mem   box_loss   cls_loss   dfl_loss  Instances       Size\n"
     ]
    },
    {
     "name": "stderr",
     "output_type": "stream",
     "text": [
      "     11/100      2.19G      1.116      0.536      1.127         24        640: 100%|██████████\n",
      "                 Class     Images  Instances      Box(P          R      mAP50  mAP50-95): 100%"
     ]
    },
    {
     "name": "stdout",
     "output_type": "stream",
     "text": [
      "                   all       1765       1840      0.982      0.945      0.978      0.696\n"
     ]
    },
    {
     "name": "stderr",
     "output_type": "stream",
     "text": [
      "\n"
     ]
    },
    {
     "name": "stdout",
     "output_type": "stream",
     "text": [
      "\n",
      "      Epoch    GPU_mem   box_loss   cls_loss   dfl_loss  Instances       Size\n"
     ]
    },
    {
     "name": "stderr",
     "output_type": "stream",
     "text": [
      "     12/100      2.19G      1.108     0.5259      1.122         27        640: 100%|██████████\n",
      "                 Class     Images  Instances      Box(P          R      mAP50  mAP50-95): 100%"
     ]
    },
    {
     "name": "stdout",
     "output_type": "stream",
     "text": [
      "                   all       1765       1840      0.983      0.947      0.978      0.696\n"
     ]
    },
    {
     "name": "stderr",
     "output_type": "stream",
     "text": [
      "\n"
     ]
    },
    {
     "name": "stdout",
     "output_type": "stream",
     "text": [
      "\n",
      "      Epoch    GPU_mem   box_loss   cls_loss   dfl_loss  Instances       Size\n"
     ]
    },
    {
     "name": "stderr",
     "output_type": "stream",
     "text": [
      "     13/100      2.19G      1.103      0.523      1.121         23        640: 100%|██████████\n",
      "                 Class     Images  Instances      Box(P          R      mAP50  mAP50-95): 100%"
     ]
    },
    {
     "name": "stdout",
     "output_type": "stream",
     "text": [
      "                   all       1765       1840      0.981      0.951      0.976      0.699\n"
     ]
    },
    {
     "name": "stderr",
     "output_type": "stream",
     "text": [
      "\n"
     ]
    },
    {
     "name": "stdout",
     "output_type": "stream",
     "text": [
      "\n",
      "      Epoch    GPU_mem   box_loss   cls_loss   dfl_loss  Instances       Size\n"
     ]
    },
    {
     "name": "stderr",
     "output_type": "stream",
     "text": [
      "     14/100      2.19G      1.096     0.5168      1.115         28        640: 100%|██████████\n",
      "                 Class     Images  Instances      Box(P          R      mAP50  mAP50-95): 100%"
     ]
    },
    {
     "name": "stdout",
     "output_type": "stream",
     "text": [
      "                   all       1765       1840      0.977      0.958      0.979      0.699\n"
     ]
    },
    {
     "name": "stderr",
     "output_type": "stream",
     "text": [
      "\n"
     ]
    },
    {
     "name": "stdout",
     "output_type": "stream",
     "text": [
      "\n",
      "      Epoch    GPU_mem   box_loss   cls_loss   dfl_loss  Instances       Size\n"
     ]
    },
    {
     "name": "stderr",
     "output_type": "stream",
     "text": [
      "     15/100      2.19G      1.092     0.5122      1.114         17        640: 100%|██████████\n",
      "                 Class     Images  Instances      Box(P          R      mAP50  mAP50-95): 100%"
     ]
    },
    {
     "name": "stdout",
     "output_type": "stream",
     "text": [
      "                   all       1765       1840      0.977      0.957      0.978        0.7\n"
     ]
    },
    {
     "name": "stderr",
     "output_type": "stream",
     "text": [
      "\n"
     ]
    },
    {
     "name": "stdout",
     "output_type": "stream",
     "text": [
      "\n",
      "      Epoch    GPU_mem   box_loss   cls_loss   dfl_loss  Instances       Size\n"
     ]
    },
    {
     "name": "stderr",
     "output_type": "stream",
     "text": [
      "     16/100      2.19G      1.087     0.5055      1.107         24        640: 100%|██████████\n",
      "                 Class     Images  Instances      Box(P          R      mAP50  mAP50-95): 100%"
     ]
    },
    {
     "name": "stdout",
     "output_type": "stream",
     "text": [
      "                   all       1765       1840      0.985       0.95      0.979      0.704\n"
     ]
    },
    {
     "name": "stderr",
     "output_type": "stream",
     "text": [
      "\n"
     ]
    },
    {
     "name": "stdout",
     "output_type": "stream",
     "text": [
      "\n",
      "      Epoch    GPU_mem   box_loss   cls_loss   dfl_loss  Instances       Size\n"
     ]
    },
    {
     "name": "stderr",
     "output_type": "stream",
     "text": [
      "     17/100      2.19G      1.079     0.4956      1.106         25        640: 100%|██████████\n",
      "                 Class     Images  Instances      Box(P          R      mAP50  mAP50-95): 100%"
     ]
    },
    {
     "name": "stdout",
     "output_type": "stream",
     "text": [
      "                   all       1765       1840      0.983      0.958      0.981      0.706\n"
     ]
    },
    {
     "name": "stderr",
     "output_type": "stream",
     "text": [
      "\n"
     ]
    },
    {
     "name": "stdout",
     "output_type": "stream",
     "text": [
      "\n",
      "      Epoch    GPU_mem   box_loss   cls_loss   dfl_loss  Instances       Size\n"
     ]
    },
    {
     "name": "stderr",
     "output_type": "stream",
     "text": [
      "     18/100      2.19G      1.074     0.4944      1.101         22        640: 100%|██████████\n",
      "                 Class     Images  Instances      Box(P          R      mAP50  mAP50-95): 100%"
     ]
    },
    {
     "name": "stdout",
     "output_type": "stream",
     "text": [
      "                   all       1765       1840      0.976      0.959      0.982      0.706\n"
     ]
    },
    {
     "name": "stderr",
     "output_type": "stream",
     "text": [
      "\n"
     ]
    },
    {
     "name": "stdout",
     "output_type": "stream",
     "text": [
      "\n",
      "      Epoch    GPU_mem   box_loss   cls_loss   dfl_loss  Instances       Size\n"
     ]
    },
    {
     "name": "stderr",
     "output_type": "stream",
     "text": [
      "     19/100      2.19G      1.077     0.4882       1.11         25        640: 100%|██████████\n",
      "                 Class     Images  Instances      Box(P          R      mAP50  mAP50-95): 100%"
     ]
    },
    {
     "name": "stdout",
     "output_type": "stream",
     "text": [
      "                   all       1765       1840      0.985      0.959      0.982      0.708\n"
     ]
    },
    {
     "name": "stderr",
     "output_type": "stream",
     "text": [
      "\n"
     ]
    },
    {
     "name": "stdout",
     "output_type": "stream",
     "text": [
      "\n",
      "      Epoch    GPU_mem   box_loss   cls_loss   dfl_loss  Instances       Size\n"
     ]
    },
    {
     "name": "stderr",
     "output_type": "stream",
     "text": [
      "     20/100      2.19G      1.076     0.4902      1.104         21        640: 100%|██████████\n",
      "                 Class     Images  Instances      Box(P          R      mAP50  mAP50-95): 100%"
     ]
    },
    {
     "name": "stdout",
     "output_type": "stream",
     "text": [
      "                   all       1765       1840      0.983      0.959      0.983      0.714\n"
     ]
    },
    {
     "name": "stderr",
     "output_type": "stream",
     "text": [
      "\n"
     ]
    },
    {
     "name": "stdout",
     "output_type": "stream",
     "text": [
      "\n",
      "      Epoch    GPU_mem   box_loss   cls_loss   dfl_loss  Instances       Size\n"
     ]
    },
    {
     "name": "stderr",
     "output_type": "stream",
     "text": [
      "     21/100      2.19G      1.062     0.4885      1.096         27        640: 100%|██████████\n",
      "                 Class     Images  Instances      Box(P          R      mAP50  mAP50-95): 100%"
     ]
    },
    {
     "name": "stdout",
     "output_type": "stream",
     "text": [
      "                   all       1765       1840      0.979      0.964      0.983      0.712\n"
     ]
    },
    {
     "name": "stderr",
     "output_type": "stream",
     "text": [
      "\n"
     ]
    },
    {
     "name": "stdout",
     "output_type": "stream",
     "text": [
      "\n",
      "      Epoch    GPU_mem   box_loss   cls_loss   dfl_loss  Instances       Size\n"
     ]
    },
    {
     "name": "stderr",
     "output_type": "stream",
     "text": [
      "     22/100      2.19G       1.07     0.4843        1.1         12        640: 100%|██████████\n",
      "                 Class     Images  Instances      Box(P          R      mAP50  mAP50-95): 100%"
     ]
    },
    {
     "name": "stdout",
     "output_type": "stream",
     "text": [
      "                   all       1765       1840      0.984      0.958      0.982      0.709\n"
     ]
    },
    {
     "name": "stderr",
     "output_type": "stream",
     "text": [
      "\n"
     ]
    },
    {
     "name": "stdout",
     "output_type": "stream",
     "text": [
      "\n",
      "      Epoch    GPU_mem   box_loss   cls_loss   dfl_loss  Instances       Size\n"
     ]
    },
    {
     "name": "stderr",
     "output_type": "stream",
     "text": [
      "     23/100      2.19G      1.056     0.4784      1.092         26        640: 100%|██████████\n",
      "                 Class     Images  Instances      Box(P          R      mAP50  mAP50-95): 100%"
     ]
    },
    {
     "name": "stdout",
     "output_type": "stream",
     "text": [
      "                   all       1765       1840      0.984       0.96      0.984      0.713\n"
     ]
    },
    {
     "name": "stderr",
     "output_type": "stream",
     "text": [
      "\n"
     ]
    },
    {
     "name": "stdout",
     "output_type": "stream",
     "text": [
      "\n",
      "      Epoch    GPU_mem   box_loss   cls_loss   dfl_loss  Instances       Size\n"
     ]
    },
    {
     "name": "stderr",
     "output_type": "stream",
     "text": [
      "     24/100      2.19G      1.053      0.474      1.092         20        640: 100%|██████████\n",
      "                 Class     Images  Instances      Box(P          R      mAP50  mAP50-95): 100%"
     ]
    },
    {
     "name": "stdout",
     "output_type": "stream",
     "text": [
      "                   all       1765       1840      0.987      0.958      0.984      0.715\n"
     ]
    },
    {
     "name": "stderr",
     "output_type": "stream",
     "text": [
      "\n"
     ]
    },
    {
     "name": "stdout",
     "output_type": "stream",
     "text": [
      "\n",
      "      Epoch    GPU_mem   box_loss   cls_loss   dfl_loss  Instances       Size\n"
     ]
    },
    {
     "name": "stderr",
     "output_type": "stream",
     "text": [
      "     25/100      2.19G      1.055     0.4718      1.091         31        640: 100%|██████████\n",
      "                 Class     Images  Instances      Box(P          R      mAP50  mAP50-95): 100%"
     ]
    },
    {
     "name": "stdout",
     "output_type": "stream",
     "text": [
      "                   all       1765       1840       0.99      0.962      0.983      0.714\n"
     ]
    },
    {
     "name": "stderr",
     "output_type": "stream",
     "text": [
      "\n"
     ]
    },
    {
     "name": "stdout",
     "output_type": "stream",
     "text": [
      "\n",
      "      Epoch    GPU_mem   box_loss   cls_loss   dfl_loss  Instances       Size\n"
     ]
    },
    {
     "name": "stderr",
     "output_type": "stream",
     "text": [
      "     26/100      2.19G      1.053     0.4693      1.092         21        640: 100%|██████████\n",
      "                 Class     Images  Instances      Box(P          R      mAP50  mAP50-95): 100%"
     ]
    },
    {
     "name": "stdout",
     "output_type": "stream",
     "text": [
      "                   all       1765       1840      0.987      0.961      0.985      0.717\n"
     ]
    },
    {
     "name": "stderr",
     "output_type": "stream",
     "text": [
      "\n"
     ]
    },
    {
     "name": "stdout",
     "output_type": "stream",
     "text": [
      "\n",
      "      Epoch    GPU_mem   box_loss   cls_loss   dfl_loss  Instances       Size\n"
     ]
    },
    {
     "name": "stderr",
     "output_type": "stream",
     "text": [
      "     27/100      2.19G      1.049     0.4682      1.091         30        640: 100%|██████████\n",
      "                 Class     Images  Instances      Box(P          R      mAP50  mAP50-95): 100%"
     ]
    },
    {
     "name": "stdout",
     "output_type": "stream",
     "text": [
      "                   all       1765       1840       0.98      0.965      0.986      0.713\n"
     ]
    },
    {
     "name": "stderr",
     "output_type": "stream",
     "text": [
      "\n"
     ]
    },
    {
     "name": "stdout",
     "output_type": "stream",
     "text": [
      "\n",
      "      Epoch    GPU_mem   box_loss   cls_loss   dfl_loss  Instances       Size\n"
     ]
    },
    {
     "name": "stderr",
     "output_type": "stream",
     "text": [
      "     28/100      2.19G      1.047     0.4646      1.089         31        640: 100%|██████████\n",
      "                 Class     Images  Instances      Box(P          R      mAP50  mAP50-95): 100%"
     ]
    },
    {
     "name": "stdout",
     "output_type": "stream",
     "text": [
      "                   all       1765       1840      0.978      0.967      0.984      0.717\n"
     ]
    },
    {
     "name": "stderr",
     "output_type": "stream",
     "text": [
      "\n"
     ]
    },
    {
     "name": "stdout",
     "output_type": "stream",
     "text": [
      "\n",
      "      Epoch    GPU_mem   box_loss   cls_loss   dfl_loss  Instances       Size\n"
     ]
    },
    {
     "name": "stderr",
     "output_type": "stream",
     "text": [
      "     29/100      2.19G      1.047     0.4647      1.088         38        640: 100%|██████████\n",
      "                 Class     Images  Instances      Box(P          R      mAP50  mAP50-95): 100%"
     ]
    },
    {
     "name": "stdout",
     "output_type": "stream",
     "text": [
      "                   all       1765       1840      0.985      0.964      0.986      0.716\n"
     ]
    },
    {
     "name": "stderr",
     "output_type": "stream",
     "text": [
      "\n"
     ]
    },
    {
     "name": "stdout",
     "output_type": "stream",
     "text": [
      "\n",
      "      Epoch    GPU_mem   box_loss   cls_loss   dfl_loss  Instances       Size\n"
     ]
    },
    {
     "name": "stderr",
     "output_type": "stream",
     "text": [
      "     30/100      2.19G       1.04     0.4592      1.084         26        640: 100%|██████████\n",
      "                 Class     Images  Instances      Box(P          R      mAP50  mAP50-95): 100%"
     ]
    },
    {
     "name": "stdout",
     "output_type": "stream",
     "text": [
      "                   all       1765       1840      0.984      0.963      0.984      0.715\n"
     ]
    },
    {
     "name": "stderr",
     "output_type": "stream",
     "text": [
      "\n"
     ]
    },
    {
     "name": "stdout",
     "output_type": "stream",
     "text": [
      "\n",
      "      Epoch    GPU_mem   box_loss   cls_loss   dfl_loss  Instances       Size\n"
     ]
    },
    {
     "name": "stderr",
     "output_type": "stream",
     "text": [
      "     31/100      2.19G      1.038     0.4572      1.086         32        640: 100%|██████████\n",
      "                 Class     Images  Instances      Box(P          R      mAP50  mAP50-95): 100%"
     ]
    },
    {
     "name": "stdout",
     "output_type": "stream",
     "text": [
      "                   all       1765       1840      0.984      0.962      0.988      0.717\n"
     ]
    },
    {
     "name": "stderr",
     "output_type": "stream",
     "text": [
      "\n"
     ]
    },
    {
     "name": "stdout",
     "output_type": "stream",
     "text": [
      "\n",
      "      Epoch    GPU_mem   box_loss   cls_loss   dfl_loss  Instances       Size\n"
     ]
    },
    {
     "name": "stderr",
     "output_type": "stream",
     "text": [
      "     32/100      2.19G      1.039      0.452      1.082         27        640: 100%|██████████\n",
      "                 Class     Images  Instances      Box(P          R      mAP50  mAP50-95): 100%"
     ]
    },
    {
     "name": "stdout",
     "output_type": "stream",
     "text": [
      "                   all       1765       1840      0.983      0.963      0.987      0.719\n"
     ]
    },
    {
     "name": "stderr",
     "output_type": "stream",
     "text": [
      "\n"
     ]
    },
    {
     "name": "stdout",
     "output_type": "stream",
     "text": [
      "\n",
      "      Epoch    GPU_mem   box_loss   cls_loss   dfl_loss  Instances       Size\n"
     ]
    },
    {
     "name": "stderr",
     "output_type": "stream",
     "text": [
      "     33/100      2.19G      1.033     0.4522       1.08         30        640: 100%|██████████\n",
      "                 Class     Images  Instances      Box(P          R      mAP50  mAP50-95): 100%"
     ]
    },
    {
     "name": "stdout",
     "output_type": "stream",
     "text": [
      "                   all       1765       1840      0.987      0.963      0.985       0.72\n"
     ]
    },
    {
     "name": "stderr",
     "output_type": "stream",
     "text": [
      "\n"
     ]
    },
    {
     "name": "stdout",
     "output_type": "stream",
     "text": [
      "\n",
      "      Epoch    GPU_mem   box_loss   cls_loss   dfl_loss  Instances       Size\n"
     ]
    },
    {
     "name": "stderr",
     "output_type": "stream",
     "text": [
      "     34/100      2.19G      1.032     0.4497      1.082         28        640: 100%|██████████\n",
      "                 Class     Images  Instances      Box(P          R      mAP50  mAP50-95): 100%"
     ]
    },
    {
     "name": "stdout",
     "output_type": "stream",
     "text": [
      "                   all       1765       1840      0.982      0.965      0.985      0.723\n"
     ]
    },
    {
     "name": "stderr",
     "output_type": "stream",
     "text": [
      "\n"
     ]
    },
    {
     "name": "stdout",
     "output_type": "stream",
     "text": [
      "\n",
      "      Epoch    GPU_mem   box_loss   cls_loss   dfl_loss  Instances       Size\n"
     ]
    },
    {
     "name": "stderr",
     "output_type": "stream",
     "text": [
      "     35/100      2.19G      1.028     0.4469      1.078         20        640: 100%|██████████\n",
      "                 Class     Images  Instances      Box(P          R      mAP50  mAP50-95): 100%"
     ]
    },
    {
     "name": "stdout",
     "output_type": "stream",
     "text": [
      "                   all       1765       1840      0.985      0.963      0.985      0.721\n"
     ]
    },
    {
     "name": "stderr",
     "output_type": "stream",
     "text": [
      "\n"
     ]
    },
    {
     "name": "stdout",
     "output_type": "stream",
     "text": [
      "\n",
      "      Epoch    GPU_mem   box_loss   cls_loss   dfl_loss  Instances       Size\n"
     ]
    },
    {
     "name": "stderr",
     "output_type": "stream",
     "text": [
      "     36/100      2.19G      1.023     0.4441      1.077         18        640: 100%|██████████\n",
      "                 Class     Images  Instances      Box(P          R      mAP50  mAP50-95): 100%"
     ]
    },
    {
     "name": "stdout",
     "output_type": "stream",
     "text": [
      "                   all       1765       1840      0.983      0.964      0.988       0.72\n"
     ]
    },
    {
     "name": "stderr",
     "output_type": "stream",
     "text": [
      "\n"
     ]
    },
    {
     "name": "stdout",
     "output_type": "stream",
     "text": [
      "\n",
      "      Epoch    GPU_mem   box_loss   cls_loss   dfl_loss  Instances       Size\n"
     ]
    },
    {
     "name": "stderr",
     "output_type": "stream",
     "text": [
      "     37/100      2.19G      1.023     0.4433      1.076         23        640: 100%|██████████\n",
      "                 Class     Images  Instances      Box(P          R      mAP50  mAP50-95): 100%"
     ]
    },
    {
     "name": "stdout",
     "output_type": "stream",
     "text": [
      "                   all       1765       1840      0.985      0.965      0.988      0.721\n"
     ]
    },
    {
     "name": "stderr",
     "output_type": "stream",
     "text": [
      "\n"
     ]
    },
    {
     "name": "stdout",
     "output_type": "stream",
     "text": [
      "\n",
      "      Epoch    GPU_mem   box_loss   cls_loss   dfl_loss  Instances       Size\n"
     ]
    },
    {
     "name": "stderr",
     "output_type": "stream",
     "text": [
      "     38/100      2.19G      1.024     0.4463      1.077         26        640: 100%|██████████\n",
      "                 Class     Images  Instances      Box(P          R      mAP50  mAP50-95): 100%"
     ]
    },
    {
     "name": "stdout",
     "output_type": "stream",
     "text": [
      "                   all       1765       1840      0.982      0.967      0.987      0.723\n"
     ]
    },
    {
     "name": "stderr",
     "output_type": "stream",
     "text": [
      "\n"
     ]
    },
    {
     "name": "stdout",
     "output_type": "stream",
     "text": [
      "\n",
      "      Epoch    GPU_mem   box_loss   cls_loss   dfl_loss  Instances       Size\n"
     ]
    },
    {
     "name": "stderr",
     "output_type": "stream",
     "text": [
      "     39/100      2.19G      1.015     0.4396      1.072         20        640: 100%|██████████\n",
      "                 Class     Images  Instances      Box(P          R      mAP50  mAP50-95): 100%"
     ]
    },
    {
     "name": "stdout",
     "output_type": "stream",
     "text": [
      "                   all       1765       1840      0.984      0.966      0.986      0.725\n"
     ]
    },
    {
     "name": "stderr",
     "output_type": "stream",
     "text": [
      "\n"
     ]
    },
    {
     "name": "stdout",
     "output_type": "stream",
     "text": [
      "\n",
      "      Epoch    GPU_mem   box_loss   cls_loss   dfl_loss  Instances       Size\n"
     ]
    },
    {
     "name": "stderr",
     "output_type": "stream",
     "text": [
      "     40/100      2.19G       1.02     0.4391      1.076         27        640: 100%|██████████\n",
      "                 Class     Images  Instances      Box(P          R      mAP50  mAP50-95): 100%"
     ]
    },
    {
     "name": "stdout",
     "output_type": "stream",
     "text": [
      "                   all       1765       1840      0.987      0.965      0.986      0.724\n"
     ]
    },
    {
     "name": "stderr",
     "output_type": "stream",
     "text": [
      "\n"
     ]
    },
    {
     "name": "stdout",
     "output_type": "stream",
     "text": [
      "\n",
      "      Epoch    GPU_mem   box_loss   cls_loss   dfl_loss  Instances       Size\n"
     ]
    },
    {
     "name": "stderr",
     "output_type": "stream",
     "text": [
      "     41/100      2.19G      1.008     0.4348      1.067         20        640: 100%|██████████\n",
      "                 Class     Images  Instances      Box(P          R      mAP50  mAP50-95): 100%"
     ]
    },
    {
     "name": "stdout",
     "output_type": "stream",
     "text": [
      "                   all       1765       1840      0.987      0.963      0.986      0.724\n"
     ]
    },
    {
     "name": "stderr",
     "output_type": "stream",
     "text": [
      "\n"
     ]
    },
    {
     "name": "stdout",
     "output_type": "stream",
     "text": [
      "\n",
      "      Epoch    GPU_mem   box_loss   cls_loss   dfl_loss  Instances       Size\n"
     ]
    },
    {
     "name": "stderr",
     "output_type": "stream",
     "text": [
      "     42/100      2.19G       1.01     0.4353       1.07         29        640: 100%|██████████\n",
      "                 Class     Images  Instances      Box(P          R      mAP50  mAP50-95): 100%"
     ]
    },
    {
     "name": "stdout",
     "output_type": "stream",
     "text": [
      "                   all       1765       1840      0.984      0.965      0.986      0.724\n"
     ]
    },
    {
     "name": "stderr",
     "output_type": "stream",
     "text": [
      "\n"
     ]
    },
    {
     "name": "stdout",
     "output_type": "stream",
     "text": [
      "\n",
      "      Epoch    GPU_mem   box_loss   cls_loss   dfl_loss  Instances       Size\n"
     ]
    },
    {
     "name": "stderr",
     "output_type": "stream",
     "text": [
      "     43/100      2.19G       1.01      0.433      1.069         29        640: 100%|██████████\n",
      "                 Class     Images  Instances      Box(P          R      mAP50  mAP50-95): 100%"
     ]
    },
    {
     "name": "stdout",
     "output_type": "stream",
     "text": [
      "                   all       1765       1840      0.986      0.965      0.986      0.724\n"
     ]
    },
    {
     "name": "stderr",
     "output_type": "stream",
     "text": [
      "\n"
     ]
    },
    {
     "name": "stdout",
     "output_type": "stream",
     "text": [
      "\n",
      "      Epoch    GPU_mem   box_loss   cls_loss   dfl_loss  Instances       Size\n"
     ]
    },
    {
     "name": "stderr",
     "output_type": "stream",
     "text": [
      "     44/100      2.19G      1.006     0.4304      1.067         21        640: 100%|██████████\n",
      "                 Class     Images  Instances      Box(P          R      mAP50  mAP50-95): 100%"
     ]
    },
    {
     "name": "stdout",
     "output_type": "stream",
     "text": [
      "                   all       1765       1840      0.985      0.966      0.985      0.723\n"
     ]
    },
    {
     "name": "stderr",
     "output_type": "stream",
     "text": [
      "\n"
     ]
    },
    {
     "name": "stdout",
     "output_type": "stream",
     "text": [
      "\n",
      "      Epoch    GPU_mem   box_loss   cls_loss   dfl_loss  Instances       Size\n"
     ]
    },
    {
     "name": "stderr",
     "output_type": "stream",
     "text": [
      "     45/100      2.19G      1.002     0.4285      1.062         24        640: 100%|██████████\n",
      "                 Class     Images  Instances      Box(P          R      mAP50  mAP50-95): 100%"
     ]
    },
    {
     "name": "stdout",
     "output_type": "stream",
     "text": [
      "                   all       1765       1840      0.981      0.968      0.985      0.724\n"
     ]
    },
    {
     "name": "stderr",
     "output_type": "stream",
     "text": [
      "\n"
     ]
    },
    {
     "name": "stdout",
     "output_type": "stream",
     "text": [
      "\n",
      "      Epoch    GPU_mem   box_loss   cls_loss   dfl_loss  Instances       Size\n"
     ]
    },
    {
     "name": "stderr",
     "output_type": "stream",
     "text": [
      "     46/100      2.19G     0.9953     0.4218      1.064         22        640: 100%|██████████\n",
      "                 Class     Images  Instances      Box(P          R      mAP50  mAP50-95): 100%"
     ]
    },
    {
     "name": "stdout",
     "output_type": "stream",
     "text": [
      "                   all       1765       1840      0.983      0.969      0.987      0.723\n"
     ]
    },
    {
     "name": "stderr",
     "output_type": "stream",
     "text": [
      "\n"
     ]
    },
    {
     "name": "stdout",
     "output_type": "stream",
     "text": [
      "\n",
      "      Epoch    GPU_mem   box_loss   cls_loss   dfl_loss  Instances       Size\n"
     ]
    },
    {
     "name": "stderr",
     "output_type": "stream",
     "text": [
      "     47/100      2.19G     0.9994      0.427      1.063         31        640: 100%|██████████\n",
      "                 Class     Images  Instances      Box(P          R      mAP50  mAP50-95): 100%"
     ]
    },
    {
     "name": "stdout",
     "output_type": "stream",
     "text": [
      "                   all       1765       1840      0.986      0.965      0.986      0.724\n"
     ]
    },
    {
     "name": "stderr",
     "output_type": "stream",
     "text": [
      "\n"
     ]
    },
    {
     "name": "stdout",
     "output_type": "stream",
     "text": [
      "\n",
      "      Epoch    GPU_mem   box_loss   cls_loss   dfl_loss  Instances       Size\n"
     ]
    },
    {
     "name": "stderr",
     "output_type": "stream",
     "text": [
      "     48/100      2.19G     0.9966     0.4258      1.062         29        640: 100%|██████████\n",
      "                 Class     Images  Instances      Box(P          R      mAP50  mAP50-95): 100%"
     ]
    },
    {
     "name": "stdout",
     "output_type": "stream",
     "text": [
      "                   all       1765       1840      0.982      0.969      0.987      0.724\n"
     ]
    },
    {
     "name": "stderr",
     "output_type": "stream",
     "text": [
      "\n"
     ]
    },
    {
     "name": "stdout",
     "output_type": "stream",
     "text": [
      "\n",
      "      Epoch    GPU_mem   box_loss   cls_loss   dfl_loss  Instances       Size\n"
     ]
    },
    {
     "name": "stderr",
     "output_type": "stream",
     "text": [
      "     49/100      2.19G     0.9846     0.4231      1.061         31        640: 100%|██████████\n",
      "                 Class     Images  Instances      Box(P          R      mAP50  mAP50-95): 100%"
     ]
    },
    {
     "name": "stdout",
     "output_type": "stream",
     "text": [
      "                   all       1765       1840      0.982       0.97      0.988      0.725\n"
     ]
    },
    {
     "name": "stderr",
     "output_type": "stream",
     "text": [
      "\n"
     ]
    },
    {
     "name": "stdout",
     "output_type": "stream",
     "text": [
      "\n",
      "      Epoch    GPU_mem   box_loss   cls_loss   dfl_loss  Instances       Size\n"
     ]
    },
    {
     "name": "stderr",
     "output_type": "stream",
     "text": [
      "     50/100      2.19G      0.988     0.4194       1.06         19        640: 100%|██████████\n",
      "                 Class     Images  Instances      Box(P          R      mAP50  mAP50-95): 100%"
     ]
    },
    {
     "name": "stdout",
     "output_type": "stream",
     "text": [
      "                   all       1765       1840      0.983       0.97      0.988      0.726\n"
     ]
    },
    {
     "name": "stderr",
     "output_type": "stream",
     "text": [
      "\n"
     ]
    },
    {
     "name": "stdout",
     "output_type": "stream",
     "text": [
      "\n",
      "      Epoch    GPU_mem   box_loss   cls_loss   dfl_loss  Instances       Size\n"
     ]
    },
    {
     "name": "stderr",
     "output_type": "stream",
     "text": [
      "     51/100      2.19G     0.9845     0.4181      1.059         28        640: 100%|██████████\n",
      "                 Class     Images  Instances      Box(P          R      mAP50  mAP50-95): 100%"
     ]
    },
    {
     "name": "stdout",
     "output_type": "stream",
     "text": [
      "                   all       1765       1840      0.983       0.97      0.987      0.725\n"
     ]
    },
    {
     "name": "stderr",
     "output_type": "stream",
     "text": [
      "\n"
     ]
    },
    {
     "name": "stdout",
     "output_type": "stream",
     "text": [
      "\n",
      "      Epoch    GPU_mem   box_loss   cls_loss   dfl_loss  Instances       Size\n"
     ]
    },
    {
     "name": "stderr",
     "output_type": "stream",
     "text": [
      "     52/100      2.19G     0.9833     0.4165      1.059         31        640: 100%|██████████\n",
      "                 Class     Images  Instances      Box(P          R      mAP50  mAP50-95): 100%"
     ]
    },
    {
     "name": "stdout",
     "output_type": "stream",
     "text": [
      "                   all       1765       1840      0.982      0.971      0.988      0.726\n"
     ]
    },
    {
     "name": "stderr",
     "output_type": "stream",
     "text": [
      "\n"
     ]
    },
    {
     "name": "stdout",
     "output_type": "stream",
     "text": [
      "\n",
      "      Epoch    GPU_mem   box_loss   cls_loss   dfl_loss  Instances       Size\n"
     ]
    },
    {
     "name": "stderr",
     "output_type": "stream",
     "text": [
      "     53/100      2.19G     0.9819     0.4124      1.059         23        640: 100%|██████████\n",
      "                 Class     Images  Instances      Box(P          R      mAP50  mAP50-95): 100%"
     ]
    },
    {
     "name": "stdout",
     "output_type": "stream",
     "text": [
      "                   all       1765       1840      0.982      0.971      0.987      0.725\n"
     ]
    },
    {
     "name": "stderr",
     "output_type": "stream",
     "text": [
      "\n"
     ]
    },
    {
     "name": "stdout",
     "output_type": "stream",
     "text": [
      "\n",
      "      Epoch    GPU_mem   box_loss   cls_loss   dfl_loss  Instances       Size\n"
     ]
    },
    {
     "name": "stderr",
     "output_type": "stream",
     "text": [
      "     54/100      2.19G     0.9775     0.4142      1.055         24        640: 100%|██████████\n",
      "                 Class     Images  Instances      Box(P          R      mAP50  mAP50-95): 100%"
     ]
    },
    {
     "name": "stdout",
     "output_type": "stream",
     "text": [
      "                   all       1765       1840      0.982      0.971      0.988      0.726\n"
     ]
    },
    {
     "name": "stderr",
     "output_type": "stream",
     "text": [
      "\n"
     ]
    },
    {
     "name": "stdout",
     "output_type": "stream",
     "text": [
      "\n",
      "      Epoch    GPU_mem   box_loss   cls_loss   dfl_loss  Instances       Size\n"
     ]
    },
    {
     "name": "stderr",
     "output_type": "stream",
     "text": [
      "     55/100      2.19G     0.9746     0.4118      1.057         32        640: 100%|██████████\n",
      "                 Class     Images  Instances      Box(P          R      mAP50  mAP50-95): 100%"
     ]
    },
    {
     "name": "stdout",
     "output_type": "stream",
     "text": [
      "                   all       1765       1840      0.983      0.971      0.988      0.725\n"
     ]
    },
    {
     "name": "stderr",
     "output_type": "stream",
     "text": [
      "\n"
     ]
    },
    {
     "name": "stdout",
     "output_type": "stream",
     "text": [
      "\n",
      "      Epoch    GPU_mem   box_loss   cls_loss   dfl_loss  Instances       Size\n"
     ]
    },
    {
     "name": "stderr",
     "output_type": "stream",
     "text": [
      "     56/100      2.19G      0.979     0.4135      1.056         24        640: 100%|██████████\n",
      "                 Class     Images  Instances      Box(P          R      mAP50  mAP50-95): 100%"
     ]
    },
    {
     "name": "stdout",
     "output_type": "stream",
     "text": [
      "                   all       1765       1840      0.983      0.972      0.988      0.725\n"
     ]
    },
    {
     "name": "stderr",
     "output_type": "stream",
     "text": [
      "\n"
     ]
    },
    {
     "name": "stdout",
     "output_type": "stream",
     "text": [
      "\n",
      "      Epoch    GPU_mem   box_loss   cls_loss   dfl_loss  Instances       Size\n"
     ]
    },
    {
     "name": "stderr",
     "output_type": "stream",
     "text": [
      "     57/100      2.19G     0.9702     0.4043      1.053         30        640: 100%|██████████\n",
      "                 Class     Images  Instances      Box(P          R      mAP50  mAP50-95): 100%"
     ]
    },
    {
     "name": "stdout",
     "output_type": "stream",
     "text": [
      "                   all       1765       1840      0.983       0.97      0.988      0.724\n"
     ]
    },
    {
     "name": "stderr",
     "output_type": "stream",
     "text": [
      "\n"
     ]
    },
    {
     "name": "stdout",
     "output_type": "stream",
     "text": [
      "\n",
      "      Epoch    GPU_mem   box_loss   cls_loss   dfl_loss  Instances       Size\n"
     ]
    },
    {
     "name": "stderr",
     "output_type": "stream",
     "text": [
      "     58/100      2.19G      0.967     0.4053      1.049         20        640: 100%|██████████\n",
      "                 Class     Images  Instances      Box(P          R      mAP50  mAP50-95): 100%"
     ]
    },
    {
     "name": "stdout",
     "output_type": "stream",
     "text": [
      "                   all       1765       1840      0.982      0.971      0.988      0.725\n"
     ]
    },
    {
     "name": "stderr",
     "output_type": "stream",
     "text": [
      "\n"
     ]
    },
    {
     "name": "stdout",
     "output_type": "stream",
     "text": [
      "\n",
      "      Epoch    GPU_mem   box_loss   cls_loss   dfl_loss  Instances       Size\n"
     ]
    },
    {
     "name": "stderr",
     "output_type": "stream",
     "text": [
      "     59/100      2.19G     0.9659     0.4035       1.05         24        640: 100%|██████████\n",
      "                 Class     Images  Instances      Box(P          R      mAP50  mAP50-95): 100%"
     ]
    },
    {
     "name": "stdout",
     "output_type": "stream",
     "text": [
      "                   all       1765       1840      0.983      0.971      0.988      0.724\n"
     ]
    },
    {
     "name": "stderr",
     "output_type": "stream",
     "text": [
      "\n"
     ]
    },
    {
     "name": "stdout",
     "output_type": "stream",
     "text": [
      "\n",
      "      Epoch    GPU_mem   box_loss   cls_loss   dfl_loss  Instances       Size\n"
     ]
    },
    {
     "name": "stderr",
     "output_type": "stream",
     "text": [
      "     60/100      2.19G     0.9636     0.4052      1.051         23        640: 100%|██████████\n",
      "                 Class     Images  Instances      Box(P          R      mAP50  mAP50-95): 100%"
     ]
    },
    {
     "name": "stdout",
     "output_type": "stream",
     "text": [
      "                   all       1765       1840      0.984      0.971      0.987      0.724\n"
     ]
    },
    {
     "name": "stderr",
     "output_type": "stream",
     "text": [
      "\n"
     ]
    },
    {
     "name": "stdout",
     "output_type": "stream",
     "text": [
      "\n",
      "      Epoch    GPU_mem   box_loss   cls_loss   dfl_loss  Instances       Size\n"
     ]
    },
    {
     "name": "stderr",
     "output_type": "stream",
     "text": [
      "     61/100      2.19G     0.9646     0.4029      1.051         25        640: 100%|██████████\n",
      "                 Class     Images  Instances      Box(P          R      mAP50  mAP50-95): 100%"
     ]
    },
    {
     "name": "stdout",
     "output_type": "stream",
     "text": [
      "                   all       1765       1840      0.985      0.971      0.987      0.722\n"
     ]
    },
    {
     "name": "stderr",
     "output_type": "stream",
     "text": [
      "\n"
     ]
    },
    {
     "name": "stdout",
     "output_type": "stream",
     "text": [
      "\n",
      "      Epoch    GPU_mem   box_loss   cls_loss   dfl_loss  Instances       Size\n"
     ]
    },
    {
     "name": "stderr",
     "output_type": "stream",
     "text": [
      "     62/100      2.19G     0.9619     0.4013      1.047         28        640: 100%|██████████\n",
      "                 Class     Images  Instances      Box(P          R      mAP50  mAP50-95): 100%"
     ]
    },
    {
     "name": "stdout",
     "output_type": "stream",
     "text": [
      "                   all       1765       1840      0.984      0.972      0.987      0.724\n"
     ]
    },
    {
     "name": "stderr",
     "output_type": "stream",
     "text": [
      "\n"
     ]
    },
    {
     "name": "stdout",
     "output_type": "stream",
     "text": [
      "\n",
      "      Epoch    GPU_mem   box_loss   cls_loss   dfl_loss  Instances       Size\n"
     ]
    },
    {
     "name": "stderr",
     "output_type": "stream",
     "text": [
      "     63/100      2.19G     0.9539     0.3991      1.045         28        640: 100%|██████████\n",
      "                 Class     Images  Instances      Box(P          R      mAP50  mAP50-95): 100%"
     ]
    },
    {
     "name": "stdout",
     "output_type": "stream",
     "text": [
      "                   all       1765       1840      0.984      0.972      0.988      0.724\n"
     ]
    },
    {
     "name": "stderr",
     "output_type": "stream",
     "text": [
      "\n"
     ]
    },
    {
     "name": "stdout",
     "output_type": "stream",
     "text": [
      "\n",
      "      Epoch    GPU_mem   box_loss   cls_loss   dfl_loss  Instances       Size\n"
     ]
    },
    {
     "name": "stderr",
     "output_type": "stream",
     "text": [
      "     64/100      2.19G     0.9531      0.395      1.044         25        640: 100%|██████████\n",
      "                 Class     Images  Instances      Box(P          R      mAP50  mAP50-95): 100%"
     ]
    },
    {
     "name": "stdout",
     "output_type": "stream",
     "text": [
      "                   all       1765       1840      0.984      0.971      0.986      0.723\n"
     ]
    },
    {
     "name": "stderr",
     "output_type": "stream",
     "text": [
      "\n"
     ]
    },
    {
     "name": "stdout",
     "output_type": "stream",
     "text": [
      "\n",
      "      Epoch    GPU_mem   box_loss   cls_loss   dfl_loss  Instances       Size\n"
     ]
    },
    {
     "name": "stderr",
     "output_type": "stream",
     "text": [
      "     65/100      2.19G      0.946     0.3952      1.041         32        640: 100%|██████████\n",
      "                 Class     Images  Instances      Box(P          R      mAP50  mAP50-95): 100%"
     ]
    },
    {
     "name": "stdout",
     "output_type": "stream",
     "text": [
      "                   all       1765       1840      0.984       0.97      0.988      0.724\n"
     ]
    },
    {
     "name": "stderr",
     "output_type": "stream",
     "text": [
      "\n"
     ]
    },
    {
     "name": "stdout",
     "output_type": "stream",
     "text": [
      "\n",
      "      Epoch    GPU_mem   box_loss   cls_loss   dfl_loss  Instances       Size\n"
     ]
    },
    {
     "name": "stderr",
     "output_type": "stream",
     "text": [
      "     66/100      2.19G     0.9432     0.3914      1.046         25        640: 100%|██████████\n",
      "                 Class     Images  Instances      Box(P          R      mAP50  mAP50-95): 100%"
     ]
    },
    {
     "name": "stdout",
     "output_type": "stream",
     "text": [
      "                   all       1765       1840      0.984       0.97      0.988      0.724\n"
     ]
    },
    {
     "name": "stderr",
     "output_type": "stream",
     "text": [
      "\n"
     ]
    },
    {
     "name": "stdout",
     "output_type": "stream",
     "text": [
      "\n",
      "      Epoch    GPU_mem   box_loss   cls_loss   dfl_loss  Instances       Size\n"
     ]
    },
    {
     "name": "stderr",
     "output_type": "stream",
     "text": [
      "     67/100      2.19G     0.9407     0.3894      1.041         22        640: 100%|██████████\n",
      "                 Class     Images  Instances      Box(P          R      mAP50  mAP50-95): 100%"
     ]
    },
    {
     "name": "stdout",
     "output_type": "stream",
     "text": [
      "                   all       1765       1840      0.984       0.97      0.988      0.724\n"
     ]
    },
    {
     "name": "stderr",
     "output_type": "stream",
     "text": [
      "\n"
     ]
    },
    {
     "name": "stdout",
     "output_type": "stream",
     "text": [
      "\n",
      "      Epoch    GPU_mem   box_loss   cls_loss   dfl_loss  Instances       Size\n"
     ]
    },
    {
     "name": "stderr",
     "output_type": "stream",
     "text": [
      "     68/100      2.19G     0.9373     0.3882      1.039         19        640: 100%|██████████\n",
      "                 Class     Images  Instances      Box(P          R      mAP50  mAP50-95): 100%"
     ]
    },
    {
     "name": "stdout",
     "output_type": "stream",
     "text": [
      "                   all       1765       1840      0.983      0.971      0.988      0.725\n"
     ]
    },
    {
     "name": "stderr",
     "output_type": "stream",
     "text": [
      "\n"
     ]
    },
    {
     "name": "stdout",
     "output_type": "stream",
     "text": [
      "\n",
      "      Epoch    GPU_mem   box_loss   cls_loss   dfl_loss  Instances       Size\n"
     ]
    },
    {
     "name": "stderr",
     "output_type": "stream",
     "text": [
      "     69/100      2.19G     0.9326     0.3849      1.036         32        640: 100%|██████████\n",
      "                 Class     Images  Instances      Box(P          R      mAP50  mAP50-95): 100%"
     ]
    },
    {
     "name": "stdout",
     "output_type": "stream",
     "text": [
      "                   all       1765       1840      0.987      0.967      0.988      0.724\n"
     ]
    },
    {
     "name": "stderr",
     "output_type": "stream",
     "text": [
      "\n"
     ]
    },
    {
     "name": "stdout",
     "output_type": "stream",
     "text": [
      "\n",
      "      Epoch    GPU_mem   box_loss   cls_loss   dfl_loss  Instances       Size\n"
     ]
    },
    {
     "name": "stderr",
     "output_type": "stream",
     "text": [
      "     70/100      2.19G     0.9351     0.3875      1.039         18        640: 100%|██████████\n",
      "                 Class     Images  Instances      Box(P          R      mAP50  mAP50-95): 100%"
     ]
    },
    {
     "name": "stdout",
     "output_type": "stream",
     "text": [
      "                   all       1765       1840      0.987      0.968      0.987      0.724\n"
     ]
    },
    {
     "name": "stderr",
     "output_type": "stream",
     "text": [
      "\n"
     ]
    },
    {
     "name": "stdout",
     "output_type": "stream",
     "text": [
      "\n",
      "      Epoch    GPU_mem   box_loss   cls_loss   dfl_loss  Instances       Size\n"
     ]
    },
    {
     "name": "stderr",
     "output_type": "stream",
     "text": [
      "     71/100      2.19G     0.9254     0.3798      1.033         31        640: 100%|██████████\n",
      "                 Class     Images  Instances      Box(P          R      mAP50  mAP50-95): 100%"
     ]
    },
    {
     "name": "stdout",
     "output_type": "stream",
     "text": [
      "                   all       1765       1840      0.986      0.968      0.987      0.724\n"
     ]
    },
    {
     "name": "stderr",
     "output_type": "stream",
     "text": [
      "\n"
     ]
    },
    {
     "name": "stdout",
     "output_type": "stream",
     "text": [
      "\n",
      "      Epoch    GPU_mem   box_loss   cls_loss   dfl_loss  Instances       Size\n"
     ]
    },
    {
     "name": "stderr",
     "output_type": "stream",
     "text": [
      "     72/100      2.19G     0.9222     0.3803      1.032         23        640: 100%|██████████\n",
      "                 Class     Images  Instances      Box(P          R      mAP50  mAP50-95): 100%"
     ]
    },
    {
     "name": "stdout",
     "output_type": "stream",
     "text": [
      "                   all       1765       1840      0.986      0.968      0.988      0.725\n"
     ]
    },
    {
     "name": "stderr",
     "output_type": "stream",
     "text": [
      "\n"
     ]
    },
    {
     "name": "stdout",
     "output_type": "stream",
     "text": [
      "\n",
      "      Epoch    GPU_mem   box_loss   cls_loss   dfl_loss  Instances       Size\n"
     ]
    },
    {
     "name": "stderr",
     "output_type": "stream",
     "text": [
      "     73/100      2.19G     0.9211     0.3794      1.031         24        640: 100%|██████████\n",
      "                 Class     Images  Instances      Box(P          R      mAP50  mAP50-95): 100%"
     ]
    },
    {
     "name": "stdout",
     "output_type": "stream",
     "text": [
      "                   all       1765       1840      0.986      0.968      0.988      0.724\n"
     ]
    },
    {
     "name": "stderr",
     "output_type": "stream",
     "text": [
      "\n"
     ]
    },
    {
     "name": "stdout",
     "output_type": "stream",
     "text": [
      "\n",
      "      Epoch    GPU_mem   box_loss   cls_loss   dfl_loss  Instances       Size\n"
     ]
    },
    {
     "name": "stderr",
     "output_type": "stream",
     "text": [
      "     74/100      2.19G     0.9178     0.3767      1.029         27        640: 100%|██████████\n",
      "                 Class     Images  Instances      Box(P          R      mAP50  mAP50-95): 100%"
     ]
    },
    {
     "name": "stdout",
     "output_type": "stream",
     "text": [
      "                   all       1765       1840      0.986      0.968      0.988      0.724\n"
     ]
    },
    {
     "name": "stderr",
     "output_type": "stream",
     "text": [
      "\n"
     ]
    },
    {
     "name": "stdout",
     "output_type": "stream",
     "text": [
      "\n",
      "      Epoch    GPU_mem   box_loss   cls_loss   dfl_loss  Instances       Size\n"
     ]
    },
    {
     "name": "stderr",
     "output_type": "stream",
     "text": [
      "     75/100      2.19G     0.9141      0.376      1.029         26        640: 100%|██████████\n",
      "                 Class     Images  Instances      Box(P          R      mAP50  mAP50-95): 100%"
     ]
    },
    {
     "name": "stdout",
     "output_type": "stream",
     "text": [
      "                   all       1765       1840      0.987      0.968      0.988      0.724\n"
     ]
    },
    {
     "name": "stderr",
     "output_type": "stream",
     "text": [
      "\n"
     ]
    },
    {
     "name": "stdout",
     "output_type": "stream",
     "text": [
      "\n",
      "      Epoch    GPU_mem   box_loss   cls_loss   dfl_loss  Instances       Size\n"
     ]
    },
    {
     "name": "stderr",
     "output_type": "stream",
     "text": [
      "     76/100      2.19G      0.914     0.3743      1.028         31        640: 100%|██████████\n",
      "                 Class     Images  Instances      Box(P          R      mAP50  mAP50-95): 100%"
     ]
    },
    {
     "name": "stdout",
     "output_type": "stream",
     "text": [
      "                   all       1765       1840      0.986      0.968      0.988      0.724\n"
     ]
    },
    {
     "name": "stderr",
     "output_type": "stream",
     "text": [
      "\n"
     ]
    },
    {
     "name": "stdout",
     "output_type": "stream",
     "text": [
      "\n",
      "      Epoch    GPU_mem   box_loss   cls_loss   dfl_loss  Instances       Size\n"
     ]
    },
    {
     "name": "stderr",
     "output_type": "stream",
     "text": [
      "     77/100      2.19G     0.9052      0.371      1.026         29        640: 100%|██████████\n",
      "                 Class     Images  Instances      Box(P          R      mAP50  mAP50-95): 100%"
     ]
    },
    {
     "name": "stdout",
     "output_type": "stream",
     "text": [
      "                   all       1765       1840      0.986      0.968      0.987      0.724\n"
     ]
    },
    {
     "name": "stderr",
     "output_type": "stream",
     "text": [
      "\n"
     ]
    },
    {
     "name": "stdout",
     "output_type": "stream",
     "text": [
      "\n",
      "      Epoch    GPU_mem   box_loss   cls_loss   dfl_loss  Instances       Size\n"
     ]
    },
    {
     "name": "stderr",
     "output_type": "stream",
     "text": [
      "     78/100      2.19G     0.9043     0.3702      1.025         23        640: 100%|██████████\n",
      "                 Class     Images  Instances      Box(P          R      mAP50  mAP50-95): 100%"
     ]
    },
    {
     "name": "stdout",
     "output_type": "stream",
     "text": [
      "                   all       1765       1840      0.986      0.968      0.988      0.724\n"
     ]
    },
    {
     "name": "stderr",
     "output_type": "stream",
     "text": [
      "\n"
     ]
    },
    {
     "name": "stdout",
     "output_type": "stream",
     "text": [
      "\n",
      "      Epoch    GPU_mem   box_loss   cls_loss   dfl_loss  Instances       Size\n"
     ]
    },
    {
     "name": "stderr",
     "output_type": "stream",
     "text": [
      "     79/100      2.19G     0.9017     0.3693      1.021         24        640: 100%|██████████\n",
      "                 Class     Images  Instances      Box(P          R      mAP50  mAP50-95): 100%"
     ]
    },
    {
     "name": "stdout",
     "output_type": "stream",
     "text": [
      "                   all       1765       1840      0.986      0.968      0.988      0.724\n"
     ]
    },
    {
     "name": "stderr",
     "output_type": "stream",
     "text": [
      "\n"
     ]
    },
    {
     "name": "stdout",
     "output_type": "stream",
     "text": [
      "\n",
      "      Epoch    GPU_mem   box_loss   cls_loss   dfl_loss  Instances       Size\n"
     ]
    },
    {
     "name": "stderr",
     "output_type": "stream",
     "text": [
      "     80/100      2.19G     0.9021     0.3684      1.022         21        640: 100%|██████████\n",
      "                 Class     Images  Instances      Box(P          R      mAP50  mAP50-95): 100%"
     ]
    },
    {
     "name": "stdout",
     "output_type": "stream",
     "text": [
      "                   all       1765       1840      0.986      0.968      0.988      0.724\n"
     ]
    },
    {
     "name": "stderr",
     "output_type": "stream",
     "text": [
      "\n"
     ]
    },
    {
     "name": "stdout",
     "output_type": "stream",
     "text": [
      "\n",
      "      Epoch    GPU_mem   box_loss   cls_loss   dfl_loss  Instances       Size\n"
     ]
    },
    {
     "name": "stderr",
     "output_type": "stream",
     "text": [
      "     81/100      2.19G     0.9018     0.3679      1.022         35        640: 100%|██████████\n",
      "                 Class     Images  Instances      Box(P          R      mAP50  mAP50-95): 100%"
     ]
    },
    {
     "name": "stdout",
     "output_type": "stream",
     "text": [
      "                   all       1765       1840      0.986      0.968      0.988      0.724\n"
     ]
    },
    {
     "name": "stderr",
     "output_type": "stream",
     "text": [
      "\n"
     ]
    },
    {
     "name": "stdout",
     "output_type": "stream",
     "text": [
      "\n",
      "      Epoch    GPU_mem   box_loss   cls_loss   dfl_loss  Instances       Size\n"
     ]
    },
    {
     "name": "stderr",
     "output_type": "stream",
     "text": [
      "     82/100      2.19G     0.8918     0.3626       1.02         22        640: 100%|██████████\n",
      "                 Class     Images  Instances      Box(P          R      mAP50  mAP50-95): 100%"
     ]
    },
    {
     "name": "stdout",
     "output_type": "stream",
     "text": [
      "                   all       1765       1840      0.986      0.968      0.988      0.723\n"
     ]
    },
    {
     "name": "stderr",
     "output_type": "stream",
     "text": [
      "\n"
     ]
    },
    {
     "name": "stdout",
     "output_type": "stream",
     "text": [
      "\n",
      "      Epoch    GPU_mem   box_loss   cls_loss   dfl_loss  Instances       Size\n"
     ]
    },
    {
     "name": "stderr",
     "output_type": "stream",
     "text": [
      "     83/100      2.19G     0.8886     0.3623      1.016         31        640: 100%|██████████\n",
      "                 Class     Images  Instances      Box(P          R      mAP50  mAP50-95): 100%"
     ]
    },
    {
     "name": "stdout",
     "output_type": "stream",
     "text": [
      "                   all       1765       1840      0.986      0.968      0.988      0.723\n"
     ]
    },
    {
     "name": "stderr",
     "output_type": "stream",
     "text": [
      "\n"
     ]
    },
    {
     "name": "stdout",
     "output_type": "stream",
     "text": [
      "\n",
      "      Epoch    GPU_mem   box_loss   cls_loss   dfl_loss  Instances       Size\n"
     ]
    },
    {
     "name": "stderr",
     "output_type": "stream",
     "text": [
      "     84/100      2.19G     0.8873      0.359      1.016         35        640: 100%|██████████\n",
      "                 Class     Images  Instances      Box(P          R      mAP50  mAP50-95): 100%"
     ]
    },
    {
     "name": "stdout",
     "output_type": "stream",
     "text": [
      "                   all       1765       1840      0.987      0.968      0.988      0.723\n"
     ]
    },
    {
     "name": "stderr",
     "output_type": "stream",
     "text": [
      "\n"
     ]
    },
    {
     "name": "stdout",
     "output_type": "stream",
     "text": [
      "\n",
      "      Epoch    GPU_mem   box_loss   cls_loss   dfl_loss  Instances       Size\n"
     ]
    },
    {
     "name": "stderr",
     "output_type": "stream",
     "text": [
      "     85/100      2.19G     0.8814     0.3566      1.017         34        640: 100%|██████████\n",
      "                 Class     Images  Instances      Box(P          R      mAP50  mAP50-95): 100%"
     ]
    },
    {
     "name": "stdout",
     "output_type": "stream",
     "text": [
      "                   all       1765       1840      0.987      0.968      0.988      0.723\n"
     ]
    },
    {
     "name": "stderr",
     "output_type": "stream",
     "text": [
      "\n"
     ]
    },
    {
     "name": "stdout",
     "output_type": "stream",
     "text": [
      "\n",
      "      Epoch    GPU_mem   box_loss   cls_loss   dfl_loss  Instances       Size\n"
     ]
    },
    {
     "name": "stderr",
     "output_type": "stream",
     "text": [
      "     86/100      2.19G     0.8702     0.3521      1.012         28        640: 100%|██████████\n",
      "                 Class     Images  Instances      Box(P          R      mAP50  mAP50-95): 100%"
     ]
    },
    {
     "name": "stdout",
     "output_type": "stream",
     "text": [
      "                   all       1765       1840      0.987      0.968      0.988      0.723\n"
     ]
    },
    {
     "name": "stderr",
     "output_type": "stream",
     "text": [
      "\n"
     ]
    },
    {
     "name": "stdout",
     "output_type": "stream",
     "text": [
      "\n",
      "      Epoch    GPU_mem   box_loss   cls_loss   dfl_loss  Instances       Size\n"
     ]
    },
    {
     "name": "stderr",
     "output_type": "stream",
     "text": [
      "     87/100      2.19G      0.872     0.3531       1.01         20        640: 100%|██████████\n",
      "                 Class     Images  Instances      Box(P          R      mAP50  mAP50-95): 100%"
     ]
    },
    {
     "name": "stdout",
     "output_type": "stream",
     "text": [
      "                   all       1765       1840      0.987      0.968      0.988      0.722\n"
     ]
    },
    {
     "name": "stderr",
     "output_type": "stream",
     "text": [
      "\n"
     ]
    },
    {
     "name": "stdout",
     "output_type": "stream",
     "text": [
      "\n",
      "      Epoch    GPU_mem   box_loss   cls_loss   dfl_loss  Instances       Size\n"
     ]
    },
    {
     "name": "stderr",
     "output_type": "stream",
     "text": [
      "     88/100      2.19G     0.8667     0.3493      1.009         27        640: 100%|██████████\n",
      "                 Class     Images  Instances      Box(P          R      mAP50  mAP50-95): 100%"
     ]
    },
    {
     "name": "stdout",
     "output_type": "stream",
     "text": [
      "                   all       1765       1840      0.987      0.968      0.988      0.721\n"
     ]
    },
    {
     "name": "stderr",
     "output_type": "stream",
     "text": [
      "\n"
     ]
    },
    {
     "name": "stdout",
     "output_type": "stream",
     "text": [
      "\n",
      "      Epoch    GPU_mem   box_loss   cls_loss   dfl_loss  Instances       Size\n"
     ]
    },
    {
     "name": "stderr",
     "output_type": "stream",
     "text": [
      "     89/100      2.19G     0.8648     0.3493       1.01         29        640: 100%|██████████\n",
      "                 Class     Images  Instances      Box(P          R      mAP50  mAP50-95): 100%"
     ]
    },
    {
     "name": "stdout",
     "output_type": "stream",
     "text": [
      "                   all       1765       1840      0.987      0.968      0.988      0.721\n"
     ]
    },
    {
     "name": "stderr",
     "output_type": "stream",
     "text": [
      "\n"
     ]
    },
    {
     "name": "stdout",
     "output_type": "stream",
     "text": [
      "\n",
      "      Epoch    GPU_mem   box_loss   cls_loss   dfl_loss  Instances       Size\n"
     ]
    },
    {
     "name": "stderr",
     "output_type": "stream",
     "text": [
      "     90/100      2.19G     0.8665     0.3504      1.008         20        640: 100%|██████████\n",
      "                 Class     Images  Instances      Box(P          R      mAP50  mAP50-95): 100%"
     ]
    },
    {
     "name": "stdout",
     "output_type": "stream",
     "text": [
      "                   all       1765       1840      0.987      0.968      0.988      0.722\n"
     ]
    },
    {
     "name": "stderr",
     "output_type": "stream",
     "text": [
      "\n"
     ]
    },
    {
     "name": "stdout",
     "output_type": "stream",
     "text": [
      "Closing dataloader mosaic\n",
      "\n",
      "      Epoch    GPU_mem   box_loss   cls_loss   dfl_loss  Instances       Size\n"
     ]
    },
    {
     "name": "stderr",
     "output_type": "stream",
     "text": [
      "     91/100      2.19G      0.838     0.3062      1.023         17        640: 100%|██████████\n",
      "                 Class     Images  Instances      Box(P          R      mAP50  mAP50-95): 100%"
     ]
    },
    {
     "name": "stdout",
     "output_type": "stream",
     "text": [
      "                   all       1765       1840      0.987      0.968      0.988      0.722\n"
     ]
    },
    {
     "name": "stderr",
     "output_type": "stream",
     "text": [
      "\n"
     ]
    },
    {
     "name": "stdout",
     "output_type": "stream",
     "text": [
      "\n",
      "      Epoch    GPU_mem   box_loss   cls_loss   dfl_loss  Instances       Size\n"
     ]
    },
    {
     "name": "stderr",
     "output_type": "stream",
     "text": [
      "     92/100      2.19G     0.8246     0.3035      1.018         17        640: 100%|██████████\n",
      "                 Class     Images  Instances      Box(P          R      mAP50  mAP50-95): 100%"
     ]
    },
    {
     "name": "stdout",
     "output_type": "stream",
     "text": [
      "                   all       1765       1840      0.987      0.968      0.988      0.722\n"
     ]
    },
    {
     "name": "stderr",
     "output_type": "stream",
     "text": [
      "\n"
     ]
    },
    {
     "name": "stdout",
     "output_type": "stream",
     "text": [
      "\n",
      "      Epoch    GPU_mem   box_loss   cls_loss   dfl_loss  Instances       Size\n"
     ]
    },
    {
     "name": "stderr",
     "output_type": "stream",
     "text": [
      "     93/100      2.19G     0.8164     0.3018      1.013         17        640: 100%|██████████\n",
      "                 Class     Images  Instances      Box(P          R      mAP50  mAP50-95): 100%"
     ]
    },
    {
     "name": "stdout",
     "output_type": "stream",
     "text": [
      "                   all       1765       1840      0.988      0.968      0.988      0.723\n"
     ]
    },
    {
     "name": "stderr",
     "output_type": "stream",
     "text": [
      "\n"
     ]
    },
    {
     "name": "stdout",
     "output_type": "stream",
     "text": [
      "\n",
      "      Epoch    GPU_mem   box_loss   cls_loss   dfl_loss  Instances       Size\n"
     ]
    },
    {
     "name": "stderr",
     "output_type": "stream",
     "text": [
      "     94/100      2.19G     0.8145      0.298      1.012         16        640: 100%|██████████\n",
      "                 Class     Images  Instances      Box(P          R      mAP50  mAP50-95): 100%"
     ]
    },
    {
     "name": "stdout",
     "output_type": "stream",
     "text": [
      "                   all       1765       1840      0.987      0.968      0.988      0.722\n"
     ]
    },
    {
     "name": "stderr",
     "output_type": "stream",
     "text": [
      "\n"
     ]
    },
    {
     "name": "stdout",
     "output_type": "stream",
     "text": [
      "\n",
      "      Epoch    GPU_mem   box_loss   cls_loss   dfl_loss  Instances       Size\n"
     ]
    },
    {
     "name": "stderr",
     "output_type": "stream",
     "text": [
      "     95/100      2.19G     0.8072     0.2951      1.009         16        640: 100%|██████████\n",
      "                 Class     Images  Instances      Box(P          R      mAP50  mAP50-95): 100%"
     ]
    },
    {
     "name": "stdout",
     "output_type": "stream",
     "text": [
      "                   all       1765       1840      0.987      0.969      0.988      0.722\n"
     ]
    },
    {
     "name": "stderr",
     "output_type": "stream",
     "text": [
      "\n"
     ]
    },
    {
     "name": "stdout",
     "output_type": "stream",
     "text": [
      "\n",
      "      Epoch    GPU_mem   box_loss   cls_loss   dfl_loss  Instances       Size\n"
     ]
    },
    {
     "name": "stderr",
     "output_type": "stream",
     "text": [
      "     96/100      2.19G     0.8024     0.2938      1.006         19        640: 100%|██████████\n",
      "                 Class     Images  Instances      Box(P          R      mAP50  mAP50-95): 100%"
     ]
    },
    {
     "name": "stdout",
     "output_type": "stream",
     "text": [
      "                   all       1765       1840      0.987       0.97      0.988      0.722\n"
     ]
    },
    {
     "name": "stderr",
     "output_type": "stream",
     "text": [
      "\n"
     ]
    },
    {
     "name": "stdout",
     "output_type": "stream",
     "text": [
      "\n",
      "      Epoch    GPU_mem   box_loss   cls_loss   dfl_loss  Instances       Size\n"
     ]
    },
    {
     "name": "stderr",
     "output_type": "stream",
     "text": [
      "     97/100      2.19G     0.7969     0.2919      1.005         16        640: 100%|██████████\n",
      "                 Class     Images  Instances      Box(P          R      mAP50  mAP50-95): 100%"
     ]
    },
    {
     "name": "stdout",
     "output_type": "stream",
     "text": [
      "                   all       1765       1840      0.987       0.97      0.988      0.721\n"
     ]
    },
    {
     "name": "stderr",
     "output_type": "stream",
     "text": [
      "\n"
     ]
    },
    {
     "name": "stdout",
     "output_type": "stream",
     "text": [
      "\n",
      "      Epoch    GPU_mem   box_loss   cls_loss   dfl_loss  Instances       Size\n"
     ]
    },
    {
     "name": "stderr",
     "output_type": "stream",
     "text": [
      "     98/100      2.19G     0.7913     0.2911      1.001         17        640: 100%|██████████\n",
      "                 Class     Images  Instances      Box(P          R      mAP50  mAP50-95): 100%"
     ]
    },
    {
     "name": "stdout",
     "output_type": "stream",
     "text": [
      "                   all       1765       1840      0.987       0.97      0.988      0.722\n"
     ]
    },
    {
     "name": "stderr",
     "output_type": "stream",
     "text": [
      "\n"
     ]
    },
    {
     "name": "stdout",
     "output_type": "stream",
     "text": [
      "\n",
      "      Epoch    GPU_mem   box_loss   cls_loss   dfl_loss  Instances       Size\n"
     ]
    },
    {
     "name": "stderr",
     "output_type": "stream",
     "text": [
      "     99/100      2.19G     0.7849     0.2877     0.9973         16        640: 100%|██████████\n",
      "                 Class     Images  Instances      Box(P          R      mAP50  mAP50-95): 100%"
     ]
    },
    {
     "name": "stdout",
     "output_type": "stream",
     "text": [
      "                   all       1765       1840      0.988      0.969      0.988      0.722\n"
     ]
    },
    {
     "name": "stderr",
     "output_type": "stream",
     "text": [
      "\n"
     ]
    },
    {
     "name": "stdout",
     "output_type": "stream",
     "text": [
      "\n",
      "      Epoch    GPU_mem   box_loss   cls_loss   dfl_loss  Instances       Size\n"
     ]
    },
    {
     "name": "stderr",
     "output_type": "stream",
     "text": [
      "    100/100      2.19G     0.7842     0.2864      0.997         16        640: 100%|██████████\n",
      "                 Class     Images  Instances      Box(P          R      mAP50  mAP50-95): 100%"
     ]
    },
    {
     "name": "stdout",
     "output_type": "stream",
     "text": [
      "                   all       1765       1840      0.988      0.968      0.988      0.722\n"
     ]
    },
    {
     "name": "stderr",
     "output_type": "stream",
     "text": [
      "\n"
     ]
    },
    {
     "name": "stdout",
     "output_type": "stream",
     "text": [
      "\n",
      "100 epochs completed in 2.347 hours.\n",
      "Optimizer stripped from runs/detect/train/weights/last.pt, 6.3MB\n",
      "Optimizer stripped from runs/detect/train/weights/best.pt, 6.3MB\n",
      "\n",
      "Validating runs/detect/train/weights/best.pt...\n",
      "Ultralytics YOLOv8.2.3 🚀 Python-3.10.12 torch-2.3.0+cu121 CUDA:0 (NVIDIA GeForce RTX 3080, 10007MiB)\n",
      "Model summary (fused): 168 layers, 3005843 parameters, 0 gradients, 8.1 GFLOPs\n"
     ]
    },
    {
     "name": "stderr",
     "output_type": "stream",
     "text": [
      "/home/cameron/Documents/UBC Course Materials/2023W2/CPSC 440/license-plate-recognition/yolo/venv/lib/python3.10/site-packages/torch/nn/modules/conv.py:456: UserWarning: Plan failed with a cudnnException: CUDNN_BACKEND_EXECUTION_PLAN_DESCRIPTOR: cudnnFinalize Descriptor Failed cudnn_status: CUDNN_STATUS_NOT_SUPPORTED (Triggered internally at ../aten/src/ATen/native/cudnn/Conv_v8.cpp:919.)\n",
      "  return F.conv2d(input, weight, bias, self.stride,\n",
      "                 Class     Images  Instances      Box(P          R      mAP50  mAP50-95): 100%\n"
     ]
    },
    {
     "name": "stdout",
     "output_type": "stream",
     "text": [
      "                   all       1765       1840      0.982      0.971      0.988      0.726\n",
      "Speed: 0.1ms preprocess, 0.8ms inference, 0.0ms loss, 0.5ms postprocess per image\n",
      "Results saved to \u001b[1mruns/detect/train\u001b[0m\n"
     ]
    }
   ],
   "source": [
    "# Load a pretrained YOLO model (recommended for training)\n",
    "model = YOLO('yolov8n.pt')\n",
    "results = model.train(data='./data.yaml', epochs=100)"
   ]
  },
  {
   "cell_type": "code",
   "execution_count": 8,
   "id": "d4d7cfed-c026-4629-966b-370c5a6bceb5",
   "metadata": {},
   "outputs": [
    {
     "name": "stdout",
     "output_type": "stream",
     "text": [
      "The history saving thread hit an unexpected error (OperationalError('attempt to write a readonly database')).History will not be written to the database.\n",
      "Ultralytics YOLOv8.2.3 🚀 Python-3.10.12 torch-2.3.0+cu121 CUDA:0 (NVIDIA GeForce RTX 3080, 10007MiB)\n",
      "Model summary (fused): 168 layers, 3005843 parameters, 0 gradients, 8.1 GFLOPs\n"
     ]
    },
    {
     "name": "stderr",
     "output_type": "stream",
     "text": [
      "\u001b[34m\u001b[1mval: \u001b[0mScanning /home/cameron/Documents/UBC Course Materials/2023W2/CPSC 440/Project/yolo/yolov8\u001b[0m\n",
      "                 Class     Images  Instances      Box(P          R      mAP50  mAP50-95):   0%/home/cameron/Documents/UBC Course Materials/2023W2/CPSC 440/license-plate-recognition/yolo/venv/lib/python3.10/site-packages/torch/nn/modules/conv.py:456: UserWarning: Plan failed with a cudnnException: CUDNN_BACKEND_EXECUTION_PLAN_DESCRIPTOR: cudnnFinalize Descriptor Failed cudnn_status: CUDNN_STATUS_NOT_SUPPORTED (Triggered internally at ../aten/src/ATen/native/cudnn/Conv_v8.cpp:919.)\n",
      "  return F.conv2d(input, weight, bias, self.stride,\n",
      "                 Class     Images  Instances      Box(P          R      mAP50  mAP50-95): 100%\n"
     ]
    },
    {
     "name": "stdout",
     "output_type": "stream",
     "text": [
      "                   all       1765       1840      0.982      0.971      0.988      0.726\n",
      "Speed: 0.1ms preprocess, 1.5ms inference, 0.0ms loss, 0.5ms postprocess per image\n",
      "Results saved to \u001b[1mruns/detect/train2\u001b[0m\n",
      "Ultralytics YOLOv8.2.3 🚀 Python-3.10.12 torch-2.3.0+cu121 CPU (AMD Ryzen 7 5800X 8-Core Processor)\n",
      "\n",
      "\u001b[34m\u001b[1mPyTorch:\u001b[0m starting from 'runs/detect/train/weights/best.pt' with input shape (1, 3, 640, 640) BCHW and output shape(s) (1, 5, 8400) (6.0 MB)\n",
      "\u001b[31m\u001b[1mrequirements:\u001b[0m Ultralytics requirement ['onnx>=1.12.0'] not found, attempting AutoUpdate...\n",
      "Collecting onnx>=1.12.0\n",
      "  Downloading onnx-1.16.0-cp310-cp310-manylinux_2_17_x86_64.manylinux2014_x86_64.whl (15.9 MB)\n",
      "     ━━━━━━━━━━━━━━━━━━━━━━━━━━━━━━━━━━━━━━━━ 15.9/15.9 MB 9.2 MB/s eta 0:00:00\n",
      "Requirement already satisfied: numpy>=1.20 in ./venv/lib/python3.10/site-packages (from onnx>=1.12.0) (1.26.4)\n",
      "Collecting protobuf>=3.20.2\n",
      "  Downloading protobuf-5.26.1-cp37-abi3-manylinux2014_x86_64.whl (302 kB)\n",
      "     ━━━━━━━━━━━━━━━━━━━━━━━━━━━━━━━━━━━━━━ 302.8/302.8 KB 11.8 MB/s eta 0:00:00\n",
      "Installing collected packages: protobuf, onnx\n",
      "Successfully installed onnx-1.16.0 protobuf-5.26.1\n",
      "\n",
      "\u001b[31m\u001b[1mrequirements:\u001b[0m AutoUpdate success ✅ 5.5s, installed 1 package: ['onnx>=1.12.0']\n",
      "\u001b[31m\u001b[1mrequirements:\u001b[0m ⚠️ \u001b[1mRestart runtime or rerun command for updates to take effect\u001b[0m\n",
      "\n",
      "\n",
      "\u001b[34m\u001b[1mONNX:\u001b[0m starting export with onnx 1.16.0 opset 17...\n",
      "\u001b[34m\u001b[1mONNX:\u001b[0m export success ✅ 6.0s, saved as 'runs/detect/train/weights/best.onnx' (11.5 MB)\n",
      "\n",
      "Export complete (7.2s)\n",
      "Results saved to \u001b[1m/home/cameron/Documents/UBC Course Materials/2023W2/CPSC 440/license-plate-recognition/yolo/runs/detect/train/weights\u001b[0m\n",
      "Predict:         yolo predict task=detect model=runs/detect/train/weights/best.onnx imgsz=640  \n",
      "Validate:        yolo val task=detect model=runs/detect/train/weights/best.onnx imgsz=640 data=./data.yaml  \n",
      "Visualize:       https://netron.app\n"
     ]
    },
    {
     "data": {
      "text/plain": [
       "'runs/detect/train/weights/best.onnx'"
      ]
     },
     "execution_count": 8,
     "metadata": {},
     "output_type": "execute_result"
    }
   ],
   "source": [
    "model.val()  # It'll automatically evaluate the data you trained.\n",
    "model.export(format='onnx', dynamic=True)"
   ]
  },
  {
   "cell_type": "markdown",
   "id": "2aa72ede-a49c-4cb2-a088-592522d96a4d",
   "metadata": {},
   "source": [
    "## Evaluate Test Data\n",
    "\n",
    "Here we validate the model on the test data. The results are stored in `./runs/detect/val`"
   ]
  },
  {
   "cell_type": "code",
   "execution_count": 8,
   "id": "1054bcb7-5bfd-4b6e-a170-05bfb58eb222",
   "metadata": {},
   "outputs": [],
   "source": [
    "# Load the exported ONNX model\n",
    "onnx_model = YOLO('./runs/detect/train/weights/best.onnx')"
   ]
  },
  {
   "cell_type": "code",
   "execution_count": 9,
   "id": "25f0f482-f699-4a28-be28-008e14c3a422",
   "metadata": {},
   "outputs": [
    {
     "name": "stdout",
     "output_type": "stream",
     "text": [
      "Ultralytics YOLOv8.2.3 🚀 Python-3.10.12 torch-2.3.0+cu121 CUDA:0 (NVIDIA GeForce RTX 3080, 10007MiB)\n",
      "Loading runs/detect/train/weights/best.onnx for ONNX Runtime inference...\n",
      "Forcing batch=1 square inference (1,3,640,640) for non-PyTorch models\n"
     ]
    },
    {
     "name": "stderr",
     "output_type": "stream",
     "text": [
      "\u001b[34m\u001b[1mval: \u001b[0mScanning /home/cameron/Documents/UBC Course Materials/2023W2/CPSC 440/Project/yolo/yolov8\u001b[0m"
     ]
    },
    {
     "name": "stdout",
     "output_type": "stream",
     "text": [
      "\u001b[34m\u001b[1mval: \u001b[0mNew cache created: /home/cameron/Documents/UBC Course Materials/2023W2/CPSC 440/Project/yolo/yolov8-new_dataset/data_images/test/labels.cache\n"
     ]
    },
    {
     "name": "stderr",
     "output_type": "stream",
     "text": [
      "\n",
      "                 Class     Images  Instances      Box(P          R      mAP50  mAP50-95): 100%\n"
     ]
    },
    {
     "name": "stdout",
     "output_type": "stream",
     "text": [
      "                   all        882        902      0.989      0.976       0.99      0.734\n",
      "Speed: 0.2ms preprocess, 5.3ms inference, 0.0ms loss, 1.4ms postprocess per image\n",
      "Results saved to \u001b[1mruns/detect/val\u001b[0m\n"
     ]
    },
    {
     "data": {
      "text/plain": [
       "ultralytics.utils.metrics.DetMetrics object with attributes:\n",
       "\n",
       "ap_class_index: array([0])\n",
       "box: ultralytics.utils.metrics.Metric object\n",
       "confusion_matrix: <ultralytics.utils.metrics.ConfusionMatrix object at 0x74f3f11f0070>\n",
       "curves: ['Precision-Recall(B)', 'F1-Confidence(B)', 'Precision-Confidence(B)', 'Recall-Confidence(B)']\n",
       "curves_results: [[array([          0,    0.001001,    0.002002,    0.003003,    0.004004,    0.005005,    0.006006,    0.007007,    0.008008,    0.009009,     0.01001,    0.011011,    0.012012,    0.013013,    0.014014,    0.015015,    0.016016,    0.017017,    0.018018,    0.019019,     0.02002,    0.021021,    0.022022,    0.023023,\n",
       "          0.024024,    0.025025,    0.026026,    0.027027,    0.028028,    0.029029,     0.03003,    0.031031,    0.032032,    0.033033,    0.034034,    0.035035,    0.036036,    0.037037,    0.038038,    0.039039,     0.04004,    0.041041,    0.042042,    0.043043,    0.044044,    0.045045,    0.046046,    0.047047,\n",
       "          0.048048,    0.049049,     0.05005,    0.051051,    0.052052,    0.053053,    0.054054,    0.055055,    0.056056,    0.057057,    0.058058,    0.059059,     0.06006,    0.061061,    0.062062,    0.063063,    0.064064,    0.065065,    0.066066,    0.067067,    0.068068,    0.069069,     0.07007,    0.071071,\n",
       "          0.072072,    0.073073,    0.074074,    0.075075,    0.076076,    0.077077,    0.078078,    0.079079,     0.08008,    0.081081,    0.082082,    0.083083,    0.084084,    0.085085,    0.086086,    0.087087,    0.088088,    0.089089,     0.09009,    0.091091,    0.092092,    0.093093,    0.094094,    0.095095,\n",
       "          0.096096,    0.097097,    0.098098,    0.099099,      0.1001,      0.1011,      0.1021,      0.1031,      0.1041,     0.10511,     0.10611,     0.10711,     0.10811,     0.10911,     0.11011,     0.11111,     0.11211,     0.11311,     0.11411,     0.11512,     0.11612,     0.11712,     0.11812,     0.11912,\n",
       "           0.12012,     0.12112,     0.12212,     0.12312,     0.12412,     0.12513,     0.12613,     0.12713,     0.12813,     0.12913,     0.13013,     0.13113,     0.13213,     0.13313,     0.13413,     0.13514,     0.13614,     0.13714,     0.13814,     0.13914,     0.14014,     0.14114,     0.14214,     0.14314,\n",
       "           0.14414,     0.14515,     0.14615,     0.14715,     0.14815,     0.14915,     0.15015,     0.15115,     0.15215,     0.15315,     0.15415,     0.15516,     0.15616,     0.15716,     0.15816,     0.15916,     0.16016,     0.16116,     0.16216,     0.16316,     0.16416,     0.16517,     0.16617,     0.16717,\n",
       "           0.16817,     0.16917,     0.17017,     0.17117,     0.17217,     0.17317,     0.17417,     0.17518,     0.17618,     0.17718,     0.17818,     0.17918,     0.18018,     0.18118,     0.18218,     0.18318,     0.18418,     0.18519,     0.18619,     0.18719,     0.18819,     0.18919,     0.19019,     0.19119,\n",
       "           0.19219,     0.19319,     0.19419,      0.1952,      0.1962,      0.1972,      0.1982,      0.1992,      0.2002,      0.2012,      0.2022,      0.2032,      0.2042,     0.20521,     0.20621,     0.20721,     0.20821,     0.20921,     0.21021,     0.21121,     0.21221,     0.21321,     0.21421,     0.21522,\n",
       "           0.21622,     0.21722,     0.21822,     0.21922,     0.22022,     0.22122,     0.22222,     0.22322,     0.22422,     0.22523,     0.22623,     0.22723,     0.22823,     0.22923,     0.23023,     0.23123,     0.23223,     0.23323,     0.23423,     0.23524,     0.23624,     0.23724,     0.23824,     0.23924,\n",
       "           0.24024,     0.24124,     0.24224,     0.24324,     0.24424,     0.24525,     0.24625,     0.24725,     0.24825,     0.24925,     0.25025,     0.25125,     0.25225,     0.25325,     0.25425,     0.25526,     0.25626,     0.25726,     0.25826,     0.25926,     0.26026,     0.26126,     0.26226,     0.26326,\n",
       "           0.26426,     0.26527,     0.26627,     0.26727,     0.26827,     0.26927,     0.27027,     0.27127,     0.27227,     0.27327,     0.27427,     0.27528,     0.27628,     0.27728,     0.27828,     0.27928,     0.28028,     0.28128,     0.28228,     0.28328,     0.28428,     0.28529,     0.28629,     0.28729,\n",
       "           0.28829,     0.28929,     0.29029,     0.29129,     0.29229,     0.29329,     0.29429,      0.2953,      0.2963,      0.2973,      0.2983,      0.2993,      0.3003,      0.3013,      0.3023,      0.3033,      0.3043,     0.30531,     0.30631,     0.30731,     0.30831,     0.30931,     0.31031,     0.31131,\n",
       "           0.31231,     0.31331,     0.31431,     0.31532,     0.31632,     0.31732,     0.31832,     0.31932,     0.32032,     0.32132,     0.32232,     0.32332,     0.32432,     0.32533,     0.32633,     0.32733,     0.32833,     0.32933,     0.33033,     0.33133,     0.33233,     0.33333,     0.33433,     0.33534,\n",
       "           0.33634,     0.33734,     0.33834,     0.33934,     0.34034,     0.34134,     0.34234,     0.34334,     0.34434,     0.34535,     0.34635,     0.34735,     0.34835,     0.34935,     0.35035,     0.35135,     0.35235,     0.35335,     0.35435,     0.35536,     0.35636,     0.35736,     0.35836,     0.35936,\n",
       "           0.36036,     0.36136,     0.36236,     0.36336,     0.36436,     0.36537,     0.36637,     0.36737,     0.36837,     0.36937,     0.37037,     0.37137,     0.37237,     0.37337,     0.37437,     0.37538,     0.37638,     0.37738,     0.37838,     0.37938,     0.38038,     0.38138,     0.38238,     0.38338,\n",
       "           0.38438,     0.38539,     0.38639,     0.38739,     0.38839,     0.38939,     0.39039,     0.39139,     0.39239,     0.39339,     0.39439,      0.3954,      0.3964,      0.3974,      0.3984,      0.3994,      0.4004,      0.4014,      0.4024,      0.4034,      0.4044,     0.40541,     0.40641,     0.40741,\n",
       "           0.40841,     0.40941,     0.41041,     0.41141,     0.41241,     0.41341,     0.41441,     0.41542,     0.41642,     0.41742,     0.41842,     0.41942,     0.42042,     0.42142,     0.42242,     0.42342,     0.42442,     0.42543,     0.42643,     0.42743,     0.42843,     0.42943,     0.43043,     0.43143,\n",
       "           0.43243,     0.43343,     0.43443,     0.43544,     0.43644,     0.43744,     0.43844,     0.43944,     0.44044,     0.44144,     0.44244,     0.44344,     0.44444,     0.44545,     0.44645,     0.44745,     0.44845,     0.44945,     0.45045,     0.45145,     0.45245,     0.45345,     0.45445,     0.45546,\n",
       "           0.45646,     0.45746,     0.45846,     0.45946,     0.46046,     0.46146,     0.46246,     0.46346,     0.46446,     0.46547,     0.46647,     0.46747,     0.46847,     0.46947,     0.47047,     0.47147,     0.47247,     0.47347,     0.47447,     0.47548,     0.47648,     0.47748,     0.47848,     0.47948,\n",
       "           0.48048,     0.48148,     0.48248,     0.48348,     0.48448,     0.48549,     0.48649,     0.48749,     0.48849,     0.48949,     0.49049,     0.49149,     0.49249,     0.49349,     0.49449,      0.4955,      0.4965,      0.4975,      0.4985,      0.4995,      0.5005,      0.5015,      0.5025,      0.5035,\n",
       "            0.5045,     0.50551,     0.50651,     0.50751,     0.50851,     0.50951,     0.51051,     0.51151,     0.51251,     0.51351,     0.51451,     0.51552,     0.51652,     0.51752,     0.51852,     0.51952,     0.52052,     0.52152,     0.52252,     0.52352,     0.52452,     0.52553,     0.52653,     0.52753,\n",
       "           0.52853,     0.52953,     0.53053,     0.53153,     0.53253,     0.53353,     0.53453,     0.53554,     0.53654,     0.53754,     0.53854,     0.53954,     0.54054,     0.54154,     0.54254,     0.54354,     0.54454,     0.54555,     0.54655,     0.54755,     0.54855,     0.54955,     0.55055,     0.55155,\n",
       "           0.55255,     0.55355,     0.55455,     0.55556,     0.55656,     0.55756,     0.55856,     0.55956,     0.56056,     0.56156,     0.56256,     0.56356,     0.56456,     0.56557,     0.56657,     0.56757,     0.56857,     0.56957,     0.57057,     0.57157,     0.57257,     0.57357,     0.57457,     0.57558,\n",
       "           0.57658,     0.57758,     0.57858,     0.57958,     0.58058,     0.58158,     0.58258,     0.58358,     0.58458,     0.58559,     0.58659,     0.58759,     0.58859,     0.58959,     0.59059,     0.59159,     0.59259,     0.59359,     0.59459,      0.5956,      0.5966,      0.5976,      0.5986,      0.5996,\n",
       "            0.6006,      0.6016,      0.6026,      0.6036,      0.6046,     0.60561,     0.60661,     0.60761,     0.60861,     0.60961,     0.61061,     0.61161,     0.61261,     0.61361,     0.61461,     0.61562,     0.61662,     0.61762,     0.61862,     0.61962,     0.62062,     0.62162,     0.62262,     0.62362,\n",
       "           0.62462,     0.62563,     0.62663,     0.62763,     0.62863,     0.62963,     0.63063,     0.63163,     0.63263,     0.63363,     0.63463,     0.63564,     0.63664,     0.63764,     0.63864,     0.63964,     0.64064,     0.64164,     0.64264,     0.64364,     0.64464,     0.64565,     0.64665,     0.64765,\n",
       "           0.64865,     0.64965,     0.65065,     0.65165,     0.65265,     0.65365,     0.65465,     0.65566,     0.65666,     0.65766,     0.65866,     0.65966,     0.66066,     0.66166,     0.66266,     0.66366,     0.66466,     0.66567,     0.66667,     0.66767,     0.66867,     0.66967,     0.67067,     0.67167,\n",
       "           0.67267,     0.67367,     0.67467,     0.67568,     0.67668,     0.67768,     0.67868,     0.67968,     0.68068,     0.68168,     0.68268,     0.68368,     0.68468,     0.68569,     0.68669,     0.68769,     0.68869,     0.68969,     0.69069,     0.69169,     0.69269,     0.69369,     0.69469,      0.6957,\n",
       "            0.6967,      0.6977,      0.6987,      0.6997,      0.7007,      0.7017,      0.7027,      0.7037,      0.7047,     0.70571,     0.70671,     0.70771,     0.70871,     0.70971,     0.71071,     0.71171,     0.71271,     0.71371,     0.71471,     0.71572,     0.71672,     0.71772,     0.71872,     0.71972,\n",
       "           0.72072,     0.72172,     0.72272,     0.72372,     0.72472,     0.72573,     0.72673,     0.72773,     0.72873,     0.72973,     0.73073,     0.73173,     0.73273,     0.73373,     0.73473,     0.73574,     0.73674,     0.73774,     0.73874,     0.73974,     0.74074,     0.74174,     0.74274,     0.74374,\n",
       "           0.74474,     0.74575,     0.74675,     0.74775,     0.74875,     0.74975,     0.75075,     0.75175,     0.75275,     0.75375,     0.75475,     0.75576,     0.75676,     0.75776,     0.75876,     0.75976,     0.76076,     0.76176,     0.76276,     0.76376,     0.76476,     0.76577,     0.76677,     0.76777,\n",
       "           0.76877,     0.76977,     0.77077,     0.77177,     0.77277,     0.77377,     0.77477,     0.77578,     0.77678,     0.77778,     0.77878,     0.77978,     0.78078,     0.78178,     0.78278,     0.78378,     0.78478,     0.78579,     0.78679,     0.78779,     0.78879,     0.78979,     0.79079,     0.79179,\n",
       "           0.79279,     0.79379,     0.79479,      0.7958,      0.7968,      0.7978,      0.7988,      0.7998,      0.8008,      0.8018,      0.8028,      0.8038,      0.8048,     0.80581,     0.80681,     0.80781,     0.80881,     0.80981,     0.81081,     0.81181,     0.81281,     0.81381,     0.81481,     0.81582,\n",
       "           0.81682,     0.81782,     0.81882,     0.81982,     0.82082,     0.82182,     0.82282,     0.82382,     0.82482,     0.82583,     0.82683,     0.82783,     0.82883,     0.82983,     0.83083,     0.83183,     0.83283,     0.83383,     0.83483,     0.83584,     0.83684,     0.83784,     0.83884,     0.83984,\n",
       "           0.84084,     0.84184,     0.84284,     0.84384,     0.84484,     0.84585,     0.84685,     0.84785,     0.84885,     0.84985,     0.85085,     0.85185,     0.85285,     0.85385,     0.85485,     0.85586,     0.85686,     0.85786,     0.85886,     0.85986,     0.86086,     0.86186,     0.86286,     0.86386,\n",
       "           0.86486,     0.86587,     0.86687,     0.86787,     0.86887,     0.86987,     0.87087,     0.87187,     0.87287,     0.87387,     0.87487,     0.87588,     0.87688,     0.87788,     0.87888,     0.87988,     0.88088,     0.88188,     0.88288,     0.88388,     0.88488,     0.88589,     0.88689,     0.88789,\n",
       "           0.88889,     0.88989,     0.89089,     0.89189,     0.89289,     0.89389,     0.89489,      0.8959,      0.8969,      0.8979,      0.8989,      0.8999,      0.9009,      0.9019,      0.9029,      0.9039,      0.9049,     0.90591,     0.90691,     0.90791,     0.90891,     0.90991,     0.91091,     0.91191,\n",
       "           0.91291,     0.91391,     0.91491,     0.91592,     0.91692,     0.91792,     0.91892,     0.91992,     0.92092,     0.92192,     0.92292,     0.92392,     0.92492,     0.92593,     0.92693,     0.92793,     0.92893,     0.92993,     0.93093,     0.93193,     0.93293,     0.93393,     0.93493,     0.93594,\n",
       "           0.93694,     0.93794,     0.93894,     0.93994,     0.94094,     0.94194,     0.94294,     0.94394,     0.94494,     0.94595,     0.94695,     0.94795,     0.94895,     0.94995,     0.95095,     0.95195,     0.95295,     0.95395,     0.95495,     0.95596,     0.95696,     0.95796,     0.95896,     0.95996,\n",
       "           0.96096,     0.96196,     0.96296,     0.96396,     0.96496,     0.96597,     0.96697,     0.96797,     0.96897,     0.96997,     0.97097,     0.97197,     0.97297,     0.97397,     0.97497,     0.97598,     0.97698,     0.97798,     0.97898,     0.97998,     0.98098,     0.98198,     0.98298,     0.98398,\n",
       "           0.98498,     0.98599,     0.98699,     0.98799,     0.98899,     0.98999,     0.99099,     0.99199,     0.99299,     0.99399,     0.99499,       0.996,       0.997,       0.998,       0.999,           1]), array([[          1,           1,           1,           1,           1,           1,           1,           1,           1,           1,           1,           1,           1,           1,           1,           1,           1,           1,           1,           1,           1,           1,           1,\n",
       "                  1,           1,           1,           1,           1,           1,           1,           1,           1,           1,           1,           1,           1,           1,           1,           1,           1,           1,           1,           1,           1,           1,           1,\n",
       "                  1,           1,           1,           1,           1,           1,           1,           1,           1,           1,           1,           1,           1,           1,           1,           1,           1,           1,           1,           1,           1,           1,           1,\n",
       "                  1,           1,           1,           1,           1,           1,           1,           1,           1,           1,           1,           1,           1,           1,           1,           1,           1,           1,           1,           1,           1,           1,           1,\n",
       "                  1,           1,           1,           1,           1,           1,           1,           1,           1,           1,           1,           1,           1,           1,           1,           1,           1,           1,           1,           1,           1,           1,           1,\n",
       "                  1,           1,           1,           1,           1,           1,           1,           1,           1,           1,           1,           1,           1,           1,           1,           1,           1,           1,           1,           1,           1,           1,           1,\n",
       "                  1,           1,           1,           1,           1,           1,           1,           1,           1,           1,           1,           1,           1,           1,           1,           1,           1,           1,           1,           1,           1,           1,           1,\n",
       "                  1,           1,           1,           1,           1,           1,           1,           1,           1,           1,           1,           1,           1,           1,           1,           1,           1,           1,           1,           1,           1,           1,           1,\n",
       "                  1,           1,           1,           1,           1,           1,           1,           1,           1,           1,           1,           1,           1,           1,           1,           1,           1,           1,           1,           1,           1,           1,           1,\n",
       "                  1,           1,           1,           1,           1,           1,           1,           1,           1,           1,           1,           1,           1,           1,           1,           1,           1,           1,           1,           1,           1,           1,           1,\n",
       "                  1,           1,           1,           1,           1,           1,           1,           1,           1,           1,           1,           1,           1,           1,           1,           1,           1,           1,           1,           1,           1,           1,           1,\n",
       "                  1,           1,           1,           1,           1,           1,           1,           1,           1,           1,           1,           1,           1,           1,           1,           1,           1,           1,           1,           1,           1,           1,           1,\n",
       "                  1,           1,           1,           1,           1,           1,           1,           1,           1,           1,           1,           1,           1,           1,           1,           1,           1,           1,           1,           1,           1,           1,           1,\n",
       "                  1,           1,           1,           1,           1,           1,           1,           1,           1,           1,           1,           1,           1,           1,           1,           1,           1,           1,           1,           1,           1,           1,           1,\n",
       "                  1,           1,           1,           1,           1,           1,           1,           1,           1,           1,           1,           1,           1,           1,           1,           1,           1,           1,           1,           1,           1,           1,           1,\n",
       "                  1,           1,           1,           1,           1,           1,           1,           1,           1,           1,           1,           1,           1,           1,     0.99793,     0.99793,     0.99793,     0.99793,     0.99793,     0.99793,     0.99793,     0.99793,     0.99793,\n",
       "            0.99793,     0.99793,     0.99793,     0.99793,     0.99793,     0.99793,     0.99793,     0.99793,     0.99793,     0.99793,     0.99793,     0.99793,     0.99793,     0.99793,     0.99793,     0.99793,     0.99793,     0.99793,     0.99793,     0.99793,     0.99793,     0.99793,     0.99793,\n",
       "            0.99793,     0.99793,     0.99793,     0.99793,     0.99793,     0.99793,     0.99793,     0.99793,     0.99793,     0.99793,     0.99793,     0.99793,     0.99793,     0.99793,     0.99793,     0.99793,     0.99793,     0.99793,     0.99793,     0.99793,     0.99793,     0.99793,     0.99793,\n",
       "            0.99793,     0.99793,     0.99793,     0.99793,     0.99793,     0.99793,     0.99793,     0.99793,     0.99793,     0.99793,     0.99793,     0.99793,     0.99793,     0.99793,     0.99793,     0.99793,     0.99793,     0.99793,     0.99793,     0.99793,     0.99793,     0.99793,     0.99793,\n",
       "            0.99793,     0.99793,     0.99793,     0.99793,     0.99793,     0.99793,     0.99793,     0.99793,     0.99793,     0.99793,     0.99793,     0.99793,     0.99793,     0.99793,     0.99793,     0.99793,     0.99793,     0.99793,     0.99793,     0.99793,     0.99793,     0.99793,     0.99793,\n",
       "            0.99793,     0.99793,     0.99793,     0.99793,     0.99793,     0.99793,     0.99793,     0.99793,     0.99793,     0.99793,     0.99793,     0.99793,     0.99793,     0.99793,     0.99793,     0.99793,     0.99793,     0.99793,     0.99793,     0.99793,     0.99793,     0.99793,     0.99793,\n",
       "            0.99793,     0.99793,     0.99793,     0.99793,     0.99793,     0.99793,     0.99793,     0.99793,     0.99793,     0.99793,     0.99793,     0.99793,     0.99793,     0.99793,     0.99793,     0.99793,     0.99793,     0.99793,     0.99793,     0.99793,     0.99793,     0.99793,     0.99793,\n",
       "            0.99793,     0.99793,     0.99793,     0.99793,     0.99793,     0.99793,     0.99793,     0.99793,     0.99793,     0.99793,     0.99793,     0.99793,     0.99793,     0.99793,     0.99793,     0.99793,     0.99793,     0.99793,     0.99793,     0.99793,     0.99793,     0.99793,     0.99793,\n",
       "            0.99793,     0.99793,     0.99793,     0.99793,     0.99793,     0.99736,     0.99736,     0.99736,     0.99736,     0.99736,     0.99736,     0.99736,     0.99736,     0.99736,     0.99736,     0.99736,     0.99736,     0.99736,     0.99736,     0.99736,     0.99736,     0.99736,     0.99736,\n",
       "            0.99736,     0.99736,     0.99736,     0.99736,     0.99736,     0.99736,     0.99736,     0.99736,     0.99736,     0.99736,     0.99736,     0.99736,     0.99736,     0.99736,     0.99736,     0.99736,     0.99736,     0.99736,     0.99736,     0.99736,     0.99736,     0.99736,     0.99736,\n",
       "            0.99736,     0.99736,     0.99736,     0.99736,     0.99736,     0.99736,     0.99736,     0.99736,     0.99736,     0.99736,     0.99736,     0.99736,     0.99736,     0.99736,     0.99736,     0.99736,     0.99736,     0.99736,     0.99736,     0.99736,     0.99736,     0.99736,     0.99736,\n",
       "            0.99736,     0.99736,     0.99736,     0.99736,     0.99736,     0.99736,     0.99736,     0.99736,     0.99736,     0.99736,     0.99736,     0.99736,     0.99736,     0.99736,     0.99736,     0.99736,     0.99736,     0.99736,     0.99736,     0.99736,     0.99736,     0.99736,     0.99736,\n",
       "            0.99736,     0.99736,     0.99736,     0.99736,     0.99736,     0.99736,     0.99736,     0.99736,     0.99736,     0.99736,     0.99736,     0.99736,     0.99736,     0.99736,     0.99736,     0.99736,     0.99736,     0.99736,     0.99736,     0.99736,     0.99736,     0.99736,     0.99736,\n",
       "            0.99736,     0.99736,     0.99736,     0.99736,     0.99736,     0.99736,     0.99736,     0.99736,     0.99736,     0.99736,     0.99736,     0.99736,     0.99736,     0.99736,     0.99736,     0.99736,     0.99736,     0.99736,     0.99736,     0.99736,     0.99736,     0.99736,     0.99736,\n",
       "            0.99736,     0.99736,     0.99736,     0.99736,     0.99736,     0.99736,     0.99736,     0.99736,     0.99736,     0.99736,     0.99736,     0.99736,     0.99736,     0.99736,     0.99736,     0.99736,     0.99736,     0.99736,     0.99736,     0.99736,     0.99736,     0.99736,     0.99736,\n",
       "            0.99736,     0.99736,     0.99736,     0.99736,     0.99736,     0.99736,     0.99736,     0.99736,     0.99736,     0.99736,     0.99736,     0.99736,     0.99736,     0.99736,     0.99736,     0.99736,     0.99736,     0.99736,     0.99736,     0.99736,     0.99736,     0.99736,     0.99736,\n",
       "            0.99736,     0.99736,     0.99736,     0.99736,     0.99736,     0.99736,     0.99736,     0.99736,     0.99736,     0.99736,     0.99736,     0.99736,     0.99736,     0.99736,     0.99736,     0.99736,     0.99736,     0.99736,     0.99736,     0.99736,     0.99736,     0.99736,     0.99736,\n",
       "            0.99736,     0.99736,     0.99736,     0.99736,     0.99736,     0.99736,     0.99736,     0.99736,     0.99736,     0.99736,     0.99736,     0.99736,     0.99736,     0.99736,     0.99736,     0.99736,     0.99736,     0.99736,     0.99736,     0.99736,     0.99736,     0.99736,     0.99736,\n",
       "            0.99736,     0.99736,     0.99736,     0.99736,     0.99736,     0.99736,     0.99736,     0.99736,     0.99736,     0.99736,     0.99736,     0.99736,     0.99736,     0.99736,     0.99736,     0.99736,     0.99736,     0.99736,     0.99736,     0.99736,     0.99736,     0.99736,     0.99736,\n",
       "            0.99736,     0.99736,     0.99736,     0.99736,     0.99736,     0.99736,     0.99736,     0.99736,     0.99736,     0.99736,     0.99736,     0.99736,     0.99736,     0.99736,     0.99736,     0.99736,     0.99736,     0.99736,     0.99736,     0.99736,     0.99736,     0.99736,     0.99736,\n",
       "            0.99736,     0.99736,     0.99736,     0.99736,     0.99736,     0.99736,     0.99736,     0.99736,     0.99736,     0.99736,     0.99736,     0.99736,     0.99736,     0.99736,     0.99736,     0.99736,     0.99736,     0.99736,     0.99736,     0.99736,     0.99736,     0.99736,     0.99736,\n",
       "            0.99736,     0.99736,     0.99736,     0.99736,     0.99736,     0.99736,     0.99736,     0.99736,     0.99736,     0.99658,     0.99658,     0.99658,     0.99658,     0.99658,     0.99658,     0.99658,     0.99658,     0.99658,     0.99658,     0.99658,     0.99658,     0.99658,     0.99658,\n",
       "            0.99658,     0.99658,     0.99658,     0.99658,     0.99658,     0.99658,     0.99658,     0.99658,     0.99658,     0.99658,     0.99658,     0.99658,     0.99658,     0.99658,     0.99658,     0.99658,     0.99658,     0.99658,     0.99658,     0.99658,     0.99658,     0.99658,     0.99658,\n",
       "            0.99658,     0.99658,     0.99658,     0.99658,     0.99658,     0.99658,     0.99658,     0.99658,     0.99658,     0.99658,     0.99658,     0.99658,     0.99658,     0.99658,     0.99658,     0.99658,     0.99658,     0.99658,     0.99658,     0.99658,     0.99658,     0.99658,     0.99658,\n",
       "            0.99658,     0.99658,     0.99658,     0.99658,     0.99658,     0.99658,     0.99658,     0.99658,     0.99658,     0.99658,     0.99658,     0.99658,     0.99658,     0.99658,     0.99658,     0.99658,     0.99658,     0.99658,     0.99658,     0.99658,     0.99658,     0.99658,     0.99658,\n",
       "            0.99658,     0.99658,     0.99658,     0.99658,     0.99658,     0.99658,     0.99658,     0.99658,     0.99658,     0.99658,     0.99658,     0.99658,     0.99658,     0.99658,     0.99658,     0.99658,     0.99658,     0.99658,     0.99658,     0.99658,     0.99658,     0.99658,     0.99658,\n",
       "            0.99658,     0.99658,     0.99658,     0.99658,     0.99658,     0.99658,     0.99658,     0.99658,     0.99658,     0.99658,     0.99658,     0.99658,     0.99658,     0.99658,     0.99658,     0.99658,     0.99658,     0.99658,     0.99658,     0.99658,     0.99658,     0.99658,     0.99658,\n",
       "            0.99658,     0.99658,     0.99432,     0.99432,      0.9932,     0.99208,     0.99098,     0.99098,     0.98879,     0.98879,     0.98879,     0.98441,     0.98441,     0.98441,     0.98224,     0.97363,     0.96204,      0.9569,     0.93875,     0.91658,     0.88657,     0.82516,     0.72543,\n",
       "            0.72543,     0.36868,     0.32771,     0.28675,     0.24578,     0.20482,     0.16386,     0.12289,    0.081928,    0.040964,           0]]), 'Recall', 'Precision'], [array([          0,    0.001001,    0.002002,    0.003003,    0.004004,    0.005005,    0.006006,    0.007007,    0.008008,    0.009009,     0.01001,    0.011011,    0.012012,    0.013013,    0.014014,    0.015015,    0.016016,    0.017017,    0.018018,    0.019019,     0.02002,    0.021021,    0.022022,    0.023023,\n",
       "          0.024024,    0.025025,    0.026026,    0.027027,    0.028028,    0.029029,     0.03003,    0.031031,    0.032032,    0.033033,    0.034034,    0.035035,    0.036036,    0.037037,    0.038038,    0.039039,     0.04004,    0.041041,    0.042042,    0.043043,    0.044044,    0.045045,    0.046046,    0.047047,\n",
       "          0.048048,    0.049049,     0.05005,    0.051051,    0.052052,    0.053053,    0.054054,    0.055055,    0.056056,    0.057057,    0.058058,    0.059059,     0.06006,    0.061061,    0.062062,    0.063063,    0.064064,    0.065065,    0.066066,    0.067067,    0.068068,    0.069069,     0.07007,    0.071071,\n",
       "          0.072072,    0.073073,    0.074074,    0.075075,    0.076076,    0.077077,    0.078078,    0.079079,     0.08008,    0.081081,    0.082082,    0.083083,    0.084084,    0.085085,    0.086086,    0.087087,    0.088088,    0.089089,     0.09009,    0.091091,    0.092092,    0.093093,    0.094094,    0.095095,\n",
       "          0.096096,    0.097097,    0.098098,    0.099099,      0.1001,      0.1011,      0.1021,      0.1031,      0.1041,     0.10511,     0.10611,     0.10711,     0.10811,     0.10911,     0.11011,     0.11111,     0.11211,     0.11311,     0.11411,     0.11512,     0.11612,     0.11712,     0.11812,     0.11912,\n",
       "           0.12012,     0.12112,     0.12212,     0.12312,     0.12412,     0.12513,     0.12613,     0.12713,     0.12813,     0.12913,     0.13013,     0.13113,     0.13213,     0.13313,     0.13413,     0.13514,     0.13614,     0.13714,     0.13814,     0.13914,     0.14014,     0.14114,     0.14214,     0.14314,\n",
       "           0.14414,     0.14515,     0.14615,     0.14715,     0.14815,     0.14915,     0.15015,     0.15115,     0.15215,     0.15315,     0.15415,     0.15516,     0.15616,     0.15716,     0.15816,     0.15916,     0.16016,     0.16116,     0.16216,     0.16316,     0.16416,     0.16517,     0.16617,     0.16717,\n",
       "           0.16817,     0.16917,     0.17017,     0.17117,     0.17217,     0.17317,     0.17417,     0.17518,     0.17618,     0.17718,     0.17818,     0.17918,     0.18018,     0.18118,     0.18218,     0.18318,     0.18418,     0.18519,     0.18619,     0.18719,     0.18819,     0.18919,     0.19019,     0.19119,\n",
       "           0.19219,     0.19319,     0.19419,      0.1952,      0.1962,      0.1972,      0.1982,      0.1992,      0.2002,      0.2012,      0.2022,      0.2032,      0.2042,     0.20521,     0.20621,     0.20721,     0.20821,     0.20921,     0.21021,     0.21121,     0.21221,     0.21321,     0.21421,     0.21522,\n",
       "           0.21622,     0.21722,     0.21822,     0.21922,     0.22022,     0.22122,     0.22222,     0.22322,     0.22422,     0.22523,     0.22623,     0.22723,     0.22823,     0.22923,     0.23023,     0.23123,     0.23223,     0.23323,     0.23423,     0.23524,     0.23624,     0.23724,     0.23824,     0.23924,\n",
       "           0.24024,     0.24124,     0.24224,     0.24324,     0.24424,     0.24525,     0.24625,     0.24725,     0.24825,     0.24925,     0.25025,     0.25125,     0.25225,     0.25325,     0.25425,     0.25526,     0.25626,     0.25726,     0.25826,     0.25926,     0.26026,     0.26126,     0.26226,     0.26326,\n",
       "           0.26426,     0.26527,     0.26627,     0.26727,     0.26827,     0.26927,     0.27027,     0.27127,     0.27227,     0.27327,     0.27427,     0.27528,     0.27628,     0.27728,     0.27828,     0.27928,     0.28028,     0.28128,     0.28228,     0.28328,     0.28428,     0.28529,     0.28629,     0.28729,\n",
       "           0.28829,     0.28929,     0.29029,     0.29129,     0.29229,     0.29329,     0.29429,      0.2953,      0.2963,      0.2973,      0.2983,      0.2993,      0.3003,      0.3013,      0.3023,      0.3033,      0.3043,     0.30531,     0.30631,     0.30731,     0.30831,     0.30931,     0.31031,     0.31131,\n",
       "           0.31231,     0.31331,     0.31431,     0.31532,     0.31632,     0.31732,     0.31832,     0.31932,     0.32032,     0.32132,     0.32232,     0.32332,     0.32432,     0.32533,     0.32633,     0.32733,     0.32833,     0.32933,     0.33033,     0.33133,     0.33233,     0.33333,     0.33433,     0.33534,\n",
       "           0.33634,     0.33734,     0.33834,     0.33934,     0.34034,     0.34134,     0.34234,     0.34334,     0.34434,     0.34535,     0.34635,     0.34735,     0.34835,     0.34935,     0.35035,     0.35135,     0.35235,     0.35335,     0.35435,     0.35536,     0.35636,     0.35736,     0.35836,     0.35936,\n",
       "           0.36036,     0.36136,     0.36236,     0.36336,     0.36436,     0.36537,     0.36637,     0.36737,     0.36837,     0.36937,     0.37037,     0.37137,     0.37237,     0.37337,     0.37437,     0.37538,     0.37638,     0.37738,     0.37838,     0.37938,     0.38038,     0.38138,     0.38238,     0.38338,\n",
       "           0.38438,     0.38539,     0.38639,     0.38739,     0.38839,     0.38939,     0.39039,     0.39139,     0.39239,     0.39339,     0.39439,      0.3954,      0.3964,      0.3974,      0.3984,      0.3994,      0.4004,      0.4014,      0.4024,      0.4034,      0.4044,     0.40541,     0.40641,     0.40741,\n",
       "           0.40841,     0.40941,     0.41041,     0.41141,     0.41241,     0.41341,     0.41441,     0.41542,     0.41642,     0.41742,     0.41842,     0.41942,     0.42042,     0.42142,     0.42242,     0.42342,     0.42442,     0.42543,     0.42643,     0.42743,     0.42843,     0.42943,     0.43043,     0.43143,\n",
       "           0.43243,     0.43343,     0.43443,     0.43544,     0.43644,     0.43744,     0.43844,     0.43944,     0.44044,     0.44144,     0.44244,     0.44344,     0.44444,     0.44545,     0.44645,     0.44745,     0.44845,     0.44945,     0.45045,     0.45145,     0.45245,     0.45345,     0.45445,     0.45546,\n",
       "           0.45646,     0.45746,     0.45846,     0.45946,     0.46046,     0.46146,     0.46246,     0.46346,     0.46446,     0.46547,     0.46647,     0.46747,     0.46847,     0.46947,     0.47047,     0.47147,     0.47247,     0.47347,     0.47447,     0.47548,     0.47648,     0.47748,     0.47848,     0.47948,\n",
       "           0.48048,     0.48148,     0.48248,     0.48348,     0.48448,     0.48549,     0.48649,     0.48749,     0.48849,     0.48949,     0.49049,     0.49149,     0.49249,     0.49349,     0.49449,      0.4955,      0.4965,      0.4975,      0.4985,      0.4995,      0.5005,      0.5015,      0.5025,      0.5035,\n",
       "            0.5045,     0.50551,     0.50651,     0.50751,     0.50851,     0.50951,     0.51051,     0.51151,     0.51251,     0.51351,     0.51451,     0.51552,     0.51652,     0.51752,     0.51852,     0.51952,     0.52052,     0.52152,     0.52252,     0.52352,     0.52452,     0.52553,     0.52653,     0.52753,\n",
       "           0.52853,     0.52953,     0.53053,     0.53153,     0.53253,     0.53353,     0.53453,     0.53554,     0.53654,     0.53754,     0.53854,     0.53954,     0.54054,     0.54154,     0.54254,     0.54354,     0.54454,     0.54555,     0.54655,     0.54755,     0.54855,     0.54955,     0.55055,     0.55155,\n",
       "           0.55255,     0.55355,     0.55455,     0.55556,     0.55656,     0.55756,     0.55856,     0.55956,     0.56056,     0.56156,     0.56256,     0.56356,     0.56456,     0.56557,     0.56657,     0.56757,     0.56857,     0.56957,     0.57057,     0.57157,     0.57257,     0.57357,     0.57457,     0.57558,\n",
       "           0.57658,     0.57758,     0.57858,     0.57958,     0.58058,     0.58158,     0.58258,     0.58358,     0.58458,     0.58559,     0.58659,     0.58759,     0.58859,     0.58959,     0.59059,     0.59159,     0.59259,     0.59359,     0.59459,      0.5956,      0.5966,      0.5976,      0.5986,      0.5996,\n",
       "            0.6006,      0.6016,      0.6026,      0.6036,      0.6046,     0.60561,     0.60661,     0.60761,     0.60861,     0.60961,     0.61061,     0.61161,     0.61261,     0.61361,     0.61461,     0.61562,     0.61662,     0.61762,     0.61862,     0.61962,     0.62062,     0.62162,     0.62262,     0.62362,\n",
       "           0.62462,     0.62563,     0.62663,     0.62763,     0.62863,     0.62963,     0.63063,     0.63163,     0.63263,     0.63363,     0.63463,     0.63564,     0.63664,     0.63764,     0.63864,     0.63964,     0.64064,     0.64164,     0.64264,     0.64364,     0.64464,     0.64565,     0.64665,     0.64765,\n",
       "           0.64865,     0.64965,     0.65065,     0.65165,     0.65265,     0.65365,     0.65465,     0.65566,     0.65666,     0.65766,     0.65866,     0.65966,     0.66066,     0.66166,     0.66266,     0.66366,     0.66466,     0.66567,     0.66667,     0.66767,     0.66867,     0.66967,     0.67067,     0.67167,\n",
       "           0.67267,     0.67367,     0.67467,     0.67568,     0.67668,     0.67768,     0.67868,     0.67968,     0.68068,     0.68168,     0.68268,     0.68368,     0.68468,     0.68569,     0.68669,     0.68769,     0.68869,     0.68969,     0.69069,     0.69169,     0.69269,     0.69369,     0.69469,      0.6957,\n",
       "            0.6967,      0.6977,      0.6987,      0.6997,      0.7007,      0.7017,      0.7027,      0.7037,      0.7047,     0.70571,     0.70671,     0.70771,     0.70871,     0.70971,     0.71071,     0.71171,     0.71271,     0.71371,     0.71471,     0.71572,     0.71672,     0.71772,     0.71872,     0.71972,\n",
       "           0.72072,     0.72172,     0.72272,     0.72372,     0.72472,     0.72573,     0.72673,     0.72773,     0.72873,     0.72973,     0.73073,     0.73173,     0.73273,     0.73373,     0.73473,     0.73574,     0.73674,     0.73774,     0.73874,     0.73974,     0.74074,     0.74174,     0.74274,     0.74374,\n",
       "           0.74474,     0.74575,     0.74675,     0.74775,     0.74875,     0.74975,     0.75075,     0.75175,     0.75275,     0.75375,     0.75475,     0.75576,     0.75676,     0.75776,     0.75876,     0.75976,     0.76076,     0.76176,     0.76276,     0.76376,     0.76476,     0.76577,     0.76677,     0.76777,\n",
       "           0.76877,     0.76977,     0.77077,     0.77177,     0.77277,     0.77377,     0.77477,     0.77578,     0.77678,     0.77778,     0.77878,     0.77978,     0.78078,     0.78178,     0.78278,     0.78378,     0.78478,     0.78579,     0.78679,     0.78779,     0.78879,     0.78979,     0.79079,     0.79179,\n",
       "           0.79279,     0.79379,     0.79479,      0.7958,      0.7968,      0.7978,      0.7988,      0.7998,      0.8008,      0.8018,      0.8028,      0.8038,      0.8048,     0.80581,     0.80681,     0.80781,     0.80881,     0.80981,     0.81081,     0.81181,     0.81281,     0.81381,     0.81481,     0.81582,\n",
       "           0.81682,     0.81782,     0.81882,     0.81982,     0.82082,     0.82182,     0.82282,     0.82382,     0.82482,     0.82583,     0.82683,     0.82783,     0.82883,     0.82983,     0.83083,     0.83183,     0.83283,     0.83383,     0.83483,     0.83584,     0.83684,     0.83784,     0.83884,     0.83984,\n",
       "           0.84084,     0.84184,     0.84284,     0.84384,     0.84484,     0.84585,     0.84685,     0.84785,     0.84885,     0.84985,     0.85085,     0.85185,     0.85285,     0.85385,     0.85485,     0.85586,     0.85686,     0.85786,     0.85886,     0.85986,     0.86086,     0.86186,     0.86286,     0.86386,\n",
       "           0.86486,     0.86587,     0.86687,     0.86787,     0.86887,     0.86987,     0.87087,     0.87187,     0.87287,     0.87387,     0.87487,     0.87588,     0.87688,     0.87788,     0.87888,     0.87988,     0.88088,     0.88188,     0.88288,     0.88388,     0.88488,     0.88589,     0.88689,     0.88789,\n",
       "           0.88889,     0.88989,     0.89089,     0.89189,     0.89289,     0.89389,     0.89489,      0.8959,      0.8969,      0.8979,      0.8989,      0.8999,      0.9009,      0.9019,      0.9029,      0.9039,      0.9049,     0.90591,     0.90691,     0.90791,     0.90891,     0.90991,     0.91091,     0.91191,\n",
       "           0.91291,     0.91391,     0.91491,     0.91592,     0.91692,     0.91792,     0.91892,     0.91992,     0.92092,     0.92192,     0.92292,     0.92392,     0.92492,     0.92593,     0.92693,     0.92793,     0.92893,     0.92993,     0.93093,     0.93193,     0.93293,     0.93393,     0.93493,     0.93594,\n",
       "           0.93694,     0.93794,     0.93894,     0.93994,     0.94094,     0.94194,     0.94294,     0.94394,     0.94494,     0.94595,     0.94695,     0.94795,     0.94895,     0.94995,     0.95095,     0.95195,     0.95295,     0.95395,     0.95495,     0.95596,     0.95696,     0.95796,     0.95896,     0.95996,\n",
       "           0.96096,     0.96196,     0.96296,     0.96396,     0.96496,     0.96597,     0.96697,     0.96797,     0.96897,     0.96997,     0.97097,     0.97197,     0.97297,     0.97397,     0.97497,     0.97598,     0.97698,     0.97798,     0.97898,     0.97998,     0.98098,     0.98198,     0.98298,     0.98398,\n",
       "           0.98498,     0.98599,     0.98699,     0.98799,     0.98899,     0.98999,     0.99099,     0.99199,     0.99299,     0.99399,     0.99499,       0.996,       0.997,       0.998,       0.999,           1]), array([[    0.57818,     0.57818,     0.68683,     0.74185,     0.77496,     0.80183,     0.81704,     0.83211,     0.84403,     0.84984,     0.85774,     0.86493,     0.87143,     0.87526,     0.88109,     0.88552,     0.88943,     0.89345,     0.89723,     0.90037,     0.90406,     0.90616,     0.90844,\n",
       "              0.912,     0.91332,     0.91559,     0.91614,     0.91796,     0.92146,     0.92196,     0.92315,     0.92399,     0.92595,     0.92639,     0.92663,     0.92917,     0.92995,     0.93107,     0.93157,     0.93302,     0.93323,     0.93343,      0.9339,      0.9344,     0.93416,     0.93442,\n",
       "            0.93472,     0.93746,     0.93809,     0.93869,     0.93971,     0.94015,     0.94134,     0.94222,     0.94348,     0.94473,     0.94536,     0.94555,     0.94573,     0.94629,      0.9466,     0.94717,     0.94789,      0.9481,      0.9483,     0.94978,     0.95064,     0.95117,     0.95189,\n",
       "            0.95261,     0.95292,     0.95311,     0.95329,     0.95352,     0.95377,     0.95429,     0.95523,     0.95604,     0.95621,     0.95638,     0.95673,     0.95756,     0.95796,     0.95956,     0.95967,     0.95978,     0.95988,     0.95999,     0.96011,     0.96026,      0.9604,     0.96054,\n",
       "            0.96099,     0.96137,     0.96144,     0.96121,     0.96165,     0.96179,     0.96193,     0.96207,     0.96218,     0.96229,      0.9624,     0.96251,     0.96335,     0.96433,     0.96456,     0.96485,     0.96523,     0.96555,     0.96587,      0.9662,     0.96652,     0.96681,     0.96691,\n",
       "            0.96702,     0.96712,     0.96723,     0.96734,     0.96749,     0.96764,     0.96779,     0.96805,     0.96839,     0.96856,     0.96873,      0.9689,     0.96895,       0.969,     0.96905,      0.9691,     0.96915,      0.9692,     0.96925,      0.9693,     0.96935,      0.9694,     0.96959,\n",
       "            0.96999,     0.97032,     0.97021,     0.97007,     0.97033,     0.97069,     0.97101,     0.97105,     0.97109,     0.97114,     0.97118,     0.97122,     0.97127,     0.97131,     0.97135,      0.9714,     0.97144,     0.97148,     0.97161,     0.97207,      0.9721,     0.97214,     0.97218,\n",
       "            0.97221,     0.97225,     0.97228,     0.97232,     0.97235,     0.97239,     0.97242,     0.97246,     0.97249,     0.97253,     0.97256,     0.97245,     0.97206,     0.97226,     0.97247,     0.97262,     0.97272,     0.97283,     0.97294,     0.97304,     0.97315,     0.97326,     0.97337,\n",
       "            0.97348,     0.97359,      0.9739,     0.97419,     0.97426,     0.97433,      0.9744,     0.97447,     0.97455,     0.97462,     0.97469,     0.97526,      0.9753,     0.97534,     0.97538,     0.97542,     0.97546,      0.9755,     0.97554,     0.97558,     0.97562,     0.97566,      0.9757,\n",
       "            0.97574,     0.97578,      0.9758,     0.97582,     0.97583,     0.97585,     0.97587,     0.97589,     0.97591,     0.97593,     0.97595,     0.97597,     0.97599,     0.97601,     0.97603,     0.97605,     0.97606,     0.97608,      0.9761,     0.97612,     0.97614,     0.97616,     0.97618,\n",
       "             0.9762,     0.97622,     0.97624,     0.97626,     0.97627,     0.97629,     0.97632,     0.97638,     0.97643,     0.97648,     0.97654,     0.97659,     0.97665,      0.9767,     0.97675,     0.97681,     0.97686,     0.97689,     0.97692,     0.97695,     0.97699,     0.97702,     0.97705,\n",
       "            0.97709,     0.97712,     0.97715,     0.97718,     0.97722,     0.97725,     0.97728,     0.97732,     0.97735,     0.97738,     0.97741,     0.97745,     0.97748,     0.97751,     0.97755,     0.97758,     0.97761,     0.97764,     0.97768,     0.97771,     0.97774,     0.97778,     0.97781,\n",
       "            0.97784,     0.97787,     0.97791,     0.97791,     0.97788,     0.97785,     0.97782,     0.97779,     0.97775,     0.97772,     0.97769,     0.97766,     0.97763,      0.9776,     0.97757,     0.97753,      0.9775,     0.97747,     0.97744,     0.97741,     0.97738,      0.9774,      0.9775,\n",
       "            0.97759,     0.97768,     0.97777,     0.97786,     0.97794,     0.97801,     0.97807,     0.97814,     0.97821,     0.97827,     0.97834,     0.97841,     0.97853,     0.97871,     0.97889,     0.97903,     0.97914,     0.97925,     0.97936,     0.97947,     0.97953,     0.97954,     0.97955,\n",
       "            0.97956,     0.97957,     0.97957,     0.97958,     0.97959,      0.9796,     0.97961,     0.97962,     0.97963,     0.97964,     0.97965,     0.97966,     0.97967,     0.97967,     0.97968,     0.97969,      0.9797,     0.97971,     0.97972,     0.97973,     0.97974,     0.97975,     0.97976,\n",
       "            0.97977,     0.97977,     0.97978,     0.97979,      0.9798,     0.97981,     0.97982,     0.97983,     0.97984,     0.97985,     0.97986,     0.97987,     0.97988,     0.97988,     0.97989,      0.9799,     0.97991,     0.97992,     0.97993,     0.97994,     0.97995,     0.97996,     0.97997,\n",
       "            0.97998,     0.97998,     0.97999,        0.98,     0.98001,     0.98002,     0.98003,     0.98004,     0.98005,     0.98006,     0.98007,     0.98013,     0.98019,     0.98025,     0.98031,     0.98038,     0.98044,      0.9805,     0.98056,     0.98062,     0.98066,      0.9807,     0.98075,\n",
       "            0.98079,     0.98083,     0.98087,     0.98091,     0.98096,       0.981,     0.98104,     0.98108,     0.98112,     0.98117,     0.98123,     0.98129,     0.98135,     0.98141,     0.98147,     0.98153,     0.98159,     0.98165,     0.98169,     0.98167,     0.98165,     0.98163,     0.98161,\n",
       "            0.98159,     0.98157,     0.98155,     0.98153,     0.98151,     0.98148,     0.98146,     0.98144,     0.98142,      0.9814,     0.98138,     0.98136,     0.98134,     0.98132,      0.9813,     0.98128,     0.98125,     0.98123,     0.98121,     0.98119,     0.98117,     0.98115,     0.98123,\n",
       "            0.98168,      0.9817,     0.98172,     0.98174,     0.98176,     0.98178,     0.98181,     0.98183,     0.98185,     0.98187,     0.98189,     0.98191,     0.98193,     0.98195,     0.98197,     0.98199,     0.98201,     0.98203,     0.98205,     0.98207,      0.9821,     0.98212,     0.98214,\n",
       "            0.98216,     0.98218,      0.9822,     0.98222,      0.9822,     0.98218,     0.98216,     0.98214,     0.98211,     0.98209,     0.98207,     0.98205,     0.98203,       0.982,     0.98198,     0.98196,     0.98194,     0.98192,     0.98189,     0.98187,     0.98185,     0.98183,      0.9818,\n",
       "            0.98178,     0.98176,     0.98174,     0.98172,     0.98169,     0.98167,     0.98165,     0.98161,     0.98158,     0.98155,     0.98151,     0.98148,     0.98145,     0.98141,     0.98138,     0.98135,     0.98131,     0.98128,     0.98125,     0.98121,     0.98118,     0.98115,     0.98111,\n",
       "            0.98112,     0.98125,     0.98137,      0.9815,     0.98163,     0.98172,     0.98182,     0.98191,       0.982,      0.9821,     0.98219,     0.98221,     0.98224,     0.98226,     0.98229,     0.98231,     0.98234,     0.98237,     0.98239,     0.98242,     0.98244,     0.98247,     0.98249,\n",
       "            0.98252,     0.98255,     0.98257,      0.9826,     0.98262,     0.98265,     0.98268,      0.9827,     0.98273,     0.98278,     0.98284,      0.9829,     0.98296,     0.98302,     0.98308,     0.98314,      0.9832,     0.98326,     0.98299,      0.9827,     0.98266,     0.98262,     0.98258,\n",
       "            0.98254,     0.98251,     0.98247,     0.98243,     0.98239,     0.98235,     0.98231,     0.98227,     0.98223,      0.9822,     0.98216,     0.98172,      0.9816,     0.98163,     0.98166,     0.98169,     0.98172,     0.98175,     0.98179,     0.98182,     0.98185,     0.98188,     0.98191,\n",
       "            0.98194,     0.98197,       0.982,     0.98203,     0.98206,      0.9821,     0.98214,     0.98225,     0.98236,     0.98248,     0.98259,     0.98266,     0.98263,     0.98259,     0.98256,     0.98253,     0.98249,     0.98246,     0.98242,     0.98239,     0.98235,     0.98232,     0.98229,\n",
       "            0.98225,     0.98222,     0.98218,     0.98215,     0.98211,     0.98207,     0.98203,     0.98198,     0.98194,     0.98189,     0.98185,      0.9818,     0.98176,     0.98171,     0.98166,     0.98162,     0.98157,     0.98154,     0.98158,     0.98163,     0.98167,     0.98171,     0.98176,\n",
       "             0.9818,     0.98184,     0.98189,     0.98193,     0.98197,     0.98202,     0.98206,     0.98203,     0.98191,     0.98179,     0.98167,     0.98155,     0.98168,     0.98191,     0.98197,     0.98172,     0.98152,      0.9818,     0.98202,     0.98183,     0.98165,     0.98148,     0.98159,\n",
       "             0.9817,     0.98181,     0.98192,     0.98204,     0.98221,     0.98237,     0.98254,     0.98251,     0.98243,     0.98235,     0.98227,     0.98219,     0.98211,     0.98203,     0.98183,     0.98155,      0.9814,     0.98136,     0.98131,     0.98127,     0.98122,     0.98118,     0.98113,\n",
       "            0.98109,     0.98104,       0.981,     0.98095,      0.9809,     0.98086,     0.98072,     0.98057,     0.98043,     0.98028,     0.97989,     0.97881,     0.97813,     0.97775,     0.97744,     0.97708,     0.97672,     0.97639,     0.97609,     0.97582,     0.97557,     0.97534,     0.97511,\n",
       "            0.97447,     0.97407,     0.97307,     0.97257,      0.9721,     0.97163,     0.97145,     0.97129,     0.97113,     0.97094,     0.97055,     0.96967,     0.96889,      0.9682,     0.96767,     0.96719,     0.96682,     0.96661,      0.9664,     0.96598,     0.96538,     0.96436,     0.96326,\n",
       "            0.96292,     0.96172,     0.95985,     0.95861,     0.95607,     0.95441,     0.95399,     0.95266,     0.95117,     0.95027,     0.94985,     0.94954,     0.94821,     0.94702,      0.9457,     0.94523,     0.94416,     0.94249,     0.94104,     0.93974,     0.93799,      0.9371,      0.9358,\n",
       "            0.93416,     0.93313,     0.93278,     0.93135,     0.93041,     0.92829,     0.92645,     0.92383,     0.92281,     0.92102,     0.91888,     0.91818,     0.91686,     0.91624,     0.91492,     0.91374,     0.91279,     0.91259,      0.9124,     0.91149,     0.90988,     0.90906,     0.90672,\n",
       "            0.90541,     0.90389,     0.90189,     0.89956,     0.89815,     0.89601,     0.89561,     0.89388,     0.89258,     0.89051,     0.88764,     0.88527,     0.88509,     0.88491,     0.88473,     0.88429,     0.88289,     0.88105,     0.87946,     0.87827,     0.87755,      0.8773,     0.87705,\n",
       "            0.87495,     0.87207,     0.87093,     0.86726,     0.86334,     0.86085,     0.85661,     0.85292,     0.84883,     0.84441,     0.84047,     0.83446,     0.82739,     0.82121,     0.81302,     0.80636,     0.79966,     0.78774,     0.78096,     0.77329,     0.75736,     0.74379,     0.73193,\n",
       "            0.71921,     0.70223,     0.68546,     0.67911,        0.67,     0.65381,     0.64539,     0.63519,     0.62702,     0.62046,     0.60523,      0.5925,     0.58328,     0.57444,     0.56389,     0.55503,     0.54915,     0.54206,     0.53879,     0.53496,     0.52982,     0.52787,     0.52346,\n",
       "            0.51764,     0.51251,     0.51041,     0.50447,     0.50184,      0.4952,     0.49363,     0.49285,      0.4889,     0.48815,     0.48597,     0.48037,     0.47661,     0.47429,     0.47283,     0.46933,     0.46789,     0.46649,     0.46524,     0.46056,     0.45787,     0.45707,      0.4563,\n",
       "            0.45555,     0.45357,     0.45092,     0.44642,     0.44114,     0.43345,     0.42859,      0.4252,     0.41868,     0.41167,      0.3973,     0.38522,     0.37533,     0.36172,     0.34439,     0.32462,     0.29735,     0.28564,     0.26151,     0.22779,     0.20246,     0.17726,       0.155,\n",
       "            0.13116,     0.11291,    0.096905,    0.091778,    0.089674,    0.087821,    0.084879,    0.070849,     0.06588,    0.058193,    0.050667,     0.04632,    0.039973,    0.038258,    0.037289,    0.032364,    0.030599,    0.024083,    0.019315,    0.015027,    0.014477,    0.013927,    0.013377,\n",
       "          0.0090251,   0.0070036,   0.0040256,    0.003401,   0.0027759,           0,           0,           0,           0,           0,           0,           0,           0,           0,           0,           0,           0,           0,           0,           0,           0,           0,           0,\n",
       "                  0,           0,           0,           0,           0,           0,           0,           0,           0,           0,           0,           0,           0,           0,           0,           0,           0,           0,           0,           0,           0,           0,           0,\n",
       "                  0,           0,           0,           0,           0,           0,           0,           0,           0,           0,           0,           0,           0,           0,           0,           0,           0,           0,           0,           0,           0,           0,           0,\n",
       "                  0,           0,           0,           0,           0,           0,           0,           0,           0,           0,           0,           0,           0,           0,           0,           0,           0,           0,           0,           0,           0,           0,           0,\n",
       "                  0,           0,           0,           0,           0,           0,           0,           0,           0,           0,           0]]), 'Confidence', 'F1'], [array([          0,    0.001001,    0.002002,    0.003003,    0.004004,    0.005005,    0.006006,    0.007007,    0.008008,    0.009009,     0.01001,    0.011011,    0.012012,    0.013013,    0.014014,    0.015015,    0.016016,    0.017017,    0.018018,    0.019019,     0.02002,    0.021021,    0.022022,    0.023023,\n",
       "          0.024024,    0.025025,    0.026026,    0.027027,    0.028028,    0.029029,     0.03003,    0.031031,    0.032032,    0.033033,    0.034034,    0.035035,    0.036036,    0.037037,    0.038038,    0.039039,     0.04004,    0.041041,    0.042042,    0.043043,    0.044044,    0.045045,    0.046046,    0.047047,\n",
       "          0.048048,    0.049049,     0.05005,    0.051051,    0.052052,    0.053053,    0.054054,    0.055055,    0.056056,    0.057057,    0.058058,    0.059059,     0.06006,    0.061061,    0.062062,    0.063063,    0.064064,    0.065065,    0.066066,    0.067067,    0.068068,    0.069069,     0.07007,    0.071071,\n",
       "          0.072072,    0.073073,    0.074074,    0.075075,    0.076076,    0.077077,    0.078078,    0.079079,     0.08008,    0.081081,    0.082082,    0.083083,    0.084084,    0.085085,    0.086086,    0.087087,    0.088088,    0.089089,     0.09009,    0.091091,    0.092092,    0.093093,    0.094094,    0.095095,\n",
       "          0.096096,    0.097097,    0.098098,    0.099099,      0.1001,      0.1011,      0.1021,      0.1031,      0.1041,     0.10511,     0.10611,     0.10711,     0.10811,     0.10911,     0.11011,     0.11111,     0.11211,     0.11311,     0.11411,     0.11512,     0.11612,     0.11712,     0.11812,     0.11912,\n",
       "           0.12012,     0.12112,     0.12212,     0.12312,     0.12412,     0.12513,     0.12613,     0.12713,     0.12813,     0.12913,     0.13013,     0.13113,     0.13213,     0.13313,     0.13413,     0.13514,     0.13614,     0.13714,     0.13814,     0.13914,     0.14014,     0.14114,     0.14214,     0.14314,\n",
       "           0.14414,     0.14515,     0.14615,     0.14715,     0.14815,     0.14915,     0.15015,     0.15115,     0.15215,     0.15315,     0.15415,     0.15516,     0.15616,     0.15716,     0.15816,     0.15916,     0.16016,     0.16116,     0.16216,     0.16316,     0.16416,     0.16517,     0.16617,     0.16717,\n",
       "           0.16817,     0.16917,     0.17017,     0.17117,     0.17217,     0.17317,     0.17417,     0.17518,     0.17618,     0.17718,     0.17818,     0.17918,     0.18018,     0.18118,     0.18218,     0.18318,     0.18418,     0.18519,     0.18619,     0.18719,     0.18819,     0.18919,     0.19019,     0.19119,\n",
       "           0.19219,     0.19319,     0.19419,      0.1952,      0.1962,      0.1972,      0.1982,      0.1992,      0.2002,      0.2012,      0.2022,      0.2032,      0.2042,     0.20521,     0.20621,     0.20721,     0.20821,     0.20921,     0.21021,     0.21121,     0.21221,     0.21321,     0.21421,     0.21522,\n",
       "           0.21622,     0.21722,     0.21822,     0.21922,     0.22022,     0.22122,     0.22222,     0.22322,     0.22422,     0.22523,     0.22623,     0.22723,     0.22823,     0.22923,     0.23023,     0.23123,     0.23223,     0.23323,     0.23423,     0.23524,     0.23624,     0.23724,     0.23824,     0.23924,\n",
       "           0.24024,     0.24124,     0.24224,     0.24324,     0.24424,     0.24525,     0.24625,     0.24725,     0.24825,     0.24925,     0.25025,     0.25125,     0.25225,     0.25325,     0.25425,     0.25526,     0.25626,     0.25726,     0.25826,     0.25926,     0.26026,     0.26126,     0.26226,     0.26326,\n",
       "           0.26426,     0.26527,     0.26627,     0.26727,     0.26827,     0.26927,     0.27027,     0.27127,     0.27227,     0.27327,     0.27427,     0.27528,     0.27628,     0.27728,     0.27828,     0.27928,     0.28028,     0.28128,     0.28228,     0.28328,     0.28428,     0.28529,     0.28629,     0.28729,\n",
       "           0.28829,     0.28929,     0.29029,     0.29129,     0.29229,     0.29329,     0.29429,      0.2953,      0.2963,      0.2973,      0.2983,      0.2993,      0.3003,      0.3013,      0.3023,      0.3033,      0.3043,     0.30531,     0.30631,     0.30731,     0.30831,     0.30931,     0.31031,     0.31131,\n",
       "           0.31231,     0.31331,     0.31431,     0.31532,     0.31632,     0.31732,     0.31832,     0.31932,     0.32032,     0.32132,     0.32232,     0.32332,     0.32432,     0.32533,     0.32633,     0.32733,     0.32833,     0.32933,     0.33033,     0.33133,     0.33233,     0.33333,     0.33433,     0.33534,\n",
       "           0.33634,     0.33734,     0.33834,     0.33934,     0.34034,     0.34134,     0.34234,     0.34334,     0.34434,     0.34535,     0.34635,     0.34735,     0.34835,     0.34935,     0.35035,     0.35135,     0.35235,     0.35335,     0.35435,     0.35536,     0.35636,     0.35736,     0.35836,     0.35936,\n",
       "           0.36036,     0.36136,     0.36236,     0.36336,     0.36436,     0.36537,     0.36637,     0.36737,     0.36837,     0.36937,     0.37037,     0.37137,     0.37237,     0.37337,     0.37437,     0.37538,     0.37638,     0.37738,     0.37838,     0.37938,     0.38038,     0.38138,     0.38238,     0.38338,\n",
       "           0.38438,     0.38539,     0.38639,     0.38739,     0.38839,     0.38939,     0.39039,     0.39139,     0.39239,     0.39339,     0.39439,      0.3954,      0.3964,      0.3974,      0.3984,      0.3994,      0.4004,      0.4014,      0.4024,      0.4034,      0.4044,     0.40541,     0.40641,     0.40741,\n",
       "           0.40841,     0.40941,     0.41041,     0.41141,     0.41241,     0.41341,     0.41441,     0.41542,     0.41642,     0.41742,     0.41842,     0.41942,     0.42042,     0.42142,     0.42242,     0.42342,     0.42442,     0.42543,     0.42643,     0.42743,     0.42843,     0.42943,     0.43043,     0.43143,\n",
       "           0.43243,     0.43343,     0.43443,     0.43544,     0.43644,     0.43744,     0.43844,     0.43944,     0.44044,     0.44144,     0.44244,     0.44344,     0.44444,     0.44545,     0.44645,     0.44745,     0.44845,     0.44945,     0.45045,     0.45145,     0.45245,     0.45345,     0.45445,     0.45546,\n",
       "           0.45646,     0.45746,     0.45846,     0.45946,     0.46046,     0.46146,     0.46246,     0.46346,     0.46446,     0.46547,     0.46647,     0.46747,     0.46847,     0.46947,     0.47047,     0.47147,     0.47247,     0.47347,     0.47447,     0.47548,     0.47648,     0.47748,     0.47848,     0.47948,\n",
       "           0.48048,     0.48148,     0.48248,     0.48348,     0.48448,     0.48549,     0.48649,     0.48749,     0.48849,     0.48949,     0.49049,     0.49149,     0.49249,     0.49349,     0.49449,      0.4955,      0.4965,      0.4975,      0.4985,      0.4995,      0.5005,      0.5015,      0.5025,      0.5035,\n",
       "            0.5045,     0.50551,     0.50651,     0.50751,     0.50851,     0.50951,     0.51051,     0.51151,     0.51251,     0.51351,     0.51451,     0.51552,     0.51652,     0.51752,     0.51852,     0.51952,     0.52052,     0.52152,     0.52252,     0.52352,     0.52452,     0.52553,     0.52653,     0.52753,\n",
       "           0.52853,     0.52953,     0.53053,     0.53153,     0.53253,     0.53353,     0.53453,     0.53554,     0.53654,     0.53754,     0.53854,     0.53954,     0.54054,     0.54154,     0.54254,     0.54354,     0.54454,     0.54555,     0.54655,     0.54755,     0.54855,     0.54955,     0.55055,     0.55155,\n",
       "           0.55255,     0.55355,     0.55455,     0.55556,     0.55656,     0.55756,     0.55856,     0.55956,     0.56056,     0.56156,     0.56256,     0.56356,     0.56456,     0.56557,     0.56657,     0.56757,     0.56857,     0.56957,     0.57057,     0.57157,     0.57257,     0.57357,     0.57457,     0.57558,\n",
       "           0.57658,     0.57758,     0.57858,     0.57958,     0.58058,     0.58158,     0.58258,     0.58358,     0.58458,     0.58559,     0.58659,     0.58759,     0.58859,     0.58959,     0.59059,     0.59159,     0.59259,     0.59359,     0.59459,      0.5956,      0.5966,      0.5976,      0.5986,      0.5996,\n",
       "            0.6006,      0.6016,      0.6026,      0.6036,      0.6046,     0.60561,     0.60661,     0.60761,     0.60861,     0.60961,     0.61061,     0.61161,     0.61261,     0.61361,     0.61461,     0.61562,     0.61662,     0.61762,     0.61862,     0.61962,     0.62062,     0.62162,     0.62262,     0.62362,\n",
       "           0.62462,     0.62563,     0.62663,     0.62763,     0.62863,     0.62963,     0.63063,     0.63163,     0.63263,     0.63363,     0.63463,     0.63564,     0.63664,     0.63764,     0.63864,     0.63964,     0.64064,     0.64164,     0.64264,     0.64364,     0.64464,     0.64565,     0.64665,     0.64765,\n",
       "           0.64865,     0.64965,     0.65065,     0.65165,     0.65265,     0.65365,     0.65465,     0.65566,     0.65666,     0.65766,     0.65866,     0.65966,     0.66066,     0.66166,     0.66266,     0.66366,     0.66466,     0.66567,     0.66667,     0.66767,     0.66867,     0.66967,     0.67067,     0.67167,\n",
       "           0.67267,     0.67367,     0.67467,     0.67568,     0.67668,     0.67768,     0.67868,     0.67968,     0.68068,     0.68168,     0.68268,     0.68368,     0.68468,     0.68569,     0.68669,     0.68769,     0.68869,     0.68969,     0.69069,     0.69169,     0.69269,     0.69369,     0.69469,      0.6957,\n",
       "            0.6967,      0.6977,      0.6987,      0.6997,      0.7007,      0.7017,      0.7027,      0.7037,      0.7047,     0.70571,     0.70671,     0.70771,     0.70871,     0.70971,     0.71071,     0.71171,     0.71271,     0.71371,     0.71471,     0.71572,     0.71672,     0.71772,     0.71872,     0.71972,\n",
       "           0.72072,     0.72172,     0.72272,     0.72372,     0.72472,     0.72573,     0.72673,     0.72773,     0.72873,     0.72973,     0.73073,     0.73173,     0.73273,     0.73373,     0.73473,     0.73574,     0.73674,     0.73774,     0.73874,     0.73974,     0.74074,     0.74174,     0.74274,     0.74374,\n",
       "           0.74474,     0.74575,     0.74675,     0.74775,     0.74875,     0.74975,     0.75075,     0.75175,     0.75275,     0.75375,     0.75475,     0.75576,     0.75676,     0.75776,     0.75876,     0.75976,     0.76076,     0.76176,     0.76276,     0.76376,     0.76476,     0.76577,     0.76677,     0.76777,\n",
       "           0.76877,     0.76977,     0.77077,     0.77177,     0.77277,     0.77377,     0.77477,     0.77578,     0.77678,     0.77778,     0.77878,     0.77978,     0.78078,     0.78178,     0.78278,     0.78378,     0.78478,     0.78579,     0.78679,     0.78779,     0.78879,     0.78979,     0.79079,     0.79179,\n",
       "           0.79279,     0.79379,     0.79479,      0.7958,      0.7968,      0.7978,      0.7988,      0.7998,      0.8008,      0.8018,      0.8028,      0.8038,      0.8048,     0.80581,     0.80681,     0.80781,     0.80881,     0.80981,     0.81081,     0.81181,     0.81281,     0.81381,     0.81481,     0.81582,\n",
       "           0.81682,     0.81782,     0.81882,     0.81982,     0.82082,     0.82182,     0.82282,     0.82382,     0.82482,     0.82583,     0.82683,     0.82783,     0.82883,     0.82983,     0.83083,     0.83183,     0.83283,     0.83383,     0.83483,     0.83584,     0.83684,     0.83784,     0.83884,     0.83984,\n",
       "           0.84084,     0.84184,     0.84284,     0.84384,     0.84484,     0.84585,     0.84685,     0.84785,     0.84885,     0.84985,     0.85085,     0.85185,     0.85285,     0.85385,     0.85485,     0.85586,     0.85686,     0.85786,     0.85886,     0.85986,     0.86086,     0.86186,     0.86286,     0.86386,\n",
       "           0.86486,     0.86587,     0.86687,     0.86787,     0.86887,     0.86987,     0.87087,     0.87187,     0.87287,     0.87387,     0.87487,     0.87588,     0.87688,     0.87788,     0.87888,     0.87988,     0.88088,     0.88188,     0.88288,     0.88388,     0.88488,     0.88589,     0.88689,     0.88789,\n",
       "           0.88889,     0.88989,     0.89089,     0.89189,     0.89289,     0.89389,     0.89489,      0.8959,      0.8969,      0.8979,      0.8989,      0.8999,      0.9009,      0.9019,      0.9029,      0.9039,      0.9049,     0.90591,     0.90691,     0.90791,     0.90891,     0.90991,     0.91091,     0.91191,\n",
       "           0.91291,     0.91391,     0.91491,     0.91592,     0.91692,     0.91792,     0.91892,     0.91992,     0.92092,     0.92192,     0.92292,     0.92392,     0.92492,     0.92593,     0.92693,     0.92793,     0.92893,     0.92993,     0.93093,     0.93193,     0.93293,     0.93393,     0.93493,     0.93594,\n",
       "           0.93694,     0.93794,     0.93894,     0.93994,     0.94094,     0.94194,     0.94294,     0.94394,     0.94494,     0.94595,     0.94695,     0.94795,     0.94895,     0.94995,     0.95095,     0.95195,     0.95295,     0.95395,     0.95495,     0.95596,     0.95696,     0.95796,     0.95896,     0.95996,\n",
       "           0.96096,     0.96196,     0.96296,     0.96396,     0.96496,     0.96597,     0.96697,     0.96797,     0.96897,     0.96997,     0.97097,     0.97197,     0.97297,     0.97397,     0.97497,     0.97598,     0.97698,     0.97798,     0.97898,     0.97998,     0.98098,     0.98198,     0.98298,     0.98398,\n",
       "           0.98498,     0.98599,     0.98699,     0.98799,     0.98899,     0.98999,     0.99099,     0.99199,     0.99299,     0.99399,     0.99499,       0.996,       0.997,       0.998,       0.999,           1]), array([[    0.40832,     0.40832,      0.5258,     0.59317,     0.63665,     0.67376,     0.69552,     0.71764,     0.73617,     0.74506,      0.7573,     0.76857,      0.7789,     0.78504,     0.79447,      0.8017,     0.80813,      0.8148,     0.82111,     0.82716,      0.8334,     0.83697,     0.84087,\n",
       "              0.847,     0.84928,     0.85321,     0.85416,     0.85734,     0.86346,     0.86435,     0.86644,     0.86793,     0.87139,     0.87216,     0.87259,      0.8771,      0.8785,      0.8805,      0.8814,       0.884,     0.88437,     0.88473,     0.88557,     0.88648,     0.88651,     0.88741,\n",
       "            0.88795,     0.89291,     0.89404,     0.89514,     0.89699,     0.89779,     0.89996,     0.90158,      0.9039,     0.90619,     0.90735,     0.90769,     0.90803,     0.90906,     0.90964,     0.91068,     0.91202,      0.9124,     0.91279,     0.91553,     0.91809,     0.91907,     0.92041,\n",
       "            0.92177,     0.92235,      0.9227,     0.92305,     0.92348,     0.92395,     0.92491,     0.92668,     0.92821,     0.92853,     0.92885,     0.92951,     0.93109,     0.93183,     0.93488,     0.93508,     0.93528,     0.93549,     0.93569,     0.93592,     0.93619,     0.93646,     0.93673,\n",
       "             0.9376,     0.93831,     0.93874,     0.93902,     0.93986,     0.94013,     0.94039,     0.94065,     0.94087,     0.94108,     0.94129,     0.94151,     0.94311,     0.94498,     0.94542,     0.94599,     0.94672,     0.94733,     0.94796,     0.94859,     0.94921,     0.94976,     0.94996,\n",
       "            0.95017,     0.95037,     0.95057,     0.95079,     0.95108,     0.95136,     0.95165,     0.95217,     0.95282,     0.95315,     0.95347,      0.9538,     0.95391,       0.954,      0.9541,      0.9542,     0.95429,     0.95439,     0.95449,     0.95458,     0.95468,     0.95478,     0.95514,\n",
       "            0.95593,     0.95656,     0.95687,     0.95712,     0.95762,     0.95834,     0.95895,     0.95904,     0.95912,     0.95921,     0.95929,     0.95937,     0.95946,     0.95954,     0.95963,     0.95971,      0.9598,     0.95988,     0.96013,     0.96103,     0.96109,     0.96116,     0.96123,\n",
       "             0.9613,     0.96137,     0.96144,     0.96151,     0.96158,     0.96165,     0.96171,     0.96178,     0.96185,     0.96192,     0.96199,     0.96203,     0.96206,     0.96246,     0.96286,     0.96316,     0.96337,     0.96358,     0.96378,     0.96399,     0.96421,     0.96442,     0.96464,\n",
       "            0.96486,     0.96508,     0.96569,     0.96624,     0.96638,     0.96653,     0.96667,     0.96681,     0.96695,     0.96709,     0.96723,     0.96836,     0.96844,     0.96852,      0.9686,     0.96868,     0.96876,     0.96884,     0.96892,       0.969,     0.96907,     0.96915,     0.96923,\n",
       "            0.96931,     0.96938,     0.96942,     0.96945,     0.96949,     0.96953,     0.96957,      0.9696,     0.96964,     0.96968,     0.96972,     0.96976,     0.96979,     0.96983,     0.96987,     0.96991,     0.96994,     0.96998,     0.97002,     0.97006,      0.9701,     0.97013,     0.97017,\n",
       "            0.97021,     0.97025,     0.97028,     0.97032,     0.97036,      0.9704,     0.97045,     0.97056,     0.97067,     0.97077,     0.97088,     0.97099,     0.97109,      0.9712,     0.97131,     0.97141,     0.97151,     0.97157,     0.97164,     0.97171,     0.97177,     0.97184,      0.9719,\n",
       "            0.97197,     0.97203,      0.9721,     0.97216,     0.97223,     0.97229,     0.97236,     0.97242,     0.97249,     0.97255,     0.97262,     0.97268,     0.97275,     0.97281,     0.97288,     0.97294,     0.97301,     0.97307,     0.97313,      0.9732,     0.97326,     0.97333,     0.97339,\n",
       "            0.97346,     0.97352,     0.97359,     0.97363,     0.97362,     0.97362,     0.97362,     0.97362,     0.97362,     0.97362,     0.97361,     0.97361,     0.97361,     0.97361,     0.97361,     0.97361,      0.9736,      0.9736,      0.9736,      0.9736,      0.9736,     0.97368,     0.97387,\n",
       "            0.97405,     0.97423,     0.97441,     0.97459,     0.97475,     0.97488,     0.97501,     0.97515,     0.97528,     0.97541,     0.97555,     0.97568,     0.97592,     0.97628,     0.97663,     0.97692,     0.97714,     0.97736,     0.97758,      0.9778,     0.97791,     0.97793,     0.97795,\n",
       "            0.97796,     0.97798,       0.978,     0.97802,     0.97804,     0.97806,     0.97807,     0.97809,     0.97811,     0.97813,     0.97815,     0.97816,     0.97818,      0.9782,     0.97822,     0.97824,     0.97826,     0.97827,     0.97829,     0.97831,     0.97833,     0.97835,     0.97836,\n",
       "            0.97838,      0.9784,     0.97842,     0.97844,     0.97846,     0.97847,     0.97849,     0.97851,     0.97853,     0.97855,     0.97856,     0.97858,      0.9786,     0.97862,     0.97864,     0.97865,     0.97867,     0.97869,     0.97871,     0.97873,     0.97875,     0.97876,     0.97878,\n",
       "             0.9788,     0.97882,     0.97884,     0.97885,     0.97887,     0.97889,     0.97891,     0.97893,     0.97895,     0.97896,     0.97898,      0.9791,     0.97923,     0.97935,     0.97948,      0.9796,     0.97973,     0.97985,     0.97998,     0.98009,     0.98017,     0.98026,     0.98034,\n",
       "            0.98042,     0.98051,     0.98059,     0.98067,     0.98076,     0.98084,     0.98093,     0.98101,     0.98109,     0.98119,     0.98131,     0.98142,     0.98154,     0.98166,     0.98178,      0.9819,     0.98202,     0.98214,     0.98224,     0.98224,     0.98224,     0.98224,     0.98224,\n",
       "            0.98224,     0.98224,     0.98224,     0.98224,     0.98224,     0.98223,     0.98223,     0.98223,     0.98223,     0.98223,     0.98223,     0.98223,     0.98223,     0.98223,     0.98223,     0.98223,     0.98223,     0.98223,     0.98223,     0.98222,     0.98222,     0.98222,     0.98242,\n",
       "            0.98332,     0.98336,     0.98341,     0.98345,     0.98349,     0.98353,     0.98357,     0.98361,     0.98366,      0.9837,     0.98374,     0.98378,     0.98382,     0.98386,     0.98391,     0.98395,     0.98399,     0.98403,     0.98407,     0.98411,     0.98416,      0.9842,     0.98424,\n",
       "            0.98428,     0.98432,     0.98436,     0.98441,     0.98441,     0.98441,     0.98441,     0.98441,     0.98441,     0.98441,     0.98441,      0.9844,      0.9844,      0.9844,      0.9844,      0.9844,      0.9844,      0.9844,      0.9844,      0.9844,      0.9844,      0.9844,      0.9844,\n",
       "             0.9844,      0.9844,     0.98439,     0.98439,     0.98439,     0.98439,     0.98439,     0.98439,     0.98439,     0.98439,     0.98439,     0.98439,     0.98439,     0.98438,     0.98438,     0.98438,     0.98438,     0.98438,     0.98438,     0.98438,     0.98438,     0.98438,     0.98438,\n",
       "            0.98444,      0.9847,     0.98495,      0.9852,     0.98545,     0.98565,     0.98584,     0.98603,     0.98622,     0.98641,     0.98658,     0.98663,     0.98669,     0.98674,     0.98679,     0.98684,     0.98689,     0.98695,       0.987,     0.98705,      0.9871,     0.98716,     0.98721,\n",
       "            0.98726,     0.98731,     0.98736,     0.98742,     0.98747,     0.98752,     0.98757,     0.98762,     0.98768,     0.98779,     0.98791,     0.98803,     0.98815,     0.98827,     0.98839,     0.98851,     0.98863,     0.98875,     0.98878,     0.98878,     0.98878,     0.98877,     0.98877,\n",
       "            0.98877,     0.98877,     0.98877,     0.98877,     0.98877,     0.98877,     0.98877,     0.98877,     0.98877,     0.98877,     0.98876,     0.98875,      0.9888,     0.98886,     0.98893,     0.98899,     0.98905,     0.98912,     0.98918,     0.98924,     0.98931,     0.98937,     0.98943,\n",
       "            0.98949,     0.98956,     0.98962,     0.98968,     0.98975,     0.98981,     0.98989,     0.99012,     0.99035,     0.99058,     0.99081,     0.99098,     0.99098,     0.99098,     0.99098,     0.99098,     0.99098,     0.99098,     0.99098,     0.99098,     0.99098,     0.99097,     0.99097,\n",
       "            0.99097,     0.99097,     0.99097,     0.99097,     0.99097,     0.99097,     0.99097,     0.99097,     0.99097,     0.99097,     0.99097,     0.99097,     0.99096,     0.99096,     0.99096,     0.99096,     0.99096,     0.99097,     0.99106,     0.99115,     0.99124,     0.99133,     0.99141,\n",
       "             0.9915,     0.99159,     0.99168,     0.99177,     0.99186,     0.99195,     0.99204,     0.99208,     0.99208,     0.99208,     0.99207,     0.99207,     0.99241,     0.99289,      0.9932,     0.99319,     0.99325,     0.99382,     0.99432,     0.99432,     0.99431,     0.99432,     0.99455,\n",
       "            0.99478,     0.99501,     0.99524,     0.99548,     0.99582,     0.99617,     0.99651,     0.99658,     0.99658,     0.99658,     0.99658,     0.99658,     0.99658,     0.99658,     0.99657,     0.99657,     0.99657,     0.99657,     0.99657,     0.99657,     0.99657,     0.99657,     0.99657,\n",
       "            0.99657,     0.99657,     0.99657,     0.99657,     0.99657,     0.99657,     0.99657,     0.99657,     0.99656,     0.99656,     0.99656,     0.99655,     0.99655,     0.99655,     0.99654,     0.99654,     0.99654,     0.99654,     0.99653,     0.99653,     0.99653,     0.99653,     0.99653,\n",
       "            0.99652,     0.99652,     0.99651,     0.99651,     0.99651,      0.9965,      0.9965,      0.9965,      0.9965,      0.9965,      0.9965,     0.99649,     0.99648,     0.99648,     0.99648,     0.99647,     0.99647,     0.99647,     0.99647,     0.99646,     0.99646,     0.99645,     0.99644,\n",
       "            0.99644,     0.99643,     0.99642,     0.99641,     0.99639,     0.99638,     0.99638,     0.99637,     0.99636,     0.99635,     0.99635,     0.99635,     0.99634,     0.99633,     0.99632,     0.99631,     0.99631,     0.99629,     0.99628,     0.99627,     0.99626,     0.99625,     0.99624,\n",
       "            0.99623,     0.99622,     0.99622,     0.99621,      0.9962,     0.99619,     0.99617,     0.99615,     0.99615,     0.99613,     0.99611,     0.99611,      0.9961,     0.99609,     0.99608,     0.99607,     0.99607,     0.99607,     0.99606,     0.99606,     0.99662,     0.99735,     0.99734,\n",
       "            0.99733,     0.99732,     0.99731,      0.9973,     0.99729,     0.99728,     0.99728,     0.99727,     0.99726,     0.99725,     0.99724,     0.99722,     0.99722,     0.99722,     0.99722,     0.99722,     0.99721,      0.9972,     0.99719,     0.99718,     0.99718,     0.99718,     0.99718,\n",
       "            0.99716,     0.99715,     0.99714,     0.99712,      0.9971,     0.99708,     0.99706,     0.99703,     0.99701,     0.99698,     0.99696,     0.99692,     0.99687,     0.99683,     0.99678,     0.99674,     0.99669,     0.99661,     0.99656,      0.9965,     0.99638,     0.99628,     0.99618,\n",
       "            0.99608,     0.99593,     0.99788,     0.99785,     0.99781,     0.99773,     0.99768,     0.99763,     0.99758,     0.99754,     0.99745,     0.99738,     0.99732,     0.99726,     0.99719,     0.99713,     0.99708,     0.99703,     0.99701,     0.99698,     0.99694,           1,           1,\n",
       "                  1,           1,           1,           1,           1,           1,           1,           1,           1,           1,           1,           1,           1,           1,           1,           1,           1,           1,           1,           1,           1,           1,           1,\n",
       "                  1,           1,           1,           1,           1,           1,           1,           1,           1,           1,           1,           1,           1,           1,           1,           1,           1,           1,           1,           1,           1,           1,           1,\n",
       "                  1,           1,           1,           1,           1,           1,           1,           1,           1,           1,           1,           1,           1,           1,           1,           1,           1,           1,           1,           1,           1,           1,           1,\n",
       "                  1,           1,           1,           1,           1,           1,           1,           1,           1,           1,           1,           1,           1,           1,           1,           1,           1,           1,           1,           1,           1,           1,           1,\n",
       "                  1,           1,           1,           1,           1,           1,           1,           1,           1,           1,           1,           1,           1,           1,           1,           1,           1,           1,           1,           1,           1,           1,           1,\n",
       "                  1,           1,           1,           1,           1,           1,           1,           1,           1,           1,           1,           1,           1,           1,           1,           1,           1,           1,           1,           1,           1,           1,           1,\n",
       "                  1,           1,           1,           1,           1,           1,           1,           1,           1,           1,           1,           1,           1,           1,           1,           1,           1,           1,           1,           1,           1,           1,           1,\n",
       "                  1,           1,           1,           1,           1,           1,           1,           1,           1,           1,           1]]), 'Confidence', 'Precision'], [array([          0,    0.001001,    0.002002,    0.003003,    0.004004,    0.005005,    0.006006,    0.007007,    0.008008,    0.009009,     0.01001,    0.011011,    0.012012,    0.013013,    0.014014,    0.015015,    0.016016,    0.017017,    0.018018,    0.019019,     0.02002,    0.021021,    0.022022,    0.023023,\n",
       "          0.024024,    0.025025,    0.026026,    0.027027,    0.028028,    0.029029,     0.03003,    0.031031,    0.032032,    0.033033,    0.034034,    0.035035,    0.036036,    0.037037,    0.038038,    0.039039,     0.04004,    0.041041,    0.042042,    0.043043,    0.044044,    0.045045,    0.046046,    0.047047,\n",
       "          0.048048,    0.049049,     0.05005,    0.051051,    0.052052,    0.053053,    0.054054,    0.055055,    0.056056,    0.057057,    0.058058,    0.059059,     0.06006,    0.061061,    0.062062,    0.063063,    0.064064,    0.065065,    0.066066,    0.067067,    0.068068,    0.069069,     0.07007,    0.071071,\n",
       "          0.072072,    0.073073,    0.074074,    0.075075,    0.076076,    0.077077,    0.078078,    0.079079,     0.08008,    0.081081,    0.082082,    0.083083,    0.084084,    0.085085,    0.086086,    0.087087,    0.088088,    0.089089,     0.09009,    0.091091,    0.092092,    0.093093,    0.094094,    0.095095,\n",
       "          0.096096,    0.097097,    0.098098,    0.099099,      0.1001,      0.1011,      0.1021,      0.1031,      0.1041,     0.10511,     0.10611,     0.10711,     0.10811,     0.10911,     0.11011,     0.11111,     0.11211,     0.11311,     0.11411,     0.11512,     0.11612,     0.11712,     0.11812,     0.11912,\n",
       "           0.12012,     0.12112,     0.12212,     0.12312,     0.12412,     0.12513,     0.12613,     0.12713,     0.12813,     0.12913,     0.13013,     0.13113,     0.13213,     0.13313,     0.13413,     0.13514,     0.13614,     0.13714,     0.13814,     0.13914,     0.14014,     0.14114,     0.14214,     0.14314,\n",
       "           0.14414,     0.14515,     0.14615,     0.14715,     0.14815,     0.14915,     0.15015,     0.15115,     0.15215,     0.15315,     0.15415,     0.15516,     0.15616,     0.15716,     0.15816,     0.15916,     0.16016,     0.16116,     0.16216,     0.16316,     0.16416,     0.16517,     0.16617,     0.16717,\n",
       "           0.16817,     0.16917,     0.17017,     0.17117,     0.17217,     0.17317,     0.17417,     0.17518,     0.17618,     0.17718,     0.17818,     0.17918,     0.18018,     0.18118,     0.18218,     0.18318,     0.18418,     0.18519,     0.18619,     0.18719,     0.18819,     0.18919,     0.19019,     0.19119,\n",
       "           0.19219,     0.19319,     0.19419,      0.1952,      0.1962,      0.1972,      0.1982,      0.1992,      0.2002,      0.2012,      0.2022,      0.2032,      0.2042,     0.20521,     0.20621,     0.20721,     0.20821,     0.20921,     0.21021,     0.21121,     0.21221,     0.21321,     0.21421,     0.21522,\n",
       "           0.21622,     0.21722,     0.21822,     0.21922,     0.22022,     0.22122,     0.22222,     0.22322,     0.22422,     0.22523,     0.22623,     0.22723,     0.22823,     0.22923,     0.23023,     0.23123,     0.23223,     0.23323,     0.23423,     0.23524,     0.23624,     0.23724,     0.23824,     0.23924,\n",
       "           0.24024,     0.24124,     0.24224,     0.24324,     0.24424,     0.24525,     0.24625,     0.24725,     0.24825,     0.24925,     0.25025,     0.25125,     0.25225,     0.25325,     0.25425,     0.25526,     0.25626,     0.25726,     0.25826,     0.25926,     0.26026,     0.26126,     0.26226,     0.26326,\n",
       "           0.26426,     0.26527,     0.26627,     0.26727,     0.26827,     0.26927,     0.27027,     0.27127,     0.27227,     0.27327,     0.27427,     0.27528,     0.27628,     0.27728,     0.27828,     0.27928,     0.28028,     0.28128,     0.28228,     0.28328,     0.28428,     0.28529,     0.28629,     0.28729,\n",
       "           0.28829,     0.28929,     0.29029,     0.29129,     0.29229,     0.29329,     0.29429,      0.2953,      0.2963,      0.2973,      0.2983,      0.2993,      0.3003,      0.3013,      0.3023,      0.3033,      0.3043,     0.30531,     0.30631,     0.30731,     0.30831,     0.30931,     0.31031,     0.31131,\n",
       "           0.31231,     0.31331,     0.31431,     0.31532,     0.31632,     0.31732,     0.31832,     0.31932,     0.32032,     0.32132,     0.32232,     0.32332,     0.32432,     0.32533,     0.32633,     0.32733,     0.32833,     0.32933,     0.33033,     0.33133,     0.33233,     0.33333,     0.33433,     0.33534,\n",
       "           0.33634,     0.33734,     0.33834,     0.33934,     0.34034,     0.34134,     0.34234,     0.34334,     0.34434,     0.34535,     0.34635,     0.34735,     0.34835,     0.34935,     0.35035,     0.35135,     0.35235,     0.35335,     0.35435,     0.35536,     0.35636,     0.35736,     0.35836,     0.35936,\n",
       "           0.36036,     0.36136,     0.36236,     0.36336,     0.36436,     0.36537,     0.36637,     0.36737,     0.36837,     0.36937,     0.37037,     0.37137,     0.37237,     0.37337,     0.37437,     0.37538,     0.37638,     0.37738,     0.37838,     0.37938,     0.38038,     0.38138,     0.38238,     0.38338,\n",
       "           0.38438,     0.38539,     0.38639,     0.38739,     0.38839,     0.38939,     0.39039,     0.39139,     0.39239,     0.39339,     0.39439,      0.3954,      0.3964,      0.3974,      0.3984,      0.3994,      0.4004,      0.4014,      0.4024,      0.4034,      0.4044,     0.40541,     0.40641,     0.40741,\n",
       "           0.40841,     0.40941,     0.41041,     0.41141,     0.41241,     0.41341,     0.41441,     0.41542,     0.41642,     0.41742,     0.41842,     0.41942,     0.42042,     0.42142,     0.42242,     0.42342,     0.42442,     0.42543,     0.42643,     0.42743,     0.42843,     0.42943,     0.43043,     0.43143,\n",
       "           0.43243,     0.43343,     0.43443,     0.43544,     0.43644,     0.43744,     0.43844,     0.43944,     0.44044,     0.44144,     0.44244,     0.44344,     0.44444,     0.44545,     0.44645,     0.44745,     0.44845,     0.44945,     0.45045,     0.45145,     0.45245,     0.45345,     0.45445,     0.45546,\n",
       "           0.45646,     0.45746,     0.45846,     0.45946,     0.46046,     0.46146,     0.46246,     0.46346,     0.46446,     0.46547,     0.46647,     0.46747,     0.46847,     0.46947,     0.47047,     0.47147,     0.47247,     0.47347,     0.47447,     0.47548,     0.47648,     0.47748,     0.47848,     0.47948,\n",
       "           0.48048,     0.48148,     0.48248,     0.48348,     0.48448,     0.48549,     0.48649,     0.48749,     0.48849,     0.48949,     0.49049,     0.49149,     0.49249,     0.49349,     0.49449,      0.4955,      0.4965,      0.4975,      0.4985,      0.4995,      0.5005,      0.5015,      0.5025,      0.5035,\n",
       "            0.5045,     0.50551,     0.50651,     0.50751,     0.50851,     0.50951,     0.51051,     0.51151,     0.51251,     0.51351,     0.51451,     0.51552,     0.51652,     0.51752,     0.51852,     0.51952,     0.52052,     0.52152,     0.52252,     0.52352,     0.52452,     0.52553,     0.52653,     0.52753,\n",
       "           0.52853,     0.52953,     0.53053,     0.53153,     0.53253,     0.53353,     0.53453,     0.53554,     0.53654,     0.53754,     0.53854,     0.53954,     0.54054,     0.54154,     0.54254,     0.54354,     0.54454,     0.54555,     0.54655,     0.54755,     0.54855,     0.54955,     0.55055,     0.55155,\n",
       "           0.55255,     0.55355,     0.55455,     0.55556,     0.55656,     0.55756,     0.55856,     0.55956,     0.56056,     0.56156,     0.56256,     0.56356,     0.56456,     0.56557,     0.56657,     0.56757,     0.56857,     0.56957,     0.57057,     0.57157,     0.57257,     0.57357,     0.57457,     0.57558,\n",
       "           0.57658,     0.57758,     0.57858,     0.57958,     0.58058,     0.58158,     0.58258,     0.58358,     0.58458,     0.58559,     0.58659,     0.58759,     0.58859,     0.58959,     0.59059,     0.59159,     0.59259,     0.59359,     0.59459,      0.5956,      0.5966,      0.5976,      0.5986,      0.5996,\n",
       "            0.6006,      0.6016,      0.6026,      0.6036,      0.6046,     0.60561,     0.60661,     0.60761,     0.60861,     0.60961,     0.61061,     0.61161,     0.61261,     0.61361,     0.61461,     0.61562,     0.61662,     0.61762,     0.61862,     0.61962,     0.62062,     0.62162,     0.62262,     0.62362,\n",
       "           0.62462,     0.62563,     0.62663,     0.62763,     0.62863,     0.62963,     0.63063,     0.63163,     0.63263,     0.63363,     0.63463,     0.63564,     0.63664,     0.63764,     0.63864,     0.63964,     0.64064,     0.64164,     0.64264,     0.64364,     0.64464,     0.64565,     0.64665,     0.64765,\n",
       "           0.64865,     0.64965,     0.65065,     0.65165,     0.65265,     0.65365,     0.65465,     0.65566,     0.65666,     0.65766,     0.65866,     0.65966,     0.66066,     0.66166,     0.66266,     0.66366,     0.66466,     0.66567,     0.66667,     0.66767,     0.66867,     0.66967,     0.67067,     0.67167,\n",
       "           0.67267,     0.67367,     0.67467,     0.67568,     0.67668,     0.67768,     0.67868,     0.67968,     0.68068,     0.68168,     0.68268,     0.68368,     0.68468,     0.68569,     0.68669,     0.68769,     0.68869,     0.68969,     0.69069,     0.69169,     0.69269,     0.69369,     0.69469,      0.6957,\n",
       "            0.6967,      0.6977,      0.6987,      0.6997,      0.7007,      0.7017,      0.7027,      0.7037,      0.7047,     0.70571,     0.70671,     0.70771,     0.70871,     0.70971,     0.71071,     0.71171,     0.71271,     0.71371,     0.71471,     0.71572,     0.71672,     0.71772,     0.71872,     0.71972,\n",
       "           0.72072,     0.72172,     0.72272,     0.72372,     0.72472,     0.72573,     0.72673,     0.72773,     0.72873,     0.72973,     0.73073,     0.73173,     0.73273,     0.73373,     0.73473,     0.73574,     0.73674,     0.73774,     0.73874,     0.73974,     0.74074,     0.74174,     0.74274,     0.74374,\n",
       "           0.74474,     0.74575,     0.74675,     0.74775,     0.74875,     0.74975,     0.75075,     0.75175,     0.75275,     0.75375,     0.75475,     0.75576,     0.75676,     0.75776,     0.75876,     0.75976,     0.76076,     0.76176,     0.76276,     0.76376,     0.76476,     0.76577,     0.76677,     0.76777,\n",
       "           0.76877,     0.76977,     0.77077,     0.77177,     0.77277,     0.77377,     0.77477,     0.77578,     0.77678,     0.77778,     0.77878,     0.77978,     0.78078,     0.78178,     0.78278,     0.78378,     0.78478,     0.78579,     0.78679,     0.78779,     0.78879,     0.78979,     0.79079,     0.79179,\n",
       "           0.79279,     0.79379,     0.79479,      0.7958,      0.7968,      0.7978,      0.7988,      0.7998,      0.8008,      0.8018,      0.8028,      0.8038,      0.8048,     0.80581,     0.80681,     0.80781,     0.80881,     0.80981,     0.81081,     0.81181,     0.81281,     0.81381,     0.81481,     0.81582,\n",
       "           0.81682,     0.81782,     0.81882,     0.81982,     0.82082,     0.82182,     0.82282,     0.82382,     0.82482,     0.82583,     0.82683,     0.82783,     0.82883,     0.82983,     0.83083,     0.83183,     0.83283,     0.83383,     0.83483,     0.83584,     0.83684,     0.83784,     0.83884,     0.83984,\n",
       "           0.84084,     0.84184,     0.84284,     0.84384,     0.84484,     0.84585,     0.84685,     0.84785,     0.84885,     0.84985,     0.85085,     0.85185,     0.85285,     0.85385,     0.85485,     0.85586,     0.85686,     0.85786,     0.85886,     0.85986,     0.86086,     0.86186,     0.86286,     0.86386,\n",
       "           0.86486,     0.86587,     0.86687,     0.86787,     0.86887,     0.86987,     0.87087,     0.87187,     0.87287,     0.87387,     0.87487,     0.87588,     0.87688,     0.87788,     0.87888,     0.87988,     0.88088,     0.88188,     0.88288,     0.88388,     0.88488,     0.88589,     0.88689,     0.88789,\n",
       "           0.88889,     0.88989,     0.89089,     0.89189,     0.89289,     0.89389,     0.89489,      0.8959,      0.8969,      0.8979,      0.8989,      0.8999,      0.9009,      0.9019,      0.9029,      0.9039,      0.9049,     0.90591,     0.90691,     0.90791,     0.90891,     0.90991,     0.91091,     0.91191,\n",
       "           0.91291,     0.91391,     0.91491,     0.91592,     0.91692,     0.91792,     0.91892,     0.91992,     0.92092,     0.92192,     0.92292,     0.92392,     0.92492,     0.92593,     0.92693,     0.92793,     0.92893,     0.92993,     0.93093,     0.93193,     0.93293,     0.93393,     0.93493,     0.93594,\n",
       "           0.93694,     0.93794,     0.93894,     0.93994,     0.94094,     0.94194,     0.94294,     0.94394,     0.94494,     0.94595,     0.94695,     0.94795,     0.94895,     0.94995,     0.95095,     0.95195,     0.95295,     0.95395,     0.95495,     0.95596,     0.95696,     0.95796,     0.95896,     0.95996,\n",
       "           0.96096,     0.96196,     0.96296,     0.96396,     0.96496,     0.96597,     0.96697,     0.96797,     0.96897,     0.96997,     0.97097,     0.97197,     0.97297,     0.97397,     0.97497,     0.97598,     0.97698,     0.97798,     0.97898,     0.97998,     0.98098,     0.98198,     0.98298,     0.98398,\n",
       "           0.98498,     0.98599,     0.98699,     0.98799,     0.98899,     0.98999,     0.99099,     0.99199,     0.99299,     0.99399,     0.99499,       0.996,       0.997,       0.998,       0.999,           1]), array([[    0.99002,     0.99002,     0.99002,     0.99002,     0.99002,     0.99002,     0.99002,     0.99002,     0.98891,     0.98891,     0.98891,     0.98891,     0.98891,     0.98891,     0.98891,     0.98891,     0.98891,     0.98891,     0.98891,      0.9878,      0.9878,      0.9878,      0.9878,\n",
       "             0.9878,      0.9878,      0.9878,      0.9878,      0.9878,      0.9878,      0.9878,      0.9878,      0.9878,      0.9878,      0.9878,      0.9878,      0.9878,      0.9878,      0.9878,      0.9878,      0.9878,      0.9878,      0.9878,      0.9878,      0.9878,     0.98723,      0.9867,\n",
       "             0.9867,      0.9867,      0.9867,      0.9867,      0.9867,      0.9867,      0.9867,      0.9867,      0.9867,      0.9867,      0.9867,      0.9867,      0.9867,      0.9867,      0.9867,      0.9867,      0.9867,      0.9867,      0.9867,      0.9867,     0.98559,     0.98559,     0.98559,\n",
       "            0.98559,     0.98559,     0.98559,     0.98559,     0.98559,     0.98559,     0.98559,     0.98559,     0.98559,     0.98559,     0.98559,     0.98559,     0.98559,     0.98559,     0.98559,     0.98559,     0.98559,     0.98559,     0.98559,     0.98559,     0.98559,     0.98559,     0.98559,\n",
       "            0.98559,     0.98559,     0.98528,     0.98448,     0.98448,     0.98448,     0.98448,     0.98448,     0.98448,     0.98448,     0.98448,     0.98448,     0.98448,     0.98448,     0.98448,     0.98448,     0.98448,     0.98448,     0.98448,     0.98448,     0.98448,     0.98448,     0.98448,\n",
       "            0.98448,     0.98448,     0.98448,     0.98448,     0.98448,     0.98448,     0.98448,     0.98448,     0.98448,     0.98448,     0.98448,     0.98448,     0.98448,     0.98448,     0.98448,     0.98448,     0.98448,     0.98448,     0.98448,     0.98448,     0.98448,     0.98448,     0.98448,\n",
       "            0.98448,     0.98448,     0.98392,     0.98337,     0.98337,     0.98337,     0.98337,     0.98337,     0.98337,     0.98337,     0.98337,     0.98337,     0.98337,     0.98337,     0.98337,     0.98337,     0.98337,     0.98337,     0.98337,     0.98337,     0.98337,     0.98337,     0.98337,\n",
       "            0.98337,     0.98337,     0.98337,     0.98337,     0.98337,     0.98337,     0.98337,     0.98337,     0.98337,     0.98337,     0.98337,     0.98309,     0.98226,     0.98226,     0.98226,     0.98226,     0.98226,     0.98226,     0.98226,     0.98226,     0.98226,     0.98226,     0.98226,\n",
       "            0.98226,     0.98226,     0.98226,     0.98226,     0.98226,     0.98226,     0.98226,     0.98226,     0.98226,     0.98226,     0.98226,     0.98226,     0.98226,     0.98226,     0.98226,     0.98226,     0.98226,     0.98226,     0.98226,     0.98226,     0.98226,     0.98226,     0.98226,\n",
       "            0.98226,     0.98226,     0.98226,     0.98226,     0.98226,     0.98226,     0.98226,     0.98226,     0.98226,     0.98226,     0.98226,     0.98226,     0.98226,     0.98226,     0.98226,     0.98226,     0.98226,     0.98226,     0.98226,     0.98226,     0.98226,     0.98226,     0.98226,\n",
       "            0.98226,     0.98226,     0.98226,     0.98226,     0.98226,     0.98226,     0.98226,     0.98226,     0.98226,     0.98226,     0.98226,     0.98226,     0.98226,     0.98226,     0.98226,     0.98226,     0.98226,     0.98226,     0.98226,     0.98226,     0.98226,     0.98226,     0.98226,\n",
       "            0.98226,     0.98226,     0.98226,     0.98226,     0.98226,     0.98226,     0.98226,     0.98226,     0.98226,     0.98226,     0.98226,     0.98226,     0.98226,     0.98226,     0.98226,     0.98226,     0.98226,     0.98226,     0.98226,     0.98226,     0.98226,     0.98226,     0.98226,\n",
       "            0.98226,     0.98226,     0.98226,     0.98224,     0.98217,     0.98211,     0.98205,     0.98199,     0.98193,     0.98186,      0.9818,     0.98174,     0.98168,     0.98162,     0.98156,     0.98149,     0.98143,     0.98137,     0.98131,     0.98125,     0.98119,     0.98115,     0.98115,\n",
       "            0.98115,     0.98115,     0.98115,     0.98115,     0.98115,     0.98115,     0.98115,     0.98115,     0.98115,     0.98115,     0.98115,     0.98115,     0.98115,     0.98115,     0.98115,     0.98115,     0.98115,     0.98115,     0.98115,     0.98115,     0.98115,     0.98115,     0.98115,\n",
       "            0.98115,     0.98115,     0.98115,     0.98115,     0.98115,     0.98115,     0.98115,     0.98115,     0.98115,     0.98115,     0.98115,     0.98115,     0.98115,     0.98115,     0.98115,     0.98115,     0.98115,     0.98115,     0.98115,     0.98115,     0.98115,     0.98115,     0.98115,\n",
       "            0.98115,     0.98115,     0.98115,     0.98115,     0.98115,     0.98115,     0.98115,     0.98115,     0.98115,     0.98115,     0.98115,     0.98115,     0.98115,     0.98115,     0.98115,     0.98115,     0.98115,     0.98115,     0.98115,     0.98115,     0.98115,     0.98115,     0.98115,\n",
       "            0.98115,     0.98115,     0.98115,     0.98115,     0.98115,     0.98115,     0.98115,     0.98115,     0.98115,     0.98115,     0.98115,     0.98115,     0.98115,     0.98115,     0.98115,     0.98115,     0.98115,     0.98115,     0.98115,     0.98115,     0.98115,     0.98115,     0.98115,\n",
       "            0.98115,     0.98115,     0.98115,     0.98115,     0.98115,     0.98115,     0.98115,     0.98115,     0.98115,     0.98115,     0.98115,     0.98115,     0.98115,     0.98115,     0.98115,     0.98115,     0.98115,     0.98115,     0.98115,     0.98111,     0.98107,     0.98102,     0.98098,\n",
       "            0.98094,      0.9809,     0.98086,     0.98082,     0.98078,     0.98074,      0.9807,     0.98065,     0.98061,     0.98057,     0.98053,     0.98049,     0.98045,     0.98041,     0.98037,     0.98032,     0.98028,     0.98024,      0.9802,     0.98016,     0.98012,     0.98008,     0.98004,\n",
       "            0.98004,     0.98004,     0.98004,     0.98004,     0.98004,     0.98004,     0.98004,     0.98004,     0.98004,     0.98004,     0.98004,     0.98004,     0.98004,     0.98004,     0.98004,     0.98004,     0.98004,     0.98004,     0.98004,     0.98004,     0.98004,     0.98004,     0.98004,\n",
       "            0.98004,     0.98004,     0.98004,     0.98004,     0.98001,     0.97996,     0.97992,     0.97988,     0.97983,     0.97979,     0.97975,      0.9797,     0.97966,     0.97962,     0.97957,     0.97953,     0.97949,     0.97944,      0.9794,     0.97936,     0.97931,     0.97927,     0.97923,\n",
       "            0.97918,     0.97914,      0.9791,     0.97905,     0.97901,     0.97897,     0.97892,     0.97885,     0.97879,     0.97872,     0.97866,     0.97859,     0.97853,     0.97846,      0.9784,     0.97833,     0.97827,      0.9782,     0.97814,     0.97807,       0.978,     0.97794,     0.97787,\n",
       "            0.97783,     0.97783,     0.97783,     0.97783,     0.97783,     0.97783,     0.97783,     0.97783,     0.97783,     0.97783,     0.97783,     0.97783,     0.97783,     0.97783,     0.97783,     0.97783,     0.97783,     0.97783,     0.97783,     0.97783,     0.97783,     0.97783,     0.97783,\n",
       "            0.97783,     0.97783,     0.97783,     0.97783,     0.97783,     0.97783,     0.97783,     0.97783,     0.97783,     0.97783,     0.97783,     0.97783,     0.97783,     0.97783,     0.97783,     0.97783,     0.97783,     0.97783,     0.97727,      0.9767,     0.97662,     0.97654,     0.97647,\n",
       "            0.97639,     0.97632,     0.97624,     0.97617,     0.97609,     0.97602,     0.97594,     0.97586,     0.97579,     0.97571,     0.97564,     0.97478,      0.9745,      0.9745,      0.9745,      0.9745,      0.9745,      0.9745,      0.9745,      0.9745,      0.9745,      0.9745,      0.9745,\n",
       "             0.9745,      0.9745,      0.9745,      0.9745,      0.9745,      0.9745,      0.9745,      0.9745,      0.9745,      0.9745,      0.9745,     0.97448,     0.97442,     0.97435,     0.97428,     0.97422,     0.97415,     0.97408,     0.97402,     0.97395,     0.97388,     0.97382,     0.97375,\n",
       "            0.97368,     0.97362,     0.97355,     0.97348,     0.97342,     0.97333,     0.97325,     0.97316,     0.97307,     0.97298,     0.97289,      0.9728,     0.97272,     0.97263,     0.97254,     0.97245,     0.97236,     0.97228,     0.97228,     0.97228,     0.97228,     0.97228,     0.97228,\n",
       "            0.97228,     0.97228,     0.97228,     0.97228,     0.97228,     0.97228,     0.97228,     0.97217,     0.97194,     0.97171,     0.97148,     0.97124,     0.97118,     0.97118,       0.971,     0.97051,     0.97007,     0.97007,     0.97002,     0.96966,      0.9693,     0.96896,     0.96896,\n",
       "            0.96896,     0.96896,     0.96896,     0.96896,     0.96896,     0.96896,     0.96896,     0.96884,     0.96868,     0.96852,     0.96837,     0.96821,     0.96806,      0.9679,     0.96751,     0.96698,     0.96669,      0.9666,     0.96652,     0.96643,     0.96634,     0.96625,     0.96616,\n",
       "            0.96608,     0.96599,      0.9659,     0.96581,     0.96573,     0.96564,     0.96537,     0.96509,      0.9648,     0.96452,     0.96378,     0.96169,     0.96037,     0.95964,     0.95906,     0.95836,     0.95767,     0.95704,     0.95647,     0.95596,     0.95548,     0.95504,      0.9546,\n",
       "            0.95338,     0.95261,     0.95071,     0.94975,     0.94886,     0.94797,     0.94762,     0.94732,     0.94703,     0.94665,     0.94592,     0.94425,     0.94278,     0.94147,     0.94049,     0.93959,     0.93889,     0.93849,      0.9381,     0.93731,     0.93619,     0.93426,     0.93221,\n",
       "            0.93158,     0.92935,     0.92587,     0.92358,     0.91888,     0.91583,     0.91506,     0.91263,      0.9099,     0.90827,     0.90751,     0.90694,     0.90452,     0.90237,     0.89998,     0.89912,     0.89721,      0.8942,     0.89161,     0.88928,     0.88615,     0.88457,     0.88227,\n",
       "            0.87938,     0.87755,     0.87694,     0.87442,     0.87277,     0.86906,     0.86585,     0.86129,     0.85953,     0.85645,     0.85275,     0.85156,      0.8493,     0.84823,     0.84598,     0.84398,     0.84236,     0.84203,      0.8417,     0.84016,     0.83703,     0.83512,      0.8312,\n",
       "              0.829,     0.82646,     0.82313,     0.81926,     0.81694,     0.81341,     0.81275,     0.80992,     0.80779,      0.8044,     0.79974,     0.79591,     0.79562,     0.79533,     0.79505,     0.79434,     0.79209,     0.78913,      0.7866,     0.78469,     0.78355,     0.78315,     0.78275,\n",
       "            0.77943,     0.77488,     0.77308,     0.76732,     0.76122,     0.75737,     0.75084,      0.7452,     0.73899,     0.73233,     0.72644,     0.71753,     0.70717,      0.6982,     0.68647,     0.67704,     0.66767,     0.65125,     0.64205,     0.63178,     0.61083,      0.5934,     0.57848,\n",
       "            0.56279,     0.54231,     0.52202,      0.5147,     0.50432,     0.48621,     0.47697,     0.46592,     0.45719,     0.45026,     0.43441,     0.42143,     0.41217,     0.40341,     0.39309,     0.38454,     0.37892,     0.37221,     0.36914,     0.36556,     0.36078,     0.35858,     0.35452,\n",
       "             0.3492,     0.34455,     0.34265,     0.33732,     0.33497,     0.32908,      0.3277,       0.327,     0.32354,     0.32288,     0.32098,     0.31611,     0.31286,     0.31087,     0.30961,     0.30662,     0.30539,     0.30419,     0.30314,     0.29917,     0.29691,     0.29623,     0.29559,\n",
       "            0.29496,      0.2933,     0.29109,     0.28735,     0.28299,     0.27669,     0.27274,        0.27,     0.26476,     0.25919,     0.24789,     0.23856,     0.23102,     0.22079,     0.20801,     0.19376,     0.17464,     0.16662,     0.15042,     0.12853,     0.11263,    0.097252,    0.084014,\n",
       "            0.07018,    0.059832,     0.05092,    0.048096,    0.046942,    0.045927,     0.04432,    0.036725,    0.034062,    0.029968,    0.025992,    0.023709,    0.020394,    0.019502,    0.018999,    0.016448,    0.015537,    0.012188,   0.0097518,   0.0075704,   0.0072914,   0.0070124,   0.0067334,\n",
       "           0.004533,   0.0035141,   0.0020169,   0.0017034,   0.0013899,           0,           0,           0,           0,           0,           0,           0,           0,           0,           0,           0,           0,           0,           0,           0,           0,           0,           0,\n",
       "                  0,           0,           0,           0,           0,           0,           0,           0,           0,           0,           0,           0,           0,           0,           0,           0,           0,           0,           0,           0,           0,           0,           0,\n",
       "                  0,           0,           0,           0,           0,           0,           0,           0,           0,           0,           0,           0,           0,           0,           0,           0,           0,           0,           0,           0,           0,           0,           0,\n",
       "                  0,           0,           0,           0,           0,           0,           0,           0,           0,           0,           0,           0,           0,           0,           0,           0,           0,           0,           0,           0,           0,           0,           0,\n",
       "                  0,           0,           0,           0,           0,           0,           0,           0,           0,           0,           0]]), 'Confidence', 'Recall']]\n",
       "fitness: 0.7593204214140596\n",
       "keys: ['metrics/precision(B)', 'metrics/recall(B)', 'metrics/mAP50(B)', 'metrics/mAP50-95(B)']\n",
       "maps: array([    0.73364])\n",
       "names: {0: 'License_Plate'}\n",
       "plot: True\n",
       "results_dict: {'metrics/precision(B)': 0.9887652240295097, 'metrics/recall(B)': 0.9757134149845792, 'metrics/mAP50(B)': 0.990431573620289, 'metrics/mAP50-95(B)': 0.7336414045022565, 'fitness': 0.7593204214140596}\n",
       "save_dir: PosixPath('runs/detect/val')\n",
       "speed: {'preprocess': 0.20308478348920136, 'inference': 5.304709043091928, 'loss': 0.006259704122737962, 'postprocess': 1.446089777005773}\n",
       "task: 'detect'"
      ]
     },
     "execution_count": 9,
     "metadata": {},
     "output_type": "execute_result"
    }
   ],
   "source": [
    "test_results = onnx_model.val(data='data_test.yaml')\n",
    "test_results"
   ]
  },
  {
   "cell_type": "markdown",
   "id": "03f5313e-a86c-4e4c-9e1f-97d37b5e1841",
   "metadata": {},
   "source": [
    "## Compute Mean Intersection Over Union\n",
    "\n",
    "Reported Mean IoU: 0.8265867242728998"
   ]
  },
  {
   "cell_type": "code",
   "execution_count": 14,
   "id": "42c6515c-f702-41fd-80f7-fab066d946b2",
   "metadata": {
    "scrolled": true
   },
   "outputs": [
    {
     "name": "stderr",
     "output_type": "stream",
     "text": [
      "/home/cameron/Documents/UBC Course Materials/2023W2/CPSC 440/license-plate-recognition/yolo/venv/lib/python3.10/site-packages/tqdm/auto.py:21: TqdmWarning:\n",
      "\n",
      "IProgress not found. Please update jupyter and ipywidgets. See https://ipywidgets.readthedocs.io/en/stable/user_install.html\n",
      "\n"
     ]
    }
   ],
   "source": [
    "from datasets import load_dataset, Dataset\n",
    "\n",
    "ds = load_dataset(\"keremberke/license-plate-object-detection\", name=\"full\")"
   ]
  },
  {
   "cell_type": "code",
   "execution_count": 22,
   "id": "0e08123f-7a7a-4c06-b2ac-9b562cb359c5",
   "metadata": {},
   "outputs": [],
   "source": [
    "def get_data(data):\n",
    "    images = []\n",
    "    targets = []\n",
    "    for i in range(0, len(data)):\n",
    "        img = data[i]\n",
    "        for j in range(len(img['objects']['bbox'])):\n",
    "            box = img['objects']['bbox'][j]\n",
    "            top_left_x = box[0]\n",
    "            top_left_y = box[1]\n",
    "            bottom_right_x = box[0] + box[2]\n",
    "            bottom_right_y = box[1] + box[3]\n",
    "        \n",
    "            image = img['image']\n",
    "        \n",
    "            # convert image to array and append to list\n",
    "            images.append(image)\n",
    "        \n",
    "            # apply relative scaling to bounding boxes as per given image and append to list\n",
    "            targets.append(\n",
    "                (\n",
    "                    float(top_left_x),\n",
    "                    float(top_left_y),\n",
    "                    float(bottom_right_x),\n",
    "                    float(bottom_right_y),\n",
    "                )\n",
    "            )\n",
    "    return images, targets"
   ]
  },
  {
   "cell_type": "code",
   "execution_count": 24,
   "id": "124b0a7b-de2f-4a03-b857-690b5e1b7fe4",
   "metadata": {},
   "outputs": [],
   "source": [
    "x_test, y_test = get_data(ds[\"test\"])"
   ]
  },
  {
   "cell_type": "code",
   "execution_count": 35,
   "id": "0d856ded-25bc-455d-bcf1-e018d622aa30",
   "metadata": {},
   "outputs": [
    {
     "data": {
      "text/plain": [
       "(264.0, 227.0, 347.0, 247.0)"
      ]
     },
     "execution_count": 35,
     "metadata": {},
     "output_type": "execute_result"
    }
   ],
   "source": [
    "y_test[0]"
   ]
  },
  {
   "cell_type": "code",
   "execution_count": 29,
   "id": "de3fc9ee-dc08-4d26-b294-ea26000fb93f",
   "metadata": {},
   "outputs": [],
   "source": [
    "# To calculate IoU (intersection over union, given two bounding boxes)\n",
    "def bounding_box_intersection_over_union(box_predicted, box_truth):\n",
    "    # get (x, y) coordinates of intersection of bounding boxes\n",
    "    top_x_intersect = max(box_predicted[0], box_truth[0])\n",
    "    top_y_intersect = max(box_predicted[1], box_truth[1])\n",
    "    bottom_x_intersect = min(box_predicted[2], box_truth[2])\n",
    "    bottom_y_intersect = min(box_predicted[3], box_truth[3])\n",
    "\n",
    "    # calculate area of the intersection bb (bounding box)\n",
    "    intersection_area = max(0, bottom_x_intersect - top_x_intersect + 1) * max(\n",
    "        0, bottom_y_intersect - top_y_intersect + 1\n",
    "    )\n",
    "\n",
    "    # calculate area of the prediction bb and ground-truth bb\n",
    "    box_predicted_area = (box_predicted[2] - box_predicted[0] + 1) * (\n",
    "        box_predicted[3] - box_predicted[1] + 1\n",
    "    )\n",
    "    box_truth_area = (box_truth[2] - box_truth[0] + 1) * (\n",
    "        box_truth[3] - box_truth[1] + 1\n",
    "    )\n",
    "\n",
    "    # calculate intersection over union by taking intersection\n",
    "    # area and dividing it by the sum of predicted bb and ground truth\n",
    "    # bb areas subtracted by  the interesection area\n",
    "\n",
    "    # return ioU\n",
    "    return intersection_area / float(\n",
    "        box_predicted_area + box_truth_area - intersection_area\n",
    "    )"
   ]
  },
  {
   "cell_type": "code",
   "execution_count": 34,
   "id": "144d8b04-deab-47fe-b258-3da193a64438",
   "metadata": {},
   "outputs": [
    {
     "name": "stdout",
     "output_type": "stream",
     "text": [
      "\n",
      "0: 640x640 1 License_Plate, 6.0ms\n",
      "Speed: 25.7ms preprocess, 6.0ms inference, 1.5ms postprocess per image at shape (1, 3, 640, 640)\n",
      "\n",
      "0: 640x640 1 License_Plate, 5.2ms\n",
      "Speed: 1.1ms preprocess, 5.2ms inference, 0.9ms postprocess per image at shape (1, 3, 640, 640)\n",
      "\n",
      "0: 640x640 1 License_Plate, 5.0ms\n",
      "Speed: 1.1ms preprocess, 5.0ms inference, 1.0ms postprocess per image at shape (1, 3, 640, 640)\n",
      "\n",
      "0: 640x640 1 License_Plate, 5.3ms\n",
      "Speed: 1.1ms preprocess, 5.3ms inference, 1.1ms postprocess per image at shape (1, 3, 640, 640)\n",
      "\n",
      "0: 640x640 1 License_Plate, 6.9ms\n",
      "Speed: 1.0ms preprocess, 6.9ms inference, 0.9ms postprocess per image at shape (1, 3, 640, 640)\n",
      "\n",
      "0: 640x640 1 License_Plate, 5.6ms\n",
      "Speed: 1.7ms preprocess, 5.6ms inference, 1.3ms postprocess per image at shape (1, 3, 640, 640)\n",
      "\n",
      "0: 640x640 1 License_Plate, 7.1ms\n",
      "Speed: 1.0ms preprocess, 7.1ms inference, 1.0ms postprocess per image at shape (1, 3, 640, 640)\n",
      "\n",
      "0: 640x640 1 License_Plate, 6.9ms\n",
      "Speed: 1.1ms preprocess, 6.9ms inference, 0.9ms postprocess per image at shape (1, 3, 640, 640)\n",
      "\n",
      "0: 640x640 1 License_Plate, 5.0ms\n",
      "Speed: 1.0ms preprocess, 5.0ms inference, 1.9ms postprocess per image at shape (1, 3, 640, 640)\n",
      "\n",
      "0: 640x640 1 License_Plate, 5.6ms\n",
      "Speed: 0.9ms preprocess, 5.6ms inference, 0.9ms postprocess per image at shape (1, 3, 640, 640)\n",
      "\n",
      "0: 640x640 1 License_Plate, 5.9ms\n",
      "Speed: 1.2ms preprocess, 5.9ms inference, 1.2ms postprocess per image at shape (1, 3, 640, 640)\n",
      "\n",
      "0: 640x640 1 License_Plate, 5.8ms\n",
      "Speed: 0.9ms preprocess, 5.8ms inference, 1.1ms postprocess per image at shape (1, 3, 640, 640)\n",
      "\n",
      "0: 640x640 1 License_Plate, 6.5ms\n",
      "Speed: 1.2ms preprocess, 6.5ms inference, 1.0ms postprocess per image at shape (1, 3, 640, 640)\n",
      "\n",
      "0: 640x640 1 License_Plate, 4.8ms\n",
      "Speed: 1.2ms preprocess, 4.8ms inference, 1.1ms postprocess per image at shape (1, 3, 640, 640)\n",
      "\n",
      "0: 640x640 1 License_Plate, 6.0ms\n",
      "Speed: 1.0ms preprocess, 6.0ms inference, 0.9ms postprocess per image at shape (1, 3, 640, 640)\n",
      "\n",
      "0: 640x640 1 License_Plate, 5.0ms\n",
      "Speed: 1.0ms preprocess, 5.0ms inference, 0.8ms postprocess per image at shape (1, 3, 640, 640)\n",
      "\n",
      "0: 640x640 1 License_Plate, 6.6ms\n",
      "Speed: 1.5ms preprocess, 6.6ms inference, 0.9ms postprocess per image at shape (1, 3, 640, 640)\n",
      "\n",
      "0: 640x640 2 License_Plates, 5.9ms\n",
      "Speed: 1.5ms preprocess, 5.9ms inference, 1.9ms postprocess per image at shape (1, 3, 640, 640)\n",
      "\n",
      "0: 640x640 2 License_Plates, 6.0ms\n",
      "Speed: 1.5ms preprocess, 6.0ms inference, 0.9ms postprocess per image at shape (1, 3, 640, 640)\n",
      "\n",
      "0: 640x640 1 License_Plate, 5.1ms\n",
      "Speed: 1.0ms preprocess, 5.1ms inference, 1.6ms postprocess per image at shape (1, 3, 640, 640)\n",
      "\n",
      "0: 640x640 1 License_Plate, 5.8ms\n",
      "Speed: 0.9ms preprocess, 5.8ms inference, 0.8ms postprocess per image at shape (1, 3, 640, 640)\n",
      "\n",
      "0: 640x640 1 License_Plate, 6.1ms\n",
      "Speed: 1.4ms preprocess, 6.1ms inference, 1.4ms postprocess per image at shape (1, 3, 640, 640)\n",
      "\n",
      "0: 640x640 1 License_Plate, 6.0ms\n",
      "Speed: 1.6ms preprocess, 6.0ms inference, 1.4ms postprocess per image at shape (1, 3, 640, 640)\n",
      "\n",
      "0: 640x640 1 License_Plate, 5.8ms\n",
      "Speed: 1.0ms preprocess, 5.8ms inference, 0.8ms postprocess per image at shape (1, 3, 640, 640)\n",
      "\n",
      "0: 640x640 1 License_Plate, 6.0ms\n",
      "Speed: 1.2ms preprocess, 6.0ms inference, 0.8ms postprocess per image at shape (1, 3, 640, 640)\n",
      "\n",
      "0: 640x640 1 License_Plate, 5.2ms\n",
      "Speed: 1.0ms preprocess, 5.2ms inference, 0.8ms postprocess per image at shape (1, 3, 640, 640)\n",
      "\n",
      "0: 640x640 2 License_Plates, 5.1ms\n",
      "Speed: 1.2ms preprocess, 5.1ms inference, 1.2ms postprocess per image at shape (1, 3, 640, 640)\n",
      "\n",
      "0: 640x640 2 License_Plates, 4.7ms\n",
      "Speed: 1.1ms preprocess, 4.7ms inference, 0.9ms postprocess per image at shape (1, 3, 640, 640)\n",
      "\n",
      "0: 640x640 1 License_Plate, 4.5ms\n",
      "Speed: 1.3ms preprocess, 4.5ms inference, 1.8ms postprocess per image at shape (1, 3, 640, 640)\n",
      "\n",
      "0: 640x640 1 License_Plate, 5.4ms\n",
      "Speed: 0.9ms preprocess, 5.4ms inference, 0.8ms postprocess per image at shape (1, 3, 640, 640)\n",
      "\n",
      "0: 640x640 1 License_Plate, 4.3ms\n",
      "Speed: 1.2ms preprocess, 4.3ms inference, 1.0ms postprocess per image at shape (1, 3, 640, 640)\n",
      "\n",
      "0: 640x640 1 License_Plate, 5.7ms\n",
      "Speed: 1.0ms preprocess, 5.7ms inference, 0.9ms postprocess per image at shape (1, 3, 640, 640)\n",
      "\n",
      "0: 640x640 1 License_Plate, 4.6ms\n",
      "Speed: 1.4ms preprocess, 4.6ms inference, 0.8ms postprocess per image at shape (1, 3, 640, 640)\n",
      "\n",
      "0: 640x640 1 License_Plate, 5.2ms\n",
      "Speed: 1.1ms preprocess, 5.2ms inference, 1.2ms postprocess per image at shape (1, 3, 640, 640)\n",
      "\n",
      "0: 640x640 1 License_Plate, 5.2ms\n",
      "Speed: 0.9ms preprocess, 5.2ms inference, 0.8ms postprocess per image at shape (1, 3, 640, 640)\n",
      "\n",
      "0: 640x640 1 License_Plate, 4.3ms\n",
      "Speed: 1.0ms preprocess, 4.3ms inference, 1.0ms postprocess per image at shape (1, 3, 640, 640)\n",
      "\n",
      "0: 640x640 1 License_Plate, 4.3ms\n",
      "Speed: 1.0ms preprocess, 4.3ms inference, 1.6ms postprocess per image at shape (1, 3, 640, 640)\n",
      "\n",
      "0: 640x640 1 License_Plate, 5.1ms\n",
      "Speed: 0.9ms preprocess, 5.1ms inference, 0.8ms postprocess per image at shape (1, 3, 640, 640)\n",
      "\n",
      "0: 640x640 1 License_Plate, 4.4ms\n",
      "Speed: 1.2ms preprocess, 4.4ms inference, 1.1ms postprocess per image at shape (1, 3, 640, 640)\n",
      "\n",
      "0: 640x640 1 License_Plate, 5.7ms\n",
      "Speed: 1.0ms preprocess, 5.7ms inference, 0.9ms postprocess per image at shape (1, 3, 640, 640)\n",
      "\n",
      "0: 640x640 1 License_Plate, 4.3ms\n",
      "Speed: 1.0ms preprocess, 4.3ms inference, 0.9ms postprocess per image at shape (1, 3, 640, 640)\n",
      "\n",
      "0: 640x640 1 License_Plate, 4.3ms\n",
      "Speed: 1.3ms preprocess, 4.3ms inference, 1.3ms postprocess per image at shape (1, 3, 640, 640)\n",
      "\n",
      "0: 640x640 1 License_Plate, 4.4ms\n",
      "Speed: 0.9ms preprocess, 4.4ms inference, 1.0ms postprocess per image at shape (1, 3, 640, 640)\n",
      "\n",
      "0: 640x640 1 License_Plate, 4.7ms\n",
      "Speed: 1.0ms preprocess, 4.7ms inference, 0.8ms postprocess per image at shape (1, 3, 640, 640)\n",
      "\n",
      "0: 640x640 1 License_Plate, 4.2ms\n",
      "Speed: 1.0ms preprocess, 4.2ms inference, 1.2ms postprocess per image at shape (1, 3, 640, 640)\n",
      "\n",
      "0: 640x640 2 License_Plates, 5.4ms\n",
      "Speed: 0.6ms preprocess, 5.4ms inference, 0.8ms postprocess per image at shape (1, 3, 640, 640)\n",
      "\n",
      "0: 640x640 2 License_Plates, 4.2ms\n",
      "Speed: 0.7ms preprocess, 4.2ms inference, 0.8ms postprocess per image at shape (1, 3, 640, 640)\n",
      "\n",
      "0: 640x640 1 License_Plate, 4.3ms\n",
      "Speed: 1.1ms preprocess, 4.3ms inference, 1.3ms postprocess per image at shape (1, 3, 640, 640)\n",
      "\n",
      "0: 640x640 1 License_Plate, 5.3ms\n",
      "Speed: 1.0ms preprocess, 5.3ms inference, 0.8ms postprocess per image at shape (1, 3, 640, 640)\n",
      "\n",
      "0: 640x640 1 License_Plate, 4.3ms\n",
      "Speed: 1.1ms preprocess, 4.3ms inference, 0.8ms postprocess per image at shape (1, 3, 640, 640)\n",
      "\n",
      "0: 640x640 1 License_Plate, 4.3ms\n",
      "Speed: 1.0ms preprocess, 4.3ms inference, 1.4ms postprocess per image at shape (1, 3, 640, 640)\n",
      "\n",
      "0: 640x640 1 License_Plate, 5.5ms\n",
      "Speed: 1.0ms preprocess, 5.5ms inference, 0.8ms postprocess per image at shape (1, 3, 640, 640)\n",
      "\n",
      "0: 640x640 1 License_Plate, 4.3ms\n",
      "Speed: 1.1ms preprocess, 4.3ms inference, 0.8ms postprocess per image at shape (1, 3, 640, 640)\n",
      "\n",
      "0: 640x640 1 License_Plate, 4.5ms\n",
      "Speed: 1.2ms preprocess, 4.5ms inference, 1.3ms postprocess per image at shape (1, 3, 640, 640)\n",
      "\n",
      "0: 640x640 1 License_Plate, 5.2ms\n",
      "Speed: 0.9ms preprocess, 5.2ms inference, 0.8ms postprocess per image at shape (1, 3, 640, 640)\n",
      "\n",
      "0: 640x640 1 License_Plate, 4.7ms\n",
      "Speed: 1.0ms preprocess, 4.7ms inference, 0.8ms postprocess per image at shape (1, 3, 640, 640)\n",
      "\n",
      "0: 640x640 1 License_Plate, 4.3ms\n",
      "Speed: 1.0ms preprocess, 4.3ms inference, 1.5ms postprocess per image at shape (1, 3, 640, 640)\n",
      "\n",
      "0: 640x640 1 License_Plate, 5.6ms\n",
      "Speed: 1.0ms preprocess, 5.6ms inference, 0.8ms postprocess per image at shape (1, 3, 640, 640)\n",
      "\n",
      "0: 640x640 1 License_Plate, 4.2ms\n",
      "Speed: 1.1ms preprocess, 4.2ms inference, 0.7ms postprocess per image at shape (1, 3, 640, 640)\n",
      "\n",
      "0: 640x640 1 License_Plate, 4.3ms\n",
      "Speed: 0.9ms preprocess, 4.3ms inference, 0.7ms postprocess per image at shape (1, 3, 640, 640)\n",
      "\n",
      "0: 640x640 1 License_Plate, 4.8ms\n",
      "Speed: 1.1ms preprocess, 4.8ms inference, 0.8ms postprocess per image at shape (1, 3, 640, 640)\n",
      "\n",
      "0: 640x640 1 License_Plate, 5.5ms\n",
      "Speed: 1.0ms preprocess, 5.5ms inference, 0.8ms postprocess per image at shape (1, 3, 640, 640)\n",
      "\n",
      "0: 640x640 1 License_Plate, 4.7ms\n",
      "Speed: 1.5ms preprocess, 4.7ms inference, 0.8ms postprocess per image at shape (1, 3, 640, 640)\n",
      "\n",
      "0: 640x640 1 License_Plate, 4.6ms\n",
      "Speed: 1.1ms preprocess, 4.6ms inference, 1.1ms postprocess per image at shape (1, 3, 640, 640)\n",
      "\n",
      "0: 640x640 1 License_Plate, 4.9ms\n",
      "Speed: 1.0ms preprocess, 4.9ms inference, 0.8ms postprocess per image at shape (1, 3, 640, 640)\n",
      "\n",
      "0: 640x640 1 License_Plate, 4.3ms\n",
      "Speed: 1.0ms preprocess, 4.3ms inference, 0.8ms postprocess per image at shape (1, 3, 640, 640)\n",
      "\n",
      "0: 640x640 1 License_Plate, 4.8ms\n",
      "Speed: 1.0ms preprocess, 4.8ms inference, 1.4ms postprocess per image at shape (1, 3, 640, 640)\n",
      "\n",
      "0: 640x640 1 License_Plate, 5.2ms\n",
      "Speed: 0.9ms preprocess, 5.2ms inference, 0.8ms postprocess per image at shape (1, 3, 640, 640)\n",
      "\n",
      "0: 640x640 1 License_Plate, 4.2ms\n",
      "Speed: 1.2ms preprocess, 4.2ms inference, 0.7ms postprocess per image at shape (1, 3, 640, 640)\n",
      "\n",
      "0: 640x640 1 License_Plate, 4.1ms\n",
      "Speed: 1.0ms preprocess, 4.1ms inference, 1.0ms postprocess per image at shape (1, 3, 640, 640)\n",
      "\n",
      "0: 640x640 1 License_Plate, 4.1ms\n",
      "Speed: 1.0ms preprocess, 4.1ms inference, 0.7ms postprocess per image at shape (1, 3, 640, 640)\n",
      "\n",
      "0: 640x640 1 License_Plate, 5.0ms\n",
      "Speed: 1.1ms preprocess, 5.0ms inference, 0.8ms postprocess per image at shape (1, 3, 640, 640)\n",
      "\n",
      "0: 640x640 1 License_Plate, 4.6ms\n",
      "Speed: 1.0ms preprocess, 4.6ms inference, 0.8ms postprocess per image at shape (1, 3, 640, 640)\n",
      "\n",
      "0: 640x640 1 License_Plate, 4.8ms\n",
      "Speed: 1.5ms preprocess, 4.8ms inference, 0.9ms postprocess per image at shape (1, 3, 640, 640)\n",
      "\n",
      "0: 640x640 1 License_Plate, 5.3ms\n",
      "Speed: 1.2ms preprocess, 5.3ms inference, 1.2ms postprocess per image at shape (1, 3, 640, 640)\n",
      "\n",
      "0: 640x640 1 License_Plate, 5.1ms\n",
      "Speed: 0.9ms preprocess, 5.1ms inference, 0.8ms postprocess per image at shape (1, 3, 640, 640)\n",
      "\n",
      "0: 640x640 1 License_Plate, 4.3ms\n",
      "Speed: 1.3ms preprocess, 4.3ms inference, 0.8ms postprocess per image at shape (1, 3, 640, 640)\n",
      "\n",
      "0: 640x640 1 License_Plate, 4.4ms\n",
      "Speed: 1.2ms preprocess, 4.4ms inference, 1.8ms postprocess per image at shape (1, 3, 640, 640)\n",
      "\n",
      "0: 640x640 1 License_Plate, 5.1ms\n",
      "Speed: 0.9ms preprocess, 5.1ms inference, 0.9ms postprocess per image at shape (1, 3, 640, 640)\n",
      "\n",
      "0: 640x640 3 License_Plates, 4.2ms\n",
      "Speed: 1.5ms preprocess, 4.2ms inference, 1.7ms postprocess per image at shape (1, 3, 640, 640)\n",
      "\n",
      "0: 640x640 1 License_Plate, 5.4ms\n",
      "Speed: 0.9ms preprocess, 5.4ms inference, 0.9ms postprocess per image at shape (1, 3, 640, 640)\n",
      "\n",
      "0: 640x640 1 License_Plate, 4.3ms\n",
      "Speed: 1.3ms preprocess, 4.3ms inference, 0.9ms postprocess per image at shape (1, 3, 640, 640)\n",
      "\n",
      "0: 640x640 1 License_Plate, 4.2ms\n",
      "Speed: 1.0ms preprocess, 4.2ms inference, 1.3ms postprocess per image at shape (1, 3, 640, 640)\n",
      "\n",
      "0: 640x640 1 License_Plate, 5.4ms\n",
      "Speed: 0.9ms preprocess, 5.4ms inference, 0.8ms postprocess per image at shape (1, 3, 640, 640)\n",
      "\n",
      "0: 640x640 1 License_Plate, 4.2ms\n",
      "Speed: 1.0ms preprocess, 4.2ms inference, 0.8ms postprocess per image at shape (1, 3, 640, 640)\n",
      "\n",
      "0: 640x640 1 License_Plate, 4.2ms\n",
      "Speed: 1.0ms preprocess, 4.2ms inference, 1.0ms postprocess per image at shape (1, 3, 640, 640)\n",
      "\n",
      "0: 640x640 1 License_Plate, 5.2ms\n",
      "Speed: 1.2ms preprocess, 5.2ms inference, 0.9ms postprocess per image at shape (1, 3, 640, 640)\n",
      "\n",
      "0: 640x640 1 License_Plate, 4.2ms\n",
      "Speed: 1.3ms preprocess, 4.2ms inference, 0.9ms postprocess per image at shape (1, 3, 640, 640)\n",
      "\n",
      "0: 640x640 1 License_Plate, 4.6ms\n",
      "Speed: 1.1ms preprocess, 4.6ms inference, 0.9ms postprocess per image at shape (1, 3, 640, 640)\n",
      "\n",
      "0: 640x640 1 License_Plate, 5.9ms\n",
      "Speed: 1.8ms preprocess, 5.9ms inference, 1.1ms postprocess per image at shape (1, 3, 640, 640)\n",
      "\n",
      "0: 640x640 1 License_Plate, 5.0ms\n",
      "Speed: 1.5ms preprocess, 5.0ms inference, 0.8ms postprocess per image at shape (1, 3, 640, 640)\n",
      "\n",
      "0: 640x640 1 License_Plate, 5.2ms\n",
      "Speed: 1.0ms preprocess, 5.2ms inference, 0.8ms postprocess per image at shape (1, 3, 640, 640)\n",
      "\n",
      "0: 640x640 1 License_Plate, 4.4ms\n",
      "Speed: 1.0ms preprocess, 4.4ms inference, 0.8ms postprocess per image at shape (1, 3, 640, 640)\n",
      "\n",
      "0: 640x640 1 License_Plate, 4.9ms\n",
      "Speed: 1.0ms preprocess, 4.9ms inference, 1.0ms postprocess per image at shape (1, 3, 640, 640)\n",
      "\n",
      "0: 640x640 1 License_Plate, 4.3ms\n",
      "Speed: 1.2ms preprocess, 4.3ms inference, 0.9ms postprocess per image at shape (1, 3, 640, 640)\n",
      "\n",
      "0: 640x640 1 License_Plate, 4.3ms\n",
      "Speed: 1.1ms preprocess, 4.3ms inference, 0.9ms postprocess per image at shape (1, 3, 640, 640)\n",
      "\n",
      "0: 640x640 1 License_Plate, 5.1ms\n",
      "Speed: 1.0ms preprocess, 5.1ms inference, 1.3ms postprocess per image at shape (1, 3, 640, 640)\n",
      "\n",
      "0: 640x640 1 License_Plate, 4.6ms\n",
      "Speed: 0.9ms preprocess, 4.6ms inference, 0.8ms postprocess per image at shape (1, 3, 640, 640)\n",
      "\n",
      "0: 640x640 1 License_Plate, 4.3ms\n",
      "Speed: 1.3ms preprocess, 4.3ms inference, 0.7ms postprocess per image at shape (1, 3, 640, 640)\n",
      "\n",
      "0: 640x640 1 License_Plate, 4.1ms\n",
      "Speed: 1.0ms preprocess, 4.1ms inference, 1.6ms postprocess per image at shape (1, 3, 640, 640)\n",
      "\n",
      "0: 640x640 1 License_Plate, 4.4ms\n",
      "Speed: 1.1ms preprocess, 4.4ms inference, 0.8ms postprocess per image at shape (1, 3, 640, 640)\n",
      "\n",
      "0: 640x640 1 License_Plate, 4.4ms\n",
      "Speed: 1.1ms preprocess, 4.4ms inference, 0.7ms postprocess per image at shape (1, 3, 640, 640)\n",
      "\n",
      "0: 640x640 2 License_Plates, 4.4ms\n",
      "Speed: 1.5ms preprocess, 4.4ms inference, 0.8ms postprocess per image at shape (1, 3, 640, 640)\n",
      "\n",
      "0: 640x640 1 License_Plate, 4.1ms\n",
      "Speed: 1.0ms preprocess, 4.1ms inference, 0.9ms postprocess per image at shape (1, 3, 640, 640)\n",
      "\n",
      "0: 640x640 1 License_Plate, 4.7ms\n",
      "Speed: 0.9ms preprocess, 4.7ms inference, 1.0ms postprocess per image at shape (1, 3, 640, 640)\n",
      "\n",
      "0: 640x640 (no detections), 4.2ms\n",
      "Speed: 1.2ms preprocess, 4.2ms inference, 0.4ms postprocess per image at shape (1, 3, 640, 640)\n",
      "\n",
      "0: 640x640 1 License_Plate, 4.5ms\n",
      "Speed: 0.9ms preprocess, 4.5ms inference, 1.5ms postprocess per image at shape (1, 3, 640, 640)\n",
      "\n",
      "0: 640x640 1 License_Plate, 4.3ms\n",
      "Speed: 0.9ms preprocess, 4.3ms inference, 0.7ms postprocess per image at shape (1, 3, 640, 640)\n",
      "\n",
      "0: 640x640 1 License_Plate, 4.6ms\n",
      "Speed: 1.1ms preprocess, 4.6ms inference, 0.8ms postprocess per image at shape (1, 3, 640, 640)\n",
      "\n",
      "0: 640x640 1 License_Plate, 4.7ms\n",
      "Speed: 1.1ms preprocess, 4.7ms inference, 1.2ms postprocess per image at shape (1, 3, 640, 640)\n",
      "\n",
      "0: 640x640 1 License_Plate, 5.2ms\n",
      "Speed: 0.9ms preprocess, 5.2ms inference, 0.8ms postprocess per image at shape (1, 3, 640, 640)\n",
      "\n",
      "0: 640x640 1 License_Plate, 4.2ms\n",
      "Speed: 1.0ms preprocess, 4.2ms inference, 0.8ms postprocess per image at shape (1, 3, 640, 640)\n",
      "\n",
      "0: 640x640 1 License_Plate, 4.3ms\n",
      "Speed: 1.0ms preprocess, 4.3ms inference, 1.7ms postprocess per image at shape (1, 3, 640, 640)\n",
      "\n",
      "0: 640x640 1 License_Plate, 4.4ms\n",
      "Speed: 0.9ms preprocess, 4.4ms inference, 0.8ms postprocess per image at shape (1, 3, 640, 640)\n",
      "\n",
      "0: 640x640 1 License_Plate, 4.2ms\n",
      "Speed: 1.0ms preprocess, 4.2ms inference, 0.7ms postprocess per image at shape (1, 3, 640, 640)\n",
      "\n",
      "0: 640x640 1 License_Plate, 4.0ms\n",
      "Speed: 1.0ms preprocess, 4.0ms inference, 0.9ms postprocess per image at shape (1, 3, 640, 640)\n",
      "\n",
      "0: 640x640 1 License_Plate, 5.1ms\n",
      "Speed: 1.2ms preprocess, 5.1ms inference, 0.9ms postprocess per image at shape (1, 3, 640, 640)\n",
      "\n",
      "0: 640x640 1 License_Plate, 4.2ms\n",
      "Speed: 1.1ms preprocess, 4.2ms inference, 0.9ms postprocess per image at shape (1, 3, 640, 640)\n",
      "\n",
      "0: 640x640 1 License_Plate, 4.1ms\n",
      "Speed: 1.3ms preprocess, 4.1ms inference, 1.7ms postprocess per image at shape (1, 3, 640, 640)\n",
      "\n",
      "0: 640x640 1 License_Plate, 4.6ms\n",
      "Speed: 1.0ms preprocess, 4.6ms inference, 0.9ms postprocess per image at shape (1, 3, 640, 640)\n",
      "\n",
      "0: 640x640 1 License_Plate, 4.0ms\n",
      "Speed: 1.4ms preprocess, 4.0ms inference, 0.8ms postprocess per image at shape (1, 3, 640, 640)\n",
      "\n",
      "0: 640x640 1 License_Plate, 4.9ms\n",
      "Speed: 1.0ms preprocess, 4.9ms inference, 1.3ms postprocess per image at shape (1, 3, 640, 640)\n",
      "\n",
      "0: 640x640 1 License_Plate, 4.4ms\n",
      "Speed: 1.0ms preprocess, 4.4ms inference, 0.8ms postprocess per image at shape (1, 3, 640, 640)\n",
      "\n",
      "0: 640x640 1 License_Plate, 4.2ms\n",
      "Speed: 1.3ms preprocess, 4.2ms inference, 0.8ms postprocess per image at shape (1, 3, 640, 640)\n",
      "\n",
      "0: 640x640 1 License_Plate, 4.0ms\n",
      "Speed: 1.3ms preprocess, 4.0ms inference, 1.0ms postprocess per image at shape (1, 3, 640, 640)\n",
      "\n",
      "0: 640x640 1 License_Plate, 4.5ms\n",
      "Speed: 1.0ms preprocess, 4.5ms inference, 0.9ms postprocess per image at shape (1, 3, 640, 640)\n",
      "\n",
      "0: 640x640 1 License_Plate, 4.1ms\n",
      "Speed: 1.1ms preprocess, 4.1ms inference, 0.8ms postprocess per image at shape (1, 3, 640, 640)\n",
      "\n",
      "0: 640x640 1 License_Plate, 4.0ms\n",
      "Speed: 1.4ms preprocess, 4.0ms inference, 0.8ms postprocess per image at shape (1, 3, 640, 640)\n",
      "\n",
      "0: 640x640 1 License_Plate, 4.8ms\n",
      "Speed: 1.2ms preprocess, 4.8ms inference, 1.2ms postprocess per image at shape (1, 3, 640, 640)\n",
      "\n",
      "0: 640x640 1 License_Plate, 4.4ms\n",
      "Speed: 1.1ms preprocess, 4.4ms inference, 0.8ms postprocess per image at shape (1, 3, 640, 640)\n",
      "\n",
      "0: 640x640 3 License_Plates, 4.0ms\n",
      "Speed: 1.4ms preprocess, 4.0ms inference, 0.8ms postprocess per image at shape (1, 3, 640, 640)\n",
      "\n",
      "0: 640x640 1 License_Plate, 4.1ms\n",
      "Speed: 1.3ms preprocess, 4.1ms inference, 0.8ms postprocess per image at shape (1, 3, 640, 640)\n",
      "\n",
      "0: 640x640 1 License_Plate, 4.4ms\n",
      "Speed: 1.2ms preprocess, 4.4ms inference, 1.1ms postprocess per image at shape (1, 3, 640, 640)\n",
      "\n",
      "0: 640x640 1 License_Plate, 4.3ms\n",
      "Speed: 1.1ms preprocess, 4.3ms inference, 0.9ms postprocess per image at shape (1, 3, 640, 640)\n",
      "\n",
      "0: 640x640 1 License_Plate, 4.1ms\n",
      "Speed: 1.2ms preprocess, 4.1ms inference, 0.8ms postprocess per image at shape (1, 3, 640, 640)\n",
      "\n",
      "0: 640x640 1 License_Plate, 4.1ms\n",
      "Speed: 1.2ms preprocess, 4.1ms inference, 0.9ms postprocess per image at shape (1, 3, 640, 640)\n",
      "\n",
      "0: 640x640 1 License_Plate, 4.7ms\n",
      "Speed: 0.9ms preprocess, 4.7ms inference, 1.2ms postprocess per image at shape (1, 3, 640, 640)\n",
      "\n",
      "0: 640x640 1 License_Plate, 4.4ms\n",
      "Speed: 0.9ms preprocess, 4.4ms inference, 0.7ms postprocess per image at shape (1, 3, 640, 640)\n",
      "\n",
      "0: 640x640 1 License_Plate, 4.4ms\n",
      "Speed: 0.9ms preprocess, 4.4ms inference, 0.8ms postprocess per image at shape (1, 3, 640, 640)\n",
      "\n",
      "0: 640x640 1 License_Plate, 4.1ms\n",
      "Speed: 0.9ms preprocess, 4.1ms inference, 0.7ms postprocess per image at shape (1, 3, 640, 640)\n",
      "\n",
      "0: 640x640 1 License_Plate, 4.7ms\n",
      "Speed: 1.2ms preprocess, 4.7ms inference, 1.0ms postprocess per image at shape (1, 3, 640, 640)\n",
      "\n",
      "0: 640x640 1 License_Plate, 4.2ms\n",
      "Speed: 1.2ms preprocess, 4.2ms inference, 0.9ms postprocess per image at shape (1, 3, 640, 640)\n",
      "\n",
      "0: 640x640 1 License_Plate, 4.1ms\n",
      "Speed: 1.2ms preprocess, 4.1ms inference, 0.8ms postprocess per image at shape (1, 3, 640, 640)\n",
      "\n",
      "0: 640x640 1 License_Plate, 4.0ms\n",
      "Speed: 1.2ms preprocess, 4.0ms inference, 0.8ms postprocess per image at shape (1, 3, 640, 640)\n",
      "\n",
      "0: 640x640 1 License_Plate, 4.7ms\n",
      "Speed: 1.1ms preprocess, 4.7ms inference, 0.9ms postprocess per image at shape (1, 3, 640, 640)\n",
      "\n",
      "0: 640x640 1 License_Plate, 4.1ms\n",
      "Speed: 1.4ms preprocess, 4.1ms inference, 0.9ms postprocess per image at shape (1, 3, 640, 640)\n",
      "\n",
      "0: 640x640 1 License_Plate, 4.1ms\n",
      "Speed: 1.2ms preprocess, 4.1ms inference, 0.9ms postprocess per image at shape (1, 3, 640, 640)\n",
      "\n",
      "0: 640x640 1 License_Plate, 4.2ms\n",
      "Speed: 1.1ms preprocess, 4.2ms inference, 0.8ms postprocess per image at shape (1, 3, 640, 640)\n",
      "\n",
      "0: 640x640 1 License_Plate, 4.7ms\n",
      "Speed: 1.1ms preprocess, 4.7ms inference, 0.9ms postprocess per image at shape (1, 3, 640, 640)\n",
      "\n",
      "0: 640x640 1 License_Plate, 4.0ms\n",
      "Speed: 1.5ms preprocess, 4.0ms inference, 0.8ms postprocess per image at shape (1, 3, 640, 640)\n",
      "\n",
      "0: 640x640 1 License_Plate, 4.0ms\n",
      "Speed: 1.2ms preprocess, 4.0ms inference, 0.8ms postprocess per image at shape (1, 3, 640, 640)\n",
      "\n",
      "0: 640x640 1 License_Plate, 4.0ms\n",
      "Speed: 1.2ms preprocess, 4.0ms inference, 0.8ms postprocess per image at shape (1, 3, 640, 640)\n",
      "\n",
      "0: 640x640 1 License_Plate, 4.6ms\n",
      "Speed: 1.1ms preprocess, 4.6ms inference, 0.9ms postprocess per image at shape (1, 3, 640, 640)\n",
      "\n",
      "0: 640x640 1 License_Plate, 4.0ms\n",
      "Speed: 1.2ms preprocess, 4.0ms inference, 0.8ms postprocess per image at shape (1, 3, 640, 640)\n",
      "\n",
      "0: 640x640 1 License_Plate, 3.9ms\n",
      "Speed: 1.2ms preprocess, 3.9ms inference, 0.9ms postprocess per image at shape (1, 3, 640, 640)\n",
      "\n",
      "0: 640x640 1 License_Plate, 4.0ms\n",
      "Speed: 1.2ms preprocess, 4.0ms inference, 0.8ms postprocess per image at shape (1, 3, 640, 640)\n",
      "\n",
      "0: 640x640 1 License_Plate, 5.0ms\n",
      "Speed: 1.2ms preprocess, 5.0ms inference, 0.9ms postprocess per image at shape (1, 3, 640, 640)\n",
      "\n",
      "0: 640x640 1 License_Plate, 4.1ms\n",
      "Speed: 1.3ms preprocess, 4.1ms inference, 0.9ms postprocess per image at shape (1, 3, 640, 640)\n",
      "\n",
      "0: 640x640 1 License_Plate, 4.2ms\n",
      "Speed: 1.1ms preprocess, 4.2ms inference, 1.0ms postprocess per image at shape (1, 3, 640, 640)\n",
      "\n",
      "0: 640x640 1 License_Plate, 4.1ms\n",
      "Speed: 0.9ms preprocess, 4.1ms inference, 0.9ms postprocess per image at shape (1, 3, 640, 640)\n",
      "\n",
      "0: 640x640 2 License_Plates, 5.1ms\n",
      "Speed: 0.6ms preprocess, 5.1ms inference, 0.8ms postprocess per image at shape (1, 3, 640, 640)\n",
      "\n",
      "0: 640x640 1 License_Plate, 4.4ms\n",
      "Speed: 1.0ms preprocess, 4.4ms inference, 0.8ms postprocess per image at shape (1, 3, 640, 640)\n",
      "\n",
      "0: 640x640 1 License_Plate, 4.3ms\n",
      "Speed: 1.5ms preprocess, 4.3ms inference, 0.7ms postprocess per image at shape (1, 3, 640, 640)\n",
      "\n",
      "0: 640x640 1 License_Plate, 4.8ms\n",
      "Speed: 1.0ms preprocess, 4.8ms inference, 0.9ms postprocess per image at shape (1, 3, 640, 640)\n",
      "\n",
      "0: 640x640 1 License_Plate, 4.8ms\n",
      "Speed: 1.2ms preprocess, 4.8ms inference, 0.9ms postprocess per image at shape (1, 3, 640, 640)\n",
      "\n",
      "0: 640x640 1 License_Plate, 4.1ms\n",
      "Speed: 1.2ms preprocess, 4.1ms inference, 0.9ms postprocess per image at shape (1, 3, 640, 640)\n",
      "\n",
      "0: 640x640 1 License_Plate, 4.3ms\n",
      "Speed: 1.2ms preprocess, 4.3ms inference, 1.0ms postprocess per image at shape (1, 3, 640, 640)\n",
      "\n",
      "0: 640x640 1 License_Plate, 4.2ms\n",
      "Speed: 1.1ms preprocess, 4.2ms inference, 0.9ms postprocess per image at shape (1, 3, 640, 640)\n",
      "\n",
      "0: 640x640 1 License_Plate, 4.8ms\n",
      "Speed: 1.1ms preprocess, 4.8ms inference, 0.9ms postprocess per image at shape (1, 3, 640, 640)\n",
      "\n",
      "0: 640x640 1 License_Plate, 4.1ms\n",
      "Speed: 1.3ms preprocess, 4.1ms inference, 0.9ms postprocess per image at shape (1, 3, 640, 640)\n",
      "\n",
      "0: 640x640 1 License_Plate, 4.8ms\n",
      "Speed: 1.0ms preprocess, 4.8ms inference, 1.1ms postprocess per image at shape (1, 3, 640, 640)\n",
      "\n",
      "0: 640x640 1 License_Plate, 4.8ms\n",
      "Speed: 0.9ms preprocess, 4.8ms inference, 0.8ms postprocess per image at shape (1, 3, 640, 640)\n",
      "\n",
      "0: 640x640 1 License_Plate, 4.2ms\n",
      "Speed: 0.9ms preprocess, 4.2ms inference, 0.7ms postprocess per image at shape (1, 3, 640, 640)\n",
      "\n",
      "0: 640x640 1 License_Plate, 4.2ms\n",
      "Speed: 1.4ms preprocess, 4.2ms inference, 0.9ms postprocess per image at shape (1, 3, 640, 640)\n",
      "\n",
      "0: 640x640 1 License_Plate, 4.0ms\n",
      "Speed: 1.2ms preprocess, 4.0ms inference, 0.8ms postprocess per image at shape (1, 3, 640, 640)\n",
      "\n",
      "0: 640x640 1 License_Plate, 4.9ms\n",
      "Speed: 1.2ms preprocess, 4.9ms inference, 0.9ms postprocess per image at shape (1, 3, 640, 640)\n",
      "\n",
      "0: 640x640 1 License_Plate, 4.1ms\n",
      "Speed: 1.1ms preprocess, 4.1ms inference, 0.8ms postprocess per image at shape (1, 3, 640, 640)\n",
      "\n",
      "0: 640x640 1 License_Plate, 3.9ms\n",
      "Speed: 1.2ms preprocess, 3.9ms inference, 0.8ms postprocess per image at shape (1, 3, 640, 640)\n",
      "\n",
      "0: 640x640 1 License_Plate, 3.9ms\n",
      "Speed: 1.2ms preprocess, 3.9ms inference, 0.8ms postprocess per image at shape (1, 3, 640, 640)\n",
      "\n",
      "0: 640x640 1 License_Plate, 4.0ms\n",
      "Speed: 1.1ms preprocess, 4.0ms inference, 1.8ms postprocess per image at shape (1, 3, 640, 640)\n",
      "\n",
      "0: 640x640 1 License_Plate, 4.2ms\n",
      "Speed: 0.9ms preprocess, 4.2ms inference, 0.8ms postprocess per image at shape (1, 3, 640, 640)\n",
      "\n",
      "0: 640x640 (no detections), 4.2ms\n",
      "Speed: 1.2ms preprocess, 4.2ms inference, 0.4ms postprocess per image at shape (1, 3, 640, 640)\n",
      "\n",
      "0: 640x640 1 License_Plate, 4.2ms\n",
      "Speed: 1.2ms preprocess, 4.2ms inference, 1.1ms postprocess per image at shape (1, 3, 640, 640)\n",
      "\n",
      "0: 640x640 1 License_Plate, 5.0ms\n",
      "Speed: 1.2ms preprocess, 5.0ms inference, 0.9ms postprocess per image at shape (1, 3, 640, 640)\n",
      "\n",
      "0: 640x640 1 License_Plate, 4.2ms\n",
      "Speed: 1.3ms preprocess, 4.2ms inference, 0.9ms postprocess per image at shape (1, 3, 640, 640)\n",
      "\n",
      "0: 640x640 1 License_Plate, 4.7ms\n",
      "Speed: 1.1ms preprocess, 4.7ms inference, 1.2ms postprocess per image at shape (1, 3, 640, 640)\n",
      "\n",
      "0: 640x640 1 License_Plate, 5.2ms\n",
      "Speed: 1.1ms preprocess, 5.2ms inference, 0.9ms postprocess per image at shape (1, 3, 640, 640)\n",
      "\n",
      "0: 640x640 1 License_Plate, 4.3ms\n",
      "Speed: 1.2ms preprocess, 4.3ms inference, 0.9ms postprocess per image at shape (1, 3, 640, 640)\n",
      "\n",
      "0: 640x640 1 License_Plate, 5.4ms\n",
      "Speed: 1.2ms preprocess, 5.4ms inference, 0.9ms postprocess per image at shape (1, 3, 640, 640)\n",
      "\n",
      "0: 640x640 1 License_Plate, 5.1ms\n",
      "Speed: 1.1ms preprocess, 5.1ms inference, 0.9ms postprocess per image at shape (1, 3, 640, 640)\n",
      "\n",
      "0: 640x640 1 License_Plate, 4.3ms\n",
      "Speed: 1.2ms preprocess, 4.3ms inference, 1.2ms postprocess per image at shape (1, 3, 640, 640)\n",
      "\n",
      "0: 640x640 3 License_Plates, 5.7ms\n",
      "Speed: 0.7ms preprocess, 5.7ms inference, 0.9ms postprocess per image at shape (1, 3, 640, 640)\n",
      "\n",
      "0: 640x640 1 License_Plate, 4.2ms\n",
      "Speed: 1.2ms preprocess, 4.2ms inference, 0.9ms postprocess per image at shape (1, 3, 640, 640)\n",
      "\n",
      "0: 640x640 1 License_Plate, 4.1ms\n",
      "Speed: 1.2ms preprocess, 4.1ms inference, 1.8ms postprocess per image at shape (1, 3, 640, 640)\n",
      "\n",
      "0: 640x640 1 License_Plate, 5.8ms\n",
      "Speed: 0.9ms preprocess, 5.8ms inference, 0.9ms postprocess per image at shape (1, 3, 640, 640)\n",
      "\n",
      "0: 640x640 1 License_Plate, 4.2ms\n",
      "Speed: 1.2ms preprocess, 4.2ms inference, 0.9ms postprocess per image at shape (1, 3, 640, 640)\n",
      "\n",
      "0: 640x640 1 License_Plate, 4.2ms\n",
      "Speed: 1.2ms preprocess, 4.2ms inference, 1.1ms postprocess per image at shape (1, 3, 640, 640)\n",
      "\n",
      "0: 640x640 1 License_Plate, 5.8ms\n",
      "Speed: 0.9ms preprocess, 5.8ms inference, 0.9ms postprocess per image at shape (1, 3, 640, 640)\n",
      "\n",
      "0: 640x640 2 License_Plates, 5.9ms\n",
      "Speed: 1.2ms preprocess, 5.9ms inference, 1.0ms postprocess per image at shape (1, 3, 640, 640)\n",
      "\n",
      "0: 640x640 2 License_Plates, 4.3ms\n",
      "Speed: 1.3ms preprocess, 4.3ms inference, 1.2ms postprocess per image at shape (1, 3, 640, 640)\n",
      "\n",
      "0: 640x640 1 License_Plate, 5.5ms\n",
      "Speed: 1.1ms preprocess, 5.5ms inference, 0.9ms postprocess per image at shape (1, 3, 640, 640)\n",
      "\n",
      "0: 640x640 1 License_Plate, 4.1ms\n",
      "Speed: 1.2ms preprocess, 4.1ms inference, 0.8ms postprocess per image at shape (1, 3, 640, 640)\n",
      "\n",
      "0: 640x640 1 License_Plate, 3.9ms\n",
      "Speed: 1.2ms preprocess, 3.9ms inference, 0.8ms postprocess per image at shape (1, 3, 640, 640)\n",
      "\n",
      "0: 640x640 1 License_Plate, 3.9ms\n",
      "Speed: 1.2ms preprocess, 3.9ms inference, 1.0ms postprocess per image at shape (1, 3, 640, 640)\n",
      "\n",
      "0: 640x640 1 License_Plate, 5.3ms\n",
      "Speed: 1.2ms preprocess, 5.3ms inference, 0.9ms postprocess per image at shape (1, 3, 640, 640)\n",
      "\n",
      "0: 640x640 1 License_Plate, 4.1ms\n",
      "Speed: 1.1ms preprocess, 4.1ms inference, 0.8ms postprocess per image at shape (1, 3, 640, 640)\n",
      "\n",
      "0: 640x640 1 License_Plate, 4.1ms\n",
      "Speed: 1.2ms preprocess, 4.1ms inference, 0.8ms postprocess per image at shape (1, 3, 640, 640)\n",
      "\n",
      "0: 640x640 1 License_Plate, 3.9ms\n",
      "Speed: 1.2ms preprocess, 3.9ms inference, 1.0ms postprocess per image at shape (1, 3, 640, 640)\n",
      "\n",
      "0: 640x640 1 License_Plate, 4.6ms\n",
      "Speed: 1.2ms preprocess, 4.6ms inference, 0.8ms postprocess per image at shape (1, 3, 640, 640)\n",
      "\n",
      "0: 640x640 1 License_Plate, 4.0ms\n",
      "Speed: 1.1ms preprocess, 4.0ms inference, 0.8ms postprocess per image at shape (1, 3, 640, 640)\n",
      "\n",
      "0: 640x640 1 License_Plate, 3.9ms\n",
      "Speed: 1.1ms preprocess, 3.9ms inference, 0.8ms postprocess per image at shape (1, 3, 640, 640)\n",
      "\n",
      "0: 640x640 1 License_Plate, 4.0ms\n",
      "Speed: 1.1ms preprocess, 4.0ms inference, 0.7ms postprocess per image at shape (1, 3, 640, 640)\n",
      "\n",
      "0: 640x640 1 License_Plate, 4.1ms\n",
      "Speed: 1.2ms preprocess, 4.1ms inference, 0.8ms postprocess per image at shape (1, 3, 640, 640)\n",
      "\n",
      "0: 640x640 1 License_Plate, 3.9ms\n",
      "Speed: 1.2ms preprocess, 3.9ms inference, 0.8ms postprocess per image at shape (1, 3, 640, 640)\n",
      "\n",
      "0: 640x640 1 License_Plate, 3.9ms\n",
      "Speed: 1.1ms preprocess, 3.9ms inference, 0.8ms postprocess per image at shape (1, 3, 640, 640)\n",
      "\n",
      "0: 640x640 1 License_Plate, 5.0ms\n",
      "Speed: 1.1ms preprocess, 5.0ms inference, 0.9ms postprocess per image at shape (1, 3, 640, 640)\n",
      "\n",
      "0: 640x640 1 License_Plate, 4.0ms\n",
      "Speed: 1.2ms preprocess, 4.0ms inference, 0.8ms postprocess per image at shape (1, 3, 640, 640)\n",
      "\n",
      "0: 640x640 1 License_Plate, 3.9ms\n",
      "Speed: 1.2ms preprocess, 3.9ms inference, 0.8ms postprocess per image at shape (1, 3, 640, 640)\n",
      "\n",
      "0: 640x640 1 License_Plate, 3.9ms\n",
      "Speed: 1.2ms preprocess, 3.9ms inference, 0.9ms postprocess per image at shape (1, 3, 640, 640)\n",
      "\n",
      "0: 640x640 1 License_Plate, 4.9ms\n",
      "Speed: 1.1ms preprocess, 4.9ms inference, 0.9ms postprocess per image at shape (1, 3, 640, 640)\n",
      "\n",
      "0: 640x640 1 License_Plate, 4.0ms\n",
      "Speed: 1.1ms preprocess, 4.0ms inference, 0.8ms postprocess per image at shape (1, 3, 640, 640)\n",
      "\n",
      "0: 640x640 1 License_Plate, 3.9ms\n",
      "Speed: 1.3ms preprocess, 3.9ms inference, 0.8ms postprocess per image at shape (1, 3, 640, 640)\n",
      "\n",
      "0: 640x640 1 License_Plate, 3.9ms\n",
      "Speed: 1.2ms preprocess, 3.9ms inference, 0.8ms postprocess per image at shape (1, 3, 640, 640)\n",
      "\n",
      "0: 640x640 4 License_Plates, 4.7ms\n",
      "Speed: 1.2ms preprocess, 4.7ms inference, 0.9ms postprocess per image at shape (1, 3, 640, 640)\n",
      "\n",
      "0: 640x640 4 License_Plates, 4.4ms\n",
      "Speed: 1.1ms preprocess, 4.4ms inference, 0.8ms postprocess per image at shape (1, 3, 640, 640)\n",
      "\n",
      "0: 640x640 3 License_Plates, 3.9ms\n",
      "Speed: 1.2ms preprocess, 3.9ms inference, 0.8ms postprocess per image at shape (1, 3, 640, 640)\n",
      "\n",
      "0: 640x640 1 License_Plate, 4.1ms\n",
      "Speed: 1.2ms preprocess, 4.1ms inference, 0.9ms postprocess per image at shape (1, 3, 640, 640)\n",
      "\n",
      "0: 640x640 1 License_Plate, 4.0ms\n",
      "Speed: 1.2ms preprocess, 4.0ms inference, 1.5ms postprocess per image at shape (1, 3, 640, 640)\n",
      "\n",
      "0: 640x640 1 License_Plate, 5.2ms\n",
      "Speed: 0.9ms preprocess, 5.2ms inference, 0.9ms postprocess per image at shape (1, 3, 640, 640)\n",
      "\n",
      "0: 640x640 1 License_Plate, 4.2ms\n",
      "Speed: 1.5ms preprocess, 4.2ms inference, 0.9ms postprocess per image at shape (1, 3, 640, 640)\n",
      "\n",
      "0: 640x640 1 License_Plate, 4.1ms\n",
      "Speed: 1.2ms preprocess, 4.1ms inference, 2.1ms postprocess per image at shape (1, 3, 640, 640)\n",
      "\n",
      "0: 640x640 1 License_Plate, 5.6ms\n",
      "Speed: 0.9ms preprocess, 5.6ms inference, 0.9ms postprocess per image at shape (1, 3, 640, 640)\n",
      "\n",
      "0: 640x640 1 License_Plate, 4.2ms\n",
      "Speed: 1.2ms preprocess, 4.2ms inference, 0.9ms postprocess per image at shape (1, 3, 640, 640)\n",
      "\n",
      "0: 640x640 1 License_Plate, 4.1ms\n",
      "Speed: 1.2ms preprocess, 4.1ms inference, 1.6ms postprocess per image at shape (1, 3, 640, 640)\n",
      "\n",
      "0: 640x640 1 License_Plate, 5.5ms\n",
      "Speed: 0.9ms preprocess, 5.5ms inference, 0.9ms postprocess per image at shape (1, 3, 640, 640)\n",
      "\n",
      "0: 640x640 1 License_Plate, 4.2ms\n",
      "Speed: 1.1ms preprocess, 4.2ms inference, 1.1ms postprocess per image at shape (1, 3, 640, 640)\n",
      "\n",
      "0: 640x640 1 License_Plate, 5.0ms\n",
      "Speed: 1.0ms preprocess, 5.0ms inference, 0.9ms postprocess per image at shape (1, 3, 640, 640)\n",
      "\n",
      "0: 640x640 1 License_Plate, 4.7ms\n",
      "Speed: 1.5ms preprocess, 4.7ms inference, 0.8ms postprocess per image at shape (1, 3, 640, 640)\n",
      "\n",
      "0: 640x640 1 License_Plate, 4.2ms\n",
      "Speed: 1.2ms preprocess, 4.2ms inference, 1.6ms postprocess per image at shape (1, 3, 640, 640)\n",
      "\n",
      "0: 640x640 1 License_Plate, 4.6ms\n",
      "Speed: 1.1ms preprocess, 4.6ms inference, 0.9ms postprocess per image at shape (1, 3, 640, 640)\n",
      "\n",
      "0: 640x640 1 License_Plate, 4.2ms\n",
      "Speed: 1.6ms preprocess, 4.2ms inference, 1.0ms postprocess per image at shape (1, 3, 640, 640)\n",
      "\n",
      "0: 640x640 1 License_Plate, 5.7ms\n",
      "Speed: 0.9ms preprocess, 5.7ms inference, 0.9ms postprocess per image at shape (1, 3, 640, 640)\n",
      "\n",
      "0: 640x640 1 License_Plate, 4.3ms\n",
      "Speed: 1.2ms preprocess, 4.3ms inference, 0.9ms postprocess per image at shape (1, 3, 640, 640)\n",
      "\n",
      "0: 640x640 1 License_Plate, 4.8ms\n",
      "Speed: 1.2ms preprocess, 4.8ms inference, 1.3ms postprocess per image at shape (1, 3, 640, 640)\n",
      "\n",
      "0: 640x640 2 License_Plates, 4.4ms\n",
      "Speed: 1.0ms preprocess, 4.4ms inference, 0.8ms postprocess per image at shape (1, 3, 640, 640)\n",
      "\n",
      "0: 640x640 1 License_Plate, 4.1ms\n",
      "Speed: 1.2ms preprocess, 4.1ms inference, 0.8ms postprocess per image at shape (1, 3, 640, 640)\n",
      "\n",
      "0: 640x640 1 License_Plate, 4.2ms\n",
      "Speed: 1.5ms preprocess, 4.2ms inference, 1.0ms postprocess per image at shape (1, 3, 640, 640)\n",
      "\n",
      "0: 640x640 1 License_Plate, 4.7ms\n",
      "Speed: 1.1ms preprocess, 4.7ms inference, 0.8ms postprocess per image at shape (1, 3, 640, 640)\n",
      "\n",
      "0: 640x640 1 License_Plate, 4.0ms\n",
      "Speed: 1.1ms preprocess, 4.0ms inference, 0.8ms postprocess per image at shape (1, 3, 640, 640)\n",
      "\n",
      "0: 640x640 1 License_Plate, 4.0ms\n",
      "Speed: 1.2ms preprocess, 4.0ms inference, 0.8ms postprocess per image at shape (1, 3, 640, 640)\n",
      "\n",
      "0: 640x640 1 License_Plate, 4.3ms\n",
      "Speed: 1.1ms preprocess, 4.3ms inference, 1.1ms postprocess per image at shape (1, 3, 640, 640)\n",
      "\n",
      "0: 640x640 1 License_Plate, 4.5ms\n",
      "Speed: 1.0ms preprocess, 4.5ms inference, 0.8ms postprocess per image at shape (1, 3, 640, 640)\n",
      "\n",
      "0: 640x640 1 License_Plate, 3.9ms\n",
      "Speed: 1.1ms preprocess, 3.9ms inference, 0.8ms postprocess per image at shape (1, 3, 640, 640)\n",
      "\n",
      "0: 640x640 1 License_Plate, 3.9ms\n",
      "Speed: 1.1ms preprocess, 3.9ms inference, 0.9ms postprocess per image at shape (1, 3, 640, 640)\n",
      "\n",
      "0: 640x640 1 License_Plate, 4.1ms\n",
      "Speed: 1.2ms preprocess, 4.1ms inference, 0.9ms postprocess per image at shape (1, 3, 640, 640)\n",
      "\n",
      "0: 640x640 1 License_Plate, 4.0ms\n",
      "Speed: 1.2ms preprocess, 4.0ms inference, 1.0ms postprocess per image at shape (1, 3, 640, 640)\n",
      "\n",
      "0: 640x640 1 License_Plate, 4.3ms\n",
      "Speed: 1.1ms preprocess, 4.3ms inference, 0.8ms postprocess per image at shape (1, 3, 640, 640)\n",
      "\n",
      "0: 640x640 1 License_Plate, 4.0ms\n",
      "Speed: 1.1ms preprocess, 4.0ms inference, 0.8ms postprocess per image at shape (1, 3, 640, 640)\n",
      "\n",
      "0: 640x640 1 License_Plate, 4.3ms\n",
      "Speed: 1.2ms preprocess, 4.3ms inference, 0.9ms postprocess per image at shape (1, 3, 640, 640)\n",
      "\n",
      "0: 640x640 1 License_Plate, 4.1ms\n",
      "Speed: 1.2ms preprocess, 4.1ms inference, 0.9ms postprocess per image at shape (1, 3, 640, 640)\n",
      "\n",
      "0: 640x640 1 License_Plate, 4.0ms\n",
      "Speed: 1.2ms preprocess, 4.0ms inference, 0.8ms postprocess per image at shape (1, 3, 640, 640)\n",
      "\n",
      "0: 640x640 1 License_Plate, 3.9ms\n",
      "Speed: 1.1ms preprocess, 3.9ms inference, 0.8ms postprocess per image at shape (1, 3, 640, 640)\n",
      "\n",
      "0: 640x640 1 License_Plate, 4.6ms\n",
      "Speed: 1.1ms preprocess, 4.6ms inference, 0.9ms postprocess per image at shape (1, 3, 640, 640)\n",
      "\n",
      "0: 640x640 1 License_Plate, 4.0ms\n",
      "Speed: 1.5ms preprocess, 4.0ms inference, 0.8ms postprocess per image at shape (1, 3, 640, 640)\n",
      "\n",
      "0: 640x640 1 License_Plate, 4.3ms\n",
      "Speed: 1.2ms preprocess, 4.3ms inference, 0.9ms postprocess per image at shape (1, 3, 640, 640)\n",
      "\n",
      "0: 640x640 1 License_Plate, 4.1ms\n",
      "Speed: 1.2ms preprocess, 4.1ms inference, 0.8ms postprocess per image at shape (1, 3, 640, 640)\n",
      "\n",
      "0: 640x640 1 License_Plate, 4.7ms\n",
      "Speed: 1.2ms preprocess, 4.7ms inference, 0.9ms postprocess per image at shape (1, 3, 640, 640)\n",
      "\n",
      "0: 640x640 1 License_Plate, 4.2ms\n",
      "Speed: 1.2ms preprocess, 4.2ms inference, 0.9ms postprocess per image at shape (1, 3, 640, 640)\n",
      "\n",
      "0: 640x640 1 License_Plate, 4.2ms\n",
      "Speed: 1.2ms preprocess, 4.2ms inference, 1.0ms postprocess per image at shape (1, 3, 640, 640)\n",
      "\n",
      "0: 640x640 1 License_Plate, 4.0ms\n",
      "Speed: 1.1ms preprocess, 4.0ms inference, 0.8ms postprocess per image at shape (1, 3, 640, 640)\n",
      "\n",
      "0: 640x640 1 License_Plate, 4.6ms\n",
      "Speed: 1.1ms preprocess, 4.6ms inference, 1.0ms postprocess per image at shape (1, 3, 640, 640)\n",
      "\n",
      "0: 640x640 1 License_Plate, 4.2ms\n",
      "Speed: 1.2ms preprocess, 4.2ms inference, 0.8ms postprocess per image at shape (1, 3, 640, 640)\n",
      "\n",
      "0: 640x640 1 License_Plate, 4.0ms\n",
      "Speed: 1.2ms preprocess, 4.0ms inference, 0.9ms postprocess per image at shape (1, 3, 640, 640)\n",
      "\n",
      "0: 640x640 1 License_Plate, 4.0ms\n",
      "Speed: 1.1ms preprocess, 4.0ms inference, 0.8ms postprocess per image at shape (1, 3, 640, 640)\n",
      "\n",
      "0: 640x640 1 License_Plate, 4.1ms\n",
      "Speed: 1.1ms preprocess, 4.1ms inference, 0.9ms postprocess per image at shape (1, 3, 640, 640)\n",
      "\n",
      "0: 640x640 1 License_Plate, 4.2ms\n",
      "Speed: 1.2ms preprocess, 4.2ms inference, 0.9ms postprocess per image at shape (1, 3, 640, 640)\n",
      "\n",
      "0: 640x640 1 License_Plate, 4.0ms\n",
      "Speed: 1.2ms preprocess, 4.0ms inference, 0.8ms postprocess per image at shape (1, 3, 640, 640)\n",
      "\n",
      "0: 640x640 1 License_Plate, 4.1ms\n",
      "Speed: 1.2ms preprocess, 4.1ms inference, 0.8ms postprocess per image at shape (1, 3, 640, 640)\n",
      "\n",
      "0: 640x640 2 License_Plates, 4.3ms\n",
      "Speed: 1.1ms preprocess, 4.3ms inference, 0.9ms postprocess per image at shape (1, 3, 640, 640)\n",
      "\n",
      "0: 640x640 2 License_Plates, 4.2ms\n",
      "Speed: 1.1ms preprocess, 4.2ms inference, 0.9ms postprocess per image at shape (1, 3, 640, 640)\n",
      "\n",
      "0: 640x640 4 License_Plates, 3.9ms\n",
      "Speed: 1.1ms preprocess, 3.9ms inference, 0.8ms postprocess per image at shape (1, 3, 640, 640)\n",
      "\n",
      "0: 640x640 4 License_Plates, 3.8ms\n",
      "Speed: 1.2ms preprocess, 3.8ms inference, 0.8ms postprocess per image at shape (1, 3, 640, 640)\n",
      "\n",
      "0: 640x640 4 License_Plates, 3.9ms\n",
      "Speed: 1.2ms preprocess, 3.9ms inference, 1.0ms postprocess per image at shape (1, 3, 640, 640)\n",
      "\n",
      "0: 640x640 4 License_Plates, 4.1ms\n",
      "Speed: 1.0ms preprocess, 4.1ms inference, 0.8ms postprocess per image at shape (1, 3, 640, 640)\n",
      "\n",
      "0: 640x640 1 License_Plate, 4.3ms\n",
      "Speed: 1.1ms preprocess, 4.3ms inference, 0.8ms postprocess per image at shape (1, 3, 640, 640)\n",
      "\n",
      "0: 640x640 1 License_Plate, 3.9ms\n",
      "Speed: 1.1ms preprocess, 3.9ms inference, 0.8ms postprocess per image at shape (1, 3, 640, 640)\n",
      "\n",
      "0: 640x640 1 License_Plate, 3.8ms\n",
      "Speed: 1.2ms preprocess, 3.8ms inference, 0.8ms postprocess per image at shape (1, 3, 640, 640)\n",
      "\n",
      "0: 640x640 1 License_Plate, 4.2ms\n",
      "Speed: 1.3ms preprocess, 4.2ms inference, 0.8ms postprocess per image at shape (1, 3, 640, 640)\n",
      "\n",
      "0: 640x640 1 License_Plate, 4.2ms\n",
      "Speed: 1.2ms preprocess, 4.2ms inference, 1.0ms postprocess per image at shape (1, 3, 640, 640)\n",
      "\n",
      "0: 640x640 1 License_Plate, 3.9ms\n",
      "Speed: 1.1ms preprocess, 3.9ms inference, 0.8ms postprocess per image at shape (1, 3, 640, 640)\n",
      "\n",
      "0: 640x640 1 License_Plate, 4.0ms\n",
      "Speed: 1.1ms preprocess, 4.0ms inference, 0.7ms postprocess per image at shape (1, 3, 640, 640)\n",
      "\n",
      "0: 640x640 1 License_Plate, 3.9ms\n",
      "Speed: 1.1ms preprocess, 3.9ms inference, 1.3ms postprocess per image at shape (1, 3, 640, 640)\n",
      "\n",
      "0: 640x640 1 License_Plate, 4.0ms\n",
      "Speed: 1.1ms preprocess, 4.0ms inference, 0.8ms postprocess per image at shape (1, 3, 640, 640)\n",
      "\n",
      "0: 640x640 1 License_Plate, 3.8ms\n",
      "Speed: 1.2ms preprocess, 3.8ms inference, 0.7ms postprocess per image at shape (1, 3, 640, 640)\n",
      "\n",
      "0: 640x640 1 License_Plate, 3.9ms\n",
      "Speed: 1.1ms preprocess, 3.9ms inference, 0.8ms postprocess per image at shape (1, 3, 640, 640)\n",
      "\n",
      "0: 640x640 1 License_Plate, 4.1ms\n",
      "Speed: 1.1ms preprocess, 4.1ms inference, 0.7ms postprocess per image at shape (1, 3, 640, 640)\n",
      "\n",
      "0: 640x640 1 License_Plate, 4.2ms\n",
      "Speed: 1.1ms preprocess, 4.2ms inference, 0.8ms postprocess per image at shape (1, 3, 640, 640)\n",
      "\n",
      "0: 640x640 1 License_Plate, 4.0ms\n",
      "Speed: 1.2ms preprocess, 4.0ms inference, 0.8ms postprocess per image at shape (1, 3, 640, 640)\n",
      "\n",
      "0: 640x640 1 License_Plate, 3.9ms\n",
      "Speed: 1.2ms preprocess, 3.9ms inference, 0.8ms postprocess per image at shape (1, 3, 640, 640)\n",
      "\n",
      "0: 640x640 1 License_Plate, 3.9ms\n",
      "Speed: 1.2ms preprocess, 3.9ms inference, 1.2ms postprocess per image at shape (1, 3, 640, 640)\n",
      "\n",
      "0: 640x640 1 License_Plate, 4.7ms\n",
      "Speed: 1.1ms preprocess, 4.7ms inference, 0.9ms postprocess per image at shape (1, 3, 640, 640)\n",
      "\n",
      "0: 640x640 1 License_Plate, 4.0ms\n",
      "Speed: 1.1ms preprocess, 4.0ms inference, 0.8ms postprocess per image at shape (1, 3, 640, 640)\n",
      "\n",
      "0: 640x640 1 License_Plate, 3.9ms\n",
      "Speed: 1.4ms preprocess, 3.9ms inference, 0.8ms postprocess per image at shape (1, 3, 640, 640)\n",
      "\n",
      "0: 640x640 1 License_Plate, 3.9ms\n",
      "Speed: 1.2ms preprocess, 3.9ms inference, 0.8ms postprocess per image at shape (1, 3, 640, 640)\n",
      "\n",
      "0: 640x640 1 License_Plate, 3.8ms\n",
      "Speed: 1.2ms preprocess, 3.8ms inference, 0.9ms postprocess per image at shape (1, 3, 640, 640)\n",
      "\n",
      "0: 640x640 1 License_Plate, 4.6ms\n",
      "Speed: 1.2ms preprocess, 4.6ms inference, 0.8ms postprocess per image at shape (1, 3, 640, 640)\n",
      "\n",
      "0: 640x640 1 License_Plate, 3.9ms\n",
      "Speed: 1.2ms preprocess, 3.9ms inference, 0.8ms postprocess per image at shape (1, 3, 640, 640)\n",
      "\n",
      "0: 640x640 1 License_Plate, 3.9ms\n",
      "Speed: 1.2ms preprocess, 3.9ms inference, 0.8ms postprocess per image at shape (1, 3, 640, 640)\n",
      "\n",
      "0: 640x640 1 License_Plate, 3.8ms\n",
      "Speed: 1.2ms preprocess, 3.8ms inference, 0.7ms postprocess per image at shape (1, 3, 640, 640)\n",
      "\n",
      "0: 640x640 2 License_Plates, 4.5ms\n",
      "Speed: 1.2ms preprocess, 4.5ms inference, 1.2ms postprocess per image at shape (1, 3, 640, 640)\n",
      "\n",
      "0: 640x640 2 License_Plates, 4.5ms\n",
      "Speed: 1.1ms preprocess, 4.5ms inference, 0.8ms postprocess per image at shape (1, 3, 640, 640)\n",
      "\n",
      "0: 640x640 1 License_Plate, 3.8ms\n",
      "Speed: 1.1ms preprocess, 3.8ms inference, 0.7ms postprocess per image at shape (1, 3, 640, 640)\n",
      "\n",
      "0: 640x640 1 License_Plate, 3.8ms\n",
      "Speed: 1.1ms preprocess, 3.8ms inference, 0.8ms postprocess per image at shape (1, 3, 640, 640)\n",
      "\n",
      "0: 640x640 1 License_Plate, 4.6ms\n",
      "Speed: 1.2ms preprocess, 4.6ms inference, 0.8ms postprocess per image at shape (1, 3, 640, 640)\n",
      "\n",
      "0: 640x640 1 License_Plate, 4.0ms\n",
      "Speed: 1.2ms preprocess, 4.0ms inference, 1.0ms postprocess per image at shape (1, 3, 640, 640)\n",
      "\n",
      "0: 640x640 1 License_Plate, 5.0ms\n",
      "Speed: 1.1ms preprocess, 5.0ms inference, 0.8ms postprocess per image at shape (1, 3, 640, 640)\n",
      "\n",
      "0: 640x640 1 License_Plate, 4.6ms\n",
      "Speed: 1.1ms preprocess, 4.6ms inference, 0.8ms postprocess per image at shape (1, 3, 640, 640)\n",
      "\n",
      "0: 640x640 1 License_Plate, 4.1ms\n",
      "Speed: 1.2ms preprocess, 4.1ms inference, 0.8ms postprocess per image at shape (1, 3, 640, 640)\n",
      "\n",
      "0: 640x640 1 License_Plate, 4.1ms\n",
      "Speed: 1.2ms preprocess, 4.1ms inference, 2.1ms postprocess per image at shape (1, 3, 640, 640)\n",
      "\n",
      "0: 640x640 1 License_Plate, 5.2ms\n",
      "Speed: 0.9ms preprocess, 5.2ms inference, 0.8ms postprocess per image at shape (1, 3, 640, 640)\n",
      "\n",
      "0: 640x640 1 License_Plate, 4.1ms\n",
      "Speed: 1.3ms preprocess, 4.1ms inference, 0.9ms postprocess per image at shape (1, 3, 640, 640)\n",
      "\n",
      "0: 640x640 1 License_Plate, 4.8ms\n",
      "Speed: 1.1ms preprocess, 4.8ms inference, 0.8ms postprocess per image at shape (1, 3, 640, 640)\n",
      "\n",
      "0: 640x640 1 License_Plate, 5.2ms\n",
      "Speed: 0.9ms preprocess, 5.2ms inference, 0.7ms postprocess per image at shape (1, 3, 640, 640)\n",
      "\n",
      "0: 640x640 1 License_Plate, 4.1ms\n",
      "Speed: 1.0ms preprocess, 4.1ms inference, 0.7ms postprocess per image at shape (1, 3, 640, 640)\n",
      "\n",
      "0: 640x640 1 License_Plate, 4.0ms\n",
      "Speed: 1.2ms preprocess, 4.0ms inference, 0.8ms postprocess per image at shape (1, 3, 640, 640)\n",
      "\n",
      "0: 640x640 1 License_Plate, 5.4ms\n",
      "Speed: 0.9ms preprocess, 5.4ms inference, 0.7ms postprocess per image at shape (1, 3, 640, 640)\n",
      "\n",
      "0: 640x640 1 License_Plate, 4.3ms\n",
      "Speed: 0.9ms preprocess, 4.3ms inference, 0.7ms postprocess per image at shape (1, 3, 640, 640)\n",
      "\n",
      "0: 640x640 1 License_Plate, 4.0ms\n",
      "Speed: 1.5ms preprocess, 4.0ms inference, 0.8ms postprocess per image at shape (1, 3, 640, 640)\n",
      "\n",
      "0: 640x640 1 License_Plate, 3.9ms\n",
      "Speed: 1.2ms preprocess, 3.9ms inference, 1.4ms postprocess per image at shape (1, 3, 640, 640)\n",
      "\n",
      "0: 640x640 1 License_Plate, 5.4ms\n",
      "Speed: 1.1ms preprocess, 5.4ms inference, 0.8ms postprocess per image at shape (1, 3, 640, 640)\n",
      "\n",
      "0: 640x640 1 License_Plate, 4.3ms\n",
      "Speed: 1.1ms preprocess, 4.3ms inference, 0.9ms postprocess per image at shape (1, 3, 640, 640)\n",
      "\n",
      "0: 640x640 1 License_Plate, 4.1ms\n",
      "Speed: 1.2ms preprocess, 4.1ms inference, 0.8ms postprocess per image at shape (1, 3, 640, 640)\n",
      "\n",
      "0: 640x640 1 License_Plate, 5.2ms\n",
      "Speed: 1.4ms preprocess, 5.2ms inference, 0.9ms postprocess per image at shape (1, 3, 640, 640)\n",
      "\n",
      "0: 640x640 1 License_Plate, 5.2ms\n",
      "Speed: 1.3ms preprocess, 5.2ms inference, 0.8ms postprocess per image at shape (1, 3, 640, 640)\n",
      "\n",
      "0: 640x640 1 License_Plate, 4.0ms\n",
      "Speed: 1.2ms preprocess, 4.0ms inference, 1.0ms postprocess per image at shape (1, 3, 640, 640)\n",
      "\n",
      "0: 640x640 1 License_Plate, 4.7ms\n",
      "Speed: 1.0ms preprocess, 4.7ms inference, 0.8ms postprocess per image at shape (1, 3, 640, 640)\n",
      "\n",
      "0: 640x640 1 License_Plate, 5.1ms\n",
      "Speed: 1.1ms preprocess, 5.1ms inference, 0.8ms postprocess per image at shape (1, 3, 640, 640)\n",
      "\n",
      "0: 640x640 1 License_Plate, 4.1ms\n",
      "Speed: 1.4ms preprocess, 4.1ms inference, 0.8ms postprocess per image at shape (1, 3, 640, 640)\n",
      "\n",
      "0: 640x640 1 License_Plate, 4.1ms\n",
      "Speed: 1.0ms preprocess, 4.1ms inference, 1.6ms postprocess per image at shape (1, 3, 640, 640)\n",
      "\n",
      "0: 640x640 1 License_Plate, 4.8ms\n",
      "Speed: 0.9ms preprocess, 4.8ms inference, 0.7ms postprocess per image at shape (1, 3, 640, 640)\n",
      "\n",
      "0: 640x640 1 License_Plate, 3.9ms\n",
      "Speed: 0.9ms preprocess, 3.9ms inference, 0.7ms postprocess per image at shape (1, 3, 640, 640)\n",
      "\n",
      "0: 640x640 1 License_Plate, 4.2ms\n",
      "Speed: 1.3ms preprocess, 4.2ms inference, 1.3ms postprocess per image at shape (1, 3, 640, 640)\n",
      "\n",
      "0: 640x640 1 License_Plate, 5.2ms\n",
      "Speed: 0.9ms preprocess, 5.2ms inference, 0.8ms postprocess per image at shape (1, 3, 640, 640)\n",
      "\n",
      "0: 640x640 1 License_Plate, 4.1ms\n",
      "Speed: 0.9ms preprocess, 4.1ms inference, 0.7ms postprocess per image at shape (1, 3, 640, 640)\n",
      "\n",
      "0: 640x640 1 License_Plate, 3.9ms\n",
      "Speed: 0.8ms preprocess, 3.9ms inference, 0.6ms postprocess per image at shape (1, 3, 640, 640)\n",
      "\n",
      "0: 640x640 1 License_Plate, 3.8ms\n",
      "Speed: 0.9ms preprocess, 3.8ms inference, 0.7ms postprocess per image at shape (1, 3, 640, 640)\n",
      "\n",
      "0: 640x640 1 License_Plate, 3.8ms\n",
      "Speed: 0.9ms preprocess, 3.8ms inference, 0.8ms postprocess per image at shape (1, 3, 640, 640)\n",
      "\n",
      "0: 640x640 1 License_Plate, 4.1ms\n",
      "Speed: 1.2ms preprocess, 4.1ms inference, 0.9ms postprocess per image at shape (1, 3, 640, 640)\n",
      "\n",
      "0: 640x640 1 License_Plate, 4.3ms\n",
      "Speed: 1.2ms preprocess, 4.3ms inference, 0.8ms postprocess per image at shape (1, 3, 640, 640)\n",
      "\n",
      "0: 640x640 1 License_Plate, 3.9ms\n",
      "Speed: 1.1ms preprocess, 3.9ms inference, 0.8ms postprocess per image at shape (1, 3, 640, 640)\n",
      "\n",
      "0: 640x640 1 License_Plate, 4.1ms\n",
      "Speed: 1.1ms preprocess, 4.1ms inference, 0.7ms postprocess per image at shape (1, 3, 640, 640)\n",
      "\n",
      "0: 640x640 1 License_Plate, 4.6ms\n",
      "Speed: 1.0ms preprocess, 4.6ms inference, 0.8ms postprocess per image at shape (1, 3, 640, 640)\n",
      "\n",
      "0: 640x640 1 License_Plate, 4.0ms\n",
      "Speed: 1.2ms preprocess, 4.0ms inference, 0.8ms postprocess per image at shape (1, 3, 640, 640)\n",
      "\n",
      "0: 640x640 1 License_Plate, 3.9ms\n",
      "Speed: 1.2ms preprocess, 3.9ms inference, 0.7ms postprocess per image at shape (1, 3, 640, 640)\n",
      "\n",
      "0: 640x640 1 License_Plate, 3.8ms\n",
      "Speed: 1.2ms preprocess, 3.8ms inference, 0.7ms postprocess per image at shape (1, 3, 640, 640)\n",
      "\n",
      "0: 640x640 1 License_Plate, 4.9ms\n",
      "Speed: 1.2ms preprocess, 4.9ms inference, 0.8ms postprocess per image at shape (1, 3, 640, 640)\n",
      "\n",
      "0: 640x640 1 License_Plate, 4.3ms\n",
      "Speed: 1.1ms preprocess, 4.3ms inference, 0.8ms postprocess per image at shape (1, 3, 640, 640)\n",
      "\n",
      "0: 640x640 1 License_Plate, 3.8ms\n",
      "Speed: 1.1ms preprocess, 3.8ms inference, 0.8ms postprocess per image at shape (1, 3, 640, 640)\n",
      "\n",
      "0: 640x640 1 License_Plate, 3.8ms\n",
      "Speed: 1.2ms preprocess, 3.8ms inference, 0.7ms postprocess per image at shape (1, 3, 640, 640)\n",
      "\n",
      "0: 640x640 1 License_Plate, 4.0ms\n",
      "Speed: 1.2ms preprocess, 4.0ms inference, 0.8ms postprocess per image at shape (1, 3, 640, 640)\n",
      "\n",
      "0: 640x640 1 License_Plate, 4.0ms\n",
      "Speed: 1.2ms preprocess, 4.0ms inference, 1.4ms postprocess per image at shape (1, 3, 640, 640)\n",
      "\n",
      "0: 640x640 1 License_Plate, 4.1ms\n",
      "Speed: 1.1ms preprocess, 4.1ms inference, 0.7ms postprocess per image at shape (1, 3, 640, 640)\n",
      "\n",
      "0: 640x640 1 License_Plate, 4.0ms\n",
      "Speed: 1.1ms preprocess, 4.0ms inference, 0.8ms postprocess per image at shape (1, 3, 640, 640)\n",
      "\n",
      "0: 640x640 1 License_Plate, 3.9ms\n",
      "Speed: 0.8ms preprocess, 3.9ms inference, 0.8ms postprocess per image at shape (1, 3, 640, 640)\n",
      "\n",
      "0: 640x640 1 License_Plate, 4.1ms\n",
      "Speed: 1.3ms preprocess, 4.1ms inference, 0.8ms postprocess per image at shape (1, 3, 640, 640)\n",
      "\n",
      "0: 640x640 1 License_Plate, 3.8ms\n",
      "Speed: 1.2ms preprocess, 3.8ms inference, 0.8ms postprocess per image at shape (1, 3, 640, 640)\n",
      "\n",
      "0: 640x640 1 License_Plate, 3.8ms\n",
      "Speed: 1.2ms preprocess, 3.8ms inference, 1.1ms postprocess per image at shape (1, 3, 640, 640)\n",
      "\n",
      "0: 640x640 1 License_Plate, 4.2ms\n",
      "Speed: 1.1ms preprocess, 4.2ms inference, 0.8ms postprocess per image at shape (1, 3, 640, 640)\n",
      "\n",
      "0: 640x640 1 License_Plate, 4.3ms\n",
      "Speed: 1.1ms preprocess, 4.3ms inference, 0.8ms postprocess per image at shape (1, 3, 640, 640)\n",
      "\n",
      "0: 640x640 1 License_Plate, 4.1ms\n",
      "Speed: 1.3ms preprocess, 4.1ms inference, 0.8ms postprocess per image at shape (1, 3, 640, 640)\n",
      "\n",
      "0: 640x640 1 License_Plate, 4.1ms\n",
      "Speed: 1.2ms preprocess, 4.1ms inference, 0.8ms postprocess per image at shape (1, 3, 640, 640)\n",
      "\n",
      "0: 640x640 1 License_Plate, 4.1ms\n",
      "Speed: 1.2ms preprocess, 4.1ms inference, 1.0ms postprocess per image at shape (1, 3, 640, 640)\n",
      "\n",
      "0: 640x640 1 License_Plate, 3.8ms\n",
      "Speed: 1.1ms preprocess, 3.8ms inference, 0.7ms postprocess per image at shape (1, 3, 640, 640)\n",
      "\n",
      "0: 640x640 1 License_Plate, 4.2ms\n",
      "Speed: 1.1ms preprocess, 4.2ms inference, 0.8ms postprocess per image at shape (1, 3, 640, 640)\n",
      "\n",
      "0: 640x640 1 License_Plate, 4.6ms\n",
      "Speed: 1.1ms preprocess, 4.6ms inference, 0.8ms postprocess per image at shape (1, 3, 640, 640)\n",
      "\n",
      "0: 640x640 1 License_Plate, 3.9ms\n",
      "Speed: 1.2ms preprocess, 3.9ms inference, 0.8ms postprocess per image at shape (1, 3, 640, 640)\n",
      "\n",
      "0: 640x640 1 License_Plate, 3.8ms\n",
      "Speed: 1.2ms preprocess, 3.8ms inference, 0.8ms postprocess per image at shape (1, 3, 640, 640)\n",
      "\n",
      "0: 640x640 1 License_Plate, 3.9ms\n",
      "Speed: 1.2ms preprocess, 3.9ms inference, 1.6ms postprocess per image at shape (1, 3, 640, 640)\n",
      "\n",
      "0: 640x640 1 License_Plate, 4.5ms\n",
      "Speed: 1.1ms preprocess, 4.5ms inference, 0.8ms postprocess per image at shape (1, 3, 640, 640)\n",
      "\n",
      "0: 640x640 1 License_Plate, 3.9ms\n",
      "Speed: 1.1ms preprocess, 3.9ms inference, 0.8ms postprocess per image at shape (1, 3, 640, 640)\n",
      "\n",
      "0: 640x640 1 License_Plate, 3.8ms\n",
      "Speed: 1.1ms preprocess, 3.8ms inference, 0.8ms postprocess per image at shape (1, 3, 640, 640)\n",
      "\n",
      "0: 640x640 1 License_Plate, 3.9ms\n",
      "Speed: 1.2ms preprocess, 3.9ms inference, 0.8ms postprocess per image at shape (1, 3, 640, 640)\n",
      "\n",
      "0: 640x640 2 License_Plates, 4.1ms\n",
      "Speed: 1.2ms preprocess, 4.1ms inference, 0.8ms postprocess per image at shape (1, 3, 640, 640)\n",
      "\n",
      "0: 640x640 1 License_Plate, 3.9ms\n",
      "Speed: 1.0ms preprocess, 3.9ms inference, 0.8ms postprocess per image at shape (1, 3, 640, 640)\n",
      "\n",
      "0: 640x640 1 License_Plate, 4.1ms\n",
      "Speed: 1.1ms preprocess, 4.1ms inference, 0.8ms postprocess per image at shape (1, 3, 640, 640)\n",
      "\n",
      "0: 640x640 1 License_Plate, 3.9ms\n",
      "Speed: 1.1ms preprocess, 3.9ms inference, 0.8ms postprocess per image at shape (1, 3, 640, 640)\n",
      "\n",
      "0: 640x640 1 License_Plate, 4.1ms\n",
      "Speed: 1.2ms preprocess, 4.1ms inference, 0.8ms postprocess per image at shape (1, 3, 640, 640)\n",
      "\n",
      "0: 640x640 1 License_Plate, 3.9ms\n",
      "Speed: 1.2ms preprocess, 3.9ms inference, 0.8ms postprocess per image at shape (1, 3, 640, 640)\n",
      "\n",
      "0: 640x640 1 License_Plate, 3.9ms\n",
      "Speed: 1.2ms preprocess, 3.9ms inference, 0.8ms postprocess per image at shape (1, 3, 640, 640)\n",
      "\n",
      "0: 640x640 1 License_Plate, 4.0ms\n",
      "Speed: 1.2ms preprocess, 4.0ms inference, 1.2ms postprocess per image at shape (1, 3, 640, 640)\n",
      "\n",
      "0: 640x640 1 License_Plate, 4.5ms\n",
      "Speed: 1.0ms preprocess, 4.5ms inference, 0.7ms postprocess per image at shape (1, 3, 640, 640)\n",
      "\n",
      "0: 640x640 1 License_Plate, 4.0ms\n",
      "Speed: 0.8ms preprocess, 4.0ms inference, 0.7ms postprocess per image at shape (1, 3, 640, 640)\n",
      "\n",
      "0: 640x640 1 License_Plate, 3.9ms\n",
      "Speed: 1.0ms preprocess, 3.9ms inference, 0.7ms postprocess per image at shape (1, 3, 640, 640)\n",
      "\n",
      "0: 640x640 1 License_Plate, 3.9ms\n",
      "Speed: 0.8ms preprocess, 3.9ms inference, 0.7ms postprocess per image at shape (1, 3, 640, 640)\n",
      "\n",
      "0: 640x640 1 License_Plate, 4.2ms\n",
      "Speed: 1.2ms preprocess, 4.2ms inference, 0.9ms postprocess per image at shape (1, 3, 640, 640)\n",
      "\n",
      "0: 640x640 1 License_Plate, 4.5ms\n",
      "Speed: 1.2ms preprocess, 4.5ms inference, 1.0ms postprocess per image at shape (1, 3, 640, 640)\n",
      "\n",
      "0: 640x640 1 License_Plate, 4.5ms\n",
      "Speed: 1.2ms preprocess, 4.5ms inference, 0.8ms postprocess per image at shape (1, 3, 640, 640)\n",
      "\n",
      "0: 640x640 1 License_Plate, 4.1ms\n",
      "Speed: 1.2ms preprocess, 4.1ms inference, 0.9ms postprocess per image at shape (1, 3, 640, 640)\n",
      "\n",
      "0: 640x640 1 License_Plate, 4.1ms\n",
      "Speed: 1.2ms preprocess, 4.1ms inference, 0.9ms postprocess per image at shape (1, 3, 640, 640)\n",
      "\n",
      "0: 640x640 1 License_Plate, 5.6ms\n",
      "Speed: 1.2ms preprocess, 5.6ms inference, 0.9ms postprocess per image at shape (1, 3, 640, 640)\n",
      "\n",
      "0: 640x640 1 License_Plate, 4.2ms\n",
      "Speed: 1.1ms preprocess, 4.2ms inference, 0.8ms postprocess per image at shape (1, 3, 640, 640)\n",
      "\n",
      "0: 640x640 1 License_Plate, 4.1ms\n",
      "Speed: 1.4ms preprocess, 4.1ms inference, 0.8ms postprocess per image at shape (1, 3, 640, 640)\n",
      "\n",
      "0: 640x640 1 License_Plate, 4.5ms\n",
      "Speed: 1.2ms preprocess, 4.5ms inference, 1.3ms postprocess per image at shape (1, 3, 640, 640)\n",
      "\n",
      "0: 640x640 1 License_Plate, 4.5ms\n",
      "Speed: 0.9ms preprocess, 4.5ms inference, 0.8ms postprocess per image at shape (1, 3, 640, 640)\n",
      "\n",
      "0: 640x640 (no detections), 4.1ms\n",
      "Speed: 1.2ms preprocess, 4.1ms inference, 0.4ms postprocess per image at shape (1, 3, 640, 640)\n",
      "\n",
      "0: 640x640 1 License_Plate, 4.1ms\n",
      "Speed: 1.4ms preprocess, 4.1ms inference, 0.9ms postprocess per image at shape (1, 3, 640, 640)\n",
      "\n",
      "0: 640x640 1 License_Plate, 4.1ms\n",
      "Speed: 1.2ms preprocess, 4.1ms inference, 2.0ms postprocess per image at shape (1, 3, 640, 640)\n",
      "\n",
      "0: 640x640 1 License_Plate, 4.7ms\n",
      "Speed: 0.9ms preprocess, 4.7ms inference, 0.8ms postprocess per image at shape (1, 3, 640, 640)\n",
      "\n",
      "0: 640x640 1 License_Plate, 4.0ms\n",
      "Speed: 1.2ms preprocess, 4.0ms inference, 0.8ms postprocess per image at shape (1, 3, 640, 640)\n",
      "\n",
      "0: 640x640 1 License_Plate, 4.1ms\n",
      "Speed: 1.2ms preprocess, 4.1ms inference, 0.9ms postprocess per image at shape (1, 3, 640, 640)\n",
      "\n",
      "0: 640x640 2 License_Plates, 4.7ms\n",
      "Speed: 1.1ms preprocess, 4.7ms inference, 1.1ms postprocess per image at shape (1, 3, 640, 640)\n",
      "\n",
      "0: 640x640 1 License_Plate, 5.1ms\n",
      "Speed: 1.1ms preprocess, 5.1ms inference, 0.8ms postprocess per image at shape (1, 3, 640, 640)\n",
      "\n",
      "0: 640x640 1 License_Plate, 4.1ms\n",
      "Speed: 1.2ms preprocess, 4.1ms inference, 0.9ms postprocess per image at shape (1, 3, 640, 640)\n",
      "\n",
      "0: 640x640 1 License_Plate, 4.1ms\n",
      "Speed: 1.3ms preprocess, 4.1ms inference, 0.9ms postprocess per image at shape (1, 3, 640, 640)\n",
      "\n",
      "0: 640x640 1 License_Plate, 5.3ms\n",
      "Speed: 0.9ms preprocess, 5.3ms inference, 0.7ms postprocess per image at shape (1, 3, 640, 640)\n",
      "\n",
      "0: 640x640 1 License_Plate, 4.4ms\n",
      "Speed: 1.0ms preprocess, 4.4ms inference, 0.8ms postprocess per image at shape (1, 3, 640, 640)\n",
      "\n",
      "0: 640x640 1 License_Plate, 4.1ms\n",
      "Speed: 0.9ms preprocess, 4.1ms inference, 0.8ms postprocess per image at shape (1, 3, 640, 640)\n",
      "\n",
      "0: 640x640 1 License_Plate, 4.1ms\n",
      "Speed: 1.2ms preprocess, 4.1ms inference, 0.7ms postprocess per image at shape (1, 3, 640, 640)\n",
      "\n",
      "0: 640x640 1 License_Plate, 3.9ms\n",
      "Speed: 0.9ms preprocess, 3.9ms inference, 0.6ms postprocess per image at shape (1, 3, 640, 640)\n",
      "\n",
      "0: 640x640 1 License_Plate, 4.1ms\n",
      "Speed: 1.0ms preprocess, 4.1ms inference, 0.8ms postprocess per image at shape (1, 3, 640, 640)\n",
      "\n",
      "0: 640x640 1 License_Plate, 4.3ms\n",
      "Speed: 1.1ms preprocess, 4.3ms inference, 0.8ms postprocess per image at shape (1, 3, 640, 640)\n",
      "\n",
      "0: 640x640 1 License_Plate, 4.0ms\n",
      "Speed: 0.9ms preprocess, 4.0ms inference, 0.7ms postprocess per image at shape (1, 3, 640, 640)\n",
      "\n",
      "0: 640x640 1 License_Plate, 4.2ms\n",
      "Speed: 1.0ms preprocess, 4.2ms inference, 0.7ms postprocess per image at shape (1, 3, 640, 640)\n",
      "\n",
      "0: 640x640 1 License_Plate, 4.1ms\n",
      "Speed: 0.8ms preprocess, 4.1ms inference, 0.7ms postprocess per image at shape (1, 3, 640, 640)\n",
      "\n",
      "0: 640x640 1 License_Plate, 5.2ms\n",
      "Speed: 0.9ms preprocess, 5.2ms inference, 0.8ms postprocess per image at shape (1, 3, 640, 640)\n",
      "\n",
      "0: 640x640 1 License_Plate, 4.0ms\n",
      "Speed: 1.0ms preprocess, 4.0ms inference, 0.7ms postprocess per image at shape (1, 3, 640, 640)\n",
      "\n",
      "0: 640x640 1 License_Plate, 3.9ms\n",
      "Speed: 0.9ms preprocess, 3.9ms inference, 0.6ms postprocess per image at shape (1, 3, 640, 640)\n",
      "\n",
      "0: 640x640 1 License_Plate, 5.0ms\n",
      "Speed: 1.2ms preprocess, 5.0ms inference, 0.9ms postprocess per image at shape (1, 3, 640, 640)\n",
      "\n",
      "0: 640x640 1 License_Plate, 4.3ms\n",
      "Speed: 1.1ms preprocess, 4.3ms inference, 0.8ms postprocess per image at shape (1, 3, 640, 640)\n",
      "\n",
      "0: 640x640 1 License_Plate, 3.9ms\n",
      "Speed: 1.1ms preprocess, 3.9ms inference, 0.8ms postprocess per image at shape (1, 3, 640, 640)\n",
      "\n",
      "0: 640x640 1 License_Plate, 3.9ms\n",
      "Speed: 1.2ms preprocess, 3.9ms inference, 0.8ms postprocess per image at shape (1, 3, 640, 640)\n",
      "\n",
      "0: 640x640 1 License_Plate, 4.6ms\n",
      "Speed: 1.2ms preprocess, 4.6ms inference, 1.4ms postprocess per image at shape (1, 3, 640, 640)\n",
      "\n",
      "0: 640x640 1 License_Plate, 4.4ms\n",
      "Speed: 0.9ms preprocess, 4.4ms inference, 0.8ms postprocess per image at shape (1, 3, 640, 640)\n",
      "\n",
      "0: 640x640 1 License_Plate, 3.9ms\n",
      "Speed: 1.1ms preprocess, 3.9ms inference, 0.8ms postprocess per image at shape (1, 3, 640, 640)\n",
      "\n",
      "0: 640x640 1 License_Plate, 3.8ms\n",
      "Speed: 1.2ms preprocess, 3.8ms inference, 0.8ms postprocess per image at shape (1, 3, 640, 640)\n",
      "\n",
      "0: 640x640 1 License_Plate, 4.4ms\n",
      "Speed: 1.2ms preprocess, 4.4ms inference, 1.4ms postprocess per image at shape (1, 3, 640, 640)\n",
      "\n",
      "0: 640x640 1 License_Plate, 4.4ms\n",
      "Speed: 0.9ms preprocess, 4.4ms inference, 0.8ms postprocess per image at shape (1, 3, 640, 640)\n",
      "\n",
      "0: 640x640 1 License_Plate, 4.0ms\n",
      "Speed: 1.1ms preprocess, 4.0ms inference, 0.8ms postprocess per image at shape (1, 3, 640, 640)\n",
      "\n",
      "0: 640x640 1 License_Plate, 3.9ms\n",
      "Speed: 1.3ms preprocess, 3.9ms inference, 0.8ms postprocess per image at shape (1, 3, 640, 640)\n",
      "\n",
      "0: 640x640 1 License_Plate, 3.9ms\n",
      "Speed: 1.2ms preprocess, 3.9ms inference, 0.8ms postprocess per image at shape (1, 3, 640, 640)\n",
      "\n",
      "0: 640x640 1 License_Plate, 4.8ms\n",
      "Speed: 1.2ms preprocess, 4.8ms inference, 0.9ms postprocess per image at shape (1, 3, 640, 640)\n",
      "\n",
      "0: 640x640 1 License_Plate, 3.9ms\n",
      "Speed: 1.1ms preprocess, 3.9ms inference, 0.8ms postprocess per image at shape (1, 3, 640, 640)\n",
      "\n",
      "0: 640x640 1 License_Plate, 4.0ms\n",
      "Speed: 0.8ms preprocess, 4.0ms inference, 0.7ms postprocess per image at shape (1, 3, 640, 640)\n",
      "\n",
      "0: 640x640 1 License_Plate, 3.9ms\n",
      "Speed: 1.1ms preprocess, 3.9ms inference, 0.8ms postprocess per image at shape (1, 3, 640, 640)\n",
      "\n",
      "0: 640x640 1 License_Plate, 4.2ms\n",
      "Speed: 1.2ms preprocess, 4.2ms inference, 0.9ms postprocess per image at shape (1, 3, 640, 640)\n",
      "\n",
      "0: 640x640 1 License_Plate, 3.9ms\n",
      "Speed: 0.9ms preprocess, 3.9ms inference, 0.9ms postprocess per image at shape (1, 3, 640, 640)\n",
      "\n",
      "0: 640x640 1 License_Plate, 4.3ms\n",
      "Speed: 0.8ms preprocess, 4.3ms inference, 0.6ms postprocess per image at shape (1, 3, 640, 640)\n",
      "\n",
      "0: 640x640 1 License_Plate, 4.2ms\n",
      "Speed: 1.1ms preprocess, 4.2ms inference, 0.8ms postprocess per image at shape (1, 3, 640, 640)\n",
      "\n",
      "0: 640x640 1 License_Plate, 4.2ms\n",
      "Speed: 1.3ms preprocess, 4.2ms inference, 0.9ms postprocess per image at shape (1, 3, 640, 640)\n",
      "\n",
      "0: 640x640 1 License_Plate, 3.9ms\n",
      "Speed: 0.9ms preprocess, 3.9ms inference, 0.7ms postprocess per image at shape (1, 3, 640, 640)\n",
      "\n",
      "0: 640x640 1 License_Plate, 3.9ms\n",
      "Speed: 0.9ms preprocess, 3.9ms inference, 0.6ms postprocess per image at shape (1, 3, 640, 640)\n",
      "\n",
      "0: 640x640 1 License_Plate, 3.9ms\n",
      "Speed: 0.9ms preprocess, 3.9ms inference, 1.1ms postprocess per image at shape (1, 3, 640, 640)\n",
      "\n",
      "0: 640x640 3 License_Plates, 4.4ms\n",
      "Speed: 1.1ms preprocess, 4.4ms inference, 0.8ms postprocess per image at shape (1, 3, 640, 640)\n",
      "\n",
      "0: 640x640 3 License_Plates, 4.1ms\n",
      "Speed: 1.1ms preprocess, 4.1ms inference, 0.7ms postprocess per image at shape (1, 3, 640, 640)\n",
      "\n",
      "0: 640x640 3 License_Plates, 4.0ms\n",
      "Speed: 1.0ms preprocess, 4.0ms inference, 0.7ms postprocess per image at shape (1, 3, 640, 640)\n",
      "\n",
      "0: 640x640 1 License_Plate, 4.2ms\n",
      "Speed: 1.2ms preprocess, 4.2ms inference, 1.9ms postprocess per image at shape (1, 3, 640, 640)\n",
      "\n",
      "0: 640x640 1 License_Plate, 4.3ms\n",
      "Speed: 0.9ms preprocess, 4.3ms inference, 0.8ms postprocess per image at shape (1, 3, 640, 640)\n",
      "\n",
      "0: 640x640 1 License_Plate, 3.9ms\n",
      "Speed: 1.1ms preprocess, 3.9ms inference, 0.8ms postprocess per image at shape (1, 3, 640, 640)\n",
      "\n",
      "0: 640x640 1 License_Plate, 4.1ms\n",
      "Speed: 1.1ms preprocess, 4.1ms inference, 0.9ms postprocess per image at shape (1, 3, 640, 640)\n",
      "\n",
      "0: 640x640 1 License_Plate, 4.6ms\n",
      "Speed: 1.2ms preprocess, 4.6ms inference, 0.9ms postprocess per image at shape (1, 3, 640, 640)\n",
      "\n",
      "0: 640x640 1 License_Plate, 4.0ms\n",
      "Speed: 0.9ms preprocess, 4.0ms inference, 0.7ms postprocess per image at shape (1, 3, 640, 640)\n",
      "\n",
      "0: 640x640 1 License_Plate, 4.1ms\n",
      "Speed: 0.9ms preprocess, 4.1ms inference, 0.7ms postprocess per image at shape (1, 3, 640, 640)\n",
      "\n",
      "0: 640x640 1 License_Plate, 3.9ms\n",
      "Speed: 0.9ms preprocess, 3.9ms inference, 1.0ms postprocess per image at shape (1, 3, 640, 640)\n",
      "\n",
      "0: 640x640 1 License_Plate, 4.8ms\n",
      "Speed: 0.8ms preprocess, 4.8ms inference, 0.7ms postprocess per image at shape (1, 3, 640, 640)\n",
      "\n",
      "0: 640x640 1 License_Plate, 4.2ms\n",
      "Speed: 0.9ms preprocess, 4.2ms inference, 0.7ms postprocess per image at shape (1, 3, 640, 640)\n",
      "\n",
      "0: 640x640 1 License_Plate, 3.9ms\n",
      "Speed: 0.8ms preprocess, 3.9ms inference, 0.7ms postprocess per image at shape (1, 3, 640, 640)\n",
      "\n",
      "0: 640x640 1 License_Plate, 3.8ms\n",
      "Speed: 0.9ms preprocess, 3.8ms inference, 0.7ms postprocess per image at shape (1, 3, 640, 640)\n",
      "\n",
      "0: 640x640 1 License_Plate, 4.3ms\n",
      "Speed: 1.0ms preprocess, 4.3ms inference, 0.8ms postprocess per image at shape (1, 3, 640, 640)\n",
      "\n",
      "0: 640x640 1 License_Plate, 3.9ms\n",
      "Speed: 0.9ms preprocess, 3.9ms inference, 0.8ms postprocess per image at shape (1, 3, 640, 640)\n",
      "\n",
      "0: 640x640 1 License_Plate, 3.9ms\n",
      "Speed: 0.8ms preprocess, 3.9ms inference, 0.6ms postprocess per image at shape (1, 3, 640, 640)\n",
      "\n",
      "0: 640x640 1 License_Plate, 4.2ms\n",
      "Speed: 0.8ms preprocess, 4.2ms inference, 0.7ms postprocess per image at shape (1, 3, 640, 640)\n",
      "\n",
      "0: 640x640 1 License_Plate, 4.3ms\n",
      "Speed: 0.9ms preprocess, 4.3ms inference, 0.7ms postprocess per image at shape (1, 3, 640, 640)\n",
      "\n",
      "0: 640x640 1 License_Plate, 3.9ms\n",
      "Speed: 0.9ms preprocess, 3.9ms inference, 0.7ms postprocess per image at shape (1, 3, 640, 640)\n",
      "\n",
      "0: 640x640 1 License_Plate, 3.8ms\n",
      "Speed: 0.9ms preprocess, 3.8ms inference, 0.6ms postprocess per image at shape (1, 3, 640, 640)\n",
      "\n",
      "0: 640x640 1 License_Plate, 3.8ms\n",
      "Speed: 0.9ms preprocess, 3.8ms inference, 0.7ms postprocess per image at shape (1, 3, 640, 640)\n",
      "\n",
      "0: 640x640 1 License_Plate, 4.1ms\n",
      "Speed: 0.9ms preprocess, 4.1ms inference, 0.9ms postprocess per image at shape (1, 3, 640, 640)\n",
      "\n",
      "0: 640x640 1 License_Plate, 4.5ms\n",
      "Speed: 0.9ms preprocess, 4.5ms inference, 0.7ms postprocess per image at shape (1, 3, 640, 640)\n",
      "\n",
      "0: 640x640 1 License_Plate, 4.1ms\n",
      "Speed: 0.8ms preprocess, 4.1ms inference, 0.6ms postprocess per image at shape (1, 3, 640, 640)\n",
      "\n",
      "0: 640x640 1 License_Plate, 3.8ms\n",
      "Speed: 0.8ms preprocess, 3.8ms inference, 0.6ms postprocess per image at shape (1, 3, 640, 640)\n",
      "\n",
      "0: 640x640 1 License_Plate, 4.7ms\n",
      "Speed: 0.9ms preprocess, 4.7ms inference, 0.7ms postprocess per image at shape (1, 3, 640, 640)\n",
      "\n",
      "0: 640x640 1 License_Plate, 4.0ms\n",
      "Speed: 1.1ms preprocess, 4.0ms inference, 0.7ms postprocess per image at shape (1, 3, 640, 640)\n",
      "\n",
      "0: 640x640 1 License_Plate, 4.1ms\n",
      "Speed: 0.9ms preprocess, 4.1ms inference, 0.6ms postprocess per image at shape (1, 3, 640, 640)\n",
      "\n",
      "0: 640x640 1 License_Plate, 3.9ms\n",
      "Speed: 0.9ms preprocess, 3.9ms inference, 0.6ms postprocess per image at shape (1, 3, 640, 640)\n",
      "\n",
      "0: 640x640 1 License_Plate, 3.8ms\n",
      "Speed: 1.2ms preprocess, 3.8ms inference, 1.0ms postprocess per image at shape (1, 3, 640, 640)\n",
      "\n",
      "0: 640x640 1 License_Plate, 5.0ms\n",
      "Speed: 1.1ms preprocess, 5.0ms inference, 0.8ms postprocess per image at shape (1, 3, 640, 640)\n",
      "\n",
      "0: 640x640 1 License_Plate, 4.0ms\n",
      "Speed: 1.1ms preprocess, 4.0ms inference, 0.8ms postprocess per image at shape (1, 3, 640, 640)\n",
      "\n",
      "0: 640x640 1 License_Plate, 3.8ms\n",
      "Speed: 1.4ms preprocess, 3.8ms inference, 0.8ms postprocess per image at shape (1, 3, 640, 640)\n",
      "\n",
      "0: 640x640 1 License_Plate, 5.1ms\n",
      "Speed: 1.2ms preprocess, 5.1ms inference, 0.9ms postprocess per image at shape (1, 3, 640, 640)\n",
      "\n",
      "0: 640x640 1 License_Plate, 4.0ms\n",
      "Speed: 1.0ms preprocess, 4.0ms inference, 0.8ms postprocess per image at shape (1, 3, 640, 640)\n",
      "\n",
      "0: 640x640 1 License_Plate, 4.3ms\n",
      "Speed: 1.1ms preprocess, 4.3ms inference, 0.9ms postprocess per image at shape (1, 3, 640, 640)\n",
      "\n",
      "0: 640x640 1 License_Plate, 3.9ms\n",
      "Speed: 1.1ms preprocess, 3.9ms inference, 0.8ms postprocess per image at shape (1, 3, 640, 640)\n",
      "\n",
      "0: 640x640 1 License_Plate, 4.1ms\n",
      "Speed: 1.2ms preprocess, 4.1ms inference, 0.9ms postprocess per image at shape (1, 3, 640, 640)\n",
      "\n",
      "0: 640x640 1 License_Plate, 3.9ms\n",
      "Speed: 1.2ms preprocess, 3.9ms inference, 0.8ms postprocess per image at shape (1, 3, 640, 640)\n",
      "\n",
      "0: 640x640 (no detections), 3.9ms\n",
      "Speed: 1.0ms preprocess, 3.9ms inference, 0.5ms postprocess per image at shape (1, 3, 640, 640)\n",
      "\n",
      "0: 640x640 1 License_Plate, 4.2ms\n",
      "Speed: 1.1ms preprocess, 4.2ms inference, 0.8ms postprocess per image at shape (1, 3, 640, 640)\n",
      "\n",
      "0: 640x640 1 License_Plate, 4.6ms\n",
      "Speed: 1.1ms preprocess, 4.6ms inference, 0.9ms postprocess per image at shape (1, 3, 640, 640)\n",
      "\n",
      "0: 640x640 1 License_Plate, 3.9ms\n",
      "Speed: 1.1ms preprocess, 3.9ms inference, 0.8ms postprocess per image at shape (1, 3, 640, 640)\n",
      "\n",
      "0: 640x640 1 License_Plate, 3.8ms\n",
      "Speed: 1.2ms preprocess, 3.8ms inference, 0.8ms postprocess per image at shape (1, 3, 640, 640)\n",
      "\n",
      "0: 640x640 1 License_Plate, 3.8ms\n",
      "Speed: 1.2ms preprocess, 3.8ms inference, 0.8ms postprocess per image at shape (1, 3, 640, 640)\n",
      "\n",
      "0: 640x640 1 License_Plate, 4.4ms\n",
      "Speed: 1.2ms preprocess, 4.4ms inference, 1.2ms postprocess per image at shape (1, 3, 640, 640)\n",
      "\n",
      "0: 640x640 1 License_Plate, 4.4ms\n",
      "Speed: 1.1ms preprocess, 4.4ms inference, 0.8ms postprocess per image at shape (1, 3, 640, 640)\n",
      "\n",
      "0: 640x640 1 License_Plate, 3.8ms\n",
      "Speed: 1.1ms preprocess, 3.8ms inference, 0.8ms postprocess per image at shape (1, 3, 640, 640)\n",
      "\n",
      "0: 640x640 1 License_Plate, 3.8ms\n",
      "Speed: 1.3ms preprocess, 3.8ms inference, 0.7ms postprocess per image at shape (1, 3, 640, 640)\n",
      "\n",
      "0: 640x640 1 License_Plate, 4.1ms\n",
      "Speed: 1.2ms preprocess, 4.1ms inference, 0.8ms postprocess per image at shape (1, 3, 640, 640)\n",
      "\n",
      "0: 640x640 1 License_Plate, 3.9ms\n",
      "Speed: 1.2ms preprocess, 3.9ms inference, 1.0ms postprocess per image at shape (1, 3, 640, 640)\n",
      "\n",
      "0: 640x640 1 License_Plate, 4.1ms\n",
      "Speed: 1.1ms preprocess, 4.1ms inference, 0.7ms postprocess per image at shape (1, 3, 640, 640)\n",
      "\n",
      "0: 640x640 1 License_Plate, 3.8ms\n",
      "Speed: 1.1ms preprocess, 3.8ms inference, 0.7ms postprocess per image at shape (1, 3, 640, 640)\n",
      "\n",
      "0: 640x640 3 License_Plates, 4.3ms\n",
      "Speed: 1.1ms preprocess, 4.3ms inference, 1.3ms postprocess per image at shape (1, 3, 640, 640)\n",
      "\n",
      "0: 640x640 1 License_Plate, 3.9ms\n",
      "Speed: 0.9ms preprocess, 3.9ms inference, 0.8ms postprocess per image at shape (1, 3, 640, 640)\n",
      "\n",
      "0: 640x640 1 License_Plate, 4.1ms\n",
      "Speed: 1.1ms preprocess, 4.1ms inference, 0.8ms postprocess per image at shape (1, 3, 640, 640)\n",
      "\n",
      "0: 640x640 1 License_Plate, 3.8ms\n",
      "Speed: 1.1ms preprocess, 3.8ms inference, 0.7ms postprocess per image at shape (1, 3, 640, 640)\n",
      "\n",
      "0: 640x640 1 License_Plate, 4.5ms\n",
      "Speed: 1.2ms preprocess, 4.5ms inference, 0.8ms postprocess per image at shape (1, 3, 640, 640)\n",
      "\n",
      "0: 640x640 1 License_Plate, 4.4ms\n",
      "Speed: 1.2ms preprocess, 4.4ms inference, 0.8ms postprocess per image at shape (1, 3, 640, 640)\n",
      "\n",
      "0: 640x640 1 License_Plate, 3.9ms\n",
      "Speed: 1.1ms preprocess, 3.9ms inference, 0.8ms postprocess per image at shape (1, 3, 640, 640)\n",
      "\n",
      "0: 640x640 1 License_Plate, 3.8ms\n",
      "Speed: 1.1ms preprocess, 3.8ms inference, 0.8ms postprocess per image at shape (1, 3, 640, 640)\n",
      "\n",
      "0: 640x640 1 License_Plate, 4.1ms\n",
      "Speed: 1.2ms preprocess, 4.1ms inference, 0.8ms postprocess per image at shape (1, 3, 640, 640)\n",
      "\n",
      "0: 640x640 1 License_Plate, 3.9ms\n",
      "Speed: 1.2ms preprocess, 3.9ms inference, 0.8ms postprocess per image at shape (1, 3, 640, 640)\n",
      "\n",
      "0: 640x640 1 License_Plate, 4.2ms\n",
      "Speed: 1.1ms preprocess, 4.2ms inference, 0.8ms postprocess per image at shape (1, 3, 640, 640)\n",
      "\n",
      "0: 640x640 1 License_Plate, 3.9ms\n",
      "Speed: 1.1ms preprocess, 3.9ms inference, 0.8ms postprocess per image at shape (1, 3, 640, 640)\n",
      "\n",
      "0: 640x640 1 License_Plate, 4.5ms\n",
      "Speed: 1.1ms preprocess, 4.5ms inference, 0.8ms postprocess per image at shape (1, 3, 640, 640)\n",
      "\n",
      "0: 640x640 1 License_Plate, 3.9ms\n",
      "Speed: 1.2ms preprocess, 3.9ms inference, 0.8ms postprocess per image at shape (1, 3, 640, 640)\n",
      "\n",
      "0: 640x640 1 License_Plate, 3.8ms\n",
      "Speed: 1.2ms preprocess, 3.8ms inference, 0.9ms postprocess per image at shape (1, 3, 640, 640)\n",
      "\n",
      "0: 640x640 1 License_Plate, 4.2ms\n",
      "Speed: 1.1ms preprocess, 4.2ms inference, 0.7ms postprocess per image at shape (1, 3, 640, 640)\n",
      "\n",
      "0: 640x640 1 License_Plate, 4.9ms\n",
      "Speed: 1.1ms preprocess, 4.9ms inference, 0.8ms postprocess per image at shape (1, 3, 640, 640)\n",
      "\n",
      "0: 640x640 1 License_Plate, 4.0ms\n",
      "Speed: 1.1ms preprocess, 4.0ms inference, 0.8ms postprocess per image at shape (1, 3, 640, 640)\n",
      "\n",
      "0: 640x640 1 License_Plate, 4.0ms\n",
      "Speed: 0.9ms preprocess, 4.0ms inference, 0.7ms postprocess per image at shape (1, 3, 640, 640)\n",
      "\n",
      "0: 640x640 1 License_Plate, 3.9ms\n",
      "Speed: 0.9ms preprocess, 3.9ms inference, 0.6ms postprocess per image at shape (1, 3, 640, 640)\n",
      "\n",
      "0: 640x640 2 License_Plates, 4.0ms\n",
      "Speed: 0.8ms preprocess, 4.0ms inference, 0.7ms postprocess per image at shape (1, 3, 640, 640)\n",
      "\n",
      "0: 640x640 2 License_Plates, 4.6ms\n",
      "Speed: 1.1ms preprocess, 4.6ms inference, 0.8ms postprocess per image at shape (1, 3, 640, 640)\n",
      "\n",
      "0: 640x640 1 License_Plate, 4.0ms\n",
      "Speed: 1.1ms preprocess, 4.0ms inference, 0.8ms postprocess per image at shape (1, 3, 640, 640)\n",
      "\n",
      "0: 640x640 1 License_Plate, 3.9ms\n",
      "Speed: 1.1ms preprocess, 3.9ms inference, 0.8ms postprocess per image at shape (1, 3, 640, 640)\n",
      "\n",
      "0: 640x640 1 License_Plate, 3.9ms\n",
      "Speed: 1.1ms preprocess, 3.9ms inference, 0.8ms postprocess per image at shape (1, 3, 640, 640)\n",
      "\n",
      "0: 640x640 2 License_Plates, 4.7ms\n",
      "Speed: 1.1ms preprocess, 4.7ms inference, 0.8ms postprocess per image at shape (1, 3, 640, 640)\n",
      "\n",
      "0: 640x640 2 License_Plates, 4.2ms\n",
      "Speed: 1.1ms preprocess, 4.2ms inference, 0.8ms postprocess per image at shape (1, 3, 640, 640)\n",
      "\n",
      "0: 640x640 1 License_Plate, 4.2ms\n",
      "Speed: 0.9ms preprocess, 4.2ms inference, 0.8ms postprocess per image at shape (1, 3, 640, 640)\n",
      "\n",
      "0: 640x640 1 License_Plate, 4.4ms\n",
      "Speed: 1.2ms preprocess, 4.4ms inference, 0.8ms postprocess per image at shape (1, 3, 640, 640)\n",
      "\n",
      "0: 640x640 1 License_Plate, 4.0ms\n",
      "Speed: 0.9ms preprocess, 4.0ms inference, 0.7ms postprocess per image at shape (1, 3, 640, 640)\n",
      "\n",
      "0: 640x640 1 License_Plate, 4.1ms\n",
      "Speed: 1.1ms preprocess, 4.1ms inference, 0.8ms postprocess per image at shape (1, 3, 640, 640)\n",
      "\n",
      "0: 640x640 1 License_Plate, 4.0ms\n",
      "Speed: 0.8ms preprocess, 4.0ms inference, 0.8ms postprocess per image at shape (1, 3, 640, 640)\n",
      "\n",
      "0: 640x640 1 License_Plate, 4.1ms\n",
      "Speed: 1.1ms preprocess, 4.1ms inference, 0.7ms postprocess per image at shape (1, 3, 640, 640)\n",
      "\n",
      "0: 640x640 2 License_Plates, 3.9ms\n",
      "Speed: 0.9ms preprocess, 3.9ms inference, 0.7ms postprocess per image at shape (1, 3, 640, 640)\n",
      "\n",
      "0: 640x640 1 License_Plate, 3.9ms\n",
      "Speed: 0.8ms preprocess, 3.9ms inference, 0.8ms postprocess per image at shape (1, 3, 640, 640)\n",
      "\n",
      "0: 640x640 1 License_Plate, 4.4ms\n",
      "Speed: 0.9ms preprocess, 4.4ms inference, 0.8ms postprocess per image at shape (1, 3, 640, 640)\n",
      "\n",
      "0: 640x640 1 License_Plate, 4.3ms\n",
      "Speed: 1.2ms preprocess, 4.3ms inference, 0.8ms postprocess per image at shape (1, 3, 640, 640)\n",
      "\n",
      "0: 640x640 1 License_Plate, 4.0ms\n",
      "Speed: 0.9ms preprocess, 4.0ms inference, 0.7ms postprocess per image at shape (1, 3, 640, 640)\n",
      "\n",
      "0: 640x640 1 License_Plate, 4.0ms\n",
      "Speed: 0.9ms preprocess, 4.0ms inference, 0.9ms postprocess per image at shape (1, 3, 640, 640)\n",
      "\n",
      "0: 640x640 1 License_Plate, 4.1ms\n",
      "Speed: 0.8ms preprocess, 4.1ms inference, 0.6ms postprocess per image at shape (1, 3, 640, 640)\n",
      "\n",
      "0: 640x640 1 License_Plate, 4.9ms\n",
      "Speed: 1.1ms preprocess, 4.9ms inference, 0.9ms postprocess per image at shape (1, 3, 640, 640)\n",
      "\n",
      "0: 640x640 1 License_Plate, 3.9ms\n",
      "Speed: 1.1ms preprocess, 3.9ms inference, 0.8ms postprocess per image at shape (1, 3, 640, 640)\n",
      "\n",
      "0: 640x640 1 License_Plate, 3.9ms\n",
      "Speed: 0.8ms preprocess, 3.9ms inference, 0.8ms postprocess per image at shape (1, 3, 640, 640)\n",
      "\n",
      "0: 640x640 1 License_Plate, 4.0ms\n",
      "Speed: 1.2ms preprocess, 4.0ms inference, 0.9ms postprocess per image at shape (1, 3, 640, 640)\n",
      "\n",
      "0: 640x640 1 License_Plate, 4.8ms\n",
      "Speed: 1.1ms preprocess, 4.8ms inference, 0.9ms postprocess per image at shape (1, 3, 640, 640)\n",
      "\n",
      "0: 640x640 1 License_Plate, 4.0ms\n",
      "Speed: 1.4ms preprocess, 4.0ms inference, 0.7ms postprocess per image at shape (1, 3, 640, 640)\n",
      "\n",
      "0: 640x640 1 License_Plate, 3.8ms\n",
      "Speed: 0.9ms preprocess, 3.8ms inference, 0.7ms postprocess per image at shape (1, 3, 640, 640)\n",
      "\n",
      "0: 640x640 1 License_Plate, 3.8ms\n",
      "Speed: 0.9ms preprocess, 3.8ms inference, 0.8ms postprocess per image at shape (1, 3, 640, 640)\n",
      "\n",
      "0: 640x640 1 License_Plate, 4.0ms\n",
      "Speed: 1.2ms preprocess, 4.0ms inference, 1.4ms postprocess per image at shape (1, 3, 640, 640)\n",
      "\n",
      "0: 640x640 1 License_Plate, 4.2ms\n",
      "Speed: 1.0ms preprocess, 4.2ms inference, 0.8ms postprocess per image at shape (1, 3, 640, 640)\n",
      "\n",
      "0: 640x640 1 License_Plate, 3.9ms\n",
      "Speed: 1.1ms preprocess, 3.9ms inference, 0.8ms postprocess per image at shape (1, 3, 640, 640)\n",
      "\n",
      "0: 640x640 1 License_Plate, 3.8ms\n",
      "Speed: 1.1ms preprocess, 3.8ms inference, 0.8ms postprocess per image at shape (1, 3, 640, 640)\n",
      "\n",
      "0: 640x640 1 License_Plate, 4.0ms\n",
      "Speed: 1.1ms preprocess, 4.0ms inference, 0.9ms postprocess per image at shape (1, 3, 640, 640)\n",
      "\n",
      "0: 640x640 1 License_Plate, 4.2ms\n",
      "Speed: 1.1ms preprocess, 4.2ms inference, 0.8ms postprocess per image at shape (1, 3, 640, 640)\n",
      "\n",
      "0: 640x640 1 License_Plate, 3.9ms\n",
      "Speed: 1.1ms preprocess, 3.9ms inference, 0.8ms postprocess per image at shape (1, 3, 640, 640)\n",
      "\n",
      "0: 640x640 1 License_Plate, 3.8ms\n",
      "Speed: 1.2ms preprocess, 3.8ms inference, 0.8ms postprocess per image at shape (1, 3, 640, 640)\n",
      "\n",
      "0: 640x640 1 License_Plate, 4.1ms\n",
      "Speed: 1.2ms preprocess, 4.1ms inference, 0.9ms postprocess per image at shape (1, 3, 640, 640)\n",
      "\n",
      "0: 640x640 1 License_Plate, 4.5ms\n",
      "Speed: 1.1ms preprocess, 4.5ms inference, 0.8ms postprocess per image at shape (1, 3, 640, 640)\n",
      "\n",
      "0: 640x640 1 License_Plate, 4.1ms\n",
      "Speed: 1.1ms preprocess, 4.1ms inference, 0.8ms postprocess per image at shape (1, 3, 640, 640)\n",
      "\n",
      "0: 640x640 1 License_Plate, 3.9ms\n",
      "Speed: 1.1ms preprocess, 3.9ms inference, 0.8ms postprocess per image at shape (1, 3, 640, 640)\n",
      "\n",
      "0: 640x640 1 License_Plate, 4.1ms\n",
      "Speed: 1.2ms preprocess, 4.1ms inference, 0.8ms postprocess per image at shape (1, 3, 640, 640)\n",
      "\n",
      "0: 640x640 1 License_Plate, 3.8ms\n",
      "Speed: 1.2ms preprocess, 3.8ms inference, 0.8ms postprocess per image at shape (1, 3, 640, 640)\n",
      "\n",
      "0: 640x640 1 License_Plate, 4.0ms\n",
      "Speed: 1.2ms preprocess, 4.0ms inference, 0.9ms postprocess per image at shape (1, 3, 640, 640)\n",
      "\n",
      "0: 640x640 1 License_Plate, 4.3ms\n",
      "Speed: 1.1ms preprocess, 4.3ms inference, 0.8ms postprocess per image at shape (1, 3, 640, 640)\n",
      "\n",
      "0: 640x640 1 License_Plate, 3.9ms\n",
      "Speed: 1.1ms preprocess, 3.9ms inference, 0.8ms postprocess per image at shape (1, 3, 640, 640)\n",
      "\n",
      "0: 640x640 1 License_Plate, 4.0ms\n",
      "Speed: 1.2ms preprocess, 4.0ms inference, 0.8ms postprocess per image at shape (1, 3, 640, 640)\n",
      "\n",
      "0: 640x640 1 License_Plate, 3.9ms\n",
      "Speed: 1.2ms preprocess, 3.9ms inference, 0.8ms postprocess per image at shape (1, 3, 640, 640)\n",
      "\n",
      "0: 640x640 1 License_Plate, 3.9ms\n",
      "Speed: 1.2ms preprocess, 3.9ms inference, 1.0ms postprocess per image at shape (1, 3, 640, 640)\n",
      "\n",
      "0: 640x640 1 License_Plate, 5.1ms\n",
      "Speed: 1.2ms preprocess, 5.1ms inference, 0.8ms postprocess per image at shape (1, 3, 640, 640)\n",
      "\n",
      "0: 640x640 1 License_Plate, 4.1ms\n",
      "Speed: 1.1ms preprocess, 4.1ms inference, 0.8ms postprocess per image at shape (1, 3, 640, 640)\n",
      "\n",
      "0: 640x640 1 License_Plate, 3.8ms\n",
      "Speed: 1.3ms preprocess, 3.8ms inference, 0.8ms postprocess per image at shape (1, 3, 640, 640)\n",
      "\n",
      "0: 640x640 1 License_Plate, 4.0ms\n",
      "Speed: 1.2ms preprocess, 4.0ms inference, 0.8ms postprocess per image at shape (1, 3, 640, 640)\n",
      "\n",
      "0: 640x640 1 License_Plate, 4.6ms\n",
      "Speed: 1.2ms preprocess, 4.6ms inference, 1.4ms postprocess per image at shape (1, 3, 640, 640)\n",
      "\n",
      "0: 640x640 1 License_Plate, 4.6ms\n",
      "Speed: 1.1ms preprocess, 4.6ms inference, 0.8ms postprocess per image at shape (1, 3, 640, 640)\n",
      "\n",
      "0: 640x640 1 License_Plate, 3.9ms\n",
      "Speed: 1.1ms preprocess, 3.9ms inference, 0.8ms postprocess per image at shape (1, 3, 640, 640)\n",
      "\n",
      "0: 640x640 1 License_Plate, 3.9ms\n",
      "Speed: 0.9ms preprocess, 3.9ms inference, 0.7ms postprocess per image at shape (1, 3, 640, 640)\n",
      "\n",
      "0: 640x640 1 License_Plate, 4.0ms\n",
      "Speed: 1.0ms preprocess, 4.0ms inference, 0.9ms postprocess per image at shape (1, 3, 640, 640)\n",
      "\n",
      "0: 640x640 1 License_Plate, 4.1ms\n",
      "Speed: 0.9ms preprocess, 4.1ms inference, 0.7ms postprocess per image at shape (1, 3, 640, 640)\n",
      "\n",
      "0: 640x640 1 License_Plate, 3.9ms\n",
      "Speed: 0.9ms preprocess, 3.9ms inference, 0.6ms postprocess per image at shape (1, 3, 640, 640)\n",
      "\n",
      "0: 640x640 1 License_Plate, 3.9ms\n",
      "Speed: 0.9ms preprocess, 3.9ms inference, 0.9ms postprocess per image at shape (1, 3, 640, 640)\n",
      "\n",
      "0: 640x640 1 License_Plate, 4.0ms\n",
      "Speed: 0.8ms preprocess, 4.0ms inference, 0.8ms postprocess per image at shape (1, 3, 640, 640)\n",
      "\n",
      "0: 640x640 1 License_Plate, 5.0ms\n",
      "Speed: 0.8ms preprocess, 5.0ms inference, 0.7ms postprocess per image at shape (1, 3, 640, 640)\n",
      "\n",
      "0: 640x640 1 License_Plate, 4.0ms\n",
      "Speed: 1.1ms preprocess, 4.0ms inference, 0.8ms postprocess per image at shape (1, 3, 640, 640)\n",
      "\n",
      "0: 640x640 1 License_Plate, 3.8ms\n",
      "Speed: 1.2ms preprocess, 3.8ms inference, 0.8ms postprocess per image at shape (1, 3, 640, 640)\n",
      "\n",
      "0: 640x640 1 License_Plate, 3.9ms\n",
      "Speed: 1.2ms preprocess, 3.9ms inference, 0.8ms postprocess per image at shape (1, 3, 640, 640)\n",
      "\n",
      "0: 640x640 1 License_Plate, 4.1ms\n",
      "Speed: 1.2ms preprocess, 4.1ms inference, 1.1ms postprocess per image at shape (1, 3, 640, 640)\n",
      "\n",
      "0: 640x640 1 License_Plate, 4.1ms\n",
      "Speed: 1.1ms preprocess, 4.1ms inference, 0.8ms postprocess per image at shape (1, 3, 640, 640)\n",
      "\n",
      "0: 640x640 1 License_Plate, 4.0ms\n",
      "Speed: 1.1ms preprocess, 4.0ms inference, 0.7ms postprocess per image at shape (1, 3, 640, 640)\n",
      "\n",
      "0: 640x640 1 License_Plate, 4.0ms\n",
      "Speed: 1.1ms preprocess, 4.0ms inference, 0.8ms postprocess per image at shape (1, 3, 640, 640)\n",
      "\n",
      "0: 640x640 1 License_Plate, 4.1ms\n",
      "Speed: 1.4ms preprocess, 4.1ms inference, 0.8ms postprocess per image at shape (1, 3, 640, 640)\n",
      "\n",
      "0: 640x640 1 License_Plate, 3.9ms\n",
      "Speed: 1.2ms preprocess, 3.9ms inference, 1.0ms postprocess per image at shape (1, 3, 640, 640)\n",
      "\n",
      "0: 640x640 2 License_Plates, 4.0ms\n",
      "Speed: 1.0ms preprocess, 4.0ms inference, 0.8ms postprocess per image at shape (1, 3, 640, 640)\n",
      "\n",
      "0: 640x640 1 License_Plate, 4.0ms\n",
      "Speed: 1.1ms preprocess, 4.0ms inference, 1.2ms postprocess per image at shape (1, 3, 640, 640)\n",
      "\n",
      "0: 640x640 1 License_Plate, 4.1ms\n",
      "Speed: 1.2ms preprocess, 4.1ms inference, 1.0ms postprocess per image at shape (1, 3, 640, 640)\n",
      "\n",
      "0: 640x640 1 License_Plate, 4.1ms\n",
      "Speed: 1.1ms preprocess, 4.1ms inference, 0.9ms postprocess per image at shape (1, 3, 640, 640)\n",
      "\n",
      "0: 640x640 1 License_Plate, 4.2ms\n",
      "Speed: 1.1ms preprocess, 4.2ms inference, 0.9ms postprocess per image at shape (1, 3, 640, 640)\n",
      "\n",
      "0: 640x640 1 License_Plate, 4.2ms\n",
      "Speed: 1.3ms preprocess, 4.2ms inference, 0.9ms postprocess per image at shape (1, 3, 640, 640)\n",
      "\n",
      "0: 640x640 1 License_Plate, 4.0ms\n",
      "Speed: 1.2ms preprocess, 4.0ms inference, 0.8ms postprocess per image at shape (1, 3, 640, 640)\n",
      "\n",
      "0: 640x640 1 License_Plate, 3.9ms\n",
      "Speed: 1.2ms preprocess, 3.9ms inference, 1.2ms postprocess per image at shape (1, 3, 640, 640)\n",
      "\n",
      "0: 640x640 1 License_Plate, 4.2ms\n",
      "Speed: 1.1ms preprocess, 4.2ms inference, 1.4ms postprocess per image at shape (1, 3, 640, 640)\n",
      "\n",
      "0: 640x640 1 License_Plate, 4.2ms\n",
      "Speed: 1.0ms preprocess, 4.2ms inference, 0.8ms postprocess per image at shape (1, 3, 640, 640)\n",
      "\n",
      "0: 640x640 1 License_Plate, 4.0ms\n",
      "Speed: 1.4ms preprocess, 4.0ms inference, 1.3ms postprocess per image at shape (1, 3, 640, 640)\n",
      "\n",
      "0: 640x640 1 License_Plate, 4.4ms\n",
      "Speed: 1.2ms preprocess, 4.4ms inference, 1.2ms postprocess per image at shape (1, 3, 640, 640)\n",
      "\n",
      "0: 640x640 1 License_Plate, 5.3ms\n",
      "Speed: 1.1ms preprocess, 5.3ms inference, 0.9ms postprocess per image at shape (1, 3, 640, 640)\n",
      "\n",
      "0: 640x640 (no detections), 4.2ms\n",
      "Speed: 1.4ms preprocess, 4.2ms inference, 0.4ms postprocess per image at shape (1, 3, 640, 640)\n",
      "\n",
      "0: 640x640 1 License_Plate, 4.8ms\n",
      "Speed: 1.2ms preprocess, 4.8ms inference, 1.1ms postprocess per image at shape (1, 3, 640, 640)\n",
      "\n",
      "0: 640x640 1 License_Plate, 5.3ms\n",
      "Speed: 1.0ms preprocess, 5.3ms inference, 0.9ms postprocess per image at shape (1, 3, 640, 640)\n",
      "\n",
      "0: 640x640 1 License_Plate, 4.2ms\n",
      "Speed: 1.2ms preprocess, 4.2ms inference, 0.9ms postprocess per image at shape (1, 3, 640, 640)\n",
      "\n",
      "0: 640x640 1 License_Plate, 5.2ms\n",
      "Speed: 1.0ms preprocess, 5.2ms inference, 0.9ms postprocess per image at shape (1, 3, 640, 640)\n",
      "\n",
      "0: 640x640 1 License_Plate, 4.7ms\n",
      "Speed: 1.1ms preprocess, 4.7ms inference, 0.9ms postprocess per image at shape (1, 3, 640, 640)\n",
      "\n",
      "0: 640x640 1 License_Plate, 4.1ms\n",
      "Speed: 1.2ms preprocess, 4.1ms inference, 0.9ms postprocess per image at shape (1, 3, 640, 640)\n",
      "\n",
      "0: 640x640 1 License_Plate, 4.5ms\n",
      "Speed: 1.2ms preprocess, 4.5ms inference, 1.4ms postprocess per image at shape (1, 3, 640, 640)\n",
      "\n",
      "0: 640x640 1 License_Plate, 5.4ms\n",
      "Speed: 1.0ms preprocess, 5.4ms inference, 0.9ms postprocess per image at shape (1, 3, 640, 640)\n",
      "\n",
      "0: 640x640 1 License_Plate, 4.1ms\n",
      "Speed: 0.9ms preprocess, 4.1ms inference, 0.7ms postprocess per image at shape (1, 3, 640, 640)\n",
      "\n",
      "0: 640x640 1 License_Plate, 4.1ms\n",
      "Speed: 0.9ms preprocess, 4.1ms inference, 0.9ms postprocess per image at shape (1, 3, 640, 640)\n",
      "\n",
      "0: 640x640 1 License_Plate, 5.8ms\n",
      "Speed: 0.9ms preprocess, 5.8ms inference, 0.8ms postprocess per image at shape (1, 3, 640, 640)\n",
      "\n",
      "0: 640x640 1 License_Plate, 5.3ms\n",
      "Speed: 0.9ms preprocess, 5.3ms inference, 0.7ms postprocess per image at shape (1, 3, 640, 640)\n",
      "\n",
      "0: 640x640 1 License_Plate, 4.1ms\n",
      "Speed: 0.9ms preprocess, 4.1ms inference, 0.7ms postprocess per image at shape (1, 3, 640, 640)\n",
      "\n",
      "0: 640x640 1 License_Plate, 4.0ms\n",
      "Speed: 0.9ms preprocess, 4.0ms inference, 0.9ms postprocess per image at shape (1, 3, 640, 640)\n",
      "\n",
      "0: 640x640 1 License_Plate, 5.3ms\n",
      "Speed: 1.4ms preprocess, 5.3ms inference, 1.0ms postprocess per image at shape (1, 3, 640, 640)\n",
      "\n",
      "0: 640x640 3 License_Plates, 5.0ms\n",
      "Speed: 1.4ms preprocess, 5.0ms inference, 1.4ms postprocess per image at shape (1, 3, 640, 640)\n",
      "\n",
      "0: 640x640 1 License_Plate, 5.0ms\n",
      "Speed: 1.4ms preprocess, 5.0ms inference, 0.8ms postprocess per image at shape (1, 3, 640, 640)\n",
      "\n",
      "0: 640x640 1 License_Plate, 5.4ms\n",
      "Speed: 1.4ms preprocess, 5.4ms inference, 1.1ms postprocess per image at shape (1, 3, 640, 640)\n",
      "\n",
      "0: 640x640 1 License_Plate, 5.5ms\n",
      "Speed: 1.5ms preprocess, 5.5ms inference, 1.0ms postprocess per image at shape (1, 3, 640, 640)\n",
      "\n",
      "0: 640x640 1 License_Plate, 5.1ms\n",
      "Speed: 1.5ms preprocess, 5.1ms inference, 0.9ms postprocess per image at shape (1, 3, 640, 640)\n",
      "\n",
      "0: 640x640 1 License_Plate, 5.4ms\n",
      "Speed: 1.4ms preprocess, 5.4ms inference, 1.3ms postprocess per image at shape (1, 3, 640, 640)\n",
      "\n",
      "0: 640x640 1 License_Plate, 4.2ms\n",
      "Speed: 1.5ms preprocess, 4.2ms inference, 0.7ms postprocess per image at shape (1, 3, 640, 640)\n",
      "\n",
      "0: 640x640 1 License_Plate, 4.1ms\n",
      "Speed: 1.0ms preprocess, 4.1ms inference, 0.9ms postprocess per image at shape (1, 3, 640, 640)\n",
      "\n",
      "0: 640x640 1 License_Plate, 3.9ms\n",
      "Speed: 1.0ms preprocess, 3.9ms inference, 0.8ms postprocess per image at shape (1, 3, 640, 640)\n",
      "\n",
      "0: 640x640 1 License_Plate, 5.1ms\n",
      "Speed: 0.9ms preprocess, 5.1ms inference, 0.7ms postprocess per image at shape (1, 3, 640, 640)\n",
      "\n",
      "0: 640x640 1 License_Plate, 4.2ms\n",
      "Speed: 1.1ms preprocess, 4.2ms inference, 0.9ms postprocess per image at shape (1, 3, 640, 640)\n",
      "\n",
      "0: 640x640 1 License_Plate, 4.2ms\n",
      "Speed: 0.9ms preprocess, 4.2ms inference, 0.9ms postprocess per image at shape (1, 3, 640, 640)\n",
      "\n",
      "0: 640x640 1 License_Plate, 4.2ms\n",
      "Speed: 0.9ms preprocess, 4.2ms inference, 0.7ms postprocess per image at shape (1, 3, 640, 640)\n",
      "\n",
      "0: 640x640 1 License_Plate, 5.0ms\n",
      "Speed: 0.8ms preprocess, 5.0ms inference, 0.7ms postprocess per image at shape (1, 3, 640, 640)\n",
      "\n",
      "0: 640x640 1 License_Plate, 4.1ms\n",
      "Speed: 0.9ms preprocess, 4.1ms inference, 0.7ms postprocess per image at shape (1, 3, 640, 640)\n",
      "\n",
      "0: 640x640 1 License_Plate, 3.9ms\n",
      "Speed: 0.9ms preprocess, 3.9ms inference, 0.7ms postprocess per image at shape (1, 3, 640, 640)\n",
      "\n",
      "0: 640x640 1 License_Plate, 3.9ms\n",
      "Speed: 0.9ms preprocess, 3.9ms inference, 0.7ms postprocess per image at shape (1, 3, 640, 640)\n",
      "\n",
      "0: 640x640 1 License_Plate, 3.9ms\n",
      "Speed: 0.9ms preprocess, 3.9ms inference, 0.7ms postprocess per image at shape (1, 3, 640, 640)\n",
      "\n",
      "0: 640x640 1 License_Plate, 4.1ms\n",
      "Speed: 0.9ms preprocess, 4.1ms inference, 0.8ms postprocess per image at shape (1, 3, 640, 640)\n",
      "\n",
      "0: 640x640 1 License_Plate, 4.0ms\n",
      "Speed: 0.9ms preprocess, 4.0ms inference, 0.9ms postprocess per image at shape (1, 3, 640, 640)\n",
      "\n",
      "0: 640x640 1 License_Plate, 4.2ms\n",
      "Speed: 0.8ms preprocess, 4.2ms inference, 0.6ms postprocess per image at shape (1, 3, 640, 640)\n",
      "\n",
      "0: 640x640 1 License_Plate, 4.1ms\n",
      "Speed: 0.8ms preprocess, 4.1ms inference, 0.7ms postprocess per image at shape (1, 3, 640, 640)\n",
      "\n",
      "0: 640x640 1 License_Plate, 4.1ms\n",
      "Speed: 1.0ms preprocess, 4.1ms inference, 0.7ms postprocess per image at shape (1, 3, 640, 640)\n",
      "\n",
      "0: 640x640 1 License_Plate, 3.8ms\n",
      "Speed: 0.8ms preprocess, 3.8ms inference, 0.6ms postprocess per image at shape (1, 3, 640, 640)\n",
      "\n",
      "0: 640x640 1 License_Plate, 4.0ms\n",
      "Speed: 0.9ms preprocess, 4.0ms inference, 0.6ms postprocess per image at shape (1, 3, 640, 640)\n",
      "\n",
      "0: 640x640 1 License_Plate, 3.9ms\n",
      "Speed: 0.9ms preprocess, 3.9ms inference, 0.7ms postprocess per image at shape (1, 3, 640, 640)\n",
      "\n",
      "0: 640x640 1 License_Plate, 4.0ms\n",
      "Speed: 0.9ms preprocess, 4.0ms inference, 0.7ms postprocess per image at shape (1, 3, 640, 640)\n",
      "\n",
      "0: 640x640 1 License_Plate, 4.3ms\n",
      "Speed: 0.8ms preprocess, 4.3ms inference, 0.6ms postprocess per image at shape (1, 3, 640, 640)\n",
      "\n",
      "0: 640x640 1 License_Plate, 4.1ms\n",
      "Speed: 1.2ms preprocess, 4.1ms inference, 0.7ms postprocess per image at shape (1, 3, 640, 640)\n",
      "\n",
      "0: 640x640 1 License_Plate, 4.7ms\n",
      "Speed: 1.0ms preprocess, 4.7ms inference, 0.9ms postprocess per image at shape (1, 3, 640, 640)\n",
      "\n",
      "0: 640x640 1 License_Plate, 4.4ms\n",
      "Speed: 0.9ms preprocess, 4.4ms inference, 0.7ms postprocess per image at shape (1, 3, 640, 640)\n",
      "\n",
      "0: 640x640 1 License_Plate, 3.9ms\n",
      "Speed: 0.9ms preprocess, 3.9ms inference, 0.7ms postprocess per image at shape (1, 3, 640, 640)\n",
      "\n",
      "0: 640x640 1 License_Plate, 3.9ms\n",
      "Speed: 1.1ms preprocess, 3.9ms inference, 0.7ms postprocess per image at shape (1, 3, 640, 640)\n",
      "\n",
      "0: 640x640 2 License_Plates, 4.2ms\n",
      "Speed: 1.2ms preprocess, 4.2ms inference, 0.7ms postprocess per image at shape (1, 3, 640, 640)\n",
      "\n",
      "0: 640x640 1 License_Plate, 3.9ms\n",
      "Speed: 0.9ms preprocess, 3.9ms inference, 0.7ms postprocess per image at shape (1, 3, 640, 640)\n",
      "\n",
      "0: 640x640 1 License_Plate, 3.8ms\n",
      "Speed: 0.9ms preprocess, 3.8ms inference, 0.9ms postprocess per image at shape (1, 3, 640, 640)\n",
      "\n",
      "0: 640x640 1 License_Plate, 4.0ms\n",
      "Speed: 0.9ms preprocess, 4.0ms inference, 0.8ms postprocess per image at shape (1, 3, 640, 640)\n",
      "\n",
      "0: 640x640 1 License_Plate, 5.0ms\n",
      "Speed: 0.8ms preprocess, 5.0ms inference, 0.7ms postprocess per image at shape (1, 3, 640, 640)\n",
      "\n",
      "0: 640x640 1 License_Plate, 4.1ms\n",
      "Speed: 0.9ms preprocess, 4.1ms inference, 0.7ms postprocess per image at shape (1, 3, 640, 640)\n",
      "\n",
      "0: 640x640 1 License_Plate, 4.1ms\n",
      "Speed: 0.7ms preprocess, 4.1ms inference, 1.2ms postprocess per image at shape (1, 3, 640, 640)\n",
      "\n",
      "0: 640x640 1 License_Plate, 4.7ms\n",
      "Speed: 0.9ms preprocess, 4.7ms inference, 1.0ms postprocess per image at shape (1, 3, 640, 640)\n",
      "\n",
      "0: 640x640 1 License_Plate, 4.8ms\n",
      "Speed: 0.9ms preprocess, 4.8ms inference, 0.7ms postprocess per image at shape (1, 3, 640, 640)\n",
      "\n",
      "0: 640x640 1 License_Plate, 4.8ms\n",
      "Speed: 0.8ms preprocess, 4.8ms inference, 0.7ms postprocess per image at shape (1, 3, 640, 640)\n",
      "\n",
      "0: 640x640 1 License_Plate, 3.9ms\n",
      "Speed: 1.2ms preprocess, 3.9ms inference, 0.8ms postprocess per image at shape (1, 3, 640, 640)\n",
      "\n",
      "0: 640x640 1 License_Plate, 4.1ms\n",
      "Speed: 1.2ms preprocess, 4.1ms inference, 0.7ms postprocess per image at shape (1, 3, 640, 640)\n",
      "\n",
      "0: 640x640 1 License_Plate, 5.0ms\n",
      "Speed: 1.0ms preprocess, 5.0ms inference, 1.2ms postprocess per image at shape (1, 3, 640, 640)\n",
      "\n",
      "0: 640x640 1 License_Plate, 5.2ms\n",
      "Speed: 0.8ms preprocess, 5.2ms inference, 0.7ms postprocess per image at shape (1, 3, 640, 640)\n",
      "\n",
      "0: 640x640 1 License_Plate, 4.4ms\n",
      "Speed: 0.9ms preprocess, 4.4ms inference, 0.7ms postprocess per image at shape (1, 3, 640, 640)\n",
      "\n",
      "0: 640x640 1 License_Plate, 4.0ms\n",
      "Speed: 0.9ms preprocess, 4.0ms inference, 0.9ms postprocess per image at shape (1, 3, 640, 640)\n",
      "\n",
      "0: 640x640 1 License_Plate, 4.8ms\n",
      "Speed: 0.9ms preprocess, 4.8ms inference, 1.0ms postprocess per image at shape (1, 3, 640, 640)\n",
      "\n",
      "0: 640x640 1 License_Plate, 4.5ms\n",
      "Speed: 0.8ms preprocess, 4.5ms inference, 0.7ms postprocess per image at shape (1, 3, 640, 640)\n",
      "\n",
      "0: 640x640 1 License_Plate, 4.9ms\n",
      "Speed: 0.8ms preprocess, 4.9ms inference, 0.7ms postprocess per image at shape (1, 3, 640, 640)\n",
      "\n",
      "0: 640x640 1 License_Plate, 4.0ms\n",
      "Speed: 0.9ms preprocess, 4.0ms inference, 0.7ms postprocess per image at shape (1, 3, 640, 640)\n",
      "\n",
      "0: 640x640 1 License_Plate, 4.0ms\n",
      "Speed: 1.0ms preprocess, 4.0ms inference, 1.2ms postprocess per image at shape (1, 3, 640, 640)\n",
      "\n",
      "0: 640x640 1 License_Plate, 4.4ms\n",
      "Speed: 0.9ms preprocess, 4.4ms inference, 1.1ms postprocess per image at shape (1, 3, 640, 640)\n",
      "\n",
      "0: 640x640 1 License_Plate, 5.3ms\n",
      "Speed: 0.8ms preprocess, 5.3ms inference, 0.7ms postprocess per image at shape (1, 3, 640, 640)\n",
      "\n",
      "0: 640x640 1 License_Plate, 4.2ms\n",
      "Speed: 1.1ms preprocess, 4.2ms inference, 0.7ms postprocess per image at shape (1, 3, 640, 640)\n",
      "\n",
      "0: 640x640 2 License_Plates, 4.1ms\n",
      "Speed: 1.0ms preprocess, 4.1ms inference, 0.7ms postprocess per image at shape (1, 3, 640, 640)\n",
      "\n",
      "0: 640x640 1 License_Plate, 4.1ms\n",
      "Speed: 1.0ms preprocess, 4.1ms inference, 0.8ms postprocess per image at shape (1, 3, 640, 640)\n",
      "\n",
      "0: 640x640 1 License_Plate, 5.8ms\n",
      "Speed: 1.0ms preprocess, 5.8ms inference, 0.9ms postprocess per image at shape (1, 3, 640, 640)\n",
      "\n",
      "0: 640x640 1 License_Plate, 4.3ms\n",
      "Speed: 1.2ms preprocess, 4.3ms inference, 0.8ms postprocess per image at shape (1, 3, 640, 640)\n",
      "\n",
      "0: 640x640 1 License_Plate, 5.5ms\n",
      "Speed: 1.1ms preprocess, 5.5ms inference, 0.9ms postprocess per image at shape (1, 3, 640, 640)\n",
      "\n",
      "0: 640x640 1 License_Plate, 5.3ms\n",
      "Speed: 1.0ms preprocess, 5.3ms inference, 0.9ms postprocess per image at shape (1, 3, 640, 640)\n",
      "\n",
      "0: 640x640 1 License_Plate, 5.0ms\n",
      "Speed: 1.1ms preprocess, 5.0ms inference, 0.9ms postprocess per image at shape (1, 3, 640, 640)\n",
      "\n",
      "0: 640x640 1 License_Plate, 5.1ms\n",
      "Speed: 1.1ms preprocess, 5.1ms inference, 1.3ms postprocess per image at shape (1, 3, 640, 640)\n",
      "\n",
      "0: 640x640 1 License_Plate, 4.2ms\n",
      "Speed: 1.0ms preprocess, 4.2ms inference, 0.7ms postprocess per image at shape (1, 3, 640, 640)\n",
      "\n",
      "0: 640x640 1 License_Plate, 4.0ms\n",
      "Speed: 0.8ms preprocess, 4.0ms inference, 0.7ms postprocess per image at shape (1, 3, 640, 640)\n",
      "\n",
      "0: 640x640 1 License_Plate, 4.0ms\n",
      "Speed: 0.8ms preprocess, 4.0ms inference, 0.7ms postprocess per image at shape (1, 3, 640, 640)\n",
      "\n",
      "0: 640x640 1 License_Plate, 4.1ms\n",
      "Speed: 1.3ms preprocess, 4.1ms inference, 0.8ms postprocess per image at shape (1, 3, 640, 640)\n",
      "\n",
      "0: 640x640 1 License_Plate, 4.0ms\n",
      "Speed: 1.2ms preprocess, 4.0ms inference, 1.0ms postprocess per image at shape (1, 3, 640, 640)\n",
      "\n",
      "0: 640x640 1 License_Plate, 3.8ms\n",
      "Speed: 1.2ms preprocess, 3.8ms inference, 1.0ms postprocess per image at shape (1, 3, 640, 640)\n",
      "\n",
      "0: 640x640 1 License_Plate, 4.1ms\n",
      "Speed: 1.1ms preprocess, 4.1ms inference, 0.8ms postprocess per image at shape (1, 3, 640, 640)\n",
      "\n",
      "0: 640x640 1 License_Plate, 4.3ms\n",
      "Speed: 1.0ms preprocess, 4.3ms inference, 0.8ms postprocess per image at shape (1, 3, 640, 640)\n",
      "\n",
      "0: 640x640 1 License_Plate, 4.0ms\n",
      "Speed: 0.9ms preprocess, 4.0ms inference, 0.7ms postprocess per image at shape (1, 3, 640, 640)\n",
      "\n",
      "0: 640x640 2 License_Plates, 3.9ms\n",
      "Speed: 0.9ms preprocess, 3.9ms inference, 0.7ms postprocess per image at shape (1, 3, 640, 640)\n",
      "\n",
      "0: 640x640 1 License_Plate, 4.2ms\n",
      "Speed: 0.9ms preprocess, 4.2ms inference, 0.9ms postprocess per image at shape (1, 3, 640, 640)\n",
      "\n",
      "0: 640x640 1 License_Plate, 5.0ms\n",
      "Speed: 1.1ms preprocess, 5.0ms inference, 0.9ms postprocess per image at shape (1, 3, 640, 640)\n",
      "\n",
      "0: 640x640 1 License_Plate, 4.0ms\n",
      "Speed: 1.0ms preprocess, 4.0ms inference, 0.7ms postprocess per image at shape (1, 3, 640, 640)\n",
      "\n",
      "0: 640x640 2 License_Plates, 3.9ms\n",
      "Speed: 0.9ms preprocess, 3.9ms inference, 0.7ms postprocess per image at shape (1, 3, 640, 640)\n",
      "\n",
      "0: 640x640 1 License_Plate, 4.1ms\n",
      "Speed: 0.9ms preprocess, 4.1ms inference, 0.7ms postprocess per image at shape (1, 3, 640, 640)\n",
      "\n",
      "0: 640x640 1 License_Plate, 4.3ms\n",
      "Speed: 0.9ms preprocess, 4.3ms inference, 0.7ms postprocess per image at shape (1, 3, 640, 640)\n",
      "\n",
      "0: 640x640 1 License_Plate, 4.2ms\n",
      "Speed: 0.8ms preprocess, 4.2ms inference, 0.7ms postprocess per image at shape (1, 3, 640, 640)\n",
      "\n",
      "0: 640x640 1 License_Plate, 4.0ms\n",
      "Speed: 0.8ms preprocess, 4.0ms inference, 0.7ms postprocess per image at shape (1, 3, 640, 640)\n",
      "\n",
      "0: 640x640 1 License_Plate, 4.2ms\n",
      "Speed: 1.1ms preprocess, 4.2ms inference, 0.8ms postprocess per image at shape (1, 3, 640, 640)\n",
      "\n",
      "0: 640x640 1 License_Plate, 4.1ms\n",
      "Speed: 1.0ms preprocess, 4.1ms inference, 0.7ms postprocess per image at shape (1, 3, 640, 640)\n",
      "\n",
      "0: 640x640 1 License_Plate, 4.0ms\n",
      "Speed: 0.9ms preprocess, 4.0ms inference, 0.9ms postprocess per image at shape (1, 3, 640, 640)\n",
      "\n",
      "0: 640x640 1 License_Plate, 4.0ms\n",
      "Speed: 0.9ms preprocess, 4.0ms inference, 0.9ms postprocess per image at shape (1, 3, 640, 640)\n",
      "\n",
      "0: 640x640 1 License_Plate, 4.1ms\n",
      "Speed: 0.8ms preprocess, 4.1ms inference, 0.8ms postprocess per image at shape (1, 3, 640, 640)\n",
      "\n",
      "0: 640x640 1 License_Plate, 4.2ms\n",
      "Speed: 1.0ms preprocess, 4.2ms inference, 0.7ms postprocess per image at shape (1, 3, 640, 640)\n",
      "\n",
      "0: 640x640 1 License_Plate, 4.0ms\n",
      "Speed: 0.9ms preprocess, 4.0ms inference, 0.7ms postprocess per image at shape (1, 3, 640, 640)\n",
      "\n",
      "0: 640x640 2 License_Plates, 4.0ms\n",
      "Speed: 1.0ms preprocess, 4.0ms inference, 0.9ms postprocess per image at shape (1, 3, 640, 640)\n",
      "\n",
      "0: 640x640 1 License_Plate, 4.1ms\n",
      "Speed: 0.8ms preprocess, 4.1ms inference, 0.8ms postprocess per image at shape (1, 3, 640, 640)\n",
      "\n",
      "0: 640x640 1 License_Plate, 5.0ms\n",
      "Speed: 0.8ms preprocess, 5.0ms inference, 0.7ms postprocess per image at shape (1, 3, 640, 640)\n",
      "\n",
      "0: 640x640 1 License_Plate, 4.1ms\n",
      "Speed: 1.2ms preprocess, 4.1ms inference, 0.8ms postprocess per image at shape (1, 3, 640, 640)\n",
      "\n",
      "0: 640x640 1 License_Plate, 4.2ms\n",
      "Speed: 1.1ms preprocess, 4.2ms inference, 0.9ms postprocess per image at shape (1, 3, 640, 640)\n",
      "\n",
      "0: 640x640 1 License_Plate, 4.8ms\n",
      "Speed: 1.2ms preprocess, 4.8ms inference, 0.9ms postprocess per image at shape (1, 3, 640, 640)\n",
      "\n",
      "0: 640x640 1 License_Plate, 4.0ms\n",
      "Speed: 1.2ms preprocess, 4.0ms inference, 1.0ms postprocess per image at shape (1, 3, 640, 640)\n",
      "\n",
      "0: 640x640 1 License_Plate, 4.2ms\n",
      "Speed: 1.1ms preprocess, 4.2ms inference, 0.9ms postprocess per image at shape (1, 3, 640, 640)\n",
      "\n",
      "0: 640x640 1 License_Plate, 4.0ms\n",
      "Speed: 1.2ms preprocess, 4.0ms inference, 0.9ms postprocess per image at shape (1, 3, 640, 640)\n",
      "\n",
      "0: 640x640 1 License_Plate, 4.2ms\n",
      "Speed: 1.2ms preprocess, 4.2ms inference, 0.9ms postprocess per image at shape (1, 3, 640, 640)\n",
      "\n",
      "0: 640x640 1 License_Plate, 4.1ms\n",
      "Speed: 1.1ms preprocess, 4.1ms inference, 0.8ms postprocess per image at shape (1, 3, 640, 640)\n",
      "\n",
      "0: 640x640 1 License_Plate, 4.0ms\n",
      "Speed: 1.2ms preprocess, 4.0ms inference, 0.8ms postprocess per image at shape (1, 3, 640, 640)\n",
      "\n",
      "0: 640x640 1 License_Plate, 4.3ms\n",
      "Speed: 1.0ms preprocess, 4.3ms inference, 1.0ms postprocess per image at shape (1, 3, 640, 640)\n",
      "\n",
      "0: 640x640 1 License_Plate, 4.2ms\n",
      "Speed: 0.9ms preprocess, 4.2ms inference, 1.0ms postprocess per image at shape (1, 3, 640, 640)\n",
      "\n",
      "0: 640x640 1 License_Plate, 4.1ms\n",
      "Speed: 0.8ms preprocess, 4.1ms inference, 0.7ms postprocess per image at shape (1, 3, 640, 640)\n",
      "\n",
      "0: 640x640 1 License_Plate, 4.0ms\n",
      "Speed: 0.9ms preprocess, 4.0ms inference, 0.7ms postprocess per image at shape (1, 3, 640, 640)\n",
      "\n",
      "0: 640x640 1 License_Plate, 4.0ms\n",
      "Speed: 0.8ms preprocess, 4.0ms inference, 0.9ms postprocess per image at shape (1, 3, 640, 640)\n",
      "\n",
      "0: 640x640 1 License_Plate, 4.5ms\n",
      "Speed: 0.9ms preprocess, 4.5ms inference, 0.8ms postprocess per image at shape (1, 3, 640, 640)\n",
      "\n",
      "0: 640x640 1 License_Plate, 4.3ms\n",
      "Speed: 1.0ms preprocess, 4.3ms inference, 0.7ms postprocess per image at shape (1, 3, 640, 640)\n",
      "\n",
      "0: 640x640 1 License_Plate, 4.4ms\n",
      "Speed: 1.2ms preprocess, 4.4ms inference, 0.9ms postprocess per image at shape (1, 3, 640, 640)\n",
      "\n",
      "0: 640x640 1 License_Plate, 4.6ms\n",
      "Speed: 1.0ms preprocess, 4.6ms inference, 0.7ms postprocess per image at shape (1, 3, 640, 640)\n",
      "\n",
      "0: 640x640 1 License_Plate, 4.9ms\n",
      "Speed: 1.1ms preprocess, 4.9ms inference, 0.9ms postprocess per image at shape (1, 3, 640, 640)\n",
      "\n",
      "0: 640x640 1 License_Plate, 4.7ms\n",
      "Speed: 0.9ms preprocess, 4.7ms inference, 1.3ms postprocess per image at shape (1, 3, 640, 640)\n",
      "\n",
      "0: 640x640 1 License_Plate, 4.5ms\n",
      "Speed: 0.8ms preprocess, 4.5ms inference, 0.9ms postprocess per image at shape (1, 3, 640, 640)\n",
      "\n",
      "0: 640x640 1 License_Plate, 4.2ms\n",
      "Speed: 0.8ms preprocess, 4.2ms inference, 0.7ms postprocess per image at shape (1, 3, 640, 640)\n",
      "\n",
      "0: 640x640 2 License_Plates, 4.3ms\n",
      "Speed: 1.1ms preprocess, 4.3ms inference, 0.8ms postprocess per image at shape (1, 3, 640, 640)\n",
      "\n",
      "0: 640x640 2 License_Plates, 4.0ms\n",
      "Speed: 1.0ms preprocess, 4.0ms inference, 0.9ms postprocess per image at shape (1, 3, 640, 640)\n",
      "\n",
      "0: 640x640 2 License_Plates, 4.8ms\n",
      "Speed: 1.0ms preprocess, 4.8ms inference, 1.0ms postprocess per image at shape (1, 3, 640, 640)\n",
      "\n",
      "0: 640x640 1 License_Plate, 4.2ms\n",
      "Speed: 0.9ms preprocess, 4.2ms inference, 0.7ms postprocess per image at shape (1, 3, 640, 640)\n",
      "\n",
      "0: 640x640 1 License_Plate, 4.0ms\n",
      "Speed: 1.0ms preprocess, 4.0ms inference, 0.8ms postprocess per image at shape (1, 3, 640, 640)\n",
      "\n",
      "0: 640x640 1 License_Plate, 3.9ms\n",
      "Speed: 0.9ms preprocess, 3.9ms inference, 0.7ms postprocess per image at shape (1, 3, 640, 640)\n",
      "\n",
      "0: 640x640 1 License_Plate, 3.9ms\n",
      "Speed: 0.9ms preprocess, 3.9ms inference, 1.1ms postprocess per image at shape (1, 3, 640, 640)\n",
      "\n",
      "0: 640x640 1 License_Plate, 4.1ms\n",
      "Speed: 1.0ms preprocess, 4.1ms inference, 1.0ms postprocess per image at shape (1, 3, 640, 640)\n",
      "\n",
      "0: 640x640 2 License_Plates, 4.2ms\n",
      "Speed: 1.2ms preprocess, 4.2ms inference, 0.8ms postprocess per image at shape (1, 3, 640, 640)\n",
      "\n",
      "0: 640x640 2 License_Plates, 4.3ms\n",
      "Speed: 1.4ms preprocess, 4.3ms inference, 0.9ms postprocess per image at shape (1, 3, 640, 640)\n",
      "\n",
      "0: 640x640 2 License_Plates, 4.5ms\n",
      "Speed: 1.1ms preprocess, 4.5ms inference, 0.8ms postprocess per image at shape (1, 3, 640, 640)\n",
      "\n",
      "0: 640x640 1 License_Plate, 4.1ms\n",
      "Speed: 0.9ms preprocess, 4.1ms inference, 0.7ms postprocess per image at shape (1, 3, 640, 640)\n",
      "\n",
      "0: 640x640 1 License_Plate, 4.1ms\n",
      "Speed: 0.9ms preprocess, 4.1ms inference, 0.9ms postprocess per image at shape (1, 3, 640, 640)\n",
      "\n",
      "0: 640x640 1 License_Plate, 4.5ms\n",
      "Speed: 1.5ms preprocess, 4.5ms inference, 0.8ms postprocess per image at shape (1, 3, 640, 640)\n",
      "\n",
      "0: 640x640 1 License_Plate, 5.1ms\n",
      "Speed: 0.9ms preprocess, 5.1ms inference, 0.8ms postprocess per image at shape (1, 3, 640, 640)\n",
      "\n",
      "0: 640x640 1 License_Plate, 4.0ms\n",
      "Speed: 1.1ms preprocess, 4.0ms inference, 0.7ms postprocess per image at shape (1, 3, 640, 640)\n",
      "\n",
      "0: 640x640 1 License_Plate, 3.9ms\n",
      "Speed: 0.8ms preprocess, 3.9ms inference, 0.7ms postprocess per image at shape (1, 3, 640, 640)\n",
      "\n",
      "0: 640x640 1 License_Plate, 3.8ms\n",
      "Speed: 1.0ms preprocess, 3.8ms inference, 0.7ms postprocess per image at shape (1, 3, 640, 640)\n",
      "\n",
      "0: 640x640 1 License_Plate, 4.2ms\n",
      "Speed: 1.0ms preprocess, 4.2ms inference, 1.0ms postprocess per image at shape (1, 3, 640, 640)\n",
      "\n",
      "0: 640x640 1 License_Plate, 3.9ms\n",
      "Speed: 0.9ms preprocess, 3.9ms inference, 0.7ms postprocess per image at shape (1, 3, 640, 640)\n",
      "\n",
      "0: 640x640 1 License_Plate, 3.9ms\n",
      "Speed: 0.9ms preprocess, 3.9ms inference, 0.8ms postprocess per image at shape (1, 3, 640, 640)\n",
      "\n",
      "0: 640x640 1 License_Plate, 3.8ms\n",
      "Speed: 0.8ms preprocess, 3.8ms inference, 0.8ms postprocess per image at shape (1, 3, 640, 640)\n",
      "\n",
      "0: 640x640 1 License_Plate, 4.2ms\n",
      "Speed: 0.8ms preprocess, 4.2ms inference, 0.7ms postprocess per image at shape (1, 3, 640, 640)\n",
      "\n",
      "0: 640x640 1 License_Plate, 4.1ms\n",
      "Speed: 1.2ms preprocess, 4.1ms inference, 0.7ms postprocess per image at shape (1, 3, 640, 640)\n",
      "\n",
      "0: 640x640 1 License_Plate, 3.9ms\n",
      "Speed: 0.8ms preprocess, 3.9ms inference, 0.7ms postprocess per image at shape (1, 3, 640, 640)\n",
      "\n",
      "0: 640x640 1 License_Plate, 3.8ms\n",
      "Speed: 0.8ms preprocess, 3.8ms inference, 0.6ms postprocess per image at shape (1, 3, 640, 640)\n",
      "\n",
      "0: 640x640 1 License_Plate, 3.9ms\n",
      "Speed: 1.0ms preprocess, 3.9ms inference, 0.7ms postprocess per image at shape (1, 3, 640, 640)\n",
      "\n",
      "0: 640x640 1 License_Plate, 4.1ms\n",
      "Speed: 1.1ms preprocess, 4.1ms inference, 0.7ms postprocess per image at shape (1, 3, 640, 640)\n",
      "\n",
      "0: 640x640 1 License_Plate, 3.9ms\n",
      "Speed: 0.9ms preprocess, 3.9ms inference, 0.7ms postprocess per image at shape (1, 3, 640, 640)\n",
      "\n",
      "0: 640x640 1 License_Plate, 3.9ms\n",
      "Speed: 0.9ms preprocess, 3.9ms inference, 0.6ms postprocess per image at shape (1, 3, 640, 640)\n",
      "\n",
      "0: 640x640 1 License_Plate, 3.8ms\n",
      "Speed: 0.9ms preprocess, 3.8ms inference, 0.6ms postprocess per image at shape (1, 3, 640, 640)\n",
      "\n",
      "0: 640x640 1 License_Plate, 4.0ms\n",
      "Speed: 0.8ms preprocess, 4.0ms inference, 0.8ms postprocess per image at shape (1, 3, 640, 640)\n",
      "\n",
      "0: 640x640 1 License_Plate, 4.9ms\n",
      "Speed: 0.9ms preprocess, 4.9ms inference, 0.7ms postprocess per image at shape (1, 3, 640, 640)\n",
      "\n",
      "0: 640x640 1 License_Plate, 3.9ms\n",
      "Speed: 0.8ms preprocess, 3.9ms inference, 0.7ms postprocess per image at shape (1, 3, 640, 640)\n",
      "\n",
      "0: 640x640 1 License_Plate, 3.8ms\n",
      "Speed: 0.8ms preprocess, 3.8ms inference, 0.6ms postprocess per image at shape (1, 3, 640, 640)\n",
      "\n",
      "0: 640x640 1 License_Plate, 3.8ms\n",
      "Speed: 0.9ms preprocess, 3.8ms inference, 0.6ms postprocess per image at shape (1, 3, 640, 640)\n",
      "\n",
      "0: 640x640 1 License_Plate, 4.4ms\n",
      "Speed: 1.2ms preprocess, 4.4ms inference, 0.7ms postprocess per image at shape (1, 3, 640, 640)\n",
      "\n",
      "0: 640x640 1 License_Plate, 4.0ms\n",
      "Speed: 0.9ms preprocess, 4.0ms inference, 0.8ms postprocess per image at shape (1, 3, 640, 640)\n",
      "\n",
      "0: 640x640 1 License_Plate, 3.9ms\n",
      "Speed: 0.9ms preprocess, 3.9ms inference, 0.7ms postprocess per image at shape (1, 3, 640, 640)\n",
      "\n",
      "0: 640x640 1 License_Plate, 4.2ms\n",
      "Speed: 0.9ms preprocess, 4.2ms inference, 0.7ms postprocess per image at shape (1, 3, 640, 640)\n",
      "\n",
      "0: 640x640 1 License_Plate, 4.6ms\n",
      "Speed: 0.9ms preprocess, 4.6ms inference, 1.3ms postprocess per image at shape (1, 3, 640, 640)\n",
      "\n",
      "0: 640x640 1 License_Plate, 4.2ms\n",
      "Speed: 0.9ms preprocess, 4.2ms inference, 0.8ms postprocess per image at shape (1, 3, 640, 640)\n",
      "\n",
      "0: 640x640 1 License_Plate, 3.9ms\n",
      "Speed: 0.8ms preprocess, 3.9ms inference, 0.7ms postprocess per image at shape (1, 3, 640, 640)\n",
      "\n",
      "0: 640x640 1 License_Plate, 3.8ms\n",
      "Speed: 0.9ms preprocess, 3.8ms inference, 0.7ms postprocess per image at shape (1, 3, 640, 640)\n",
      "\n",
      "0: 640x640 1 License_Plate, 4.2ms\n",
      "Speed: 0.9ms preprocess, 4.2ms inference, 0.7ms postprocess per image at shape (1, 3, 640, 640)\n",
      "\n",
      "0: 640x640 1 License_Plate, 4.2ms\n",
      "Speed: 0.9ms preprocess, 4.2ms inference, 0.7ms postprocess per image at shape (1, 3, 640, 640)\n",
      "\n",
      "0: 640x640 1 License_Plate, 4.1ms\n",
      "Speed: 0.9ms preprocess, 4.1ms inference, 0.8ms postprocess per image at shape (1, 3, 640, 640)\n",
      "\n",
      "0: 640x640 1 License_Plate, 4.2ms\n",
      "Speed: 1.1ms preprocess, 4.2ms inference, 0.9ms postprocess per image at shape (1, 3, 640, 640)\n",
      "\n",
      "0: 640x640 1 License_Plate, 4.0ms\n",
      "Speed: 0.8ms preprocess, 4.0ms inference, 0.7ms postprocess per image at shape (1, 3, 640, 640)\n",
      "\n",
      "0: 640x640 1 License_Plate, 4.0ms\n",
      "Speed: 0.8ms preprocess, 4.0ms inference, 0.6ms postprocess per image at shape (1, 3, 640, 640)\n",
      "\n",
      "0: 640x640 2 License_Plates, 3.9ms\n",
      "Speed: 0.8ms preprocess, 3.9ms inference, 0.6ms postprocess per image at shape (1, 3, 640, 640)\n",
      "\n",
      "0: 640x640 1 License_Plate, 4.0ms\n",
      "Speed: 0.8ms preprocess, 4.0ms inference, 0.7ms postprocess per image at shape (1, 3, 640, 640)\n",
      "\n",
      "0: 640x640 1 License_Plate, 4.1ms\n",
      "Speed: 1.2ms preprocess, 4.1ms inference, 0.8ms postprocess per image at shape (1, 3, 640, 640)\n",
      "\n",
      "0: 640x640 1 License_Plate, 3.9ms\n",
      "Speed: 0.9ms preprocess, 3.9ms inference, 0.6ms postprocess per image at shape (1, 3, 640, 640)\n",
      "\n",
      "0: 640x640 1 License_Plate, 3.9ms\n",
      "Speed: 0.9ms preprocess, 3.9ms inference, 0.7ms postprocess per image at shape (1, 3, 640, 640)\n",
      "\n",
      "0: 640x640 1 License_Plate, 3.9ms\n",
      "Speed: 0.9ms preprocess, 3.9ms inference, 0.9ms postprocess per image at shape (1, 3, 640, 640)\n",
      "\n",
      "0: 640x640 1 License_Plate, 4.9ms\n",
      "Speed: 0.9ms preprocess, 4.9ms inference, 0.7ms postprocess per image at shape (1, 3, 640, 640)\n",
      "\n",
      "0: 640x640 1 License_Plate, 4.0ms\n",
      "Speed: 0.9ms preprocess, 4.0ms inference, 0.7ms postprocess per image at shape (1, 3, 640, 640)\n",
      "\n",
      "0: 640x640 1 License_Plate, 3.9ms\n",
      "Speed: 0.9ms preprocess, 3.9ms inference, 0.6ms postprocess per image at shape (1, 3, 640, 640)\n",
      "\n",
      "0: 640x640 1 License_Plate, 3.8ms\n",
      "Speed: 0.8ms preprocess, 3.8ms inference, 0.6ms postprocess per image at shape (1, 3, 640, 640)\n",
      "\n",
      "0: 640x640 1 License_Plate, 4.2ms\n",
      "Speed: 1.0ms preprocess, 4.2ms inference, 0.9ms postprocess per image at shape (1, 3, 640, 640)\n",
      "\n",
      "0: 640x640 1 License_Plate, 4.1ms\n",
      "Speed: 1.0ms preprocess, 4.1ms inference, 1.1ms postprocess per image at shape (1, 3, 640, 640)\n",
      "\n",
      "0: 640x640 1 License_Plate, 4.0ms\n",
      "Speed: 0.9ms preprocess, 4.0ms inference, 0.6ms postprocess per image at shape (1, 3, 640, 640)\n",
      "\n",
      "0: 640x640 1 License_Plate, 4.0ms\n",
      "Speed: 0.8ms preprocess, 4.0ms inference, 0.6ms postprocess per image at shape (1, 3, 640, 640)\n",
      "\n",
      "0: 640x640 1 License_Plate, 3.9ms\n",
      "Speed: 0.8ms preprocess, 3.9ms inference, 0.6ms postprocess per image at shape (1, 3, 640, 640)\n",
      "\n",
      "0: 640x640 1 License_Plate, 4.5ms\n",
      "Speed: 0.8ms preprocess, 4.5ms inference, 0.9ms postprocess per image at shape (1, 3, 640, 640)\n",
      "\n",
      "0: 640x640 1 License_Plate, 4.1ms\n",
      "Speed: 1.1ms preprocess, 4.1ms inference, 0.7ms postprocess per image at shape (1, 3, 640, 640)\n",
      "\n",
      "0: 640x640 1 License_Plate, 4.0ms\n",
      "Speed: 0.9ms preprocess, 4.0ms inference, 0.6ms postprocess per image at shape (1, 3, 640, 640)\n",
      "\n",
      "0: 640x640 1 License_Plate, 3.9ms\n",
      "Speed: 0.9ms preprocess, 3.9ms inference, 0.8ms postprocess per image at shape (1, 3, 640, 640)\n",
      "\n",
      "0: 640x640 1 License_Plate, 3.9ms\n",
      "Speed: 0.9ms preprocess, 3.9ms inference, 0.6ms postprocess per image at shape (1, 3, 640, 640)\n",
      "\n",
      "0: 640x640 1 License_Plate, 5.4ms\n",
      "Speed: 1.6ms preprocess, 5.4ms inference, 1.0ms postprocess per image at shape (1, 3, 640, 640)\n",
      "\n",
      "0: 640x640 1 License_Plate, 4.8ms\n",
      "Speed: 1.2ms preprocess, 4.8ms inference, 0.8ms postprocess per image at shape (1, 3, 640, 640)\n",
      "\n",
      "0: 640x640 1 License_Plate, 5.0ms\n",
      "Speed: 1.4ms preprocess, 5.0ms inference, 1.1ms postprocess per image at shape (1, 3, 640, 640)\n",
      "\n",
      "0: 640x640 1 License_Plate, 5.0ms\n",
      "Speed: 1.2ms preprocess, 5.0ms inference, 1.0ms postprocess per image at shape (1, 3, 640, 640)\n",
      "\n",
      "0: 640x640 1 License_Plate, 5.4ms\n",
      "Speed: 1.4ms preprocess, 5.4ms inference, 0.8ms postprocess per image at shape (1, 3, 640, 640)\n",
      "\n",
      "0: 640x640 1 License_Plate, 4.5ms\n",
      "Speed: 1.1ms preprocess, 4.5ms inference, 0.7ms postprocess per image at shape (1, 3, 640, 640)\n",
      "\n",
      "0: 640x640 1 License_Plate, 4.5ms\n",
      "Speed: 0.8ms preprocess, 4.5ms inference, 0.8ms postprocess per image at shape (1, 3, 640, 640)\n",
      "\n",
      "0: 640x640 1 License_Plate, 4.1ms\n",
      "Speed: 0.9ms preprocess, 4.1ms inference, 0.8ms postprocess per image at shape (1, 3, 640, 640)\n",
      "\n",
      "0: 640x640 1 License_Plate, 3.9ms\n",
      "Speed: 0.9ms preprocess, 3.9ms inference, 0.7ms postprocess per image at shape (1, 3, 640, 640)\n",
      "\n",
      "0: 640x640 1 License_Plate, 3.9ms\n",
      "Speed: 0.9ms preprocess, 3.9ms inference, 0.7ms postprocess per image at shape (1, 3, 640, 640)\n",
      "\n",
      "0: 640x640 1 License_Plate, 4.1ms\n",
      "Speed: 0.9ms preprocess, 4.1ms inference, 1.0ms postprocess per image at shape (1, 3, 640, 640)\n",
      "\n",
      "0: 640x640 1 License_Plate, 4.5ms\n",
      "Speed: 0.9ms preprocess, 4.5ms inference, 0.8ms postprocess per image at shape (1, 3, 640, 640)\n",
      "\n",
      "0: 640x640 1 License_Plate, 3.9ms\n",
      "Speed: 1.1ms preprocess, 3.9ms inference, 0.8ms postprocess per image at shape (1, 3, 640, 640)\n",
      "\n",
      "0: 640x640 1 License_Plate, 3.8ms\n",
      "Speed: 1.2ms preprocess, 3.8ms inference, 0.7ms postprocess per image at shape (1, 3, 640, 640)\n",
      "\n",
      "0: 640x640 3 License_Plates, 4.2ms\n",
      "Speed: 1.1ms preprocess, 4.2ms inference, 0.9ms postprocess per image at shape (1, 3, 640, 640)\n",
      "\n",
      "0: 640x640 3 License_Plates, 4.4ms\n",
      "Speed: 1.2ms preprocess, 4.4ms inference, 1.1ms postprocess per image at shape (1, 3, 640, 640)\n",
      "\n",
      "0: 640x640 1 License_Plate, 4.0ms\n",
      "Speed: 1.1ms preprocess, 4.0ms inference, 0.9ms postprocess per image at shape (1, 3, 640, 640)\n",
      "\n",
      "0: 640x640 1 License_Plate, 3.9ms\n",
      "Speed: 1.1ms preprocess, 3.9ms inference, 0.8ms postprocess per image at shape (1, 3, 640, 640)\n",
      "\n",
      "0: 640x640 1 License_Plate, 4.3ms\n",
      "Speed: 1.2ms preprocess, 4.3ms inference, 0.9ms postprocess per image at shape (1, 3, 640, 640)\n",
      "\n",
      "0: 640x640 1 License_Plate, 4.0ms\n",
      "Speed: 1.2ms preprocess, 4.0ms inference, 0.8ms postprocess per image at shape (1, 3, 640, 640)\n",
      "\n",
      "0: 640x640 1 License_Plate, 3.9ms\n",
      "Speed: 1.2ms preprocess, 3.9ms inference, 1.0ms postprocess per image at shape (1, 3, 640, 640)\n",
      "\n",
      "0: 640x640 1 License_Plate, 3.9ms\n",
      "Speed: 1.1ms preprocess, 3.9ms inference, 0.8ms postprocess per image at shape (1, 3, 640, 640)\n",
      "\n",
      "0: 640x640 1 License_Plate, 4.0ms\n",
      "Speed: 1.1ms preprocess, 4.0ms inference, 0.8ms postprocess per image at shape (1, 3, 640, 640)\n",
      "\n",
      "0: 640x640 1 License_Plate, 4.1ms\n",
      "Speed: 1.2ms preprocess, 4.1ms inference, 0.9ms postprocess per image at shape (1, 3, 640, 640)\n",
      "\n",
      "0: 640x640 1 License_Plate, 4.1ms\n",
      "Speed: 1.2ms preprocess, 4.1ms inference, 1.0ms postprocess per image at shape (1, 3, 640, 640)\n",
      "\n",
      "0: 640x640 1 License_Plate, 4.0ms\n",
      "Speed: 1.2ms preprocess, 4.0ms inference, 1.0ms postprocess per image at shape (1, 3, 640, 640)\n",
      "\n",
      "0: 640x640 1 License_Plate, 3.9ms\n",
      "Speed: 1.1ms preprocess, 3.9ms inference, 0.8ms postprocess per image at shape (1, 3, 640, 640)\n",
      "\n",
      "0: 640x640 1 License_Plate, 4.1ms\n",
      "Speed: 1.2ms preprocess, 4.1ms inference, 0.9ms postprocess per image at shape (1, 3, 640, 640)\n",
      "\n",
      "0: 640x640 1 License_Plate, 3.9ms\n",
      "Speed: 1.3ms preprocess, 3.9ms inference, 0.8ms postprocess per image at shape (1, 3, 640, 640)\n",
      "\n",
      "0: 640x640 1 License_Plate, 3.9ms\n",
      "Speed: 1.2ms preprocess, 3.9ms inference, 0.8ms postprocess per image at shape (1, 3, 640, 640)\n",
      "\n",
      "0: 640x640 1 License_Plate, 3.9ms\n",
      "Speed: 1.2ms preprocess, 3.9ms inference, 0.8ms postprocess per image at shape (1, 3, 640, 640)\n",
      "\n",
      "0: 640x640 1 License_Plate, 5.0ms\n",
      "Speed: 1.1ms preprocess, 5.0ms inference, 0.9ms postprocess per image at shape (1, 3, 640, 640)\n",
      "\n",
      "0: 640x640 1 License_Plate, 3.9ms\n",
      "Speed: 1.1ms preprocess, 3.9ms inference, 0.8ms postprocess per image at shape (1, 3, 640, 640)\n",
      "\n",
      "0: 640x640 1 License_Plate, 4.0ms\n",
      "Speed: 1.2ms preprocess, 4.0ms inference, 0.8ms postprocess per image at shape (1, 3, 640, 640)\n",
      "\n",
      "0: 640x640 1 License_Plate, 4.0ms\n",
      "Speed: 1.2ms preprocess, 4.0ms inference, 1.0ms postprocess per image at shape (1, 3, 640, 640)\n",
      "\n",
      "0: 640x640 1 License_Plate, 4.0ms\n",
      "Speed: 1.1ms preprocess, 4.0ms inference, 0.8ms postprocess per image at shape (1, 3, 640, 640)\n",
      "\n",
      "0: 640x640 1 License_Plate, 4.2ms\n",
      "Speed: 1.1ms preprocess, 4.2ms inference, 0.9ms postprocess per image at shape (1, 3, 640, 640)\n",
      "\n",
      "0: 640x640 1 License_Plate, 4.0ms\n",
      "Speed: 1.2ms preprocess, 4.0ms inference, 1.0ms postprocess per image at shape (1, 3, 640, 640)\n",
      "\n",
      "0: 640x640 1 License_Plate, 3.9ms\n",
      "Speed: 1.2ms preprocess, 3.9ms inference, 0.8ms postprocess per image at shape (1, 3, 640, 640)\n",
      "\n",
      "0: 640x640 1 License_Plate, 5.0ms\n",
      "Speed: 1.1ms preprocess, 5.0ms inference, 0.9ms postprocess per image at shape (1, 3, 640, 640)\n",
      "\n",
      "0: 640x640 2 License_Plates, 4.2ms\n",
      "Speed: 1.2ms preprocess, 4.2ms inference, 0.7ms postprocess per image at shape (1, 3, 640, 640)\n",
      "\n",
      "0: 640x640 1 License_Plate, 3.9ms\n",
      "Speed: 0.9ms preprocess, 3.9ms inference, 0.7ms postprocess per image at shape (1, 3, 640, 640)\n",
      "\n",
      "0: 640x640 1 License_Plate, 3.8ms\n",
      "Speed: 0.9ms preprocess, 3.8ms inference, 0.8ms postprocess per image at shape (1, 3, 640, 640)\n",
      "\n",
      "0: 640x640 1 License_Plate, 4.5ms\n",
      "Speed: 0.9ms preprocess, 4.5ms inference, 0.9ms postprocess per image at shape (1, 3, 640, 640)\n",
      "\n",
      "0: 640x640 1 License_Plate, 4.1ms\n",
      "Speed: 0.9ms preprocess, 4.1ms inference, 0.8ms postprocess per image at shape (1, 3, 640, 640)\n",
      "\n",
      "0: 640x640 1 License_Plate, 3.9ms\n",
      "Speed: 0.8ms preprocess, 3.9ms inference, 0.6ms postprocess per image at shape (1, 3, 640, 640)\n",
      "\n",
      "0: 640x640 1 License_Plate, 3.9ms\n",
      "Speed: 0.8ms preprocess, 3.9ms inference, 0.6ms postprocess per image at shape (1, 3, 640, 640)\n",
      "\n",
      "0: 640x640 1 License_Plate, 4.0ms\n",
      "Speed: 0.8ms preprocess, 4.0ms inference, 0.7ms postprocess per image at shape (1, 3, 640, 640)\n",
      "\n",
      "0: 640x640 1 License_Plate, 4.3ms\n",
      "Speed: 1.3ms preprocess, 4.3ms inference, 0.9ms postprocess per image at shape (1, 3, 640, 640)\n",
      "\n",
      "0: 640x640 1 License_Plate, 3.9ms\n",
      "Speed: 0.9ms preprocess, 3.9ms inference, 0.6ms postprocess per image at shape (1, 3, 640, 640)\n",
      "\n",
      "0: 640x640 1 License_Plate, 3.9ms\n",
      "Speed: 0.9ms preprocess, 3.9ms inference, 0.7ms postprocess per image at shape (1, 3, 640, 640)\n",
      "\n",
      "0: 640x640 1 License_Plate, 4.0ms\n",
      "Speed: 0.9ms preprocess, 4.0ms inference, 0.9ms postprocess per image at shape (1, 3, 640, 640)\n",
      "\n",
      "0: 640x640 1 License_Plate, 3.9ms\n",
      "Speed: 0.9ms preprocess, 3.9ms inference, 0.9ms postprocess per image at shape (1, 3, 640, 640)\n",
      "\n",
      "0: 640x640 1 License_Plate, 4.2ms\n",
      "Speed: 0.9ms preprocess, 4.2ms inference, 1.2ms postprocess per image at shape (1, 3, 640, 640)\n",
      "\n",
      "0: 640x640 1 License_Plate, 3.9ms\n",
      "Speed: 1.0ms preprocess, 3.9ms inference, 0.6ms postprocess per image at shape (1, 3, 640, 640)\n",
      "\n",
      "0: 640x640 1 License_Plate, 3.8ms\n",
      "Speed: 1.2ms preprocess, 3.8ms inference, 0.7ms postprocess per image at shape (1, 3, 640, 640)\n",
      "\n",
      "0: 640x640 1 License_Plate, 3.8ms\n",
      "Speed: 1.1ms preprocess, 3.8ms inference, 0.8ms postprocess per image at shape (1, 3, 640, 640)\n",
      "\n",
      "0: 640x640 1 License_Plate, 3.9ms\n",
      "Speed: 1.2ms preprocess, 3.9ms inference, 0.9ms postprocess per image at shape (1, 3, 640, 640)\n",
      "\n",
      "0: 640x640 1 License_Plate, 3.9ms\n",
      "Speed: 1.1ms preprocess, 3.9ms inference, 0.8ms postprocess per image at shape (1, 3, 640, 640)\n",
      "\n",
      "0: 640x640 1 License_Plate, 3.9ms\n",
      "Speed: 1.2ms preprocess, 3.9ms inference, 1.1ms postprocess per image at shape (1, 3, 640, 640)\n",
      "\n",
      "0: 640x640 1 License_Plate, 4.0ms\n",
      "Speed: 1.1ms preprocess, 4.0ms inference, 0.8ms postprocess per image at shape (1, 3, 640, 640)\n",
      "\n",
      "0: 640x640 1 License_Plate, 3.9ms\n",
      "Speed: 1.1ms preprocess, 3.9ms inference, 0.7ms postprocess per image at shape (1, 3, 640, 640)\n",
      "\n",
      "0: 640x640 1 License_Plate, 4.7ms\n",
      "Speed: 1.1ms preprocess, 4.7ms inference, 0.9ms postprocess per image at shape (1, 3, 640, 640)\n",
      "\n",
      "0: 640x640 1 License_Plate, 5.1ms\n",
      "Speed: 1.4ms preprocess, 5.1ms inference, 0.8ms postprocess per image at shape (1, 3, 640, 640)\n",
      "\n",
      "0: 640x640 1 License_Plate, 4.7ms\n",
      "Speed: 1.3ms preprocess, 4.7ms inference, 0.8ms postprocess per image at shape (1, 3, 640, 640)\n",
      "\n",
      "0: 640x640 1 License_Plate, 5.1ms\n",
      "Speed: 1.3ms preprocess, 5.1ms inference, 0.8ms postprocess per image at shape (1, 3, 640, 640)\n",
      "\n",
      "0: 640x640 1 License_Plate, 4.9ms\n",
      "Speed: 1.6ms preprocess, 4.9ms inference, 0.9ms postprocess per image at shape (1, 3, 640, 640)\n",
      "\n",
      "0: 640x640 1 License_Plate, 5.5ms\n",
      "Speed: 1.4ms preprocess, 5.5ms inference, 1.1ms postprocess per image at shape (1, 3, 640, 640)\n",
      "\n",
      "0: 640x640 1 License_Plate, 4.3ms\n",
      "Speed: 0.9ms preprocess, 4.3ms inference, 0.7ms postprocess per image at shape (1, 3, 640, 640)\n",
      "\n",
      "0: 640x640 1 License_Plate, 3.9ms\n",
      "Speed: 0.8ms preprocess, 3.9ms inference, 0.7ms postprocess per image at shape (1, 3, 640, 640)\n",
      "\n",
      "0: 640x640 1 License_Plate, 3.9ms\n",
      "Speed: 0.8ms preprocess, 3.9ms inference, 0.7ms postprocess per image at shape (1, 3, 640, 640)\n",
      "\n",
      "0: 640x640 1 License_Plate, 4.1ms\n",
      "Speed: 1.0ms preprocess, 4.1ms inference, 0.7ms postprocess per image at shape (1, 3, 640, 640)\n",
      "\n",
      "0: 640x640 1 License_Plate, 4.2ms\n",
      "Speed: 0.9ms preprocess, 4.2ms inference, 0.7ms postprocess per image at shape (1, 3, 640, 640)\n",
      "\n",
      "0: 640x640 1 License_Plate, 4.6ms\n",
      "Speed: 1.1ms preprocess, 4.6ms inference, 0.8ms postprocess per image at shape (1, 3, 640, 640)\n",
      "\n",
      "0: 640x640 1 License_Plate, 4.0ms\n",
      "Speed: 0.9ms preprocess, 4.0ms inference, 0.7ms postprocess per image at shape (1, 3, 640, 640)\n",
      "\n",
      "0: 640x640 1 License_Plate, 3.9ms\n",
      "Speed: 1.0ms preprocess, 3.9ms inference, 0.7ms postprocess per image at shape (1, 3, 640, 640)\n",
      "\n",
      "0: 640x640 1 License_Plate, 3.9ms\n",
      "Speed: 0.9ms preprocess, 3.9ms inference, 0.7ms postprocess per image at shape (1, 3, 640, 640)\n",
      "\n",
      "0: 640x640 1 License_Plate, 5.0ms\n",
      "Speed: 1.3ms preprocess, 5.0ms inference, 0.8ms postprocess per image at shape (1, 3, 640, 640)\n",
      "\n",
      "0: 640x640 1 License_Plate, 5.1ms\n",
      "Speed: 0.9ms preprocess, 5.1ms inference, 0.8ms postprocess per image at shape (1, 3, 640, 640)\n",
      "\n",
      "0: 640x640 1 License_Plate, 4.2ms\n",
      "Speed: 1.3ms preprocess, 4.2ms inference, 1.8ms postprocess per image at shape (1, 3, 640, 640)\n",
      "\n",
      "0: 640x640 1 License_Plate, 5.1ms\n",
      "Speed: 1.0ms preprocess, 5.1ms inference, 1.0ms postprocess per image at shape (1, 3, 640, 640)\n",
      "\n",
      "0: 640x640 1 License_Plate, 4.2ms\n",
      "Speed: 1.3ms preprocess, 4.2ms inference, 0.9ms postprocess per image at shape (1, 3, 640, 640)\n",
      "\n",
      "0: 640x640 1 License_Plate, 4.1ms\n",
      "Speed: 1.2ms preprocess, 4.1ms inference, 1.0ms postprocess per image at shape (1, 3, 640, 640)\n",
      "\n",
      "0: 640x640 2 License_Plates, 4.3ms\n",
      "Speed: 1.2ms preprocess, 4.3ms inference, 0.9ms postprocess per image at shape (1, 3, 640, 640)\n",
      "\n",
      "0: 640x640 2 License_Plates, 5.5ms\n",
      "Speed: 1.2ms preprocess, 5.5ms inference, 1.0ms postprocess per image at shape (1, 3, 640, 640)\n",
      "\n",
      "0: 640x640 1 License_Plate, 4.1ms\n",
      "Speed: 1.0ms preprocess, 4.1ms inference, 0.7ms postprocess per image at shape (1, 3, 640, 640)\n",
      "\n",
      "0: 640x640 1 License_Plate, 4.1ms\n",
      "Speed: 1.2ms preprocess, 4.1ms inference, 1.2ms postprocess per image at shape (1, 3, 640, 640)\n",
      "\n",
      "0: 640x640 1 License_Plate, 5.3ms\n",
      "Speed: 1.0ms preprocess, 5.3ms inference, 0.9ms postprocess per image at shape (1, 3, 640, 640)\n",
      "\n",
      "0: 640x640 1 License_Plate, 5.2ms\n",
      "Speed: 0.9ms preprocess, 5.2ms inference, 0.7ms postprocess per image at shape (1, 3, 640, 640)\n",
      "\n",
      "0: 640x640 1 License_Plate, 4.5ms\n",
      "Speed: 1.0ms preprocess, 4.5ms inference, 0.8ms postprocess per image at shape (1, 3, 640, 640)\n",
      "mean_iou: 0.8265867242728998\n"
     ]
    }
   ],
   "source": [
    "i, mean_iou = 0, 0\n",
    "\n",
    "# Compare results for the test set\n",
    "for input_image in x_test:\n",
    "    results = onnx_model(input_image)\n",
    "    preds_list = results[0].boxes.xyxy.tolist()\n",
    "    for preds in preds_list:\n",
    "        # Predictions\n",
    "        top_left_x, top_left_y = preds[0], preds[1]\n",
    "        bottom_right_x, bottom_right_y = preds[2], preds[3]\n",
    "        box_predicted = [top_left_x, top_left_y, bottom_right_x, bottom_right_y]\n",
    "    \n",
    "        # Test\n",
    "        top_left_x, top_left_y = y_test[i][0], y_test[i][1]\n",
    "        bottom_right_x, bottom_right_y = y_test[i][2], y_test[i][3]\n",
    "        box_truth = top_left_x, top_left_y, bottom_right_x, bottom_right_y\n",
    "    \n",
    "        mean_iou += bounding_box_intersection_over_union(box_predicted, box_truth)\n",
    "    i = i + 1\n",
    "\n",
    "print(\"mean_iou: \" + str(mean_iou / len(x_test)))"
   ]
  },
  {
   "cell_type": "code",
   "execution_count": null,
   "id": "711e60cc-5e36-4708-a664-7519309d1171",
   "metadata": {},
   "outputs": [],
   "source": []
  }
 ],
 "metadata": {
  "kernelspec": {
   "display_name": "Python 3 (ipykernel)",
   "language": "python",
   "name": "python3"
  },
  "language_info": {
   "codemirror_mode": {
    "name": "ipython",
    "version": 3
   },
   "file_extension": ".py",
   "mimetype": "text/x-python",
   "name": "python",
   "nbconvert_exporter": "python",
   "pygments_lexer": "ipython3",
   "version": "3.10.12"
  }
 },
 "nbformat": 4,
 "nbformat_minor": 5
}
